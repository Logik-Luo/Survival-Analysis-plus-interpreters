{
 "cells": [
  {
   "cell_type": "code",
   "execution_count": 24,
   "id": "9d956dce",
   "metadata": {},
   "outputs": [
    {
     "name": "stdout",
     "output_type": "stream",
     "text": [
      "/data/master/DS175/share/0_Database\n",
      "/data/master/DS175/share/0_Database\n",
      "SEX  DIAGNOSISYEAR\n",
      "1    2013              84\n",
      "     2014             106\n",
      "     2015             126\n",
      "     2016             139\n",
      "     2017             126\n",
      "     2018             113\n",
      "2    2013             101\n",
      "     2014             109\n",
      "     2015             101\n",
      "     2016             111\n",
      "     2017             102\n",
      "     2018             117\n",
      "Name: PSEUDO_PATIENTID, dtype: int64\n"
     ]
    }
   ],
   "source": [
    "'''\n",
    "\n",
    "investigate who gets oligodendroglioma (age,sex,etc), what treatment they have and how long they live\n",
    "\n",
    "'''\n",
    "\n",
    "import sqlite3\n",
    "import pandas as pd\n",
    "import numpy as np\n",
    "import os\n",
    "\n",
    "# Change the working directory to connect to the database\n",
    "print(os.getcwd())\n",
    "os.chdir('/data/master/DS175/share/0_Database')\n",
    "print(os.getcwd())\n",
    "\n",
    "# Connect to the database\n",
    "conn = sqlite3.connect('Gliocova.db')\n",
    "cur = conn.cursor()\n",
    "\n",
    "def grouping(df,column):\n",
    "    \n",
    "    grouped_df = df.groupby(column)['PSEUDO_PATIENTID'].nunique()\n",
    "    \n",
    "    return grouped_df\n",
    "\n",
    "# Patients count each year\n",
    "query = \"SELECT * from TUM_PAT WHERE MORPH_ICD10_O2 IN (9450, 9451) AND (INTERVAL_DIAG_TO_VS != '') AND (VITALSTATUS IN ('A', 'D')) AND (ETHNICITY IN ('A','B', 'C', 'D', 'F', 'G', 'H', 'J', 'L', 'M', 'N', 'P', 'R', 'S', 'X', 'Z')) AND (DIAGNOSISYEAR IN (2013,2014,2015,2016,2017,2018)) AND (SEX IN (1,2)) AND (BASISOFDIAGNOSIS IN (1,2,7,9)) AND (BIGTUMOURCOUNT IN (1,2,3,4))\"\n",
    "patients = pd.read_sql(query,conn)\n",
    "patients = patients.drop_duplicates()\n",
    "patients.replace(r'^\\s*$', np.nan, regex = True, inplace = True)\n",
    "\n",
    "patients.dropna(axis = 0, how = 'any', subset = ['AGE', 'SEX', 'BIGTUMOURCOUNT', 'BASISOFDIAGNOSIS', 'GRADE'], inplace = False)\n",
    "year_by_sex = patients.groupby(['SEX','DIAGNOSISYEAR'])['PSEUDO_PATIENTID'].count()\n",
    "print(year_by_sex)\n",
    "# total patient number: 1335"
   ]
  },
  {
   "cell_type": "code",
   "execution_count": 6,
   "id": "a2045775",
   "metadata": {},
   "outputs": [
    {
     "data": {
      "text/plain": [
       "BASISOFDIAGNOSIS\n",
       "1       4\n",
       "2      52\n",
       "7    1279\n",
       "Name: PSEUDO_PATIENTID, dtype: int64"
      ]
     },
     "execution_count": 6,
     "metadata": {},
     "output_type": "execute_result"
    }
   ],
   "source": [
    "# Basis of diagnosis\n",
    "grouping(patients, 'BASISOFDIAGNOSIS')\n",
    "# mostly were cutting and bone marrow biopsy (1255/1316 = 0.9536)"
   ]
  },
  {
   "cell_type": "code",
   "execution_count": 25,
   "id": "08be5382",
   "metadata": {},
   "outputs": [
    {
     "data": {
      "text/plain": [
       "INCOME_QUINTILE_2015\n",
       "1 - Least deprived    286\n",
       "2                     283\n",
       "3                     277\n",
       "4                     228\n",
       "5 - Most deprived     261\n",
       "Name: PSEUDO_PATIENTID, dtype: int64"
      ]
     },
     "execution_count": 25,
     "metadata": {},
     "output_type": "execute_result"
    }
   ],
   "source": [
    "grouping(patients, 'INCOME_QUINTILE_2015')"
   ]
  },
  {
   "cell_type": "code",
   "execution_count": 18,
   "id": "f81524c0",
   "metadata": {},
   "outputs": [
    {
     "data": {
      "text/plain": [
       "count    1335.000000\n",
       "mean       47.169288\n",
       "std        14.403058\n",
       "min        18.000000\n",
       "25%        36.000000\n",
       "50%        46.000000\n",
       "75%        57.000000\n",
       "max        99.000000\n",
       "Name: AGE, dtype: float64"
      ]
     },
     "execution_count": 18,
     "metadata": {},
     "output_type": "execute_result"
    }
   ],
   "source": [
    "patients['AGE'].describe()"
   ]
  },
  {
   "cell_type": "code",
   "execution_count": 4,
   "id": "a48a74b5",
   "metadata": {},
   "outputs": [
    {
     "data": {
      "text/plain": [
       "ETHNICITY\n",
       "A    1061\n",
       "B       8\n",
       "C      95\n",
       "D       3\n",
       "F       3\n",
       "G       2\n",
       "H      30\n",
       "J      22\n",
       "L      29\n",
       "M       8\n",
       "N       5\n",
       "P       2\n",
       "R       5\n",
       "S      36\n",
       "X       7\n",
       "Z      19\n",
       "Name: PSEUDO_PATIENTID, dtype: int64"
      ]
     },
     "execution_count": 4,
     "metadata": {},
     "output_type": "execute_result"
    }
   ],
   "source": [
    "grouping(patients, 'ETHNICITY')"
   ]
  },
  {
   "cell_type": "code",
   "execution_count": 17,
   "id": "7dfb0f96",
   "metadata": {},
   "outputs": [
    {
     "data": {
      "text/plain": [
       "DEATHLOCATIONDESC\n",
       "HOSPICE NOS      49\n",
       "HOSPITAL         92\n",
       "NURSING HOME     21\n",
       "OTHER            10\n",
       "PRIVATE HOME    108\n",
       "UNKNOWN          34\n",
       "Name: PSEUDO_PATIENTID, dtype: int64"
      ]
     },
     "execution_count": 17,
     "metadata": {},
     "output_type": "execute_result"
    }
   ],
   "source": [
    "grouping(patients, 'DEATHLOCATIONDESC')"
   ]
  },
  {
   "cell_type": "code",
   "execution_count": 5,
   "id": "b5b84afd",
   "metadata": {},
   "outputs": [
    {
     "data": {
      "text/plain": [
       "BIGTUMOURCOUNT\n",
       "1    1168\n",
       "2     152\n",
       "3      13\n",
       "4       2\n",
       "Name: PSEUDO_PATIENTID, dtype: int64"
      ]
     },
     "execution_count": 5,
     "metadata": {},
     "output_type": "execute_result"
    }
   ],
   "source": [
    "# big tumours\n",
    "grouping(patients, 'BIGTUMOURCOUNT')\n"
   ]
  },
  {
   "cell_type": "code",
   "execution_count": 6,
   "id": "dc5cbf8d",
   "metadata": {},
   "outputs": [
    {
     "data": {
      "text/plain": [
       "ETHNICITYNAME\n",
       "ANY OTHER ASIAN BACKGROUND           29\n",
       "ANY OTHER BLACK BACKGROUND            2\n",
       "ANY OTHER ETHNIC GROUP               36\n",
       "ANY OTHER MIXED BACKGROUND            2\n",
       "ANY OTHER WHITE BACKGROUND           95\n",
       "ASIAN INDIAN                         30\n",
       "ASIAN PAKISTANI                      22\n",
       "BLACK AFRICAN                         5\n",
       "BLACK CARIBBEAN                       8\n",
       "CHINESE                               5\n",
       "MIXED WHITE AND ASIAN                 3\n",
       "MIXED WHITE AND BLACK CARIBBEAN       3\n",
       "NOT KNOWN                             7\n",
       "NOT STATED                           19\n",
       "WHITE BRITISH                      1061\n",
       "WHITE IRISH                           8\n",
       "Name: PSEUDO_PATIENTID, dtype: int64"
      ]
     },
     "execution_count": 6,
     "metadata": {},
     "output_type": "execute_result"
    }
   ],
   "source": [
    "# ETHNICITY\n",
    "grouping(patients, 'ETHNICITYNAME')"
   ]
  },
  {
   "cell_type": "code",
   "execution_count": 7,
   "id": "4e5b3183",
   "metadata": {},
   "outputs": [
    {
     "data": {
      "text/plain": [
       "SEX\n",
       "1    694\n",
       "2    641\n",
       "Name: PSEUDO_PATIENTID, dtype: int64"
      ]
     },
     "execution_count": 7,
     "metadata": {},
     "output_type": "execute_result"
    }
   ],
   "source": [
    "# sex ratio\n",
    "grouping(patients, 'SEX')\n"
   ]
  },
  {
   "cell_type": "code",
   "execution_count": 8,
   "id": "b970882a",
   "metadata": {},
   "outputs": [
    {
     "name": "stdout",
     "output_type": "stream",
     "text": [
      "VITALSTATUS  SEX\n",
      "A            1      531\n",
      "             2      482\n",
      "D            1      163\n",
      "             2      159\n",
      "Name: PSEUDO_PATIENTID, dtype: int64\n"
     ]
    }
   ],
   "source": [
    "# VS by SEX\n",
    "VS_S = patients.groupby([\"VITALSTATUS\", \"SEX\"])[\"PSEUDO_PATIENTID\"].nunique()\n",
    "print(VS_S)"
   ]
  },
  {
   "cell_type": "code",
   "execution_count": 9,
   "id": "c6bee422",
   "metadata": {},
   "outputs": [
    {
     "name": "stdout",
     "output_type": "stream",
     "text": [
      "count    128.000000\n",
      "mean      10.429688\n",
      "std        9.526328\n",
      "min        1.000000\n",
      "25%        3.000000\n",
      "50%        6.000000\n",
      "75%       15.250000\n",
      "max       38.000000\n",
      "Name: PSEUDO_PATIENTID, dtype: float64\n"
     ]
    }
   ],
   "source": [
    "# VS by age\n",
    "VS_a = patients.groupby([\"VITALSTATUS\", \"AGE\"])[\"PSEUDO_PATIENTID\"].nunique()\n",
    "print(VS_a.describe())"
   ]
  },
  {
   "cell_type": "code",
   "execution_count": 10,
   "id": "9b06a417",
   "metadata": {},
   "outputs": [
    {
     "data": {
      "text/plain": [
       "BIGTUMOURCOUNT\n",
       "1    1168\n",
       "2     152\n",
       "3      13\n",
       "4       2\n",
       "Name: PSEUDO_PATIENTID, dtype: int64"
      ]
     },
     "execution_count": 10,
     "metadata": {},
     "output_type": "execute_result"
    }
   ],
   "source": [
    "# Number of Big tumours\n",
    "grouping(patients, 'BIGTUMOURCOUNT')"
   ]
  },
  {
   "cell_type": "code",
   "execution_count": 11,
   "id": "a962f06f",
   "metadata": {},
   "outputs": [
    {
     "data": {
      "text/plain": [
       "SITE_CODED_DESC\n",
       "Brain, NOS                     128\n",
       "Cerebellum, NOS                  1\n",
       "Cerebrum                        48\n",
       "Cranial nerve, NOS               1\n",
       "Frontal lobe                   755\n",
       "Occipital lobe                  23\n",
       "Overlapping lesion of brain     34\n",
       "Parietal lobe                  149\n",
       "Spinal cord                      1\n",
       "Temporal lobe                  195\n",
       "Name: PSEUDO_PATIENTID, dtype: int64"
      ]
     },
     "execution_count": 11,
     "metadata": {},
     "output_type": "execute_result"
    }
   ],
   "source": [
    "# Where the tumour is\n",
    "grouping(patients, 'SITE_CODED_DESC')\n"
   ]
  },
  {
   "cell_type": "code",
   "execution_count": 3,
   "id": "3a2e0e87",
   "metadata": {},
   "outputs": [
    {
     "ename": "ValueError",
     "evalue": "All arrays must be of the same length",
     "output_type": "error",
     "traceback": [
      "\u001b[0;31m---------------------------------------------------------------------------\u001b[0m",
      "\u001b[0;31mValueError\u001b[0m                                Traceback (most recent call last)",
      "\u001b[0;32m/tmp/ipykernel_4134808/3944616302.py\u001b[0m in \u001b[0;36m<cell line: 24>\u001b[0;34m()\u001b[0m\n\u001b[1;32m     22\u001b[0m }\n\u001b[1;32m     23\u001b[0m \u001b[0;34m\u001b[0m\u001b[0m\n\u001b[0;32m---> 24\u001b[0;31m \u001b[0mpyramid_data\u001b[0m \u001b[0;34m=\u001b[0m \u001b[0mpd\u001b[0m\u001b[0;34m.\u001b[0m\u001b[0mDataFrame\u001b[0m\u001b[0;34m(\u001b[0m\u001b[0mdata\u001b[0m\u001b[0;34m)\u001b[0m\u001b[0;34m\u001b[0m\u001b[0;34m\u001b[0m\u001b[0m\n\u001b[0m\u001b[1;32m     25\u001b[0m \u001b[0mpyramid_data\u001b[0m\u001b[0;34m.\u001b[0m\u001b[0mcolumns\u001b[0m\u001b[0;34m\u001b[0m\u001b[0;34m\u001b[0m\u001b[0m\n\u001b[1;32m     26\u001b[0m \u001b[0;34m\u001b[0m\u001b[0m\n",
      "\u001b[0;32m/opt/python/3.10.8/lib/python3.10/site-packages/pandas/core/frame.py\u001b[0m in \u001b[0;36m__init__\u001b[0;34m(self, data, index, columns, dtype, copy)\u001b[0m\n\u001b[1;32m    660\u001b[0m         \u001b[0;32melif\u001b[0m \u001b[0misinstance\u001b[0m\u001b[0;34m(\u001b[0m\u001b[0mdata\u001b[0m\u001b[0;34m,\u001b[0m \u001b[0mdict\u001b[0m\u001b[0;34m)\u001b[0m\u001b[0;34m:\u001b[0m\u001b[0;34m\u001b[0m\u001b[0;34m\u001b[0m\u001b[0m\n\u001b[1;32m    661\u001b[0m             \u001b[0;31m# GH#38939 de facto copy defaults to False only in non-dict cases\u001b[0m\u001b[0;34m\u001b[0m\u001b[0;34m\u001b[0m\u001b[0m\n\u001b[0;32m--> 662\u001b[0;31m             \u001b[0mmgr\u001b[0m \u001b[0;34m=\u001b[0m \u001b[0mdict_to_mgr\u001b[0m\u001b[0;34m(\u001b[0m\u001b[0mdata\u001b[0m\u001b[0;34m,\u001b[0m \u001b[0mindex\u001b[0m\u001b[0;34m,\u001b[0m \u001b[0mcolumns\u001b[0m\u001b[0;34m,\u001b[0m \u001b[0mdtype\u001b[0m\u001b[0;34m=\u001b[0m\u001b[0mdtype\u001b[0m\u001b[0;34m,\u001b[0m \u001b[0mcopy\u001b[0m\u001b[0;34m=\u001b[0m\u001b[0mcopy\u001b[0m\u001b[0;34m,\u001b[0m \u001b[0mtyp\u001b[0m\u001b[0;34m=\u001b[0m\u001b[0mmanager\u001b[0m\u001b[0;34m)\u001b[0m\u001b[0;34m\u001b[0m\u001b[0;34m\u001b[0m\u001b[0m\n\u001b[0m\u001b[1;32m    663\u001b[0m         \u001b[0;32melif\u001b[0m \u001b[0misinstance\u001b[0m\u001b[0;34m(\u001b[0m\u001b[0mdata\u001b[0m\u001b[0;34m,\u001b[0m \u001b[0mma\u001b[0m\u001b[0;34m.\u001b[0m\u001b[0mMaskedArray\u001b[0m\u001b[0;34m)\u001b[0m\u001b[0;34m:\u001b[0m\u001b[0;34m\u001b[0m\u001b[0;34m\u001b[0m\u001b[0m\n\u001b[1;32m    664\u001b[0m             \u001b[0;32mimport\u001b[0m \u001b[0mnumpy\u001b[0m\u001b[0;34m.\u001b[0m\u001b[0mma\u001b[0m\u001b[0;34m.\u001b[0m\u001b[0mmrecords\u001b[0m \u001b[0;32mas\u001b[0m \u001b[0mmrecords\u001b[0m\u001b[0;34m\u001b[0m\u001b[0;34m\u001b[0m\u001b[0m\n",
      "\u001b[0;32m/opt/python/3.10.8/lib/python3.10/site-packages/pandas/core/internals/construction.py\u001b[0m in \u001b[0;36mdict_to_mgr\u001b[0;34m(data, index, columns, dtype, typ, copy)\u001b[0m\n\u001b[1;32m    491\u001b[0m             \u001b[0marrays\u001b[0m \u001b[0;34m=\u001b[0m \u001b[0;34m[\u001b[0m\u001b[0mx\u001b[0m\u001b[0;34m.\u001b[0m\u001b[0mcopy\u001b[0m\u001b[0;34m(\u001b[0m\u001b[0;34m)\u001b[0m \u001b[0;32mif\u001b[0m \u001b[0mhasattr\u001b[0m\u001b[0;34m(\u001b[0m\u001b[0mx\u001b[0m\u001b[0;34m,\u001b[0m \u001b[0;34m\"dtype\"\u001b[0m\u001b[0;34m)\u001b[0m \u001b[0;32melse\u001b[0m \u001b[0mx\u001b[0m \u001b[0;32mfor\u001b[0m \u001b[0mx\u001b[0m \u001b[0;32min\u001b[0m \u001b[0marrays\u001b[0m\u001b[0;34m]\u001b[0m\u001b[0;34m\u001b[0m\u001b[0;34m\u001b[0m\u001b[0m\n\u001b[1;32m    492\u001b[0m \u001b[0;34m\u001b[0m\u001b[0m\n\u001b[0;32m--> 493\u001b[0;31m     \u001b[0;32mreturn\u001b[0m \u001b[0marrays_to_mgr\u001b[0m\u001b[0;34m(\u001b[0m\u001b[0marrays\u001b[0m\u001b[0;34m,\u001b[0m \u001b[0mcolumns\u001b[0m\u001b[0;34m,\u001b[0m \u001b[0mindex\u001b[0m\u001b[0;34m,\u001b[0m \u001b[0mdtype\u001b[0m\u001b[0;34m=\u001b[0m\u001b[0mdtype\u001b[0m\u001b[0;34m,\u001b[0m \u001b[0mtyp\u001b[0m\u001b[0;34m=\u001b[0m\u001b[0mtyp\u001b[0m\u001b[0;34m,\u001b[0m \u001b[0mconsolidate\u001b[0m\u001b[0;34m=\u001b[0m\u001b[0mcopy\u001b[0m\u001b[0;34m)\u001b[0m\u001b[0;34m\u001b[0m\u001b[0;34m\u001b[0m\u001b[0m\n\u001b[0m\u001b[1;32m    494\u001b[0m \u001b[0;34m\u001b[0m\u001b[0m\n\u001b[1;32m    495\u001b[0m \u001b[0;34m\u001b[0m\u001b[0m\n",
      "\u001b[0;32m/opt/python/3.10.8/lib/python3.10/site-packages/pandas/core/internals/construction.py\u001b[0m in \u001b[0;36marrays_to_mgr\u001b[0;34m(arrays, columns, index, dtype, verify_integrity, typ, consolidate)\u001b[0m\n\u001b[1;32m    116\u001b[0m         \u001b[0;31m# figure out the index, if necessary\u001b[0m\u001b[0;34m\u001b[0m\u001b[0;34m\u001b[0m\u001b[0m\n\u001b[1;32m    117\u001b[0m         \u001b[0;32mif\u001b[0m \u001b[0mindex\u001b[0m \u001b[0;32mis\u001b[0m \u001b[0;32mNone\u001b[0m\u001b[0;34m:\u001b[0m\u001b[0;34m\u001b[0m\u001b[0;34m\u001b[0m\u001b[0m\n\u001b[0;32m--> 118\u001b[0;31m             \u001b[0mindex\u001b[0m \u001b[0;34m=\u001b[0m \u001b[0m_extract_index\u001b[0m\u001b[0;34m(\u001b[0m\u001b[0marrays\u001b[0m\u001b[0;34m)\u001b[0m\u001b[0;34m\u001b[0m\u001b[0;34m\u001b[0m\u001b[0m\n\u001b[0m\u001b[1;32m    119\u001b[0m         \u001b[0;32melse\u001b[0m\u001b[0;34m:\u001b[0m\u001b[0;34m\u001b[0m\u001b[0;34m\u001b[0m\u001b[0m\n\u001b[1;32m    120\u001b[0m             \u001b[0mindex\u001b[0m \u001b[0;34m=\u001b[0m \u001b[0mensure_index\u001b[0m\u001b[0;34m(\u001b[0m\u001b[0mindex\u001b[0m\u001b[0;34m)\u001b[0m\u001b[0;34m\u001b[0m\u001b[0;34m\u001b[0m\u001b[0m\n",
      "\u001b[0;32m/opt/python/3.10.8/lib/python3.10/site-packages/pandas/core/internals/construction.py\u001b[0m in \u001b[0;36m_extract_index\u001b[0;34m(data)\u001b[0m\n\u001b[1;32m    664\u001b[0m             \u001b[0mlengths\u001b[0m \u001b[0;34m=\u001b[0m \u001b[0mlist\u001b[0m\u001b[0;34m(\u001b[0m\u001b[0mset\u001b[0m\u001b[0;34m(\u001b[0m\u001b[0mraw_lengths\u001b[0m\u001b[0;34m)\u001b[0m\u001b[0;34m)\u001b[0m\u001b[0;34m\u001b[0m\u001b[0;34m\u001b[0m\u001b[0m\n\u001b[1;32m    665\u001b[0m             \u001b[0;32mif\u001b[0m \u001b[0mlen\u001b[0m\u001b[0;34m(\u001b[0m\u001b[0mlengths\u001b[0m\u001b[0;34m)\u001b[0m \u001b[0;34m>\u001b[0m \u001b[0;36m1\u001b[0m\u001b[0;34m:\u001b[0m\u001b[0;34m\u001b[0m\u001b[0;34m\u001b[0m\u001b[0m\n\u001b[0;32m--> 666\u001b[0;31m                 \u001b[0;32mraise\u001b[0m \u001b[0mValueError\u001b[0m\u001b[0;34m(\u001b[0m\u001b[0;34m\"All arrays must be of the same length\"\u001b[0m\u001b[0;34m)\u001b[0m\u001b[0;34m\u001b[0m\u001b[0;34m\u001b[0m\u001b[0m\n\u001b[0m\u001b[1;32m    667\u001b[0m \u001b[0;34m\u001b[0m\u001b[0m\n\u001b[1;32m    668\u001b[0m             \u001b[0;32mif\u001b[0m \u001b[0mhave_dicts\u001b[0m\u001b[0;34m:\u001b[0m\u001b[0;34m\u001b[0m\u001b[0;34m\u001b[0m\u001b[0m\n",
      "\u001b[0;31mValueError\u001b[0m: All arrays must be of the same length"
     ]
    }
   ],
   "source": [
    "# Age\n",
    "import pandas as pd\n",
    "import sys\n",
    "import math\n",
    "import seaborn as sns\n",
    "\n",
    "query_male = \"SELECT * from TUM_PAT WHERE MORPH_ICD10_O2 IN (9450, 9451) AND (INTERVAL_DIAG_TO_VS != '') AND (VITALSTATUS IN ('A', 'D')) AND (ETHNICITY IN ('A','B', 'C', 'D', 'F', 'G', 'H', 'J', 'L', 'M', 'N', 'P', 'R', 'S', 'X', 'Z')) AND (DIAGNOSISYEAR IN (2013,2014,2015,2016,2017,2018)) AND (SEX = 1) AND (BASISOFDIAGNOSIS IN (1,2,7,9)) AND (BIGTUMOURCOUNT IN (1,2,3,4))\"\n",
    "df_male = pd.read_sql(query_male,conn)\n",
    "df_male = df_male.drop_duplicates(subset=['PSEUDO_PATIENTID'])\n",
    "\n",
    "query_female = \"SELECT * from TUM_PAT WHERE MORPH_ICD10_O2 IN (9450, 9451) AND (INTERVAL_DIAG_TO_VS != '') AND (VITALSTATUS IN ('A', 'D')) AND (ETHNICITY IN ('A','B', 'C', 'D', 'F', 'G', 'H', 'J', 'L', 'M', 'N', 'P', 'R', 'S', 'X', 'Z')) AND (DIAGNOSISYEAR IN (2013,2014,2015,2016,2017,2018)) AND (SEX = 2) AND (BASISOFDIAGNOSIS IN (1,2,7,9)) AND (BIGTUMOURCOUNT IN (1,2,3,4))\"\n",
    "df_female = pd.read_sql(query_female,conn)\n",
    "df_female = df_female.drop_duplicates(subset=['PSEUDO_PATIENTID'])\n",
    "df_male = df_male['AGE'].astype(int)\n",
    "df_female = df_female['AGE'].astype(int)\n",
    "\n",
    "data = {\n",
    "'M': [df_male],\n",
    "'F': [df_female],\n",
    "'index' : ['15-19', '20-24', '25-29', '30-34', '35-39', '40-44', '45-49', '50-54', '55-59',\n",
    "         '60-64', '65-69', '70-74', '75-79', '80-84', '85-89', '90-94', '95-99', '100-104'],\n",
    "}\n",
    "       \n",
    "pyramid_data = pd.DataFrame(data)\n",
    "pyramid_data.columns\n",
    "\n",
    "sns.set_style(\"white\")\n",
    "bar_plot = sns.barplot(y = 'index', x = 'M', color = 'blue', data = pyramid_data, order = ['15-19', '20-24', '25-29', '30-34', '35-39', '40-44', '45-49', '50-54', '55-59', '60-64', '65-69', '70-74', '75-79', '80-84', '85-89', '90-94', '95-99', '100-104'])\n",
    "\n",
    "bar_plot = sns.barplot(y = 'index', x = 'F', color = 'red', data = pyramid_data, order = ['15-19', '20-24', '25-29', '30-34', '35-39', '40-44', '45-49', '50-54', '55-59', '60-64', '65-69', '70-74', '75-79', '80-84', '85-89', '90-94', '95-99', '100-104'])\n",
    "bar_plot.set(xlabel = 'Age-Group', ylabel = 'Patients number', title = 'Patients Pyramid by sex')\n",
    "\n"
   ]
  },
  {
   "cell_type": "code",
   "execution_count": null,
   "id": "040c3273",
   "metadata": {},
   "outputs": [],
   "source": [
    "# test again\n",
    "import plotly\n",
    "from plotly.offline import plot\n",
    "import plotly.graph_objs as go\n",
    "import numpy as np\n",
    "\n",
    "query_male = \"SELECT * from TUM_PAT WHERE MORPH_ICD10_O2 IN (9450, 9451) AND (INTERVAL_DIAG_TO_VS != '') AND (VITALSTATUS IN ('A', 'D')) AND (ETHNICITY IN ('A','B', 'C', 'D', 'F', 'G', 'H', 'J', 'L', 'M', 'N', 'P', 'R', 'S', 'X', 'Z')) AND (DIAGNOSISYEAR IN (2013,2014,2015,2016,2017,2018)) AND (SEX = 1) AND (BASISOFDIAGNOSIS IN (1,2,7,9)) AND (BIGTUMOURCOUNT IN (1,2,3,4))\"\n",
    "df_male = pd.read_sql(query_male,conn)\n",
    "df_male = df_male.drop_duplicates(subset=['PSEUDO_PATIENTID'])\n",
    "\n",
    "query_female = \"SELECT * from TUM_PAT WHERE MORPH_ICD10_O2 IN (9450, 9451) AND (INTERVAL_DIAG_TO_VS != '') AND (VITALSTATUS IN ('A', 'D')) AND (ETHNICITY IN ('A','B', 'C', 'D', 'F', 'G', 'H', 'J', 'L', 'M', 'N', 'P', 'R', 'S', 'X', 'Z')) AND (DIAGNOSISYEAR IN (2013,2014,2015,2016,2017,2018)) AND (SEX = 2) AND (BASISOFDIAGNOSIS IN (1,2,7,9)) AND (BIGTUMOURCOUNT IN (1,2,3,4))\"\n",
    "df_female = pd.read_sql(query_female,conn)\n",
    "df_female = df_female.drop_duplicates(subset=['PSEUDO_PATIENTID'])\n",
    "\n",
    "bins = [15, 20, 25, 30, 35, 40, 45, 50, 55, 60, 65, 70, 75, 80, 85, 90, 95, 100]\n",
    "labels = ['16_20', '21_25', '26_30', '31_35', '36_40', '41_45', '46_50', '51_55', \n",
    "          '56-60', '61-65', '66-70', '71_75', '76_80', '81_85', '86_90', '91_95', '96_100']\n",
    "\n",
    "male = pd.DataFrame(pd.cut(df_male['AGE'], bins = bins, labels = labels))\n",
    "female = pd.DataFrame(pd.cut(df_female['AGE'], bins = bins, labels = labels))\n",
    "\n",
    "names = ['age']\n",
    "\n",
    "male.columns = names\n",
    "female.columns = names\n",
    "\n",
    "male = male.groupby('age').count()\n",
    "print(male)\n",
    "female = female.groupby('age').count()\n",
    "\n",
    "\n",
    "y = list(range(0, 100, 5))\n",
    "\n",
    "layout = go.Layout(yaxis = go.layout.YAxis(title='Age'),\n",
    "                  xaxis = go.layout.XAxis(\n",
    "                      range = [100, -100],\n",
    "                      tickvals = [-100, -90, -80, -70, -60, -50, -40, -30, -20, -10, 0,\n",
    "                                  10, 20, 30, 40, 50, 60, 70, 80, 90, 100],\n",
    "                      ticktext = [100, 90, 80, 70, 60, 50, 40, 30, 20, 10, 0, 10, 20, 30, 40, 50, 60, 70, 80, 90, 100],\n",
    "                      title = 'Number'),\n",
    "                  barmode = 'overlay',\n",
    "                  bargap = 0.1)\n",
    "\n",
    "data = [go.Bar(y = y,\n",
    "           x = male,\n",
    "           orientation = 'h',\n",
    "           name = 'male_patients',\n",
    "           hoverinfo = 'x', \n",
    "           marker = dict(color = 'sky blue')\n",
    "           ),\n",
    "       go.Bar(y = y,\n",
    "           x = female,\n",
    "           orientation = 'h',\n",
    "           name = 'female_patients',\n",
    "           hoverinfo = 'x', \n",
    "           marker = dict(color = 'orange')\n",
    "           )]\n",
    "\n",
    "plotly.offline.iplot(dict(data = data, layout = layout))\n"
   ]
  },
  {
   "cell_type": "code",
   "execution_count": null,
   "id": "8f1c536b",
   "metadata": {},
   "outputs": [],
   "source": [
    "# test with loc function\n",
    "import plotly\n",
    "from plotly.offline import plot\n",
    "import plotly.graph_objs as go\n",
    "import numpy as np\n",
    "\n",
    "query_male = \"SELECT * from TUM_PAT WHERE MORPH_ICD10_O2 IN (9450, 9451) AND (INTERVAL_DIAG_TO_VS != '') AND (VITALSTATUS IN ('A', 'D')) AND (ETHNICITY IN ('A','B', 'C', 'D', 'F', 'G', 'H', 'J', 'L', 'M', 'N', 'P', 'R', 'S', 'X', 'Z')) AND (DIAGNOSISYEAR IN (2013,2014,2015,2016,2017,2018)) AND (SEX = 1) AND (BASISOFDIAGNOSIS IN (1,2,7,9)) AND (BIGTUMOURCOUNT IN (1,2,3,4))\"\n",
    "df_male = pd.read_sql(query_male,conn)\n",
    "df_male = df_male.drop_duplicates(subset=['PSEUDO_PATIENTID'])\n",
    "\n",
    "query_female = \"SELECT * from TUM_PAT WHERE MORPH_ICD10_O2 IN (9450, 9451) AND (INTERVAL_DIAG_TO_VS != '') AND (VITALSTATUS IN ('A', 'D')) AND (ETHNICITY IN ('A','B', 'C', 'D', 'F', 'G', 'H', 'J', 'L', 'M', 'N', 'P', 'R', 'S', 'X', 'Z')) AND (DIAGNOSISYEAR IN (2013,2014,2015,2016,2017,2018)) AND (SEX = 2) AND (BASISOFDIAGNOSIS IN (1,2,7,9)) AND (BIGTUMOURCOUNT IN (1,2,3,4))\"\n",
    "df_female = pd.read_sql(query_female,conn)\n",
    "df_female = df_female.drop_duplicates(subset=['PSEUDO_PATIENTID'])\n",
    "\n",
    "df_male['AGE'].astype(int)\n",
    "df_female['AGE'].astype(int)\n",
    "\n",
    "df_male.loc[(15 < df_male.AGE) & (df_male.AGE < 21), 'group'] = '16_20'\n",
    "df_male.loc[(20 < df_male.AGE) & (df_male.AGE < 26), 'group'] = '21_25'\n",
    "df_male.loc[(25 < df_male.AGE) & (df_male.AGE < 31), 'group'] = '26_30'\n",
    "df_male.loc[(30 < df_male.AGE) & (df_male.AGE < 36), 'group'] = '31_35'\n",
    "df_male.loc[(35 < df_male.AGE) & (df_male.AGE < 41), 'group'] = '36_40'\n",
    "df_male.loc[(40 < df_male.AGE) & (df_male.AGE < 46), 'group'] = '41_45'\n",
    "df_male.loc[(45 < df_male.AGE) & (df_male.AGE < 51), 'group'] = '46_50'\n",
    "df_male.loc[(50 < df_male.AGE) & (df_male.AGE < 56), 'group'] = '51_55'\n",
    "df_male.loc[(55 < df_male.AGE) & (df_male.AGE < 61), 'group'] = '56_60'\n",
    "df_male.loc[(60 < df_male.AGE) & (df_male.AGE < 66), 'group'] = '61_65'\n",
    "df_male.loc[(65 < df_male.AGE) & (df_male.AGE < 71), 'group'] = '66_70'\n",
    "df_male.loc[(70 < df_male.AGE) & (df_male.AGE < 76), 'group'] = '71_75'\n",
    "df_male.loc[(75 < df_male.AGE) & (df_male.AGE < 81), 'group'] = '76_80'\n",
    "df_male.loc[(80 < df_male.AGE) & (df_male.AGE < 86), 'group'] = '81_85'\n",
    "df_male.loc[(85 < df_male.AGE) & (df_male.AGE < 91), 'group'] = '86_90'\n",
    "\n",
    "df_female.loc[(15 < df_female.AGE) & (df_female.AGE < 21), 'group'] = '16_20'\n",
    "df_female.loc[(20 < df_female.AGE) & (df_female.AGE < 26), 'group'] = '21_25'\n",
    "df_female.loc[(25 < df_female.AGE) & (df_female.AGE < 31), 'group'] = '26_30'\n",
    "df_female.loc[(30 < df_female.AGE) & (df_female.AGE < 36), 'group'] = '31_35'\n",
    "df_female.loc[(35 < df_female.AGE) & (df_female.AGE < 41), 'group'] = '36_40'\n",
    "df_female.loc[(40 < df_female.AGE) & (df_female.AGE < 46), 'group'] = '41_45'\n",
    "df_female.loc[(45 < df_female.AGE) & (df_female.AGE < 51), 'group'] = '46_50'\n",
    "df_female.loc[(50 < df_female.AGE) & (df_female.AGE < 56), 'group'] = '51_55'\n",
    "df_female.loc[(55 < df_female.AGE) & (df_female.AGE < 61), 'group'] = '56_60'\n",
    "df_female.loc[(60 < df_female.AGE) & (df_female.AGE < 66), 'group'] = '61_65'\n",
    "df_female.loc[(65 < df_female.AGE) & (df_female.AGE < 71), 'group'] = '66_70'\n",
    "df_female.loc[(70 < df_female.AGE) & (df_female.AGE < 76), 'group'] = '71_75'\n",
    "df_female.loc[(75 < df_female.AGE) & (df_female.AGE < 81), 'group'] = '76_80'\n",
    "df_female.loc[(80 < df_female.AGE) & (df_female.AGE < 86), 'group'] = '81_85'\n",
    "df_female.loc[(85 < df_female.AGE) & (df_female.AGE < 91), 'group'] = '86_90'\n",
    "df_female.loc[(95 < df_female.AGE) & (df_female.AGE < 101), 'group'] = '96_100'\n",
    "\n",
    "y = list(range(20, 100, 5))\n",
    "\n",
    "layout = go.Layout(yaxis = go.layout.YAxis(title='Age'),\n",
    "                  xaxis = go.layout.XAxis(\n",
    "                      range = [100, -100],\n",
    "                      tickvals = [-100, -90, -80, -70, -60, -50, -40, -30, -20, -10, 0,\n",
    "                                  10, 20, 30, 40, 50, 60, 70, 80, 90, 100],\n",
    "                      ticktext = [100, 90, 80, 70, 60, 50, 40, 30, 20, 10, 0, 10, 20, 30, 40, 50, 60, 70, 80, 90, 100],\n",
    "                      title = 'Number'),\n",
    "                  barmode = 'overlay',\n",
    "                  bargap = 0.1)\n",
    "\n",
    "print(df_male.groupby(['group'])['SEX'].count())   # ['SEX'] or actually any other columns, print(df.groupby(['group']).count()) and u will know\n",
    "print(df_female.groupby(['group'])['SEX'].count())\n",
    "\n",
    "data = [go.Bar(y = y,\n",
    "           x = df_male.groupby(['group'])['SEX'].count(),\n",
    "           orientation = 'h',\n",
    "           name = 'male_patients',\n",
    "           text = abs(df_male.groupby(['group'])['SEX'].count()),\n",
    "           hoverinfo = 'text', \n",
    "           marker = dict(color = 'sky blue')\n",
    "           ),\n",
    "       go.Bar(y = y,\n",
    "           x = -1*df_female.groupby(['group'])['SEX'].count(),\n",
    "           orientation = 'h',\n",
    "           name = 'female_patients',\n",
    "           text = abs(df_female.groupby(['group'])['SEX'].count()),\n",
    "           hoverinfo = 'text', \n",
    "           marker = dict(color = 'orange')\n",
    "           )]\n",
    "\n",
    "plotly.offline.iplot(dict(data = data, layout = layout))"
   ]
  },
  {
   "cell_type": "code",
   "execution_count": 14,
   "id": "3a781d9f",
   "metadata": {},
   "outputs": [
    {
     "name": "stdout",
     "output_type": "stream",
     "text": [
      "group\n",
      "11_20      3\n",
      "21_30     87\n",
      "31_40    174\n",
      "41_50    177\n",
      "51_60    128\n",
      "61_70     84\n",
      "71_80     37\n",
      "81_90      4\n",
      "Name: SEX, dtype: int64\n",
      "group\n",
      "11_20       4\n",
      "21_30      74\n",
      "31_40     152\n",
      "41_50     157\n",
      "51_60     117\n",
      "61_70      88\n",
      "71_80      40\n",
      "81_90       8\n",
      "91_100      1\n",
      "Name: SEX, dtype: int64\n"
     ]
    },
    {
     "data": {
      "application/vnd.plotly.v1+json": {
       "config": {
        "linkText": "Export to plot.ly",
        "plotlyServerURL": "https://plot.ly",
        "showLink": false
       },
       "data": [
        {
         "hoverinfo": "text",
         "marker": {
          "color": "sky blue"
         },
         "name": "male_patients",
         "orientation": "h",
         "text": [
          3,
          87,
          174,
          177,
          128,
          84,
          37,
          4
         ],
         "type": "bar",
         "x": [
          3,
          87,
          174,
          177,
          128,
          84,
          37,
          4
         ],
         "y": [
          "11_20",
          "21_30",
          "31_40",
          "41_50",
          "51_60",
          "61_70",
          "71_80",
          "81_90",
          "91_100"
         ]
        },
        {
         "hoverinfo": "text",
         "marker": {
          "color": "orange"
         },
         "name": "female_patients",
         "orientation": "h",
         "text": [
          4,
          74,
          152,
          157,
          117,
          88,
          40,
          8,
          1
         ],
         "type": "bar",
         "x": [
          -4,
          -74,
          -152,
          -157,
          -117,
          -88,
          -40,
          -8,
          -1
         ],
         "y": [
          "11_20",
          "21_30",
          "31_40",
          "41_50",
          "51_60",
          "61_70",
          "71_80",
          "81_90",
          "91_100"
         ]
        }
       ],
       "layout": {
        "bargap": 0.1,
        "barmode": "overlay",
        "template": {
         "data": {
          "bar": [
           {
            "error_x": {
             "color": "#2a3f5f"
            },
            "error_y": {
             "color": "#2a3f5f"
            },
            "marker": {
             "line": {
              "color": "#E5ECF6",
              "width": 0.5
             },
             "pattern": {
              "fillmode": "overlay",
              "size": 10,
              "solidity": 0.2
             }
            },
            "type": "bar"
           }
          ],
          "barpolar": [
           {
            "marker": {
             "line": {
              "color": "#E5ECF6",
              "width": 0.5
             },
             "pattern": {
              "fillmode": "overlay",
              "size": 10,
              "solidity": 0.2
             }
            },
            "type": "barpolar"
           }
          ],
          "carpet": [
           {
            "aaxis": {
             "endlinecolor": "#2a3f5f",
             "gridcolor": "white",
             "linecolor": "white",
             "minorgridcolor": "white",
             "startlinecolor": "#2a3f5f"
            },
            "baxis": {
             "endlinecolor": "#2a3f5f",
             "gridcolor": "white",
             "linecolor": "white",
             "minorgridcolor": "white",
             "startlinecolor": "#2a3f5f"
            },
            "type": "carpet"
           }
          ],
          "choropleth": [
           {
            "colorbar": {
             "outlinewidth": 0,
             "ticks": ""
            },
            "type": "choropleth"
           }
          ],
          "contour": [
           {
            "colorbar": {
             "outlinewidth": 0,
             "ticks": ""
            },
            "colorscale": [
             [
              0,
              "#0d0887"
             ],
             [
              0.1111111111111111,
              "#46039f"
             ],
             [
              0.2222222222222222,
              "#7201a8"
             ],
             [
              0.3333333333333333,
              "#9c179e"
             ],
             [
              0.4444444444444444,
              "#bd3786"
             ],
             [
              0.5555555555555556,
              "#d8576b"
             ],
             [
              0.6666666666666666,
              "#ed7953"
             ],
             [
              0.7777777777777778,
              "#fb9f3a"
             ],
             [
              0.8888888888888888,
              "#fdca26"
             ],
             [
              1,
              "#f0f921"
             ]
            ],
            "type": "contour"
           }
          ],
          "contourcarpet": [
           {
            "colorbar": {
             "outlinewidth": 0,
             "ticks": ""
            },
            "type": "contourcarpet"
           }
          ],
          "heatmap": [
           {
            "colorbar": {
             "outlinewidth": 0,
             "ticks": ""
            },
            "colorscale": [
             [
              0,
              "#0d0887"
             ],
             [
              0.1111111111111111,
              "#46039f"
             ],
             [
              0.2222222222222222,
              "#7201a8"
             ],
             [
              0.3333333333333333,
              "#9c179e"
             ],
             [
              0.4444444444444444,
              "#bd3786"
             ],
             [
              0.5555555555555556,
              "#d8576b"
             ],
             [
              0.6666666666666666,
              "#ed7953"
             ],
             [
              0.7777777777777778,
              "#fb9f3a"
             ],
             [
              0.8888888888888888,
              "#fdca26"
             ],
             [
              1,
              "#f0f921"
             ]
            ],
            "type": "heatmap"
           }
          ],
          "heatmapgl": [
           {
            "colorbar": {
             "outlinewidth": 0,
             "ticks": ""
            },
            "colorscale": [
             [
              0,
              "#0d0887"
             ],
             [
              0.1111111111111111,
              "#46039f"
             ],
             [
              0.2222222222222222,
              "#7201a8"
             ],
             [
              0.3333333333333333,
              "#9c179e"
             ],
             [
              0.4444444444444444,
              "#bd3786"
             ],
             [
              0.5555555555555556,
              "#d8576b"
             ],
             [
              0.6666666666666666,
              "#ed7953"
             ],
             [
              0.7777777777777778,
              "#fb9f3a"
             ],
             [
              0.8888888888888888,
              "#fdca26"
             ],
             [
              1,
              "#f0f921"
             ]
            ],
            "type": "heatmapgl"
           }
          ],
          "histogram": [
           {
            "marker": {
             "pattern": {
              "fillmode": "overlay",
              "size": 10,
              "solidity": 0.2
             }
            },
            "type": "histogram"
           }
          ],
          "histogram2d": [
           {
            "colorbar": {
             "outlinewidth": 0,
             "ticks": ""
            },
            "colorscale": [
             [
              0,
              "#0d0887"
             ],
             [
              0.1111111111111111,
              "#46039f"
             ],
             [
              0.2222222222222222,
              "#7201a8"
             ],
             [
              0.3333333333333333,
              "#9c179e"
             ],
             [
              0.4444444444444444,
              "#bd3786"
             ],
             [
              0.5555555555555556,
              "#d8576b"
             ],
             [
              0.6666666666666666,
              "#ed7953"
             ],
             [
              0.7777777777777778,
              "#fb9f3a"
             ],
             [
              0.8888888888888888,
              "#fdca26"
             ],
             [
              1,
              "#f0f921"
             ]
            ],
            "type": "histogram2d"
           }
          ],
          "histogram2dcontour": [
           {
            "colorbar": {
             "outlinewidth": 0,
             "ticks": ""
            },
            "colorscale": [
             [
              0,
              "#0d0887"
             ],
             [
              0.1111111111111111,
              "#46039f"
             ],
             [
              0.2222222222222222,
              "#7201a8"
             ],
             [
              0.3333333333333333,
              "#9c179e"
             ],
             [
              0.4444444444444444,
              "#bd3786"
             ],
             [
              0.5555555555555556,
              "#d8576b"
             ],
             [
              0.6666666666666666,
              "#ed7953"
             ],
             [
              0.7777777777777778,
              "#fb9f3a"
             ],
             [
              0.8888888888888888,
              "#fdca26"
             ],
             [
              1,
              "#f0f921"
             ]
            ],
            "type": "histogram2dcontour"
           }
          ],
          "mesh3d": [
           {
            "colorbar": {
             "outlinewidth": 0,
             "ticks": ""
            },
            "type": "mesh3d"
           }
          ],
          "parcoords": [
           {
            "line": {
             "colorbar": {
              "outlinewidth": 0,
              "ticks": ""
             }
            },
            "type": "parcoords"
           }
          ],
          "pie": [
           {
            "automargin": true,
            "type": "pie"
           }
          ],
          "scatter": [
           {
            "fillpattern": {
             "fillmode": "overlay",
             "size": 10,
             "solidity": 0.2
            },
            "type": "scatter"
           }
          ],
          "scatter3d": [
           {
            "line": {
             "colorbar": {
              "outlinewidth": 0,
              "ticks": ""
             }
            },
            "marker": {
             "colorbar": {
              "outlinewidth": 0,
              "ticks": ""
             }
            },
            "type": "scatter3d"
           }
          ],
          "scattercarpet": [
           {
            "marker": {
             "colorbar": {
              "outlinewidth": 0,
              "ticks": ""
             }
            },
            "type": "scattercarpet"
           }
          ],
          "scattergeo": [
           {
            "marker": {
             "colorbar": {
              "outlinewidth": 0,
              "ticks": ""
             }
            },
            "type": "scattergeo"
           }
          ],
          "scattergl": [
           {
            "marker": {
             "colorbar": {
              "outlinewidth": 0,
              "ticks": ""
             }
            },
            "type": "scattergl"
           }
          ],
          "scattermapbox": [
           {
            "marker": {
             "colorbar": {
              "outlinewidth": 0,
              "ticks": ""
             }
            },
            "type": "scattermapbox"
           }
          ],
          "scatterpolar": [
           {
            "marker": {
             "colorbar": {
              "outlinewidth": 0,
              "ticks": ""
             }
            },
            "type": "scatterpolar"
           }
          ],
          "scatterpolargl": [
           {
            "marker": {
             "colorbar": {
              "outlinewidth": 0,
              "ticks": ""
             }
            },
            "type": "scatterpolargl"
           }
          ],
          "scatterternary": [
           {
            "marker": {
             "colorbar": {
              "outlinewidth": 0,
              "ticks": ""
             }
            },
            "type": "scatterternary"
           }
          ],
          "surface": [
           {
            "colorbar": {
             "outlinewidth": 0,
             "ticks": ""
            },
            "colorscale": [
             [
              0,
              "#0d0887"
             ],
             [
              0.1111111111111111,
              "#46039f"
             ],
             [
              0.2222222222222222,
              "#7201a8"
             ],
             [
              0.3333333333333333,
              "#9c179e"
             ],
             [
              0.4444444444444444,
              "#bd3786"
             ],
             [
              0.5555555555555556,
              "#d8576b"
             ],
             [
              0.6666666666666666,
              "#ed7953"
             ],
             [
              0.7777777777777778,
              "#fb9f3a"
             ],
             [
              0.8888888888888888,
              "#fdca26"
             ],
             [
              1,
              "#f0f921"
             ]
            ],
            "type": "surface"
           }
          ],
          "table": [
           {
            "cells": {
             "fill": {
              "color": "#EBF0F8"
             },
             "line": {
              "color": "white"
             }
            },
            "header": {
             "fill": {
              "color": "#C8D4E3"
             },
             "line": {
              "color": "white"
             }
            },
            "type": "table"
           }
          ]
         },
         "layout": {
          "annotationdefaults": {
           "arrowcolor": "#2a3f5f",
           "arrowhead": 0,
           "arrowwidth": 1
          },
          "autotypenumbers": "strict",
          "coloraxis": {
           "colorbar": {
            "outlinewidth": 0,
            "ticks": ""
           }
          },
          "colorscale": {
           "diverging": [
            [
             0,
             "#8e0152"
            ],
            [
             0.1,
             "#c51b7d"
            ],
            [
             0.2,
             "#de77ae"
            ],
            [
             0.3,
             "#f1b6da"
            ],
            [
             0.4,
             "#fde0ef"
            ],
            [
             0.5,
             "#f7f7f7"
            ],
            [
             0.6,
             "#e6f5d0"
            ],
            [
             0.7,
             "#b8e186"
            ],
            [
             0.8,
             "#7fbc41"
            ],
            [
             0.9,
             "#4d9221"
            ],
            [
             1,
             "#276419"
            ]
           ],
           "sequential": [
            [
             0,
             "#0d0887"
            ],
            [
             0.1111111111111111,
             "#46039f"
            ],
            [
             0.2222222222222222,
             "#7201a8"
            ],
            [
             0.3333333333333333,
             "#9c179e"
            ],
            [
             0.4444444444444444,
             "#bd3786"
            ],
            [
             0.5555555555555556,
             "#d8576b"
            ],
            [
             0.6666666666666666,
             "#ed7953"
            ],
            [
             0.7777777777777778,
             "#fb9f3a"
            ],
            [
             0.8888888888888888,
             "#fdca26"
            ],
            [
             1,
             "#f0f921"
            ]
           ],
           "sequentialminus": [
            [
             0,
             "#0d0887"
            ],
            [
             0.1111111111111111,
             "#46039f"
            ],
            [
             0.2222222222222222,
             "#7201a8"
            ],
            [
             0.3333333333333333,
             "#9c179e"
            ],
            [
             0.4444444444444444,
             "#bd3786"
            ],
            [
             0.5555555555555556,
             "#d8576b"
            ],
            [
             0.6666666666666666,
             "#ed7953"
            ],
            [
             0.7777777777777778,
             "#fb9f3a"
            ],
            [
             0.8888888888888888,
             "#fdca26"
            ],
            [
             1,
             "#f0f921"
            ]
           ]
          },
          "colorway": [
           "#636efa",
           "#EF553B",
           "#00cc96",
           "#ab63fa",
           "#FFA15A",
           "#19d3f3",
           "#FF6692",
           "#B6E880",
           "#FF97FF",
           "#FECB52"
          ],
          "font": {
           "color": "#2a3f5f"
          },
          "geo": {
           "bgcolor": "white",
           "lakecolor": "white",
           "landcolor": "#E5ECF6",
           "showlakes": true,
           "showland": true,
           "subunitcolor": "white"
          },
          "hoverlabel": {
           "align": "left"
          },
          "hovermode": "closest",
          "mapbox": {
           "style": "light"
          },
          "paper_bgcolor": "white",
          "plot_bgcolor": "#E5ECF6",
          "polar": {
           "angularaxis": {
            "gridcolor": "white",
            "linecolor": "white",
            "ticks": ""
           },
           "bgcolor": "#E5ECF6",
           "radialaxis": {
            "gridcolor": "white",
            "linecolor": "white",
            "ticks": ""
           }
          },
          "scene": {
           "xaxis": {
            "backgroundcolor": "#E5ECF6",
            "gridcolor": "white",
            "gridwidth": 2,
            "linecolor": "white",
            "showbackground": true,
            "ticks": "",
            "zerolinecolor": "white"
           },
           "yaxis": {
            "backgroundcolor": "#E5ECF6",
            "gridcolor": "white",
            "gridwidth": 2,
            "linecolor": "white",
            "showbackground": true,
            "ticks": "",
            "zerolinecolor": "white"
           },
           "zaxis": {
            "backgroundcolor": "#E5ECF6",
            "gridcolor": "white",
            "gridwidth": 2,
            "linecolor": "white",
            "showbackground": true,
            "ticks": "",
            "zerolinecolor": "white"
           }
          },
          "shapedefaults": {
           "line": {
            "color": "#2a3f5f"
           }
          },
          "ternary": {
           "aaxis": {
            "gridcolor": "white",
            "linecolor": "white",
            "ticks": ""
           },
           "baxis": {
            "gridcolor": "white",
            "linecolor": "white",
            "ticks": ""
           },
           "bgcolor": "#E5ECF6",
           "caxis": {
            "gridcolor": "white",
            "linecolor": "white",
            "ticks": ""
           }
          },
          "title": {
           "x": 0.05
          },
          "xaxis": {
           "automargin": true,
           "gridcolor": "white",
           "linecolor": "white",
           "ticks": "",
           "title": {
            "standoff": 15
           },
           "zerolinecolor": "white",
           "zerolinewidth": 2
          },
          "yaxis": {
           "automargin": true,
           "gridcolor": "white",
           "linecolor": "white",
           "ticks": "",
           "title": {
            "standoff": 15
           },
           "zerolinecolor": "white",
           "zerolinewidth": 2
          }
         }
        },
        "xaxis": {
         "range": [
          -200,
          200
         ],
         "ticktext": [
          200,
          180,
          160,
          140,
          120,
          100,
          80,
          60,
          40,
          20,
          0,
          20,
          40,
          60,
          80,
          100,
          120,
          140,
          160,
          180,
          200
         ],
         "tickvals": [
          -200,
          -180,
          -160,
          -140,
          -120,
          -100,
          -80,
          -60,
          -40,
          -20,
          0,
          20,
          40,
          60,
          80,
          100,
          120,
          140,
          160,
          180,
          200
         ],
         "title": {
          "text": "Number"
         }
        },
        "yaxis": {
         "title": {
          "text": "Age"
         }
        }
       }
      },
      "text/html": [
       "<div>                            <div id=\"7dda3f2c-3be0-4b3d-a0df-eeda646fece6\" class=\"plotly-graph-div\" style=\"height:525px; width:100%;\"></div>            <script type=\"text/javascript\">                require([\"plotly\"], function(Plotly) {                    window.PLOTLYENV=window.PLOTLYENV || {};                                    if (document.getElementById(\"7dda3f2c-3be0-4b3d-a0df-eeda646fece6\")) {                    Plotly.newPlot(                        \"7dda3f2c-3be0-4b3d-a0df-eeda646fece6\",                        [{\"hoverinfo\":\"text\",\"marker\":{\"color\":\"sky blue\"},\"name\":\"male_patients\",\"orientation\":\"h\",\"text\":[3.0,87.0,174.0,177.0,128.0,84.0,37.0,4.0],\"x\":[3,87,174,177,128,84,37,4],\"y\":[\"11_20\",\"21_30\",\"31_40\",\"41_50\",\"51_60\",\"61_70\",\"71_80\",\"81_90\",\"91_100\"],\"type\":\"bar\"},{\"hoverinfo\":\"text\",\"marker\":{\"color\":\"orange\"},\"name\":\"female_patients\",\"orientation\":\"h\",\"text\":[4.0,74.0,152.0,157.0,117.0,88.0,40.0,8.0,1.0],\"x\":[-4,-74,-152,-157,-117,-88,-40,-8,-1],\"y\":[\"11_20\",\"21_30\",\"31_40\",\"41_50\",\"51_60\",\"61_70\",\"71_80\",\"81_90\",\"91_100\"],\"type\":\"bar\"}],                        {\"bargap\":0.1,\"barmode\":\"overlay\",\"template\":{\"data\":{\"barpolar\":[{\"marker\":{\"line\":{\"color\":\"#E5ECF6\",\"width\":0.5},\"pattern\":{\"fillmode\":\"overlay\",\"size\":10,\"solidity\":0.2}},\"type\":\"barpolar\"}],\"bar\":[{\"error_x\":{\"color\":\"#2a3f5f\"},\"error_y\":{\"color\":\"#2a3f5f\"},\"marker\":{\"line\":{\"color\":\"#E5ECF6\",\"width\":0.5},\"pattern\":{\"fillmode\":\"overlay\",\"size\":10,\"solidity\":0.2}},\"type\":\"bar\"}],\"carpet\":[{\"aaxis\":{\"endlinecolor\":\"#2a3f5f\",\"gridcolor\":\"white\",\"linecolor\":\"white\",\"minorgridcolor\":\"white\",\"startlinecolor\":\"#2a3f5f\"},\"baxis\":{\"endlinecolor\":\"#2a3f5f\",\"gridcolor\":\"white\",\"linecolor\":\"white\",\"minorgridcolor\":\"white\",\"startlinecolor\":\"#2a3f5f\"},\"type\":\"carpet\"}],\"choropleth\":[{\"colorbar\":{\"outlinewidth\":0,\"ticks\":\"\"},\"type\":\"choropleth\"}],\"contourcarpet\":[{\"colorbar\":{\"outlinewidth\":0,\"ticks\":\"\"},\"type\":\"contourcarpet\"}],\"contour\":[{\"colorbar\":{\"outlinewidth\":0,\"ticks\":\"\"},\"colorscale\":[[0.0,\"#0d0887\"],[0.1111111111111111,\"#46039f\"],[0.2222222222222222,\"#7201a8\"],[0.3333333333333333,\"#9c179e\"],[0.4444444444444444,\"#bd3786\"],[0.5555555555555556,\"#d8576b\"],[0.6666666666666666,\"#ed7953\"],[0.7777777777777778,\"#fb9f3a\"],[0.8888888888888888,\"#fdca26\"],[1.0,\"#f0f921\"]],\"type\":\"contour\"}],\"heatmapgl\":[{\"colorbar\":{\"outlinewidth\":0,\"ticks\":\"\"},\"colorscale\":[[0.0,\"#0d0887\"],[0.1111111111111111,\"#46039f\"],[0.2222222222222222,\"#7201a8\"],[0.3333333333333333,\"#9c179e\"],[0.4444444444444444,\"#bd3786\"],[0.5555555555555556,\"#d8576b\"],[0.6666666666666666,\"#ed7953\"],[0.7777777777777778,\"#fb9f3a\"],[0.8888888888888888,\"#fdca26\"],[1.0,\"#f0f921\"]],\"type\":\"heatmapgl\"}],\"heatmap\":[{\"colorbar\":{\"outlinewidth\":0,\"ticks\":\"\"},\"colorscale\":[[0.0,\"#0d0887\"],[0.1111111111111111,\"#46039f\"],[0.2222222222222222,\"#7201a8\"],[0.3333333333333333,\"#9c179e\"],[0.4444444444444444,\"#bd3786\"],[0.5555555555555556,\"#d8576b\"],[0.6666666666666666,\"#ed7953\"],[0.7777777777777778,\"#fb9f3a\"],[0.8888888888888888,\"#fdca26\"],[1.0,\"#f0f921\"]],\"type\":\"heatmap\"}],\"histogram2dcontour\":[{\"colorbar\":{\"outlinewidth\":0,\"ticks\":\"\"},\"colorscale\":[[0.0,\"#0d0887\"],[0.1111111111111111,\"#46039f\"],[0.2222222222222222,\"#7201a8\"],[0.3333333333333333,\"#9c179e\"],[0.4444444444444444,\"#bd3786\"],[0.5555555555555556,\"#d8576b\"],[0.6666666666666666,\"#ed7953\"],[0.7777777777777778,\"#fb9f3a\"],[0.8888888888888888,\"#fdca26\"],[1.0,\"#f0f921\"]],\"type\":\"histogram2dcontour\"}],\"histogram2d\":[{\"colorbar\":{\"outlinewidth\":0,\"ticks\":\"\"},\"colorscale\":[[0.0,\"#0d0887\"],[0.1111111111111111,\"#46039f\"],[0.2222222222222222,\"#7201a8\"],[0.3333333333333333,\"#9c179e\"],[0.4444444444444444,\"#bd3786\"],[0.5555555555555556,\"#d8576b\"],[0.6666666666666666,\"#ed7953\"],[0.7777777777777778,\"#fb9f3a\"],[0.8888888888888888,\"#fdca26\"],[1.0,\"#f0f921\"]],\"type\":\"histogram2d\"}],\"histogram\":[{\"marker\":{\"pattern\":{\"fillmode\":\"overlay\",\"size\":10,\"solidity\":0.2}},\"type\":\"histogram\"}],\"mesh3d\":[{\"colorbar\":{\"outlinewidth\":0,\"ticks\":\"\"},\"type\":\"mesh3d\"}],\"parcoords\":[{\"line\":{\"colorbar\":{\"outlinewidth\":0,\"ticks\":\"\"}},\"type\":\"parcoords\"}],\"pie\":[{\"automargin\":true,\"type\":\"pie\"}],\"scatter3d\":[{\"line\":{\"colorbar\":{\"outlinewidth\":0,\"ticks\":\"\"}},\"marker\":{\"colorbar\":{\"outlinewidth\":0,\"ticks\":\"\"}},\"type\":\"scatter3d\"}],\"scattercarpet\":[{\"marker\":{\"colorbar\":{\"outlinewidth\":0,\"ticks\":\"\"}},\"type\":\"scattercarpet\"}],\"scattergeo\":[{\"marker\":{\"colorbar\":{\"outlinewidth\":0,\"ticks\":\"\"}},\"type\":\"scattergeo\"}],\"scattergl\":[{\"marker\":{\"colorbar\":{\"outlinewidth\":0,\"ticks\":\"\"}},\"type\":\"scattergl\"}],\"scattermapbox\":[{\"marker\":{\"colorbar\":{\"outlinewidth\":0,\"ticks\":\"\"}},\"type\":\"scattermapbox\"}],\"scatterpolargl\":[{\"marker\":{\"colorbar\":{\"outlinewidth\":0,\"ticks\":\"\"}},\"type\":\"scatterpolargl\"}],\"scatterpolar\":[{\"marker\":{\"colorbar\":{\"outlinewidth\":0,\"ticks\":\"\"}},\"type\":\"scatterpolar\"}],\"scatter\":[{\"fillpattern\":{\"fillmode\":\"overlay\",\"size\":10,\"solidity\":0.2},\"type\":\"scatter\"}],\"scatterternary\":[{\"marker\":{\"colorbar\":{\"outlinewidth\":0,\"ticks\":\"\"}},\"type\":\"scatterternary\"}],\"surface\":[{\"colorbar\":{\"outlinewidth\":0,\"ticks\":\"\"},\"colorscale\":[[0.0,\"#0d0887\"],[0.1111111111111111,\"#46039f\"],[0.2222222222222222,\"#7201a8\"],[0.3333333333333333,\"#9c179e\"],[0.4444444444444444,\"#bd3786\"],[0.5555555555555556,\"#d8576b\"],[0.6666666666666666,\"#ed7953\"],[0.7777777777777778,\"#fb9f3a\"],[0.8888888888888888,\"#fdca26\"],[1.0,\"#f0f921\"]],\"type\":\"surface\"}],\"table\":[{\"cells\":{\"fill\":{\"color\":\"#EBF0F8\"},\"line\":{\"color\":\"white\"}},\"header\":{\"fill\":{\"color\":\"#C8D4E3\"},\"line\":{\"color\":\"white\"}},\"type\":\"table\"}]},\"layout\":{\"annotationdefaults\":{\"arrowcolor\":\"#2a3f5f\",\"arrowhead\":0,\"arrowwidth\":1},\"autotypenumbers\":\"strict\",\"coloraxis\":{\"colorbar\":{\"outlinewidth\":0,\"ticks\":\"\"}},\"colorscale\":{\"diverging\":[[0,\"#8e0152\"],[0.1,\"#c51b7d\"],[0.2,\"#de77ae\"],[0.3,\"#f1b6da\"],[0.4,\"#fde0ef\"],[0.5,\"#f7f7f7\"],[0.6,\"#e6f5d0\"],[0.7,\"#b8e186\"],[0.8,\"#7fbc41\"],[0.9,\"#4d9221\"],[1,\"#276419\"]],\"sequential\":[[0.0,\"#0d0887\"],[0.1111111111111111,\"#46039f\"],[0.2222222222222222,\"#7201a8\"],[0.3333333333333333,\"#9c179e\"],[0.4444444444444444,\"#bd3786\"],[0.5555555555555556,\"#d8576b\"],[0.6666666666666666,\"#ed7953\"],[0.7777777777777778,\"#fb9f3a\"],[0.8888888888888888,\"#fdca26\"],[1.0,\"#f0f921\"]],\"sequentialminus\":[[0.0,\"#0d0887\"],[0.1111111111111111,\"#46039f\"],[0.2222222222222222,\"#7201a8\"],[0.3333333333333333,\"#9c179e\"],[0.4444444444444444,\"#bd3786\"],[0.5555555555555556,\"#d8576b\"],[0.6666666666666666,\"#ed7953\"],[0.7777777777777778,\"#fb9f3a\"],[0.8888888888888888,\"#fdca26\"],[1.0,\"#f0f921\"]]},\"colorway\":[\"#636efa\",\"#EF553B\",\"#00cc96\",\"#ab63fa\",\"#FFA15A\",\"#19d3f3\",\"#FF6692\",\"#B6E880\",\"#FF97FF\",\"#FECB52\"],\"font\":{\"color\":\"#2a3f5f\"},\"geo\":{\"bgcolor\":\"white\",\"lakecolor\":\"white\",\"landcolor\":\"#E5ECF6\",\"showlakes\":true,\"showland\":true,\"subunitcolor\":\"white\"},\"hoverlabel\":{\"align\":\"left\"},\"hovermode\":\"closest\",\"mapbox\":{\"style\":\"light\"},\"paper_bgcolor\":\"white\",\"plot_bgcolor\":\"#E5ECF6\",\"polar\":{\"angularaxis\":{\"gridcolor\":\"white\",\"linecolor\":\"white\",\"ticks\":\"\"},\"bgcolor\":\"#E5ECF6\",\"radialaxis\":{\"gridcolor\":\"white\",\"linecolor\":\"white\",\"ticks\":\"\"}},\"scene\":{\"xaxis\":{\"backgroundcolor\":\"#E5ECF6\",\"gridcolor\":\"white\",\"gridwidth\":2,\"linecolor\":\"white\",\"showbackground\":true,\"ticks\":\"\",\"zerolinecolor\":\"white\"},\"yaxis\":{\"backgroundcolor\":\"#E5ECF6\",\"gridcolor\":\"white\",\"gridwidth\":2,\"linecolor\":\"white\",\"showbackground\":true,\"ticks\":\"\",\"zerolinecolor\":\"white\"},\"zaxis\":{\"backgroundcolor\":\"#E5ECF6\",\"gridcolor\":\"white\",\"gridwidth\":2,\"linecolor\":\"white\",\"showbackground\":true,\"ticks\":\"\",\"zerolinecolor\":\"white\"}},\"shapedefaults\":{\"line\":{\"color\":\"#2a3f5f\"}},\"ternary\":{\"aaxis\":{\"gridcolor\":\"white\",\"linecolor\":\"white\",\"ticks\":\"\"},\"baxis\":{\"gridcolor\":\"white\",\"linecolor\":\"white\",\"ticks\":\"\"},\"bgcolor\":\"#E5ECF6\",\"caxis\":{\"gridcolor\":\"white\",\"linecolor\":\"white\",\"ticks\":\"\"}},\"title\":{\"x\":0.05},\"xaxis\":{\"automargin\":true,\"gridcolor\":\"white\",\"linecolor\":\"white\",\"ticks\":\"\",\"title\":{\"standoff\":15},\"zerolinecolor\":\"white\",\"zerolinewidth\":2},\"yaxis\":{\"automargin\":true,\"gridcolor\":\"white\",\"linecolor\":\"white\",\"ticks\":\"\",\"title\":{\"standoff\":15},\"zerolinecolor\":\"white\",\"zerolinewidth\":2}}},\"xaxis\":{\"range\":[-200,200],\"ticktext\":[200,180,160,140,120,100,80,60,40,20,0,20,40,60,80,100,120,140,160,180,200],\"tickvals\":[-200,-180,-160,-140,-120,-100,-80,-60,-40,-20,0,20,40,60,80,100,120,140,160,180,200],\"title\":{\"text\":\"Number\"}},\"yaxis\":{\"title\":{\"text\":\"Age\"}}},                        {\"responsive\": true}                    ).then(function(){\n",
       "                            \n",
       "var gd = document.getElementById('7dda3f2c-3be0-4b3d-a0df-eeda646fece6');\n",
       "var x = new MutationObserver(function (mutations, observer) {{\n",
       "        var display = window.getComputedStyle(gd).display;\n",
       "        if (!display || display === 'none') {{\n",
       "            console.log([gd, 'removed!']);\n",
       "            Plotly.purge(gd);\n",
       "            observer.disconnect();\n",
       "        }}\n",
       "}});\n",
       "\n",
       "// Listen for the removal of the full notebook cells\n",
       "var notebookContainer = gd.closest('#notebook-container');\n",
       "if (notebookContainer) {{\n",
       "    x.observe(notebookContainer, {childList: true});\n",
       "}}\n",
       "\n",
       "// Listen for the clearing of the current output cell\n",
       "var outputEl = gd.closest('.output');\n",
       "if (outputEl) {{\n",
       "    x.observe(outputEl, {childList: true});\n",
       "}}\n",
       "\n",
       "                        })                };                });            </script>        </div>"
      ]
     },
     "metadata": {},
     "output_type": "display_data"
    }
   ],
   "source": [
    "# 10 year gap\n",
    "import plotly\n",
    "from plotly.offline import plot\n",
    "import plotly.graph_objs as go\n",
    "import numpy as np\n",
    "\n",
    "query_male = \"SELECT * from TUM_PAT WHERE MORPH_ICD10_O2 IN (9450, 9451) AND (INTERVAL_DIAG_TO_VS != '') AND (VITALSTATUS IN ('A', 'D')) AND (ETHNICITY IN ('A','B', 'C', 'D', 'F', 'G', 'H', 'J', 'L', 'M', 'N', 'P', 'R', 'S', 'X', 'Z')) AND (DIAGNOSISYEAR IN (2013,2014,2015,2016,2017,2018)) AND (SEX = 1) AND (BASISOFDIAGNOSIS IN (1,2,7,9)) AND (BIGTUMOURCOUNT IN (1,2,3,4))\"\n",
    "df_male = pd.read_sql(query_male,conn)\n",
    "df_male = df_male.drop_duplicates(subset=['PSEUDO_PATIENTID'])\n",
    "\n",
    "query_female = \"SELECT * from TUM_PAT WHERE MORPH_ICD10_O2 IN (9450, 9451) AND (INTERVAL_DIAG_TO_VS != '') AND (VITALSTATUS IN ('A', 'D')) AND (ETHNICITY IN ('A','B', 'C', 'D', 'F', 'G', 'H', 'J', 'L', 'M', 'N', 'P', 'R', 'S', 'X', 'Z')) AND (DIAGNOSISYEAR IN (2013,2014,2015,2016,2017,2018)) AND (SEX = 2) AND (BASISOFDIAGNOSIS IN (1,2,7,9)) AND (BIGTUMOURCOUNT IN (1,2,3,4))\"\n",
    "df_female = pd.read_sql(query_female,conn)\n",
    "df_female = df_female.drop_duplicates(subset=['PSEUDO_PATIENTID'])\n",
    "\n",
    "df_male['AGE'].astype(int)\n",
    "df_female['AGE'].astype(int)\n",
    "\n",
    "df_male.loc[(10 < df_male.AGE) & (df_male.AGE < 21), 'group'] = '11_20'\n",
    "df_male.loc[(20 < df_male.AGE) & (df_male.AGE < 31), 'group'] = '21_30'\n",
    "df_male.loc[(30 < df_male.AGE) & (df_male.AGE < 41), 'group'] = '31_40'\n",
    "df_male.loc[(40 < df_male.AGE) & (df_male.AGE < 51), 'group'] = '41_50'\n",
    "df_male.loc[(50 < df_male.AGE) & (df_male.AGE < 61), 'group'] = '51_60'\n",
    "df_male.loc[(60 < df_male.AGE) & (df_male.AGE < 71), 'group'] = '61_70'\n",
    "df_male.loc[(70 < df_male.AGE) & (df_male.AGE < 81), 'group'] = '71_80'\n",
    "df_male.loc[(80 < df_male.AGE) & (df_male.AGE < 91), 'group'] = '81_90'\n",
    "df_male.loc[(90 < df_male.AGE) & (df_male.AGE < 101), 'group'] = '91_100'\n",
    "df_male.loc[(100 < df_male.AGE) & (df_male.AGE < 111), 'group'] = '101_110'\n",
    "\n",
    "df_female.loc[(10 < df_female.AGE) & (df_female.AGE < 21), 'group'] = '11_20'\n",
    "df_female.loc[(20 < df_female.AGE) & (df_female.AGE < 31), 'group'] = '21_30'\n",
    "df_female.loc[(30 < df_female.AGE) & (df_female.AGE < 41), 'group'] = '31_40'\n",
    "df_female.loc[(40 < df_female.AGE) & (df_female.AGE < 51), 'group'] = '41_50'\n",
    "df_female.loc[(50 < df_female.AGE) & (df_female.AGE < 61), 'group'] = '51_60'\n",
    "df_female.loc[(60 < df_female.AGE) & (df_female.AGE < 71), 'group'] = '61_70'\n",
    "df_female.loc[(70 < df_female.AGE) & (df_female.AGE < 81), 'group'] = '71_80'\n",
    "df_female.loc[(80 < df_female.AGE) & (df_female.AGE < 91), 'group'] = '81_90'\n",
    "df_female.loc[(90 < df_female.AGE) & (df_female.AGE < 101), 'group'] = '91_100'\n",
    "df_female.loc[(100 < df_female.AGE) & (df_female.AGE < 111), 'group'] = '101_110'\n",
    "\n",
    "# y = list(range(10, 100, 10))\n",
    "\n",
    "y = ['11_20', '21_30', '31_40', '41_50', '51_60', '61_70', '71_80', '81_90', '91_100']\n",
    "\n",
    "layout = go.Layout(yaxis = go.layout.YAxis(title='Age'),\n",
    "                  xaxis = go.layout.XAxis(\n",
    "                      range = [-200, 200],\n",
    "                      tickvals = [-200, -180, -160, -140, -120, -100, -80, -60, -40, -20, 0,\n",
    "                                  20, 40, 60, 80, 100, 120, 140, 160, 180, 200],\n",
    "                      ticktext = [200, 180, 160, 140, 120, 100, 80, 60, 40, 20, 0, 20, 40, 60, 80, 100, 120, 140, 160, 180, 200],\n",
    "                      title = 'Number'),\n",
    "                  barmode = 'overlay',\n",
    "                  bargap = 0.1)\n",
    "\n",
    "print(df_male.groupby(['group'])['SEX'].count())   # ['SEX'] or actually any other columns, print(df.groupby(['group']).count()) and u will know\n",
    "print(df_female.groupby(['group'])['SEX'].count())\n",
    "\n",
    "data = [go.Bar(y = y,\n",
    "           x = df_male.groupby(['group'])['SEX'].count(),\n",
    "           orientation = 'h',\n",
    "           name = 'male_patients',\n",
    "           text = abs(df_male.groupby(['group'])['SEX'].count()),\n",
    "           hoverinfo = 'text', \n",
    "           marker = dict(color = 'sky blue')\n",
    "           ),\n",
    "       go.Bar(y = y,\n",
    "           x = -1*df_female.groupby(['group'])['SEX'].count(),\n",
    "           orientation = 'h',\n",
    "           name = 'female_patients',\n",
    "           text = abs(df_female.groupby(['group'])['SEX'].count()),\n",
    "           hoverinfo = 'text', \n",
    "           marker = dict(color = 'orange')\n",
    "           )]\n",
    "\n",
    "plotly.offline.iplot(dict(data = data, layout = layout))"
   ]
  },
  {
   "cell_type": "code",
   "execution_count": 1,
   "id": "e5b86eaa",
   "metadata": {},
   "outputs": [
    {
     "ename": "NameError",
     "evalue": "name 'df_male' is not defined",
     "output_type": "error",
     "traceback": [
      "\u001b[0;31m---------------------------------------------------------------------------\u001b[0m",
      "\u001b[0;31mNameError\u001b[0m                                 Traceback (most recent call last)",
      "Cell \u001b[0;32mIn[1], line 2\u001b[0m\n\u001b[1;32m      1\u001b[0m \u001b[38;5;66;03m# a trial to make double barchart\u001b[39;00m\n\u001b[0;32m----> 2\u001b[0m \u001b[43mdf_male\u001b[49m\u001b[38;5;241m.\u001b[39mloc[(\u001b[38;5;241m15\u001b[39m \u001b[38;5;241m<\u001b[39m df_male\u001b[38;5;241m.\u001b[39mAGE) \u001b[38;5;241m&\u001b[39m (df_male\u001b[38;5;241m.\u001b[39mAGE \u001b[38;5;241m<\u001b[39m \u001b[38;5;241m21\u001b[39m), \u001b[38;5;124m'\u001b[39m\u001b[38;5;124mgroup\u001b[39m\u001b[38;5;124m'\u001b[39m] \u001b[38;5;241m=\u001b[39m \u001b[38;5;124m'\u001b[39m\u001b[38;5;124m16_20\u001b[39m\u001b[38;5;124m'\u001b[39m\n\u001b[1;32m      3\u001b[0m df_male\u001b[38;5;241m.\u001b[39mloc[(\u001b[38;5;241m20\u001b[39m \u001b[38;5;241m<\u001b[39m df_male\u001b[38;5;241m.\u001b[39mAGE) \u001b[38;5;241m&\u001b[39m (df_male\u001b[38;5;241m.\u001b[39mAGE \u001b[38;5;241m<\u001b[39m \u001b[38;5;241m26\u001b[39m), \u001b[38;5;124m'\u001b[39m\u001b[38;5;124mgroup\u001b[39m\u001b[38;5;124m'\u001b[39m] \u001b[38;5;241m=\u001b[39m \u001b[38;5;124m'\u001b[39m\u001b[38;5;124m21_25\u001b[39m\u001b[38;5;124m'\u001b[39m\n\u001b[1;32m      4\u001b[0m df_male\u001b[38;5;241m.\u001b[39mloc[(\u001b[38;5;241m25\u001b[39m \u001b[38;5;241m<\u001b[39m df_male\u001b[38;5;241m.\u001b[39mAGE) \u001b[38;5;241m&\u001b[39m (df_male\u001b[38;5;241m.\u001b[39mAGE \u001b[38;5;241m<\u001b[39m \u001b[38;5;241m31\u001b[39m), \u001b[38;5;124m'\u001b[39m\u001b[38;5;124mgroup\u001b[39m\u001b[38;5;124m'\u001b[39m] \u001b[38;5;241m=\u001b[39m \u001b[38;5;124m'\u001b[39m\u001b[38;5;124m26_30\u001b[39m\u001b[38;5;124m'\u001b[39m\n",
      "\u001b[0;31mNameError\u001b[0m: name 'df_male' is not defined"
     ]
    }
   ],
   "source": [
    "# a trial to make double barchart\n",
    "df_male.loc[(15 < df_male.AGE) & (df_male.AGE < 21), 'group'] = '16_20'\n",
    "df_male.loc[(20 < df_male.AGE) & (df_male.AGE < 26), 'group'] = '21_25'\n",
    "df_male.loc[(25 < df_male.AGE) & (df_male.AGE < 31), 'group'] = '26_30'\n",
    "df_male.loc[(30 < df_male.AGE) & (df_male.AGE < 36), 'group'] = '31_35'\n",
    "df_male.loc[(35 < df_male.AGE) & (df_male.AGE < 41), 'group'] = '36_40'\n",
    "df_male.loc[(40 < df_male.AGE) & (df_male.AGE < 46), 'group'] = '41_45'\n",
    "df_male.loc[(45 < df_male.AGE) & (df_male.AGE < 51), 'group'] = '46_50'\n",
    "df_male.loc[(50 < df_male.AGE) & (df_male.AGE < 56), 'group'] = '51_55'\n",
    "df_male.loc[(55 < df_male.AGE) & (df_male.AGE < 61), 'group'] = '56_60'\n",
    "df_male.loc[(60 < df_male.AGE) & (df_male.AGE < 66), 'group'] = '61_65'\n",
    "df_male.loc[(65 < df_male.AGE) & (df_male.AGE < 71), 'group'] = '66_70'\n",
    "df_male.loc[(70 < df_male.AGE) & (df_male.AGE < 76), 'group'] = '71_75'\n",
    "df_male.loc[(75 < df_male.AGE) & (df_male.AGE < 81), 'group'] = '76_80'\n",
    "df_male.loc[(80 < df_male.AGE) & (df_male.AGE < 86), 'group'] = '81_85'\n",
    "df_male.loc[(85 < df_male.AGE) & (df_male.AGE < 91), 'group'] = '86_90'\n",
    "\n",
    "df_female.loc[(15 < df_female.AGE) & (df_female.AGE < 21), 'group'] = '16_20'\n",
    "df_female.loc[(20 < df_female.AGE) & (df_female.AGE < 26), 'group'] = '21_25'\n",
    "df_female.loc[(25 < df_female.AGE) & (df_female.AGE < 31), 'group'] = '26_30'\n",
    "df_female.loc[(30 < df_female.AGE) & (df_female.AGE < 36), 'group'] = '31_35'\n",
    "df_female.loc[(35 < df_female.AGE) & (df_female.AGE < 41), 'group'] = '36_40'\n",
    "df_female.loc[(40 < df_female.AGE) & (df_female.AGE < 46), 'group'] = '41_45'\n",
    "df_female.loc[(45 < df_female.AGE) & (df_female.AGE < 51), 'group'] = '46_50'\n",
    "df_female.loc[(50 < df_female.AGE) & (df_female.AGE < 56), 'group'] = '51_55'\n",
    "df_female.loc[(55 < df_female.AGE) & (df_female.AGE < 61), 'group'] = '56_60'\n",
    "df_female.loc[(60 < df_female.AGE) & (df_female.AGE < 66), 'group'] = '61_65'\n",
    "df_female.loc[(65 < df_female.AGE) & (df_female.AGE < 71), 'group'] = '66_70'\n",
    "df_female.loc[(70 < df_female.AGE) & (df_female.AGE < 76), 'group'] = '71_75'\n",
    "df_female.loc[(75 < df_female.AGE) & (df_female.AGE < 81), 'group'] = '76_80'\n",
    "df_female.loc[(80 < df_female.AGE) & (df_female.AGE < 86), 'group'] = '81_85'\n",
    "df_female.loc[(85 < df_female.AGE) & (df_female.AGE < 91), 'group'] = '86_90'\n",
    "df_female.loc[(95 < df_female.AGE) & (df_female.AGE < 101), 'group'] = '96_100'\n",
    "\n",
    "plt.bar(np.arange(len(df_male.groupby('group')['SEX'].count()))-0.2,df_male.groupby('group')['SEX'].count(), color='orange', label = 'male_patients')\n",
    "plt.bar(np.arange(len(df_female.groupby('group')['SEX'].count()))+0.2, df_male.groupby('group')['SEX'].count(), color='skyblue', label = 'femaile_patients')\n",
    "plt.ylim(5, 35)\n",
    "plt.title('5 years Age group')\n",
    "plt.legend()\n",
    "# due to the fact that there are different group numbers of male/female patients, "
   ]
  },
  {
   "cell_type": "code",
   "execution_count": 12,
   "id": "7ff758cd",
   "metadata": {},
   "outputs": [
    {
     "name": "stdout",
     "output_type": "stream",
     "text": [
      ">5yr         269\n",
      "1096-1460    199\n",
      "731-1095     198\n",
      "366-730      185\n",
      "1461-1825    162\n",
      "<=365          0\n",
      "Name: INTERVAL_DIAG_TO_VS, dtype: int64\n"
     ]
    }
   ],
   "source": [
    "# 5 YEAR death rate\n",
    "\n",
    "a_query = \"SELECT * from TUM_PAT WHERE MORPH_ICD10_O2 IN (9450, 9451) AND (INTERVAL_DIAG_TO_VS != '') AND (VITALSTATUS = 'A') AND (ETHNICITY IN ('A','B', 'C', 'D', 'F', 'G', 'H', 'J', 'L', 'M', 'N', 'P', 'R', 'S', 'X', 'Z')) AND (DIAGNOSISYEAR IN (2013,2014,2015,2016,2017,2018)) AND (SEX IN (1,2)) AND (BASISOFDIAGNOSIS IN (1,2,7,9)) AND (BIGTUMOURCOUNT IN (1,2,3,4))\"\n",
    "a_patients = pd.read_sql(a_query,conn)\n",
    "a_patients = a_patients.drop_duplicates()\n",
    "a_patients.replace(r'^\\s*$', np.nan, regex = True, inplace = True)\n",
    "\n",
    "s_bin = [0, 365, 730, 1095, 1460, 1825, 10000]\n",
    "s_label = ['<=365', '366-730', '731-1095', '1096-1460', '1461-1825', '>5yr']\n",
    "\n",
    "Surv = pd.cut(a_patients[\"INTERVAL_DIAG_TO_VS\"], bins = s_bin, labels = s_label)\n",
    "\n",
    "print(Surv.value_counts())\n"
   ]
  },
  {
   "cell_type": "code",
   "execution_count": 13,
   "id": "5530dcbd",
   "metadata": {},
   "outputs": [
    {
     "name": "stdout",
     "output_type": "stream",
     "text": [
      "<=365        121\n",
      "366-730       73\n",
      "731-1095      53\n",
      "1096-1460     28\n",
      "1461-1825     22\n",
      ">5yr          22\n",
      "Name: INTERVAL_DIAG_TO_VS, dtype: int64\n"
     ]
    }
   ],
   "source": [
    "# 5 YEAR death rate\n",
    "\n",
    "d_query = \"SELECT * from TUM_PAT WHERE MORPH_ICD10_O2 IN (9450, 9451) AND (INTERVAL_DIAG_TO_VS != '') AND (VITALSTATUS = 'D') AND (ETHNICITY IN ('A','B', 'C', 'D', 'F', 'G', 'H', 'J', 'L', 'M', 'N', 'P', 'R', 'S', 'X', 'Z')) AND (DIAGNOSISYEAR IN (2013,2014,2015,2016,2017,2018)) AND (SEX IN (1,2)) AND (BASISOFDIAGNOSIS IN (1,2,7,9)) AND (BIGTUMOURCOUNT IN (1,2,3,4))\"\n",
    "d_patients = pd.read_sql(d_query,conn)\n",
    "d_patients = d_patients.drop_duplicates()\n",
    "d_patients.replace(r'^\\s*$', np.nan, regex = True, inplace = True)\n",
    "s_bin = [0, 365, 730, 1095, 1460, 1825, 10000]\n",
    "s_label = ['<=365', '366-730', '731-1095', '1096-1460', '1461-1825', '>5yr']\n",
    "\n",
    "Surv = pd.cut(d_patients[\"INTERVAL_DIAG_TO_VS\"], bins = s_bin, labels = s_label)\n",
    "\n",
    "print(Surv.value_counts())\n",
    "\n",
    "# So 5 years' death rate is 22/(22+269)= 7.56%\n"
   ]
  },
  {
   "cell_type": "code",
   "execution_count": 9,
   "id": "b4ef2438",
   "metadata": {},
   "outputs": [
    {
     "name": "stdout",
     "output_type": "stream",
     "text": [
      "<=365       121\n",
      "366-730      73\n",
      ">3yr         72\n",
      "731-1095     53\n",
      "Name: INTERVAL_DIAG_TO_VS, dtype: int64\n"
     ]
    }
   ],
   "source": [
    "# 3 YEAR death rate\n",
    "\n",
    "A_query = \"SELECT * from TUM_PAT WHERE MORPH_ICD10_O2 IN (9450, 9451) AND (INTERVAL_DIAG_TO_VS != '') AND (VITALSTATUS = 'D') AND (ETHNICITY IN ('A','B', 'C', 'D', 'F', 'G', 'H', 'J', 'L', 'M', 'N', 'P', 'R', 'S', 'X', 'Z')) AND (DIAGNOSISYEAR IN (2013,2014,2015,2016,2017,2018)) AND (SEX IN (1,2)) AND (BASISOFDIAGNOSIS IN (1,2,7,9)) AND (BIGTUMOURCOUNT IN (1,2,3,4))\"\n",
    "d_patients = pd.read_sql(d_query,conn)\n",
    "d_patients = d_patients.drop_duplicates()\n",
    "d_patients.replace(r'^\\s*$', np.nan, regex = True, inplace = True)\n",
    "s_bin = [0, 365, 730, 1095, 10000]\n",
    "s_label = ['<=365', '366-730', '731-1095', '>3yr']\n",
    "\n",
    "Surv = pd.cut(d_patients[\"INTERVAL_DIAG_TO_VS\"], bins = s_bin, labels = s_label)\n",
    "\n",
    "print(Surv.value_counts())"
   ]
  },
  {
   "cell_type": "code",
   "execution_count": 10,
   "id": "09f9a353",
   "metadata": {},
   "outputs": [
    {
     "name": "stdout",
     "output_type": "stream",
     "text": [
      ">3yr        630\n",
      "731-1095    198\n",
      "366-730     185\n",
      "<=365         0\n",
      "Name: INTERVAL_DIAG_TO_VS, dtype: int64\n"
     ]
    }
   ],
   "source": [
    "# 3 YEAR death rate\n",
    "\n",
    "D_query = \"SELECT * from TUM_PAT WHERE MORPH_ICD10_O2 IN (9450, 9451) AND (INTERVAL_DIAG_TO_VS != '') AND (VITALSTATUS = 'A') AND (ETHNICITY IN ('A','B', 'C', 'D', 'F', 'G', 'H', 'J', 'L', 'M', 'N', 'P', 'R', 'S', 'X', 'Z')) AND (DIAGNOSISYEAR IN (2013,2014,2015,2016,2017,2018)) AND (SEX IN (1,2)) AND (BASISOFDIAGNOSIS IN (1,2,7,9)) AND (BIGTUMOURCOUNT IN (1,2,3,4))\"\n",
    "d_patients = pd.read_sql(d_query,conn)\n",
    "d_patients = d_patients.drop_duplicates()\n",
    "d_patients.replace(r'^\\s*$', np.nan, regex = True, inplace = True)\n",
    "s_bin = [0, 365, 730, 1095, 10000]\n",
    "s_label = ['<=365', '366-730', '731-1095', '>3yr']\n",
    "\n",
    "Surv = pd.cut(d_patients[\"INTERVAL_DIAG_TO_VS\"], bins = s_bin, labels = s_label)\n",
    "\n",
    "print(Surv.value_counts())\n",
    "\n",
    "# So 3 years' death rate is 72/(72+630)= 10.26%"
   ]
  },
  {
   "cell_type": "code",
   "execution_count": 16,
   "id": "067d49f8",
   "metadata": {},
   "outputs": [
    {
     "name": "stdout",
     "output_type": "stream",
     "text": [
      ">1yr     1013\n",
      "<=365       0\n",
      "Name: INTERVAL_DIAG_TO_VS, dtype: int64\n"
     ]
    }
   ],
   "source": [
    "# 1st YEAR death rate\n",
    "\n",
    "FA_query = \"SELECT * from TUM_PAT WHERE MORPH_ICD10_O2 IN (9450, 9451) AND (INTERVAL_DIAG_TO_VS != '') AND (VITALSTATUS = 'A') AND (ETHNICITY IN ('A','B', 'C', 'D', 'F', 'G', 'H', 'J', 'L', 'M', 'N', 'P', 'R', 'S', 'X', 'Z')) AND (DIAGNOSISYEAR IN (2013,2014,2015,2016,2017,2018)) AND (SEX IN (1,2)) AND (BASISOFDIAGNOSIS IN (1,2,7,9)) AND (BIGTUMOURCOUNT IN (1,2,3,4))\"\n",
    "FA_patients = pd.read_sql(FA_query,conn)\n",
    "FA_patients = FA_patients.drop_duplicates()\n",
    "FA_patients.replace(r'^\\s*$', np.nan, regex = True, inplace = True)\n",
    "s_bin = [0, 365, 10000]\n",
    "s_label = ['<=365', '>1yr']\n",
    "\n",
    "Surv = pd.cut(FA_patients[\"INTERVAL_DIAG_TO_VS\"], bins = s_bin, labels = s_label)\n",
    "\n",
    "print(Surv.value_counts())"
   ]
  },
  {
   "cell_type": "code",
   "execution_count": 15,
   "id": "73040ae1",
   "metadata": {},
   "outputs": [
    {
     "name": "stdout",
     "output_type": "stream",
     "text": [
      ">1yr     198\n",
      "<=365    121\n",
      "Name: INTERVAL_DIAG_TO_VS, dtype: int64\n"
     ]
    }
   ],
   "source": [
    "# 1st YEAR death rate\n",
    "\n",
    "FD_query = \"SELECT * from TUM_PAT WHERE MORPH_ICD10_O2 IN (9450, 9451) AND (INTERVAL_DIAG_TO_VS != '') AND (VITALSTATUS = 'D') AND (ETHNICITY IN ('A','B', 'C', 'D', 'F', 'G', 'H', 'J', 'L', 'M', 'N', 'P', 'R', 'S', 'X', 'Z')) AND (DIAGNOSISYEAR IN (2013,2014,2015,2016,2017,2018)) AND (SEX IN (1,2)) AND (BASISOFDIAGNOSIS IN (1,2,7,9)) AND (BIGTUMOURCOUNT IN (1,2,3,4))\"\n",
    "FD_patients = pd.read_sql(FD_query,conn)\n",
    "FD_patients = FD_patients.drop_duplicates()\n",
    "FD_patients.replace(r'^\\s*$', np.nan, regex = True, inplace = True)\n",
    "s_bin = [0, 365, 10000]\n",
    "s_label = ['<=365', '>1yr']\n",
    "\n",
    "Surv = pd.cut(FD_patients[\"INTERVAL_DIAG_TO_VS\"], bins = s_bin, labels = s_label)\n",
    "\n",
    "print(Surv.value_counts())\n",
    "\n",
    "# SO FIRST YEAR death rate = "
   ]
  },
  {
   "cell_type": "code",
   "execution_count": null,
   "id": "5d1a7484",
   "metadata": {},
   "outputs": [],
   "source": []
  }
 ],
 "metadata": {
  "kernelspec": {
   "display_name": "Python 3 (ipykernel)",
   "language": "python",
   "name": "python3"
  },
  "language_info": {
   "codemirror_mode": {
    "name": "ipython",
    "version": 3
   },
   "file_extension": ".py",
   "mimetype": "text/x-python",
   "name": "python",
   "nbconvert_exporter": "python",
   "pygments_lexer": "ipython3",
   "version": "3.10.9"
  }
 },
 "nbformat": 4,
 "nbformat_minor": 5
}
