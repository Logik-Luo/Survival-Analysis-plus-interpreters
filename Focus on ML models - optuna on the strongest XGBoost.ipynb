{
 "cells": [
  {
   "cell_type": "code",
   "execution_count": 1,
   "id": "1995fa6c",
   "metadata": {},
   "outputs": [],
   "source": [
    "#############################################   importing packages     #############################################\n",
    "import sqlite3\n",
    "import pandas as pd \n",
    "import matplotlib.pyplot as plt\n",
    "import numpy as np \n",
    "from lifelines import KaplanMeierFitter\n",
    "from lifelines.statistics import logrank_test\n",
    "import os \n",
    "from matplotlib_venn import venn3\n",
    "import pyper as pr\n",
    "import statistics\n",
    "from lifelines import CoxPHFitter\n",
    "import plotly\n",
    "from plotly.offline import plot\n",
    "import plotly.graph_objs as go\n",
    "from decimal import Decimal"
   ]
  },
  {
   "cell_type": "code",
   "execution_count": 2,
   "id": "52fdc3b7",
   "metadata": {},
   "outputs": [],
   "source": [
    "##########################################   defining functions      ##############################################\n",
    "\n",
    "# Mostly used function\n",
    "def Drop(space):\n",
    "    space['INTERVAL_DIAG_TO_VS'].replace(r'', np.nan, inplace = True)\n",
    "    space.dropna(axis = 0, subset=['INTERVAL_DIAG_TO_VS', 'VITALSTATUS'], inplace = True)\n",
    "    return(space)\n",
    "\n",
    "def Fetch_first(df):\n",
    "    df['PRIMARY_DIAGNOSIS']=df['PRIMARY_DIAGNOSIS'].astype(str)\n",
    "    df['site_ICD10']=df['PRIMARY_DIAGNOSIS'].astype(str).str[:3]\n",
    "    return df\n",
    "\n",
    "def grouping(df,column):\n",
    "    \n",
    "    grouped_df = df.groupby(column)['PSEUDO_PATIENTID'].nunique()\n",
    "    \n",
    "    return grouped_df\n",
    "\n",
    "# not usually used, since G1 G4 GX were also allowed to exist\n",
    "def replace(a):\n",
    "    if a['GRADE'] == 'GX':\n",
    "        return ('G3')\n",
    "    elif a['GRADE'] == 'G4':\n",
    "        return ('G3')\n",
    "    elif a['GRADE'] == 'G3':\n",
    "        return ('G3')\n",
    "    elif a['GRADE'] == 'G2':\n",
    "        return ('G2')\n",
    "    elif a['GRADE'] == 'G1':\n",
    "        return ('G2')\n",
    "    else:\n",
    "        return('G3')\n",
    "    \n",
    "# do not add return NA\n",
    "def conditions(s):\n",
    "    if s['VITALSTATUS'] == 'D':\n",
    "        return(1)\n",
    "    elif s['VITALSTATUS'] == 'A':\n",
    "        return(0)\n",
    "\n",
    "def SurvivalDrug(df, group):\n",
    "    g=df.loc[(df['seq'] == group) & (df['INTERVAL_DIAG_TO_VS'] != '')]\n",
    "    g['VITALSTATUS_NEW'] = g.apply(conditions, axis=1)\n",
    "    kmf = KaplanMeierFitter()\n",
    "    kmf.fit(durations = g['INTERVAL_DIAG_TO_VS'].astype(int), event_observed = g['VITALSTATUS_NEW'], label = group)\n",
    "    kmf.plot(ci_show=False)\n",
    "    plt.xlabel('days')\n",
    "    plt.ylabel('Survival Probability')\n",
    "    \n",
    "def SurvivalGrade(df, grade):\n",
    "    g = df.loc[(df['GRADE'] == grade) & (df['INTERVAL_DIAG_TO_VS'] != '')]\n",
    "    g['VITALSTATUS_new'] = g.apply(conditions, axis=1)\n",
    "    kmf.fit(durations = g['INTERVAL_DIAG_TO_VS'].astype(int), event_observed = g['VITALSTATUS_new'], label = grade)\n",
    "    kmf.plot(title='Survival curve by Grade')\n",
    "    plt.ylim(0,1)\n",
    "    plt.xlabel('days')\n",
    "    plt.ylabel(\"Survival probability\")\n",
    "    print(kmf.survival_function_at_times([365, 730, 1095,1460,1825]))\n",
    "    \n",
    "# concrete detail about survival time and censored number\n",
    "def SurvivalAGE(df, AG):\n",
    "    g = df.loc[(df['Agroup'] == AG) & (df['INTERVAL_DIAG_TO_VS'] != '')]\n",
    "    g['VITALSTATUS_new'] = g.apply(conditions, axis=1)\n",
    "    kmf = KaplanMeierFitter()\n",
    "    kmf.fit(durations = g['INTERVAL_DIAG_TO_VS'].astype(int), event_observed = g['VITALSTATUS_new'], label = AG)\n",
    "    # kmf.plot_survival_function(at_risk_counts=True)\n",
    "    kmf.plot(title='Survival curve by age')\n",
    "    plt.ylim(0,1)\n",
    "    plt.xlabel('days')\n",
    "    plt.ylabel(\"Survival probability\")\n",
    "    print(kmf.survival_function_at_times([365, 730, 1095,1460,1825]))\n",
    "   \n",
    "# JUST curious\n",
    "def SurvivalSEX(df, SEX):\n",
    "    g = df.loc[(df['Sgroup'] == SEX) & (df['INTERVAL_DIAG_TO_VS'] != '')]\n",
    "    g['VITALSTATUS_new'] = g.apply(conditions, axis=1)\n",
    "    kmf = KaplanMeierFitter()\n",
    "    kmf.fit(durations = g['INTERVAL_DIAG_TO_VS'].astype(int), event_observed = g['VITALSTATUS_new'], label = SEX)\n",
    "  \n",
    "    kmf.plot(title='Survival curve by sex', ci_show=False)\n",
    "    plt.ylim(0,1)\n",
    "    plt.xlabel('days')\n",
    "    plt.ylabel(\"Survival probability\")\n",
    "    print('Median survival', SEX, ': ', kmf.median_survival_time_)\n",
    "    \n",
    "# JUST curious\n",
    "def SurvivalINCOME(df, INCOME):\n",
    "    g = df.loc[(df['Igroup'] == INCOME) & (df['INTERVAL_DIAG_TO_VS'] != '')]\n",
    "    g['VITALSTATUS_new'] = g.apply(conditions, axis=1)\n",
    "    kmf = KaplanMeierFitter()\n",
    "    kmf.fit(durations = g['INTERVAL_DIAG_TO_VS'].astype(int), event_observed = g['VITALSTATUS_new'], label = INCOME)\n",
    "    kmf.plot(title='Survival curve by income', ci_show=False)\n",
    "    plt.ylim(0,1)\n",
    "    plt.xlabel('days')\n",
    "    plt.ylabel(\"Survival probability\")\n",
    "       \n",
    "# JUST curious\n",
    "def SurvivalSITE(df, SITE):\n",
    "    g = df.loc[(df['OPERTN_'] == SITE) & (df['INTERVAL_DIAG_TO_VS'] != '')]\n",
    "    g['VITALSTATUS_new'] = g.apply(conditions, axis=1)\n",
    "    kmf = KaplanMeierFitter()\n",
    "    kmf.fit(durations = g['INTERVAL_DIAG_TO_VS'].astype(int), event_observed = g['VITALSTATUS_new'], label = SITE)\n",
    "    # kmf.plot_survival_function(at_risk_counts=True)\n",
    "    kmf.plot(title='Survival curve by Top 5 Surgeries in oligo', ci_show=False)\n",
    "    plt.ylim(0,1)\n",
    "    plt.xlabel('days')\n",
    "    plt.ylabel(\"Survival probability\")\n",
    "    print('Median survival', SITE, ': ', kmf.median_survival_time_)\n",
    "\n",
    "        "
   ]
  },
  {
   "cell_type": "code",
   "execution_count": 3,
   "id": "7bab107a",
   "metadata": {},
   "outputs": [
    {
     "name": "stdout",
     "output_type": "stream",
     "text": [
      "/data/master/DS175/share/19_Rare tumours\n",
      "/data/master/DS175/share/0_Database\n"
     ]
    }
   ],
   "source": [
    "############################ Change the working directory to connect to the database ###############################\n",
    "print(os.getcwd())\n",
    "os.chdir('/data/master/DS175/share/0_Database')\n",
    "print(os.getcwd())\n",
    "\n",
    "# Connect to the database\n",
    "conn = sqlite3.connect('Gliocova.db')\n",
    "cur = conn.cursor()\n",
    "\n",
    "tum_pat = pd.read_sql('SELECT * FROM TUM_PAT;', conn)"
   ]
  },
  {
   "cell_type": "markdown",
   "id": "bfc65d90",
   "metadata": {},
   "source": [
    "## Seems like there is really no Code starting with D"
   ]
  },
  {
   "cell_type": "code",
   "execution_count": 4,
   "id": "07ce0b68",
   "metadata": {},
   "outputs": [
    {
     "data": {
      "text/plain": [
       "1364"
      ]
     },
     "execution_count": 4,
     "metadata": {},
     "output_type": "execute_result"
    }
   ],
   "source": [
    "df = pd.read_sql(\"SELECT * FROM TUM_PAT WHERE MORPH_ICD10_O2 IN (9450, 9451) AND (SITE_ICD10_O2 LIKE 'C70_' OR SITE_ICD10_O2 lIKE'C71_' OR SITE_ICD10_O2 LIKE 'C72_') AND (SEX IN (1,2)) AND (BASISOFDIAGNOSIS IN (1,2,7,9)) AND (SITE_ICD10_O2 LIKE 'C70_' OR SITE_ICD10_O2 lIKE'C71_' OR SITE_ICD10_O2 LIKE 'C72_');\",conn)\n",
    "df['PSEUDO_PATIENTID'].nunique()\n",
    "### 0 patients is not in Diagnosis year 2013,2014,2015,2016,2017,2018"
   ]
  },
  {
   "cell_type": "code",
   "execution_count": 5,
   "id": "248be421",
   "metadata": {},
   "outputs": [
    {
     "data": {
      "text/plain": [
       "1364"
      ]
     },
     "execution_count": 5,
     "metadata": {},
     "output_type": "execute_result"
    }
   ],
   "source": [
    "df = pd.read_sql(\"SELECT * FROM TUM_PAT WHERE MORPH_ICD10_O2 IN (9450, 9451) AND (SITE_ICD10_O2 LIKE 'C70_' OR SITE_ICD10_O2 lIKE'C71_' OR SITE_ICD10_O2 LIKE 'C72_')  AND (DIAGNOSISYEAR IN (2013,2014,2015,2016,2017,2018)) AND (SEX IN (1,2)) AND (BASISOFDIAGNOSIS IN (1,2,7,9)) AND (SITE_ICD10_O2 LIKE 'C70_' OR SITE_ICD10_O2 lIKE'C71_' OR SITE_ICD10_O2 LIKE 'C72_');\",conn)\n",
    "df['PSEUDO_PATIENTID'].nunique()\n",
    "### 9 patients had no records of Ethnicity"
   ]
  },
  {
   "cell_type": "code",
   "execution_count": 6,
   "id": "0b6c9c55",
   "metadata": {},
   "outputs": [
    {
     "data": {
      "text/plain": [
       "1355"
      ]
     },
     "execution_count": 6,
     "metadata": {},
     "output_type": "execute_result"
    }
   ],
   "source": [
    "df = pd.read_sql(\"SELECT * FROM TUM_PAT WHERE MORPH_ICD10_O2 IN (9450, 9451) AND (SITE_ICD10_O2 LIKE 'C70_' OR SITE_ICD10_O2 lIKE'C71_' OR SITE_ICD10_O2 LIKE 'C72_') AND (ETHNICITY IN ('A','B', 'C', 'D', 'F', 'G', 'H', 'J', 'L', 'M', 'N', 'P', 'R', 'S', 'X', 'Z')) AND (DIAGNOSISYEAR IN (2013,2014,2015,2016,2017,2018)) AND (SEX IN (1,2)) AND (BASISOFDIAGNOSIS IN (1,2,7,9)) AND (SITE_ICD10_O2 LIKE 'C70_' OR SITE_ICD10_O2 lIKE'C71_' OR SITE_ICD10_O2 LIKE 'C72_');\",conn)\n",
    "df['PSEUDO_PATIENTID'].nunique()\n",
    "### 5 patients had no records of VITALSTATUS"
   ]
  },
  {
   "cell_type": "code",
   "execution_count": 7,
   "id": "c5845cb7",
   "metadata": {},
   "outputs": [
    {
     "data": {
      "text/plain": [
       "1350"
      ]
     },
     "execution_count": 7,
     "metadata": {},
     "output_type": "execute_result"
    }
   ],
   "source": [
    "df = pd.read_sql(\"SELECT * FROM TUM_PAT WHERE MORPH_ICD10_O2 IN (9450, 9451) AND (SITE_ICD10_O2 LIKE 'C70_' OR SITE_ICD10_O2 lIKE'C71_' OR SITE_ICD10_O2 LIKE 'C72_') AND (VITALSTATUS IN ('A', 'D')) AND (ETHNICITY IN ('A','B', 'C', 'D', 'F', 'G', 'H', 'J', 'L', 'M', 'N', 'P', 'R', 'S', 'X', 'Z')) AND (DIAGNOSISYEAR IN (2013,2014,2015,2016,2017,2018)) AND (SEX IN (1,2)) AND (BASISOFDIAGNOSIS IN (1,2,7,9)) AND (SITE_ICD10_O2 LIKE 'C70_' OR SITE_ICD10_O2 lIKE'C71_' OR SITE_ICD10_O2 LIKE 'C72_');\",conn)\n",
    "df['PSEUDO_PATIENTID'].nunique()\n",
    "### 15 patients had no records of INTERVAL_DIAG_TO_VS"
   ]
  },
  {
   "cell_type": "code",
   "execution_count": 8,
   "id": "c49af177",
   "metadata": {},
   "outputs": [
    {
     "data": {
      "text/plain": [
       "1335"
      ]
     },
     "execution_count": 8,
     "metadata": {},
     "output_type": "execute_result"
    }
   ],
   "source": [
    "df = pd.read_sql(\"SELECT * FROM TUM_PAT WHERE MORPH_ICD10_O2 IN (9450, 9451) AND (INTERVAL_DIAG_TO_VS != '') AND (VITALSTATUS IN ('A', 'D')) AND (ETHNICITY IN ('A','B', 'C', 'D', 'F', 'G', 'H', 'J', 'L', 'M', 'N', 'P', 'R', 'S', 'X', 'Z')) AND (DIAGNOSISYEAR IN (2013,2014,2015,2016,2017,2018)) AND (SEX IN (1,2)) AND (BASISOFDIAGNOSIS IN (1,2,7,9)) AND (SITE_ICD10_O2 LIKE 'C70_' OR SITE_ICD10_O2 lIKE'C71_' OR SITE_ICD10_O2 LIKE 'C72_');\",conn)\n",
    "df['PSEUDO_PATIENTID'].nunique()\n",
    "### 3 patients' SITE ICD were from D32 "
   ]
  },
  {
   "cell_type": "code",
   "execution_count": 9,
   "id": "948a9620",
   "metadata": {},
   "outputs": [
    {
     "data": {
      "text/plain": [
       "1287"
      ]
     },
     "execution_count": 9,
     "metadata": {},
     "output_type": "execute_result"
    }
   ],
   "source": [
    "df = pd.read_sql(\"SELECT * FROM TUM_PAT WHERE MORPH_ICD10_O2 IN (9450, 9451) AND (GRADE IN ('G2','G3','GX','')) AND (SITE_ICD10_O2 LIKE 'C70_' OR SITE_ICD10_O2 lIKE'C71_' OR SITE_ICD10_O2 LIKE 'C72_') AND (INTERVAL_DIAG_TO_VS != '') AND (VITALSTATUS IN ('A', 'D')) AND (ETHNICITY IN ('A','B', 'C', 'D', 'F', 'G', 'H', 'J', 'L', 'M', 'N', 'P', 'R', 'S', 'X', 'Z')) AND (SITE_ICD10_O2 LIKE 'C70_' OR SITE_ICD10_O2 lIKE'C71_' OR SITE_ICD10_O2 LIKE 'C72_');\",conn)\n",
    "df.drop_duplicates(subset='PSEUDO_PATIENTID', inplace=True)\n",
    "df['PSEUDO_PATIENTID'].nunique()\n",
    "### 48 patients were not in (G2,G3,GX,NA)"
   ]
  },
  {
   "cell_type": "markdown",
   "id": "233f62c1",
   "metadata": {},
   "source": [
    "## check patients with mutiple morphology codes"
   ]
  },
  {
   "cell_type": "code",
   "execution_count": 10,
   "id": "efdfd262",
   "metadata": {},
   "outputs": [
    {
     "data": {
      "text/plain": [
       "MORPH_ICD10_O2\n",
       "9380      1\n",
       "9382      1\n",
       "9401      3\n",
       "9420      1\n",
       "9440      5\n",
       "9450    773\n",
       "9451    522\n",
       "9530      2\n",
       "9537      1\n",
       "Name: PSEUDO_PATIENTID, dtype: int64"
      ]
     },
     "execution_count": 10,
     "metadata": {},
     "output_type": "execute_result"
    }
   ],
   "source": [
    "tum_pat = pd.read_sql('SELECT * FROM TUM_PAT;', conn)\n",
    "multi_oligo=tum_pat[tum_pat['PSEUDO_PATIENTID'].isin(df['PSEUDO_PATIENTID'])]\n",
    "multi_oligo.groupby('MORPH_ICD10_O2')['PSEUDO_PATIENTID'].nunique()"
   ]
  },
  {
   "cell_type": "code",
   "execution_count": 11,
   "id": "fe01d68d",
   "metadata": {},
   "outputs": [
    {
     "name": "stdout",
     "output_type": "stream",
     "text": [
      "patient number with mixed tumour 14\n"
     ]
    }
   ],
   "source": [
    "EX=('9380', '9382', '9401', '9420', '9440', '9530', '9537')\n",
    "\n",
    "oligo_withOther=multi_oligo.query('MORPH_ICD10_O2 in @EX') \n",
    "print('patient number with mixed tumour', oligo_withOther['PSEUDO_PATIENTID'].nunique())"
   ]
  },
  {
   "cell_type": "code",
   "execution_count": 12,
   "id": "67759095",
   "metadata": {
    "scrolled": true
   },
   "outputs": [
    {
     "name": "stderr",
     "output_type": "stream",
     "text": [
      "/tmp/ipykernel_920047/4103953176.py:2: SettingWithCopyWarning:\n",
      "\n",
      "\n",
      "A value is trying to be set on a copy of a slice from a DataFrame\n",
      "\n",
      "See the caveats in the documentation: https://pandas.pydata.org/pandas-docs/stable/user_guide/indexing.html#returning-a-view-versus-a-copy\n",
      "\n",
      "/tmp/ipykernel_920047/4103953176.py:5: SettingWithCopyWarning:\n",
      "\n",
      "\n",
      "A value is trying to be set on a copy of a slice from a DataFrame\n",
      "\n",
      "See the caveats in the documentation: https://pandas.pydata.org/pandas-docs/stable/user_guide/indexing.html#returning-a-view-versus-a-copy\n",
      "\n",
      "/tmp/ipykernel_920047/4103953176.py:6: SettingWithCopyWarning:\n",
      "\n",
      "\n",
      "A value is trying to be set on a copy of a slice from a DataFrame\n",
      "\n",
      "See the caveats in the documentation: https://pandas.pydata.org/pandas-docs/stable/user_guide/indexing.html#returning-a-view-versus-a-copy\n",
      "\n",
      "/tmp/ipykernel_920047/4103953176.py:7: SettingWithCopyWarning:\n",
      "\n",
      "\n",
      "A value is trying to be set on a copy of a slice from a DataFrame\n",
      "\n",
      "See the caveats in the documentation: https://pandas.pydata.org/pandas-docs/stable/user_guide/indexing.html#returning-a-view-versus-a-copy\n",
      "\n",
      "/tmp/ipykernel_920047/4103953176.py:8: SettingWithCopyWarning:\n",
      "\n",
      "\n",
      "A value is trying to be set on a copy of a slice from a DataFrame\n",
      "\n",
      "See the caveats in the documentation: https://pandas.pydata.org/pandas-docs/stable/user_guide/indexing.html#returning-a-view-versus-a-copy\n",
      "\n"
     ]
    },
    {
     "data": {
      "text/plain": [
       "1271"
      ]
     },
     "execution_count": 12,
     "metadata": {},
     "output_type": "execute_result"
    }
   ],
   "source": [
    "df=multi_oligo[~multi_oligo['PSEUDO_PATIENTID'].isin(oligo_withOther['PSEUDO_PATIENTID'])]\n",
    "df.drop_duplicates(subset='PSEUDO_PATIENTID', inplace=True)\n",
    "\n",
    "# drop NA of INTERVAL\n",
    "df['INTERVAL_DIAG_TO_VS'].replace('', np.nan,inplace=True)\n",
    "df.dropna(subset='INTERVAL_DIAG_TO_VS', inplace=True)\n",
    "df['VITALSTATUS'].replace('', np.nan,inplace=True)\n",
    "df.dropna(subset='VITALSTATUS', inplace=True)\n",
    "df['PSEUDO_PATIENTID'].nunique()"
   ]
  },
  {
   "cell_type": "markdown",
   "id": "0208f65a",
   "metadata": {},
   "source": [
    "## Look into details of Site codes"
   ]
  },
  {
   "cell_type": "code",
   "execution_count": 13,
   "id": "a28b12c6",
   "metadata": {},
   "outputs": [
    {
     "name": "stderr",
     "output_type": "stream",
     "text": [
      "/tmp/ipykernel_920047/3326364496.py:3: SettingWithCopyWarning:\n",
      "\n",
      "\n",
      "A value is trying to be set on a copy of a slice from a DataFrame.\n",
      "Try using .loc[row_indexer,col_indexer] = value instead\n",
      "\n",
      "See the caveats in the documentation: https://pandas.pydata.org/pandas-docs/stable/user_guide/indexing.html#returning-a-view-versus-a-copy\n",
      "\n"
     ]
    },
    {
     "data": {
      "text/plain": [
       "SEX  SITE_ICD10_O2\n",
       "1    C710              22\n",
       "     C711             363\n",
       "     C712             104\n",
       "     C713              79\n",
       "     C714              15\n",
       "     C718              16\n",
       "     C719              65\n",
       "2    C710              24\n",
       "     C711             368\n",
       "     C712              80\n",
       "     C713              60\n",
       "     C714               7\n",
       "     C716               1\n",
       "     C718              13\n",
       "     C719              53\n",
       "     C725               1\n",
       "Name: PSEUDO_PATIENTID, dtype: int64"
      ]
     },
     "execution_count": 13,
     "metadata": {},
     "output_type": "execute_result"
    }
   ],
   "source": [
    "################################ Index from TUM_PAT to get the ICD10_O2 diagnosis code ##############################\n",
    "\n",
    "df['S'] = df['SITE_ICD10_O2'].astype(str).str[:3]\n",
    "\n",
    "C = ('C70', 'C71', 'C72')\n",
    "df_SiteC = df[df['S'].isin(C)]\n",
    "df_SiteC.groupby(['SEX', 'SITE_ICD10_O2'])['PSEUDO_PATIENTID'].nunique()"
   ]
  },
  {
   "cell_type": "code",
   "execution_count": 14,
   "id": "b708a2bc",
   "metadata": {},
   "outputs": [
    {
     "data": {
      "text/plain": [
       "1271"
      ]
     },
     "execution_count": 14,
     "metadata": {},
     "output_type": "execute_result"
    }
   ],
   "source": [
    "df_SiteC['PSEUDO_PATIENTID'].nunique()"
   ]
  },
  {
   "cell_type": "code",
   "execution_count": 15,
   "id": "a9af79d8",
   "metadata": {},
   "outputs": [
    {
     "data": {
      "text/plain": [
       "Series([], Name: PSEUDO_PATIENTID, dtype: int64)"
      ]
     },
     "execution_count": 15,
     "metadata": {},
     "output_type": "execute_result"
    }
   ],
   "source": [
    "D = ('D32', 'D33', 'D35')\n",
    "df_SiteD = df[df.S.isin(D)]\n",
    "df_SiteD.groupby(['SEX', 'SITE_ICD10_O2'])['PSEUDO_PATIENTID'].nunique()\n",
    "\n",
    "## There should not be any benign tumour for oligo"
   ]
  },
  {
   "cell_type": "markdown",
   "id": "eae9314e",
   "metadata": {},
   "source": [
    "## Reassign df_SiteC to df again, remember to run the cells in order"
   ]
  },
  {
   "cell_type": "code",
   "execution_count": 16,
   "id": "222c2bc4",
   "metadata": {},
   "outputs": [
    {
     "data": {
      "text/plain": [
       "1271"
      ]
     },
     "execution_count": 16,
     "metadata": {},
     "output_type": "execute_result"
    }
   ],
   "source": [
    "df=df_SiteC\n",
    "df['PSEUDO_PATIENTID'].nunique()"
   ]
  },
  {
   "cell_type": "markdown",
   "id": "7a0d3e8c",
   "metadata": {},
   "source": [
    "# Treatments"
   ]
  },
  {
   "cell_type": "code",
   "execution_count": 17,
   "id": "d056b422",
   "metadata": {},
   "outputs": [],
   "source": [
    "## new version of Surgeries codes, from PHE, ICHT, GC\n",
    "surgery=('A012', 'A013', 'A018', 'A019', 'A021', 'A022', 'A023', 'A024', 'A025', 'A026', 'A027', 'A028', \n",
    "         'A029', 'A073', 'A078', 'A108', 'A118', 'A168', 'A171', 'A208', 'A291', 'A293', 'A295', 'A298',\n",
    "         'A381', 'A382', 'A383', 'A384', 'A385', 'A386', 'A388', 'A389', 'A428', 'A431', 'A432', 'A438',\n",
    "         'A441', 'A442', 'A443', 'A444', 'A445', 'A448', 'A449', 'A511', 'A518', 'A571', 'A599', 'A611', \n",
    "         'B012', 'B068', 'C021', 'E158', 'T962', 'V031', 'V038', 'V039', 'V051', 'V058', 'V431', 'V433', \n",
    "         'V498', 'V499', 'Y059', 'Y068', 'Y069', 'Y461', 'Y463', 'Y464', 'Y465', 'Y467', 'Y468', 'Y469')\n",
    "\n",
    "biopsy=('A041', 'A042', 'A043', 'A044', 'A045', 'A046', 'A048', 'A049', 'A081', 'A082', 'A083', 'A084', \n",
    "         'A085', 'A086', 'A088', 'A089', 'A104', 'A105', 'A181', 'A188', 'A363', 'A422', 'A454', 'A456', \n",
    "         'A481', 'A482', 'A513', 'A578', 'A731', 'B042', 'T968', 'V036', 'V052', 'Y201', 'Y202', 'Y208', \n",
    "         'Y462', 'Y466', 'Y471', 'Y472', 'Y473', 'Y474', 'Y475', 'Y476', 'Y478', 'Y479', 'Y698')"
   ]
  },
  {
   "cell_type": "code",
   "execution_count": 18,
   "id": "5f599013",
   "metadata": {},
   "outputs": [
    {
     "name": "stdout",
     "output_type": "stream",
     "text": [
      "Number of oligo patients in hes apc table :\n",
      "1262\n"
     ]
    }
   ],
   "source": [
    "################## Only look at patients undergone surgeries and check their basis of diagnosis #########################\n",
    "HESIP=pd.read_sql(\"SELECT * FROM HESAPC WHERE PSEUDO_PATIENTID IN (SELECT PSEUDO_PATIENTID FROM TUM_PAT WHERE MORPH_ICD10_O2 IN (9450, 9451) AND (GRADE IN ('G2','G3','GX','')) AND (INTERVAL_DIAG_TO_VS != '') AND (VITALSTATUS IN ('A', 'D')) AND (ETHNICITY IN ('A','B', 'C', 'D', 'F', 'G', 'H', 'J', 'L', 'M', 'N', 'P', 'R', 'S', 'X', 'Z')) AND (SEX IN (1,2)));\",conn)\n",
    "\n",
    "# No need to run drop duplicates here, id is the new index\n",
    "# HESIP.drop_duplicates(subset='PSEUDO_PATIENTID', inplace=True)\n",
    "\n",
    "HESIP=pd.merge(HESIP,df,on='PSEUDO_PATIENTID')\n",
    "print('Number of oligo patients in hes apc table :')\n",
    "    \n",
    "print(HESIP['PSEUDO_PATIENTID'].nunique())\n",
    "HESIP['id'] = HESIP.index\n",
    "\n",
    "# reshape the dataframe to make the surgeries in one column \n",
    "HESNEW = pd.wide_to_long(HESIP,['OPERTN_','DAY_FROM_DIAG_TO_OP_'], i=\"id\",j=\"column number\")\n"
   ]
  },
  {
   "cell_type": "code",
   "execution_count": 19,
   "id": "43f40e0d",
   "metadata": {},
   "outputs": [],
   "source": [
    "# build new index in case there is duplicates in SPEUDO_PATIENTID\n",
    "# hesapc['id']=hesapc.index\n",
    "# hes_all=pd.wide_to_long(hesapc, ['OPERTN_', 'DAY_FROM_DIAG_TO_OP'], i=\"id\", j = \"column number\")\n",
    "# hes_all.head()\n"
   ]
  },
  {
   "cell_type": "code",
   "execution_count": 20,
   "id": "045dc1e2",
   "metadata": {},
   "outputs": [],
   "source": [
    "### choose the columns we might need \n",
    "# hes_all=hes_all[['PSEUDO_PATIENTID', 'OPERTN_', 'DAY_FROM_DIAG_TO_OP', 'INTERVAL_ADMISION_DISCHARGE']]"
   ]
  },
  {
   "cell_type": "markdown",
   "id": "8d8ef34a",
   "metadata": {},
   "source": [
    "## Surgery of oligo patients"
   ]
  },
  {
   "cell_type": "code",
   "execution_count": 21,
   "id": "9f67c4b1",
   "metadata": {},
   "outputs": [
    {
     "name": "stdout",
     "output_type": "stream",
     "text": [
      "biopsy oligo: 644\n",
      "Surgery oligo: 1015\n"
     ]
    }
   ],
   "source": [
    "## hes carry the columns that we might need\n",
    "hes=HESNEW[['PSEUDO_PATIENTID', 'OPERTN_', 'DAY_FROM_DIAG_TO_OP_', 'INTERVAL_ADMISION_DISCHARGE']]\n",
    "\n",
    "## surgery and biopsy codes came from PHE, ICHT and GC  \n",
    "oligo_biopsy = hes.query('OPERTN_ in @biopsy')\n",
    "oligo_surgery = hes.query('OPERTN_ in @surgery')\n",
    "print('biopsy oligo:', oligo_biopsy['PSEUDO_PATIENTID'].nunique())\n",
    "print('Surgery oligo:', oligo_surgery['PSEUDO_PATIENTID'].nunique())\n",
    "\n",
    "# use concat to get patient number who had undergone surgery or biopsy\n",
    "surgery_or_bio=pd.concat([oligo_surgery, oligo_biopsy])\n",
    "\n",
    "# use merge to get patient number who had undergone surgery and biopsy\n",
    "surgery_and_bio=pd.merge(oligo_surgery, oligo_biopsy, on='PSEUDO_PATIENTID')\n",
    "\n",
    "# merge with df to ensure Site Code in C71 C72 again\n",
    "df_biopsy=pd.merge(oligo_biopsy, df, on='PSEUDO_PATIENTID')\n",
    "df_surgery=pd.merge(oligo_surgery, df, on='PSEUDO_PATIENTID')\n",
    "\n",
    "surgery_or_bio=pd.merge(surgery_or_bio, df, on='PSEUDO_PATIENTID')\n",
    "surgery_and_bio=pd.merge(surgery_and_bio, df, on='PSEUDO_PATIENTID')\n"
   ]
  },
  {
   "cell_type": "code",
   "execution_count": 22,
   "id": "ff03c968",
   "metadata": {},
   "outputs": [
    {
     "name": "stdout",
     "output_type": "stream",
     "text": [
      "oligo patients underwent biopsies: 644\n",
      "biopsy participant ratio: 0.5103011093502378\n"
     ]
    }
   ],
   "source": [
    "print('oligo patients underwent biopsies:',df_biopsy['PSEUDO_PATIENTID'].nunique())\n",
    "print('biopsy participant ratio:', 644/1262)"
   ]
  },
  {
   "cell_type": "code",
   "execution_count": 23,
   "id": "20c238db",
   "metadata": {},
   "outputs": [
    {
     "name": "stdout",
     "output_type": "stream",
     "text": [
      "oligo patients underwent resections 1015\n",
      "resection participant ratio: 0.8042789223454834\n"
     ]
    }
   ],
   "source": [
    "print('oligo patients underwent resections',df_surgery['PSEUDO_PATIENTID'].nunique())\n",
    "print('resection participant ratio:', 1015/1262)"
   ]
  },
  {
   "cell_type": "markdown",
   "id": "9a9aa9fa",
   "metadata": {},
   "source": [
    "### Number of patients who underwent a surgery or biopsy "
   ]
  },
  {
   "cell_type": "code",
   "execution_count": 24,
   "id": "de66eca6",
   "metadata": {},
   "outputs": [
    {
     "name": "stdout",
     "output_type": "stream",
     "text": [
      "oligo patients underwent a surgery 1192\n",
      "surgery participant ratio 0.9445324881141046\n"
     ]
    }
   ],
   "source": [
    "print('oligo patients underwent a surgery',surgery_or_bio['PSEUDO_PATIENTID'].nunique())\n",
    "print('surgery participant ratio', 1192/1262)"
   ]
  },
  {
   "cell_type": "code",
   "execution_count": 25,
   "id": "7ab4c327",
   "metadata": {},
   "outputs": [
    {
     "name": "stdout",
     "output_type": "stream",
     "text": [
      "oligo patients underwent both resections and biopsies 467\n",
      "Both participant ratio 0.37004754358161646\n"
     ]
    }
   ],
   "source": [
    "print('oligo patients underwent both resections and biopsies',surgery_and_bio['PSEUDO_PATIENTID'].nunique())\n",
    "print('Both participant ratio',467/1262)"
   ]
  },
  {
   "cell_type": "markdown",
   "id": "c9ee9e91",
   "metadata": {},
   "source": [
    "## Check waiting time for resection/biopsy"
   ]
  },
  {
   "cell_type": "code",
   "execution_count": 26,
   "id": "cd393eb5",
   "metadata": {
    "scrolled": true
   },
   "outputs": [
    {
     "data": {
      "text/plain": [
       "(0.0, 900.0)"
      ]
     },
     "execution_count": 26,
     "metadata": {},
     "output_type": "execute_result"
    },
    {
     "data": {
      "image/png": "[encoded data removed]",
      "text/plain": [
       "<Figure size 640x480 with 1 Axes>"
      ]
     },
     "metadata": {},
     "output_type": "display_data"
    }
   ],
   "source": [
    "bin = [-31,-1, 0, 30, 60, 90, 180, 365, 730, 1095, 100000]\n",
    "df_surgery.drop_duplicates(subset=['PSEUDO_PATIENTID'], inplace=True)\n",
    "df_surgery['DAY_FROM_DIAG_TO_OP_'].replace(r'', np.nan, inplace = True)\n",
    "df_surgery.dropna(axis=0, subset=['DAY_FROM_DIAG_TO_OP_'], inplace=True)\n",
    "\n",
    "df_surgery['SafterD'] = pd.cut(df_surgery['DAY_FROM_DIAG_TO_OP_'].astype(float).astype(int), bins = bin, labels=('<-30days','-29_0days','1_30days', '31_60days', '61_90days', '91_180days', '181_365days', '1_2years', '2_3years', '>3years'))\n",
    "df_surgery.groupby('SafterD')['PSEUDO_PATIENTID'].nunique()\n",
    "\n",
    "BAR=plt.bar(np.arange(len(df_surgery.groupby('SafterD')['PSEUDO_PATIENTID'].nunique())), df_surgery.groupby('SafterD')['PSEUDO_PATIENTID'].nunique())\n",
    "plt.xticks([0, 1, 2, 3, 4, 5, 6, 7, 8, 9],rotation=30,labels=['-30_-1days','same day','1_30days', '31_60 days', '61_90 days', '91_180 days', '181_365 days', '1_2 years', '2_3 years', '>3 years'])\n",
    "plt.bar_label(BAR)\n",
    "plt.xlabel('Resection Waiting time')\n",
    "plt.ylabel('Patient Number')\n",
    "plt.title('Interval: diagnosis to resection start date (N=1015)')\n",
    "plt.ylim(0,900)"
   ]
  },
  {
   "cell_type": "code",
   "execution_count": 27,
   "id": "72d85d9c",
   "metadata": {},
   "outputs": [
    {
     "data": {
      "text/plain": [
       "673"
      ]
     },
     "execution_count": 27,
     "metadata": {},
     "output_type": "execute_result"
    }
   ],
   "source": [
    "sd_sameday=df_surgery[df_surgery['DAY_FROM_DIAG_TO_OP_']==0]\n",
    "sd_sameday['PSEUDO_PATIENTID'].nunique()"
   ]
  },
  {
   "cell_type": "code",
   "execution_count": 28,
   "id": "3ff11f0d",
   "metadata": {
    "scrolled": true
   },
   "outputs": [
    {
     "data": {
      "text/plain": [
       "(0.0, 600.0)"
      ]
     },
     "execution_count": 28,
     "metadata": {},
     "output_type": "execute_result"
    },
    {
     "data": {
      "image/png": "[encoded data removed]",
      "text/plain": [
       "<Figure size 640x480 with 1 Axes>"
      ]
     },
     "metadata": {},
     "output_type": "display_data"
    }
   ],
   "source": [
    "bin = [-31,-1, 0, 30, 60, 90, 180, 365, 730, 1095, 100000]\n",
    "df_biopsy.drop_duplicates(subset=['PSEUDO_PATIENTID'], inplace=True)\n",
    "df_biopsy['DAY_FROM_DIAG_TO_OP_'].replace(r'', np.nan, inplace = True)\n",
    "df_biopsy.dropna(axis=0, subset=['DAY_FROM_DIAG_TO_OP_'], inplace=True)\n",
    "\n",
    "df_biopsy['SafterD'] = pd.cut(df_biopsy['DAY_FROM_DIAG_TO_OP_'].astype(float).astype(int), bins = bin, labels=('_-30days','-29_0days','1_30days', '31_60days', '61_90days', '91_180days', '181_365days', '1_2years', '2_3years', '>3years'))\n",
    "df_biopsy.groupby('SafterD')['PSEUDO_PATIENTID'].nunique()\n",
    "\n",
    "BAR=plt.bar(np.arange(len(df_biopsy.groupby('SafterD')['PSEUDO_PATIENTID'].nunique())), df_biopsy.groupby('SafterD')['PSEUDO_PATIENTID'].nunique())\n",
    "plt.xticks([0, 1, 2, 3, 4, 5, 6, 7, 8, 9],rotation=30,labels=['-30_-1days','same day','1_30days', '31_60days', '61_90days', '91_180days', '181_365days', '1_2years', '2_3years', '>3years'])\n",
    "plt.bar_label(BAR)\n",
    "plt.xlabel('Biopsy Waiting time')\n",
    "plt.ylabel('Patient Number')\n",
    "plt.title('Interval: diagnosis to biopsy start date (N=644)')\n",
    "plt.ylim(0,600)"
   ]
  },
  {
   "cell_type": "code",
   "execution_count": 29,
   "id": "52d95884",
   "metadata": {
    "scrolled": true
   },
   "outputs": [
    {
     "data": {
      "text/plain": [
       "(0.0, 900.0)"
      ]
     },
     "execution_count": 29,
     "metadata": {},
     "output_type": "execute_result"
    },
    {
     "data": {
      "image/png": "[encoded data removed]",
      "text/plain": [
       "<Figure size 640x480 with 1 Axes>"
      ]
     },
     "metadata": {},
     "output_type": "display_data"
    }
   ],
   "source": [
    "bin = [-31, 0, 30, 60, 90, 180, 365, 730, 1095, 100000]\n",
    "surgery_or_bio.drop_duplicates(subset=['PSEUDO_PATIENTID'], inplace=True)\n",
    "surgery_or_bio['DAY_FROM_DIAG_TO_OP_'].replace(r'', np.nan, inplace = True)\n",
    "surgery_or_bio.dropna(axis=0, subset=['DAY_FROM_DIAG_TO_OP_'], inplace=True)\n",
    "\n",
    "surgery_or_bio['SafterD'] = pd.cut(surgery_or_bio['DAY_FROM_DIAG_TO_OP_'].astype(float).astype(int), bins = bin, labels=('-29_0days','1_30days', '31_60days', '61_90days', '91_180days', '181_365days', '1_2years', '2_3years', '>3years'))\n",
    "surgery_or_bio.groupby('SafterD')['PSEUDO_PATIENTID'].nunique()\n",
    "\n",
    "BAR=plt.bar(np.arange(len(surgery_or_bio.groupby('SafterD')['PSEUDO_PATIENTID'].nunique())), surgery_or_bio.groupby('SafterD')['PSEUDO_PATIENTID'].nunique())\n",
    "plt.xticks([0, 1, 2, 3, 4, 5, 6, 7, 8],rotation=30,labels=['<=0days','1_30days', '31_60 days', '61_90 days', '91_180 days', '181_365 days', '1_2 years', '2_3 years', '>3 years'])\n",
    "plt.bar_label(BAR)\n",
    "plt.xlabel('Surgery Waiting time')\n",
    "plt.ylabel('Patient Number')\n",
    "plt.title('Interval: diagnosis to surgery start date (N=1192)')\n",
    "plt.ylim(0,900)"
   ]
  },
  {
   "cell_type": "markdown",
   "id": "4ee0b4c4",
   "metadata": {},
   "source": [
    "## RTDS"
   ]
  },
  {
   "cell_type": "code",
   "execution_count": 30,
   "id": "730c9d6b",
   "metadata": {},
   "outputs": [
    {
     "name": "stdout",
     "output_type": "stream",
     "text": [
      "Total number of patients with oligodendro in RTDS table: 823\n"
     ]
    }
   ],
   "source": [
    "##################### FOCUS ON fraction and does in RTDS table ####################################\n",
    "radio_oligo = pd.read_sql(\"SELECT * FROM RTDS WHERE PSEUDO_PATIENTID IN (SELECT PSEUDO_PATIENTID FROM TUM_PAT WHERE MORPH_ICD10_O2 IN (9450, 9451) AND (GRADE IN ('G2', 'G3', 'GX','')) AND (INTERVAL_DIAG_TO_VS != '') AND (VITALSTATUS IN ('A', 'D')) AND (ETHNICITY IN ('A','B', 'C', 'D', 'F', 'G', 'H', 'J', 'L', 'M', 'N', 'P', 'R', 'S', 'X', 'Z')) AND (DIAGNOSISYEAR IN (2013,2014,2015,2016,2017,2018)) AND (SEX IN (1,2)) AND (BASISOFDIAGNOSIS IN (1,2,7,9)) );\",conn)\n",
    "print('Total number of patients with oligodendro in RTDS table:', radio_oligo['PSEUDO_PATIENTID'].nunique())\n",
    "radio_oligo.drop_duplicates(subset=['PSEUDO_PATIENTID'], inplace=True)\n"
   ]
  },
  {
   "cell_type": "markdown",
   "id": "a4a15584",
   "metadata": {},
   "source": [
    "### oligo could grow on C70 and C72, but we dont have record of C70"
   ]
  },
  {
   "cell_type": "code",
   "execution_count": 31,
   "id": "635b0144",
   "metadata": {},
   "outputs": [
    {
     "name": "stdout",
     "output_type": "stream",
     "text": [
      "Number of patients that had an ICD 10 code of C71 or C72: 791\n",
      "Number of patients without a brain tumour diagnosis in RTDS: 32\n"
     ]
    }
   ],
   "source": [
    "######################## Fetch the first 3 characters to get Primary diagnosis start with C71 C72 ###############\n",
    "\n",
    "radio_oligo['PRIMARYDIAGNOSISICD']=radio_oligo['PRIMARYDIAGNOSISICD'].astype(str)\n",
    "radio_oligo['ICD10']=radio_oligo['PRIMARYDIAGNOSISICD'].astype(str).str[:3]\n",
    "\n",
    "# Creating a dataframe that locks from the original dataframe the patient id and the new ICD10 column\n",
    "radio_P=radio_oligo[['PSEUDO_PATIENTID','ICD10', 'RTTREATMENTREGION', 'RTPRESCRIBEDDOSE','ACTUALFRACTIONS', 'RTACTUALDOSE','INTERVAL_DIAG_TO_TREAT_START']]\n",
    "\n",
    "rtds2=pd.read_sql(\"SELECT * FROM RTDS WHERE PSEUDO_PATIENTID IN (SELECT PSEUDO_PATIENTID FROM TUM_PAT WHERE MORPH_ICD10_O2 IN (9450, 9451) AND (GRADE IN ('G2', 'G3', 'GX', '')) AND (INTERVAL_DIAG_TO_VS != '') AND (VITALSTATUS IN ('A', 'D')) AND (ETHNICITY IN ('A','B', 'C', 'D', 'F', 'G', 'H', 'J', 'L', 'M', 'N', 'P', 'R', 'S', 'X', 'Z')) AND (DIAGNOSISYEAR IN (2013,2014,2015,2016,2017,2018)) AND (SEX IN (1,2)) AND (BASISOFDIAGNOSIS IN (1,2,7,9)) );\",conn)\n",
    "rtds2['PRIMARYDIAGNOSISICD']=rtds2['PRIMARYDIAGNOSISICD'].astype(str)\n",
    "rtds2['ICD10']=rtds2['PRIMARYDIAGNOSISICD'].astype(str).str[:3]\n",
    "\n",
    "# Creating three dataframes capturing the patients with different ICD10 codes for brain tumours in each \n",
    "rtdsnew=radio_P.loc[(radio_P['ICD10'] == 'C71')]\n",
    "rtds2new=rtds2.loc[(rtds2['ICD10'] == 'C72' )]\n",
    "\n",
    "# combining the three dataframes \n",
    "rtds=pd.concat([rtdsnew, rtds2new])\n",
    "print('Number of patients that had an ICD 10 code of C71 or C72:', rtds['PSEUDO_PATIENTID'].nunique())\n",
    "\n",
    "print('Number of patients without a brain tumour diagnosis in RTDS:', radio_oligo['PSEUDO_PATIENTID'].nunique() - rtds['PSEUDO_PATIENTID'].nunique())\n"
   ]
  },
  {
   "cell_type": "code",
   "execution_count": 32,
   "id": "83178f4e",
   "metadata": {},
   "outputs": [
    {
     "name": "stdout",
     "output_type": "stream",
     "text": [
      "Total number of oligo patients with a brain tumour diagnosis in RTDS: 791\n",
      "P     760\n",
      "PR      1\n",
      "Name: RTTREATMENTREGION, dtype: int64\n",
      "Number of patients with a brain tumour diagnosis in RTDS receiving treatment to their primary site: 760\n"
     ]
    }
   ],
   "source": [
    "# Substracting patients that were not treated for their primary diagnosis\n",
    "region=rtds[['PSEUDO_PATIENTID','RTTREATMENTREGION', 'INTERVAL_DIAG_TO_TREAT_START', 'ACTUALFRACTIONS', 'RTACTUALDOSE', 'RTPRESCRIBEDDOSE']]\n",
    "region=region.drop_duplicates()\n",
    "a=(region['PSEUDO_PATIENTID'].nunique())\n",
    "print('Total number of oligo patients with a brain tumour diagnosis in RTDS:', a)\n",
    "\n",
    "# Creating a list with the values of the variable (region of treatment) that we want to get numbers for\n",
    "primary=('P', 'R', 'PR')\n",
    "# Creating a dataframe that retains only the rows with the values we selected before in the list\n",
    "prim=region[region.RTTREATMENTREGION.isin(primary)]\n",
    "# Printing the  number of patients assigned those selected treatments\n",
    "print(prim['RTTREATMENTREGION'].value_counts())\n",
    "print('Number of patients with a brain tumour diagnosis in RTDS receiving treatment to their primary site:', prim['PSEUDO_PATIENTID'].nunique())"
   ]
  },
  {
   "cell_type": "code",
   "execution_count": 33,
   "id": "1874277b",
   "metadata": {},
   "outputs": [
    {
     "name": "stderr",
     "output_type": "stream",
     "text": [
      "/tmp/ipykernel_920047/3793976419.py:3: SettingWithCopyWarning:\n",
      "\n",
      "\n",
      "A value is trying to be set on a copy of a slice from a DataFrame\n",
      "\n",
      "See the caveats in the documentation: https://pandas.pydata.org/pandas-docs/stable/user_guide/indexing.html#returning-a-view-versus-a-copy\n",
      "\n"
     ]
    },
    {
     "data": {
      "text/plain": [
       "760"
      ]
     },
     "execution_count": 33,
     "metadata": {},
     "output_type": "execute_result"
    }
   ],
   "source": [
    "# reassignment: from RTDS patients who had ICD10 code of C70 C71 and C72, and received treatment to their primary sites\n",
    "r_oligo=prim\n",
    "r_oligo.drop_duplicates(subset='PSEUDO_PATIENTID', inplace=True)\n",
    "r_oligo['PSEUDO_PATIENTID'].nunique()"
   ]
  },
  {
   "cell_type": "markdown",
   "id": "3e0a5b6c",
   "metadata": {},
   "source": [
    "## Combine cleaned rtds data with data in TUM_PAT"
   ]
  },
  {
   "cell_type": "code",
   "execution_count": 34,
   "id": "0dd5af90",
   "metadata": {},
   "outputs": [],
   "source": [
    "r_oligo=pd.merge(r_oligo, df, on='PSEUDO_PATIENTID')"
   ]
  },
  {
   "cell_type": "code",
   "execution_count": 35,
   "id": "197b4af7",
   "metadata": {},
   "outputs": [
    {
     "data": {
      "text/plain": [
       "749"
      ]
     },
     "execution_count": 35,
     "metadata": {},
     "output_type": "execute_result"
    }
   ],
   "source": [
    "r_oligo['PSEUDO_PATIENTID'].nunique()"
   ]
  },
  {
   "cell_type": "code",
   "execution_count": 36,
   "id": "3ace6f48",
   "metadata": {},
   "outputs": [
    {
     "name": "stdout",
     "output_type": "stream",
     "text": [
      "748\n"
     ]
    }
   ],
   "source": [
    "r_oligo['RTPRESCRIBEDDOSE'].replace(r'',np.nan,inplace=True)\n",
    "r_oligo.dropna(subset='RTPRESCRIBEDDOSE', inplace=True)\n",
    "print(r_oligo['PSEUDO_PATIENTID'].nunique())"
   ]
  },
  {
   "cell_type": "code",
   "execution_count": 37,
   "id": "56441ed2",
   "metadata": {},
   "outputs": [
    {
     "name": "stdout",
     "output_type": "stream",
     "text": [
      "475\n"
     ]
    }
   ],
   "source": [
    "r_oligo['RTACTUALDOSE'].replace(r'',np.nan,inplace=True)\n",
    "r_oligo.dropna(subset='RTACTUALDOSE', inplace=True)\n",
    "print(r_oligo['PSEUDO_PATIENTID'].nunique())"
   ]
  },
  {
   "cell_type": "code",
   "execution_count": 38,
   "id": "bacb43cd",
   "metadata": {},
   "outputs": [
    {
     "name": "stdout",
     "output_type": "stream",
     "text": [
      "475\n"
     ]
    }
   ],
   "source": [
    "r_oligo['ACTUALFRACTIONS'].replace(r'',np.nan,inplace=True)\n",
    "r_oligo.dropna(subset='ACTUALFRACTIONS', inplace=True)\n",
    "print(r_oligo['PSEUDO_PATIENTID'].nunique())"
   ]
  },
  {
   "cell_type": "code",
   "execution_count": 39,
   "id": "502e0130",
   "metadata": {},
   "outputs": [
    {
     "data": {
      "text/plain": [
       "SEX\n",
       "1    250\n",
       "2    225\n",
       "Name: PSEUDO_PATIENTID, dtype: int64"
      ]
     },
     "execution_count": 39,
     "metadata": {},
     "output_type": "execute_result"
    }
   ],
   "source": [
    "r_oligo.groupby('SEX')['PSEUDO_PATIENTID'].nunique()"
   ]
  },
  {
   "cell_type": "markdown",
   "id": "ae93a588",
   "metadata": {},
   "source": [
    "## RT Doses oligo patients received"
   ]
  },
  {
   "cell_type": "code",
   "execution_count": 40,
   "id": "b7150a9b",
   "metadata": {},
   "outputs": [
    {
     "data": {
      "text/html": [
       "<div>\n",
       "<style scoped>\n",
       "    .dataframe tbody tr th:only-of-type {\n",
       "        vertical-align: middle;\n",
       "    }\n",
       "\n",
       "    .dataframe tbody tr th {\n",
       "        vertical-align: top;\n",
       "    }\n",
       "\n",
       "    .dataframe thead th {\n",
       "        text-align: right;\n",
       "    }\n",
       "</style>\n",
       "<table border=\"1\" class=\"dataframe\">\n",
       "  <thead>\n",
       "    <tr style=\"text-align: right;\">\n",
       "      <th></th>\n",
       "      <th>ACTUALFRACTIONS</th>\n",
       "    </tr>\n",
       "  </thead>\n",
       "  <tbody>\n",
       "    <tr>\n",
       "      <th>(0, 10]</th>\n",
       "      <td>23</td>\n",
       "    </tr>\n",
       "    <tr>\n",
       "      <th>(10, 20]</th>\n",
       "      <td>20</td>\n",
       "    </tr>\n",
       "    <tr>\n",
       "      <th>(20, 30]</th>\n",
       "      <td>321</td>\n",
       "    </tr>\n",
       "    <tr>\n",
       "      <th>(30, 40]</th>\n",
       "      <td>106</td>\n",
       "    </tr>\n",
       "    <tr>\n",
       "      <th>(40, 50]</th>\n",
       "      <td>5</td>\n",
       "    </tr>\n",
       "    <tr>\n",
       "      <th>(50, 60]</th>\n",
       "      <td>0</td>\n",
       "    </tr>\n",
       "  </tbody>\n",
       "</table>\n",
       "</div>"
      ],
      "text/plain": [
       "          ACTUALFRACTIONS\n",
       "(0, 10]                23\n",
       "(10, 20]               20\n",
       "(20, 30]              321\n",
       "(30, 40]              106\n",
       "(40, 50]                5\n",
       "(50, 60]                0"
      ]
     },
     "execution_count": 40,
     "metadata": {},
     "output_type": "execute_result"
    }
   ],
   "source": [
    "# ACtual Fractions\n",
    "bin = [0, 10, 20, 30, 40, 50, 60]\n",
    "r_oligo.drop_duplicates(subset=['PSEUDO_PATIENTID'], inplace=True)\n",
    "r_oligo['ACTUALFRACTIONS'].replace(r'', np.nan, inplace = True)\n",
    "r_oligo.dropna(axis=0, subset=['ACTUALFRACTIONS'], inplace=True)\n",
    "\n",
    "DOSE = pd.cut(r_oligo['ACTUALFRACTIONS'].astype(float).astype(int), bins = bin)\n",
    "DOSE.value_counts(sort=False).to_frame()"
   ]
  },
  {
   "cell_type": "code",
   "execution_count": 41,
   "id": "c4160f2d",
   "metadata": {},
   "outputs": [
    {
     "data": {
      "text/plain": [
       "count    475.000000\n",
       "mean      27.273003\n",
       "std       16.000902\n",
       "min        1.800000\n",
       "25%       14.400000\n",
       "50%       26.000000\n",
       "75%       36.000000\n",
       "max       60.156342\n",
       "Name: RTACTUALDOSE, dtype: float64"
      ]
     },
     "execution_count": 41,
     "metadata": {},
     "output_type": "execute_result"
    }
   ],
   "source": [
    "r_oligo['RTACTUALDOSE'].describe()"
   ]
  },
  {
   "cell_type": "markdown",
   "id": "f41790f9",
   "metadata": {},
   "source": [
    "## RT fractions oligo patients  received"
   ]
  },
  {
   "cell_type": "code",
   "execution_count": 42,
   "id": "1a5425d4",
   "metadata": {},
   "outputs": [
    {
     "data": {
      "text/plain": [
       "count     475\n",
       "unique     35\n",
       "top        30\n",
       "freq      263\n",
       "Name: ACTUALFRACTIONS, dtype: int64"
      ]
     },
     "execution_count": 42,
     "metadata": {},
     "output_type": "execute_result"
    }
   ],
   "source": [
    "# Fractions describe\n",
    "r_oligo['ACTUALFRACTIONS'].describe()"
   ]
  },
  {
   "cell_type": "code",
   "execution_count": 43,
   "id": "fe92f84d",
   "metadata": {},
   "outputs": [
    {
     "data": {
      "text/plain": [
       "30"
      ]
     },
     "execution_count": 43,
     "metadata": {},
     "output_type": "execute_result"
    }
   ],
   "source": [
    "# Fractions median\n",
    "statistics.median(r_oligo['ACTUALFRACTIONS'])"
   ]
  },
  {
   "cell_type": "markdown",
   "id": "c62a9d10",
   "metadata": {},
   "source": [
    "## DOSEby grades"
   ]
  },
  {
   "cell_type": "code",
   "execution_count": 44,
   "id": "3e5996f3",
   "metadata": {
    "scrolled": true
   },
   "outputs": [
    {
     "name": "stderr",
     "output_type": "stream",
     "text": [
      "/tmp/ipykernel_920047/3536779182.py:4: SettingWithCopyWarning:\n",
      "\n",
      "\n",
      "A value is trying to be set on a copy of a slice from a DataFrame.\n",
      "Try using .loc[row_indexer,col_indexer] = value instead\n",
      "\n",
      "See the caveats in the documentation: https://pandas.pydata.org/pandas-docs/stable/user_guide/indexing.html#returning-a-view-versus-a-copy\n",
      "\n",
      "/tmp/ipykernel_920047/3536779182.py:9: SettingWithCopyWarning:\n",
      "\n",
      "\n",
      "A value is trying to be set on a copy of a slice from a DataFrame.\n",
      "Try using .loc[row_indexer,col_indexer] = value instead\n",
      "\n",
      "See the caveats in the documentation: https://pandas.pydata.org/pandas-docs/stable/user_guide/indexing.html#returning-a-view-versus-a-copy\n",
      "\n",
      "/tmp/ipykernel_920047/3536779182.py:15: SettingWithCopyWarning:\n",
      "\n",
      "\n",
      "A value is trying to be set on a copy of a slice from a DataFrame\n",
      "\n",
      "See the caveats in the documentation: https://pandas.pydata.org/pandas-docs/stable/user_guide/indexing.html#returning-a-view-versus-a-copy\n",
      "\n",
      "/tmp/ipykernel_920047/3536779182.py:16: SettingWithCopyWarning:\n",
      "\n",
      "\n",
      "A value is trying to be set on a copy of a slice from a DataFrame\n",
      "\n",
      "See the caveats in the documentation: https://pandas.pydata.org/pandas-docs/stable/user_guide/indexing.html#returning-a-view-versus-a-copy\n",
      "\n"
     ]
    },
    {
     "data": {
      "text/plain": [
       "<matplotlib.legend.Legend at 0x7fd7480a01f0>"
      ]
     },
     "execution_count": 44,
     "metadata": {},
     "output_type": "execute_result"
    },
    {
     "data": {
      "image/png": "[encoded data removed]",
      "text/plain": [
       "<Figure size 640x480 with 1 Axes>"
      ]
     },
     "metadata": {},
     "output_type": "display_data"
    }
   ],
   "source": [
    "radio_G2=r_oligo[r_oligo.GRADE=='G2']\n",
    "radio_G3=r_oligo[r_oligo.GRADE=='G3']\n",
    "\n",
    "radio_G2.loc[(0 < radio_G2.RTACTUALDOSE) & (radio_G2.RTACTUALDOSE < 20), 'RTgroup'] = '1_19'\n",
    "radio_G2.loc[(19 < radio_G2.RTACTUALDOSE) & (radio_G2.RTACTUALDOSE < 40), 'RTgroup'] = '20_39'\n",
    "radio_G2.loc[(39 < radio_G2.RTACTUALDOSE) & (radio_G2.RTACTUALDOSE < 60), 'RTgroup'] = '40_59'\n",
    "radio_G2.loc[(59 < radio_G2.RTACTUALDOSE) & (radio_G2.RTACTUALDOSE < 65), 'RTgroup'] = '60_64'\n",
    "\n",
    "radio_G3.loc[(0 < radio_G3.RTACTUALDOSE) & (radio_G3.RTACTUALDOSE < 20), 'RTgroup'] = '1_19'\n",
    "radio_G3.loc[(19 < radio_G3.RTACTUALDOSE) & (radio_G3.RTACTUALDOSE < 40), 'RTgroup'] = '20_39'\n",
    "radio_G3.loc[(39 < radio_G3.RTACTUALDOSE) & (radio_G3.RTACTUALDOSE < 60), 'RTgroup'] = '40_59'\n",
    "radio_G3.loc[(59 < radio_G3.RTACTUALDOSE) & (radio_G3.RTACTUALDOSE < 65), 'RTgroup'] = '60_64'\n",
    "\n",
    "# drop_duplicates in case any repeat\n",
    "radio_G2.drop_duplicates(subset='PSEUDO_PATIENTID', inplace=True)\n",
    "radio_G3.drop_duplicates(subset='PSEUDO_PATIENTID', inplace=True)\n",
    "\n",
    "\n",
    "# use one charc to carry the bar plot\n",
    "G2 = plt.bar(np.arange(len(radio_G2.groupby('RTgroup')['SEX'].count()))-0.2, [round(i,3) for i in (radio_G2.groupby('RTgroup')['SEX'].count())/185], width=0.2,color='lightskyblue', label = 'G2_patients(N=185)')\n",
    "G3 = plt.bar(np.arange(len(radio_G3.groupby('RTgroup')['SEX'].count()))+0.2, [round(i,3) for i in (radio_G3.groupby('RTgroup')['SEX'].count())/229],width=0.2, color='orange', label = 'G3_patients(N=229)')\n",
    "\n",
    "# Show statistics\n",
    "plt.xticks([0, 1, 2, 3],labels=['1_19', '20_39', '40_59', '60_64'])\n",
    "plt.ylim(0, 1)\n",
    "plt.xlabel('RT DOSE Group and its proportion in each GRADE')\n",
    "plt.ylabel('Patients Counts')\n",
    "plt.title('DOSES by GRADE in 4 groups')\n",
    "plt.bar_label(G2)\n",
    "plt.bar_label(G3)\n",
    "plt.legend()\n"
   ]
  },
  {
   "cell_type": "code",
   "execution_count": 45,
   "id": "cd64c100",
   "metadata": {},
   "outputs": [
    {
     "data": {
      "text/plain": [
       "KstestResult(statistic=0.9728076339922529, pvalue=4.7176365183617e-290)"
      ]
     },
     "execution_count": 45,
     "metadata": {},
     "output_type": "execute_result"
    }
   ],
   "source": [
    "from scipy.stats import kstest\n",
    "kstest(radio_G2['RTACTUALDOSE'],'norm')"
   ]
  },
  {
   "cell_type": "code",
   "execution_count": 46,
   "id": "d935e0ce",
   "metadata": {},
   "outputs": [],
   "source": [
    "# stat_val, p_val = stats.ttest_ind(radio_G2['RTACTUALDOSE'], radio_G3['RTACTUALDOSE'], equal_var=False)\n",
    "# print('2 sample t test p value,', p_val)"
   ]
  },
  {
   "cell_type": "code",
   "execution_count": 47,
   "id": "9eff4bfa",
   "metadata": {},
   "outputs": [
    {
     "name": "stdout",
     "output_type": "stream",
     "text": [
      "2 sample Mann Whitney test p value, 0.05808501987326427\n"
     ]
    }
   ],
   "source": [
    "from scipy import stats\n",
    "stat_val, p_val = stats.mannwhitneyu(radio_G2['RTACTUALDOSE'], radio_G3['RTACTUALDOSE'])\n",
    "print('2 sample Mann Whitney test p value,', p_val)"
   ]
  },
  {
   "cell_type": "code",
   "execution_count": 48,
   "id": "d08a5081",
   "metadata": {
    "scrolled": true
   },
   "outputs": [
    {
     "data": {
      "text/plain": [
       "(0.0, 200.0)"
      ]
     },
     "execution_count": 48,
     "metadata": {},
     "output_type": "execute_result"
    },
    {
     "data": {
      "image/png": "[encoded data removed]",
      "text/plain": [
       "<Figure size 640x480 with 1 Axes>"
      ]
     },
     "metadata": {},
     "output_type": "display_data"
    }
   ],
   "source": [
    "bin = [-100000, 0, 30, 60, 90, 180, 365, 730, 1095, 100000]\n",
    "r_oligo.drop_duplicates(subset=['PSEUDO_PATIENTID'], inplace=True)\n",
    "r_oligo['INTERVAL_DIAG_TO_TREAT_START'].replace(r'', np.nan, inplace = True)\n",
    "r_oligo.dropna(axis=0, subset=['INTERVAL_DIAG_TO_TREAT_START'], inplace=True)\n",
    "\n",
    "r_oligo['RTafterD'] = pd.cut(r_oligo['INTERVAL_DIAG_TO_TREAT_START'].astype(float).astype(int), bins = bin, labels=('SACT before Diag','0_29days', '30_59days', '60_89days', '90_179days', '180_364days', '1_2years', '2_3years', '>3years'))\n",
    "r_oligo.groupby('RTafterD')['PSEUDO_PATIENTID'].nunique()\n",
    "\n",
    "BAR=plt.bar(np.arange(len(r_oligo.groupby('RTafterD')['PSEUDO_PATIENTID'].nunique())), r_oligo.groupby('RTafterD')['PSEUDO_PATIENTID'].nunique())\n",
    "plt.xticks([0, 1, 2, 3, 4, 5, 6, 7, 8],rotation=30,labels=['<=0 days','1_30 days', '31_60 days', '61_90 days', '91_180 days', '181_365 days', '1_2 years', '2_3 years', '>3 years'])\n",
    "plt.bar_label(BAR)\n",
    "plt.xlabel('RT Waiting time')\n",
    "plt.ylabel('Patient Number')\n",
    "plt.title('Waiting time for RT (N=475)')\n",
    "plt.ylim(0,200)\n"
   ]
  },
  {
   "cell_type": "markdown",
   "id": "94c8e499",
   "metadata": {},
   "source": [
    "# SACT"
   ]
  },
  {
   "cell_type": "code",
   "execution_count": 49,
   "id": "96025f95",
   "metadata": {},
   "outputs": [
    {
     "name": "stdout",
     "output_type": "stream",
     "text": [
      "Patients number in SACT before cleaning: 749\n",
      "C71    697\n",
      "C72      3\n",
      "Name: site_ICD10, dtype: int64\n",
      "Number of patients with a brain tumour diagnosis in SACT: 700\n"
     ]
    },
    {
     "name": "stderr",
     "output_type": "stream",
     "text": [
      "/tmp/ipykernel_920047/2990457426.py:11: SettingWithCopyWarning:\n",
      "\n",
      "\n",
      "A value is trying to be set on a copy of a slice from a DataFrame\n",
      "\n",
      "See the caveats in the documentation: https://pandas.pydata.org/pandas-docs/stable/user_guide/indexing.html#returning-a-view-versus-a-copy\n",
      "\n"
     ]
    }
   ],
   "source": [
    "# fetch the first 3 characters to get patients diagnosis code starting with C70/C71/C72\n",
    "c_oligo = pd.read_sql(\"SELECT * FROM SACT WHERE PSEUDO_PATIENTID IN (SELECT PSEUDO_PATIENTID FROM TUM_PAT WHERE MORPH_ICD10_O2 IN (9450, 9451) AND (GRADE IN ('G2', 'G3', 'GX', '')) AND (INTERVAL_DIAG_TO_VS != '') AND (VITALSTATUS IN ('A', 'D')) AND (ETHNICITY IN ('A','B', 'C', 'D', 'F', 'G', 'H', 'J', 'L', 'M', 'N', 'P', 'R', 'S', 'X', 'Z')) AND (DIAGNOSISYEAR IN (2013,2014,2015,2016,2017,2018)) AND (SEX IN (1,2)) AND (BASISOFDIAGNOSIS IN (1,2,7,9)));\",conn)\n",
    "c_oligo.drop_duplicates(subset='PSEUDO_PATIENTID', inplace=True)\n",
    "c_oligo['PRIMARY_DIAGNOSIS']=c_oligo['PRIMARY_DIAGNOSIS'].astype(str)\n",
    "c_oligo['site_ICD10']=c_oligo['PRIMARY_DIAGNOSIS'].astype(str).str[:3]\n",
    "\n",
    "print('Patients number in SACT before cleaning:', c_oligo['PSEUDO_PATIENTID'].nunique())\n",
    "\n",
    "# Choose the columns that we may need\n",
    "chemo_icd=c_oligo[['PSEUDO_PATIENTID','site_ICD10','INTENT_OF_TREATMENT','MORPHOLOGY_CLEAN', 'BENCHMARK_GROUP','CYCLE_NUMBER','INTERVAL_DIAG_START_REGIMEN', 'DRUG_GROUP']]\n",
    "chemo_icd.drop_duplicates(subset='PSEUDO_PATIENTID', inplace=True)\n",
    "\n",
    "# Selecting patients that have a brain tumour diagnosis code in SACT \n",
    "diagnosis=('C71', 'C72')\n",
    "chemo_bt=chemo_icd[chemo_icd.site_ICD10.isin(diagnosis)]\n",
    "print(chemo_bt['site_ICD10'].value_counts())\n",
    "print('Number of patients with a brain tumour diagnosis in SACT:', chemo_bt['PSEUDO_PATIENTID'].nunique())"
   ]
  },
  {
   "cell_type": "code",
   "execution_count": 50,
   "id": "9c46898b",
   "metadata": {},
   "outputs": [
    {
     "data": {
      "text/plain": [
       "691"
      ]
     },
     "execution_count": 50,
     "metadata": {},
     "output_type": "execute_result"
    }
   ],
   "source": [
    "## reassign chemo_bt to chemo_oligo\n",
    "chemo_oligo=pd.merge(chemo_bt, df,on='PSEUDO_PATIENTID')\n",
    "chemo_oligo['PSEUDO_PATIENTID'].nunique()"
   ]
  },
  {
   "cell_type": "markdown",
   "id": "71e39070",
   "metadata": {},
   "source": [
    "## Check waiting time for SACT"
   ]
  },
  {
   "cell_type": "code",
   "execution_count": 51,
   "id": "679f5967",
   "metadata": {},
   "outputs": [
    {
     "data": {
      "text/plain": [
       "(0.0, 350.0)"
      ]
     },
     "execution_count": 51,
     "metadata": {},
     "output_type": "execute_result"
    },
    {
     "data": {
      "image/png": "[encoded data removed]",
      "text/plain": [
       "<Figure size 640x480 with 1 Axes>"
      ]
     },
     "metadata": {},
     "output_type": "display_data"
    }
   ],
   "source": [
    "bin = [-100000, 0, 30, 60, 90, 180, 365, 730, 1095, 100000]\n",
    "chemo_oligo.drop_duplicates(subset=['PSEUDO_PATIENTID'], inplace=True)\n",
    "chemo_oligo['INTERVAL_DIAG_START_REGIMEN'].replace(r'', np.nan, inplace = True)\n",
    "chemo_oligo.dropna(axis=0, subset=['INTERVAL_DIAG_START_REGIMEN'], inplace=True)\n",
    "\n",
    "chemo_oligo['TafterD'] = pd.cut(chemo_oligo['INTERVAL_DIAG_START_REGIMEN'].astype(float).astype(int), bins = bin, labels=('SACT before Diag','0_29days', '30_59days', '60_89days', '90_179days', '180_364days', '1_2years', '2_3years', '>3years'))\n",
    "chemo_oligo.groupby('TafterD')['PSEUDO_PATIENTID'].nunique()\n",
    "\n",
    "BAR=plt.bar(np.arange(len(chemo_oligo.groupby('TafterD')['PSEUDO_PATIENTID'].nunique())), chemo_oligo.groupby('TafterD')['PSEUDO_PATIENTID'].nunique())\n",
    "plt.xticks([0, 1, 2, 3, 4, 5, 6, 7, 8],rotation=30,labels=['<=0 days','1_30 days', '31_60 days', '61_90 days', '91_180 days', '181_365 days', '1_2 years', '2_3 years', '>3 years'])\n",
    "plt.bar_label(BAR)\n",
    "plt.xlabel('SACT Waiting time')\n",
    "plt.ylabel('Patient Number')\n",
    "plt.title('Waiting time for SACT (N=691)')\n",
    "plt.ylim(0, 350)\n"
   ]
  },
  {
   "cell_type": "markdown",
   "id": "c00721c0",
   "metadata": {},
   "source": [
    "## PCV + RT vs RT only, after patients underwent surgery"
   ]
  },
  {
   "cell_type": "code",
   "execution_count": 52,
   "id": "8f35573d",
   "metadata": {},
   "outputs": [
    {
     "name": "stdout",
     "output_type": "stream",
     "text": [
      "Number of patients who only had RT after surgery: 96\n"
     ]
    }
   ],
   "source": [
    "# Meihua Wang's paper(2009) has mentioned that PCV+RT could increase median sirvival time\n",
    "# let's check if PCV+RT group's survival curve is really better than RT only\n",
    "\n",
    "# use ~.isin() to clear patients who might underwent other chemo_therapy\n",
    "RT_only_stillhave_surgery = r_oligo[~r_oligo['PSEUDO_PATIENTID'].isin(chemo_oligo['PSEUDO_PATIENTID'])]\n",
    "\n",
    "# ~isin surgery_or_biopsy is not recommended since surgery is the basis of all kinds of treatments\n",
    "RT_only = RT_only_stillhave_surgery[RT_only_stillhave_surgery['PSEUDO_PATIENTID'].isin(surgery_or_bio['PSEUDO_PATIENTID'])]\n",
    "\n",
    "print('Number of patients who only had RT after surgery:',RT_only['PSEUDO_PATIENTID'].nunique())\n",
    "\n"
   ]
  },
  {
   "cell_type": "code",
   "execution_count": 53,
   "id": "0eefc4a6",
   "metadata": {},
   "outputs": [
    {
     "name": "stdout",
     "output_type": "stream",
     "text": [
      "Number of patients who have only undergone pcv + RT treatment after surgery: 275\n"
     ]
    }
   ],
   "source": [
    "## pcv have 2 drug groups, PCV and 'procarbazine + lomustine + vincristine\n",
    "\n",
    "pcv = pd.read_sql(\"SELECT * FROM SACT WHERE BENCHMARK_GROUP IN ('PCV', 'LOMUSTINE + PROCARBAZINE + VINCRISTINE') AND PSEUDO_PATIENTID IN (SELECT PSEUDO_PATIENTID FROM TUM_PAT WHERE MORPH_ICD10_O2 IN (9450, 9451) AND (INTERVAL_DIAG_TO_VS != '') AND (VITALSTATUS IN ('A', 'D')) AND (ETHNICITY IN ('A','B', 'C', 'D', 'F', 'G', 'H', 'J', 'L', 'M', 'N', 'P', 'R', 'S', 'X', 'Z')) AND (DIAGNOSISYEAR IN (2013,2014,2015,2016,2017,2018)) AND (SEX IN (1,2)) AND (BASISOFDIAGNOSIS IN (1,2,7,9)));\",conn)\n",
    "PCV_RT = pd.merge(pcv, r_oligo, on = 'PSEUDO_PATIENTID')\n",
    "\n",
    "# don't forget to choose those in C70/C71/C72 diagnosis\n",
    "# diagnosis=('C70', 'C71', 'C72'), fetch the first 3 characters in Primary diagnosis column of new dataframe to double check\n",
    "PCV_RT=Fetch_first(PCV_RT)\n",
    "PCV_RT=PCV_RT[PCV_RT.site_ICD10.isin(diagnosis)]\n",
    "\n",
    "# and choose those also underwent surgery in new version of codes\n",
    "PCV_RT = PCV_RT[PCV_RT['PSEUDO_PATIENTID'].isin(surgery_or_bio['PSEUDO_PATIENTID'])]\n",
    "\n",
    "print('Number of patients who have only undergone pcv + RT treatment after surgery:',PCV_RT['PSEUDO_PATIENTID'].nunique())\n"
   ]
  },
  {
   "cell_type": "code",
   "execution_count": 54,
   "id": "a2d61e1b",
   "metadata": {},
   "outputs": [],
   "source": [
    "# RT_only_exclude_Chemo['INTERVAL_DIAG_TO_VS'].replace(r'', np.nan, inplace = True)\n",
    "# RT_only_exclude_Chemo.dropna(axis = 0, subset=['INTERVAL_DIAG_TO_VS', 'VITALSTATUS'], inplace = True)\n",
    "# RT_only_exclude_Chemo['VITALSTATUS_NEW'] = RT_only_exclude_Chemo.apply(conditions, axis = 1)\n",
    "# kmf = KaplanMeierFitter()\n",
    "# kmf.fit(durations = RT_only_exclude_Chemo['INTERVAL_DIAG_TO_VS'].astype(int), event_observed = RT_only_exclude_Chemo['VITALSTATUS_NEW'], label = 'RT only')\n",
    "# kmf.plot()\n",
    "# print('Median survival RT_only: ', kmf.median_survival_time_)\n",
    "\n",
    "# PCV_RT_mighthave_S['INTERVAL_DIAG_TO_VS'].replace(r'', np.nan, inplace = True)\n",
    "# PCV_RT_mighthave_S.dropna(axis = 0, subset=['INTERVAL_DIAG_TO_VS', 'VITALSTATUS'], inplace = True)\n",
    "# PCV_RT_mighthave_S['VITALSTATUS_NEW'] = PCV_RT_mighthave_S.apply(conditions, axis = 1)\n",
    "# kmf = KaplanMeierFitter()\n",
    "# kmf.fit(durations = PCV_RT_mighthave_S['INTERVAL_DIAG_TO_VS'].astype(int), event_observed = PCV_RT_mighthave_S['VITALSTATUS_NEW'], label = 'PCV + RT')\n",
    "# kmf.plot()\n",
    "# print('Median survival PCV_RT: ', kmf.median_survival_time_)\n",
    "\n",
    "# plt.xlabel('Time(days)')\n",
    "# plt.ylabel('Survival probability')\n",
    "# plt.title('Survival of oligo patients: PCV+RT vs RT only')\n",
    "\n",
    "# To note, these groups might contain surgeries as basis of treatments\n",
    "\n",
    "# It is strange at the late stage of curves, maybe resections were already enough for recovery, and RT is a good adjuctive choice\n"
   ]
  },
  {
   "cell_type": "code",
   "execution_count": 55,
   "id": "8f7bd31a",
   "metadata": {},
   "outputs": [
    {
     "name": "stdout",
     "output_type": "stream",
     "text": [
      "Median survival RT_only:  inf\n",
      "Median survival PCV_RT:  inf\n"
     ]
    },
    {
     "name": "stderr",
     "output_type": "stream",
     "text": [
      "/tmp/ipykernel_920047/3268133030.py:3: SettingWithCopyWarning:\n",
      "\n",
      "\n",
      "A value is trying to be set on a copy of a slice from a DataFrame\n",
      "\n",
      "See the caveats in the documentation: https://pandas.pydata.org/pandas-docs/stable/user_guide/indexing.html#returning-a-view-versus-a-copy\n",
      "\n",
      "/tmp/ipykernel_920047/3268133030.py:4: SettingWithCopyWarning:\n",
      "\n",
      "\n",
      "A value is trying to be set on a copy of a slice from a DataFrame\n",
      "\n",
      "See the caveats in the documentation: https://pandas.pydata.org/pandas-docs/stable/user_guide/indexing.html#returning-a-view-versus-a-copy\n",
      "\n",
      "/tmp/ipykernel_920047/3268133030.py:5: SettingWithCopyWarning:\n",
      "\n",
      "\n",
      "A value is trying to be set on a copy of a slice from a DataFrame.\n",
      "Try using .loc[row_indexer,col_indexer] = value instead\n",
      "\n",
      "See the caveats in the documentation: https://pandas.pydata.org/pandas-docs/stable/user_guide/indexing.html#returning-a-view-versus-a-copy\n",
      "\n"
     ]
    },
    {
     "data": {
      "text/plain": [
       "Text(0.5, 1.0, 'Survival of oligo patients: PCV+RT vs RT only')"
      ]
     },
     "execution_count": 55,
     "metadata": {},
     "output_type": "execute_result"
    },
    {
     "data": {
      "image/png": "[encoded data removed]",
      "text/plain": [
       "<Figure size 640x480 with 1 Axes>"
      ]
     },
     "metadata": {},
     "output_type": "display_data"
    }
   ],
   "source": [
    "kmf=KaplanMeierFitter()\n",
    "# never forget to drop NA before kmf\n",
    "RT_only['INTERVAL_DIAG_TO_VS'].replace(r'', np.nan, inplace = True)\n",
    "RT_only.dropna(axis = 0, subset=['INTERVAL_DIAG_TO_VS', 'VITALSTATUS'], inplace = True)\n",
    "RT_only['VITALSTATUS_NEW'] = RT_only.apply(conditions, axis = 1)\n",
    "\n",
    "# give a name to the fitter for later log_rank test\n",
    "rt=kmf.fit(durations = RT_only['INTERVAL_DIAG_TO_VS'].astype(int), event_observed = RT_only['VITALSTATUS_NEW'], label = 'RT only (N=96)')\n",
    "kmf.plot()\n",
    "print('Median survival RT_only: ', kmf.median_survival_time_)\n",
    "\n",
    "PCV_RT['INTERVAL_DIAG_TO_VS'].replace(r'', np.nan, inplace = True)\n",
    "PCV_RT.dropna(axis = 0, subset=['INTERVAL_DIAG_TO_VS', 'VITALSTATUS'], inplace = True)\n",
    "PCV_RT['VITALSTATUS_NEW'] = PCV_RT.apply(conditions, axis = 1)\n",
    "\n",
    "# give a name to the fitter for later log_rank test\n",
    "pcv_rt=kmf.fit(durations = PCV_RT['INTERVAL_DIAG_TO_VS'].astype(int), event_observed = PCV_RT['VITALSTATUS_NEW'], label = 'PCV + RT (N=275)')\n",
    "kmf.plot()\n",
    "print('Median survival PCV_RT: ', kmf.median_survival_time_)\n",
    "\n",
    "plt.xlabel('Time(days)')\n",
    "plt.ylabel('Survival probability')\n",
    "plt.title('Survival of oligo patients: PCV+RT vs RT only')\n",
    "\n",
    "# this comparison is way more clear "
   ]
  },
  {
   "cell_type": "code",
   "execution_count": 56,
   "id": "e12ae132",
   "metadata": {},
   "outputs": [
    {
     "data": {
      "text/html": [
       "<div>\n",
       "<style scoped>\n",
       "    .dataframe tbody tr th:only-of-type {\n",
       "        vertical-align: middle;\n",
       "    }\n",
       "\n",
       "    .dataframe tbody tr th {\n",
       "        vertical-align: top;\n",
       "    }\n",
       "\n",
       "    .dataframe thead th {\n",
       "        text-align: right;\n",
       "    }\n",
       "</style>\n",
       "<table border=\"1\" class=\"dataframe\">\n",
       "  <tbody>\n",
       "    <tr>\n",
       "      <th>t_0</th>\n",
       "      <td>-1</td>\n",
       "    </tr>\n",
       "    <tr>\n",
       "      <th>null_distribution</th>\n",
       "      <td>chi squared</td>\n",
       "    </tr>\n",
       "    <tr>\n",
       "      <th>degrees_of_freedom</th>\n",
       "      <td>1</td>\n",
       "    </tr>\n",
       "    <tr>\n",
       "      <th>test_name</th>\n",
       "      <td>logrank_test</td>\n",
       "    </tr>\n",
       "  </tbody>\n",
       "</table>\n",
       "</div><table border=\"1\" class=\"dataframe\">\n",
       "  <thead>\n",
       "    <tr style=\"text-align: right;\">\n",
       "      <th></th>\n",
       "      <th>test_statistic</th>\n",
       "      <th>p</th>\n",
       "      <th>-log2(p)</th>\n",
       "    </tr>\n",
       "  </thead>\n",
       "  <tbody>\n",
       "    <tr>\n",
       "      <th>0</th>\n",
       "      <td>46.77</td>\n",
       "      <td>&lt;0.005</td>\n",
       "      <td>36.87</td>\n",
       "    </tr>\n",
       "  </tbody>\n",
       "</table>"
      ],
      "text/latex": [
       "\\begin{tabular}{lrrr}\n",
       " & test_statistic & p & -log2(p) \\\\\n",
       "0 & 46.77 & 0.00 & 36.87 \\\\\n",
       "\\end{tabular}\n"
      ],
      "text/plain": [
       "<lifelines.StatisticalResult: logrank_test>\n",
       "               t_0 = -1\n",
       " null_distribution = chi squared\n",
       "degrees_of_freedom = 1\n",
       "         test_name = logrank_test\n",
       "\n",
       "---\n",
       " test_statistic      p  -log2(p)\n",
       "          46.77 <0.005     36.87"
      ]
     },
     "metadata": {},
     "output_type": "display_data"
    }
   ],
   "source": [
    "PR_results = logrank_test(PCV_RT['INTERVAL_DIAG_TO_VS'], RT_only['INTERVAL_DIAG_TO_VS'],\n",
    "                       event_observed_A = PCV_RT.apply(conditions,axis=1).astype(int),\n",
    "                       event_observed_B = RT_only.apply(conditions,axis=1).astype(int))\n",
    "PR_results.print_summary()\n",
    "# Great, now this comparison can be defined as valid"
   ]
  },
  {
   "cell_type": "markdown",
   "id": "11816569",
   "metadata": {},
   "source": [
    "## To compare TMZ only vs TMZ+RT, the conservative way is to query only in benchmark_group, however it would make the patient number in TMZ+RT group looks too small"
   ]
  },
  {
   "cell_type": "code",
   "execution_count": 57,
   "id": "6cc1f253",
   "metadata": {},
   "outputs": [
    {
     "name": "stdout",
     "output_type": "stream",
     "text": [
      "before site_icd10 cleaning, patient number of TMZ only Group: 326\n",
      "after cleaning patients who dont have C70/C71/C72 codes: 307\n",
      "after excluding patients in RTDS, patient number: 160\n",
      "Number of patients who have only undergone TMZ treatment after surgery: 154\n"
     ]
    }
   ],
   "source": [
    "## left merge, same for TMZ+RT\n",
    "tmz = pd.read_sql(\"SELECT * FROM SACT WHERE BENCHMARK_GROUP IN ('TEMOZOLOMIDE') AND PSEUDO_PATIENTID IN (SELECT PSEUDO_PATIENTID FROM TUM_PAT WHERE MORPH_ICD10_O2 IN (9450, 9451) AND (INTERVAL_DIAG_TO_VS != '') AND (VITALSTATUS IN ('A', 'D')) AND (ETHNICITY IN ('A','B', 'C', 'D', 'F', 'G', 'H', 'J', 'L', 'M', 'N', 'P', 'R', 'S', 'X', 'Z')) AND (DIAGNOSISYEAR IN (2013,2014,2015,2016,2017,2018)) AND (SEX IN (1,2)) AND (BASISOFDIAGNOSIS IN (1,2,7,9)));\",conn)\n",
    "TMZ = pd.merge(tmz, df, on = 'PSEUDO_PATIENTID')\n",
    "print('before site_icd10 cleaning, patient number of TMZ only Group:', TMZ['PSEUDO_PATIENTID'].nunique())\n",
    "\n",
    "# diagnosis=('C70', 'C71', 'C72'), fetch the first 3 characters in Primary diagnosis column of new dataframe to double check\n",
    "TMZ['PRIMARY_DIAGNOSIS']=TMZ['PRIMARY_DIAGNOSIS'].astype(str)\n",
    "TMZ['site_ICD10']=TMZ['PRIMARY_DIAGNOSIS'].astype(str).str[:3]\n",
    "TMZ_clean=TMZ[TMZ.site_ICD10.isin(diagnosis)]\n",
    "print('after cleaning patients who dont have C70/C71/C72 codes:', TMZ_clean['PSEUDO_PATIENTID'].nunique())\n",
    "\n",
    "TMZ_clean_exradio = TMZ_clean[~TMZ_clean['PSEUDO_PATIENTID'].isin(r_oligo['PSEUDO_PATIENTID'])]\n",
    "print('after excluding patients in RTDS, patient number:',TMZ_clean_exradio['PSEUDO_PATIENTID'].nunique())\n",
    "\n",
    "# and choose those also underwent surgery in new version of codes\n",
    "TMZ_final = TMZ_clean_exradio[TMZ_clean_exradio['PSEUDO_PATIENTID'].isin(surgery_or_bio['PSEUDO_PATIENTID'])]\n",
    "\n",
    "print('Number of patients who have only undergone TMZ treatment after surgery:',TMZ_final['PSEUDO_PATIENTID'].nunique())\n"
   ]
  },
  {
   "cell_type": "code",
   "execution_count": 58,
   "id": "047e689a",
   "metadata": {},
   "outputs": [
    {
     "data": {
      "text/plain": [
       "147"
      ]
     },
     "execution_count": 58,
     "metadata": {},
     "output_type": "execute_result"
    }
   ],
   "source": [
    "## add a group to TMZ_inradio since only quering TMZ+RT in Benchamark group, N is too small\n",
    "\n",
    "TMZ_clean_inradio = TMZ_clean[TMZ_clean['PSEUDO_PATIENTID'].isin(r_oligo['PSEUDO_PATIENTID'])]\n",
    "TMZ_clean_inradio['PSEUDO_PATIENTID'].nunique()\n"
   ]
  },
  {
   "cell_type": "code",
   "execution_count": 59,
   "id": "1fb617bc",
   "metadata": {},
   "outputs": [
    {
     "name": "stdout",
     "output_type": "stream",
     "text": [
      "before site_icd10 cleaning, patient number of TMZ+RT benchmark Group: 85\n",
      "after cleaning patients who dont have C70/C71/C72 codes, TMZ+RT benchmark Group: 77\n",
      "after locking patients in RTDS and concat TMZinRTDS group, patient number: 149\n",
      "Number of patients who have undergone TMZ and RTtreatment after surgery: 145\n"
     ]
    }
   ],
   "source": [
    "## TMZ+RT\n",
    "tmz_rt = pd.read_sql(\"SELECT * FROM SACT WHERE BENCHMARK_GROUP IN ('TEMOZOLOMIDE + RT') AND PSEUDO_PATIENTID IN (SELECT PSEUDO_PATIENTID FROM TUM_PAT WHERE MORPH_ICD10_O2 IN (9450, 9451) AND (INTERVAL_DIAG_TO_VS != '') AND (VITALSTATUS IN ('A', 'D')) AND (ETHNICITY IN ('A','B', 'C', 'D', 'F', 'G', 'H', 'J', 'L', 'M', 'N', 'P', 'R', 'S', 'X', 'Z')) AND (DIAGNOSISYEAR IN (2013,2014,2015,2016,2017,2018)) AND (SEX IN (1,2)) AND (BASISOFDIAGNOSIS IN (1,2,7,9)));\",conn)\n",
    "TMZ_RT = pd.merge(tmz_rt, df, on = 'PSEUDO_PATIENTID', how='left')\n",
    "print('before site_icd10 cleaning, patient number of TMZ+RT benchmark Group:', TMZ_RT['PSEUDO_PATIENTID'].nunique())\n",
    "\n",
    "# diagnosis=('C70', 'C71', 'C72'), fetch the first 3 characters in Primary diagnosis column of new dataframe to double check\n",
    "TMZ_RT['PRIMARY_DIAGNOSIS']=TMZ_RT['PRIMARY_DIAGNOSIS'].astype(str)\n",
    "TMZ_RT['site_ICD10']=TMZ_RT['PRIMARY_DIAGNOSIS'].astype(str).str[:3]\n",
    "TMZ_RTclean=TMZ_RT[TMZ_RT.site_ICD10.isin(diagnosis)]\n",
    "print('after cleaning patients who dont have C70/C71/C72 codes, TMZ+RT benchmark Group:', TMZ_RTclean['PSEUDO_PATIENTID'].nunique())\n",
    "\n",
    "# make sure no matter TMZ+RT benchmark group or TMZalsoinRTDS group all in RTDS table\n",
    "TMZplusRT_clean = TMZ_RTclean[TMZ_RTclean['PSEUDO_PATIENTID'].isin(r_oligo['PSEUDO_PATIENTID'])]\n",
    "TMZ_concat=pd.concat([TMZplusRT_clean, TMZ_clean_inradio])\n",
    "print('after locking patients in RTDS and concat TMZinRTDS group, patient number:',TMZ_concat['PSEUDO_PATIENTID'].nunique())\n",
    "\n",
    "# and choose those also underwent surgery in new version of codes\n",
    "TMZ_RTfinal = TMZ_concat[TMZ_concat['PSEUDO_PATIENTID'].isin(surgery_or_bio['PSEUDO_PATIENTID'])]\n",
    "\n",
    "print('Number of patients who have undergone TMZ and RTtreatment after surgery:',TMZ_RTfinal['PSEUDO_PATIENTID'].nunique())\n"
   ]
  },
  {
   "cell_type": "code",
   "execution_count": 60,
   "id": "7db676c2",
   "metadata": {},
   "outputs": [
    {
     "name": "stderr",
     "output_type": "stream",
     "text": [
      "/tmp/ipykernel_920047/413356648.py:2: SettingWithCopyWarning:\n",
      "\n",
      "\n",
      "A value is trying to be set on a copy of a slice from a DataFrame\n",
      "\n",
      "See the caveats in the documentation: https://pandas.pydata.org/pandas-docs/stable/user_guide/indexing.html#returning-a-view-versus-a-copy\n",
      "\n",
      "/tmp/ipykernel_920047/413356648.py:3: SettingWithCopyWarning:\n",
      "\n",
      "\n",
      "A value is trying to be set on a copy of a slice from a DataFrame\n",
      "\n",
      "See the caveats in the documentation: https://pandas.pydata.org/pandas-docs/stable/user_guide/indexing.html#returning-a-view-versus-a-copy\n",
      "\n",
      "/tmp/ipykernel_920047/413356648.py:4: SettingWithCopyWarning:\n",
      "\n",
      "\n",
      "A value is trying to be set on a copy of a slice from a DataFrame.\n",
      "Try using .loc[row_indexer,col_indexer] = value instead\n",
      "\n",
      "See the caveats in the documentation: https://pandas.pydata.org/pandas-docs/stable/user_guide/indexing.html#returning-a-view-versus-a-copy\n",
      "\n",
      "/tmp/ipykernel_920047/413356648.py:9: SettingWithCopyWarning:\n",
      "\n",
      "\n",
      "A value is trying to be set on a copy of a slice from a DataFrame\n",
      "\n",
      "See the caveats in the documentation: https://pandas.pydata.org/pandas-docs/stable/user_guide/indexing.html#returning-a-view-versus-a-copy\n",
      "\n",
      "/tmp/ipykernel_920047/413356648.py:10: SettingWithCopyWarning:\n",
      "\n",
      "\n",
      "A value is trying to be set on a copy of a slice from a DataFrame\n",
      "\n",
      "See the caveats in the documentation: https://pandas.pydata.org/pandas-docs/stable/user_guide/indexing.html#returning-a-view-versus-a-copy\n",
      "\n",
      "/tmp/ipykernel_920047/413356648.py:11: SettingWithCopyWarning:\n",
      "\n",
      "\n",
      "A value is trying to be set on a copy of a slice from a DataFrame.\n",
      "Try using .loc[row_indexer,col_indexer] = value instead\n",
      "\n",
      "See the caveats in the documentation: https://pandas.pydata.org/pandas-docs/stable/user_guide/indexing.html#returning-a-view-versus-a-copy\n",
      "\n"
     ]
    },
    {
     "data": {
      "text/plain": [
       "Text(0.5, 1.0, 'Survival of oligo patients: TMZ+RT vs TMZ only')"
      ]
     },
     "execution_count": 60,
     "metadata": {},
     "output_type": "execute_result"
    },
    {
     "data": {
      "image/png": "[encoded data removed]",
      "text/plain": [
       "<Figure size 640x480 with 1 Axes>"
      ]
     },
     "metadata": {},
     "output_type": "display_data"
    }
   ],
   "source": [
    "# never forget to drop NA before kmf\n",
    "TMZ_final['INTERVAL_DIAG_TO_VS'].replace(r'', np.nan, inplace = True)\n",
    "TMZ_final.dropna(axis = 0, subset=['INTERVAL_DIAG_TO_VS', 'VITALSTATUS'], inplace = True)\n",
    "TMZ_final['VITALSTATUS_NEW'] = TMZ_final.apply(conditions, axis = 1)\n",
    "kmf=KaplanMeierFitter()\n",
    "tmz=kmf.fit(durations = TMZ_final['INTERVAL_DIAG_TO_VS'].astype(int), event_observed = TMZ_final['VITALSTATUS_NEW'], label = 'TMZ only (N=154)')\n",
    "kmf.plot()\n",
    "\n",
    "TMZ_RTfinal['INTERVAL_DIAG_TO_VS'].replace(r'', np.nan, inplace = True)\n",
    "TMZ_RTfinal.dropna(axis = 0, subset=['INTERVAL_DIAG_TO_VS', 'VITALSTATUS'], inplace = True)\n",
    "TMZ_RTfinal['VITALSTATUS_NEW'] = TMZ_RTfinal.apply(conditions, axis = 1)\n",
    "tmz_rt=kmf.fit(durations = TMZ_RTfinal['INTERVAL_DIAG_TO_VS'].astype(int), event_observed = TMZ_RTfinal['VITALSTATUS_NEW'], label = 'TMZ + RT (N=145)')\n",
    "kmf.plot()\n",
    "\n",
    "plt.xlabel('Time(days)')\n",
    "plt.ylabel('Survival probability')\n",
    "plt.title('Survival of oligo patients: TMZ+RT vs TMZ only')\n"
   ]
  },
  {
   "cell_type": "markdown",
   "id": "eaf62ce3",
   "metadata": {},
   "source": [
    "## Significant difference found, but we could also check their sequences later, since we don't know which contribute more to this result, TMZ+RT or RT+TMZ? "
   ]
  },
  {
   "cell_type": "code",
   "execution_count": 61,
   "id": "64921459",
   "metadata": {},
   "outputs": [
    {
     "data": {
      "text/html": [
       "<div>\n",
       "<style scoped>\n",
       "    .dataframe tbody tr th:only-of-type {\n",
       "        vertical-align: middle;\n",
       "    }\n",
       "\n",
       "    .dataframe tbody tr th {\n",
       "        vertical-align: top;\n",
       "    }\n",
       "\n",
       "    .dataframe thead th {\n",
       "        text-align: right;\n",
       "    }\n",
       "</style>\n",
       "<table border=\"1\" class=\"dataframe\">\n",
       "  <tbody>\n",
       "    <tr>\n",
       "      <th>t_0</th>\n",
       "      <td>-1</td>\n",
       "    </tr>\n",
       "    <tr>\n",
       "      <th>null_distribution</th>\n",
       "      <td>chi squared</td>\n",
       "    </tr>\n",
       "    <tr>\n",
       "      <th>degrees_of_freedom</th>\n",
       "      <td>1</td>\n",
       "    </tr>\n",
       "    <tr>\n",
       "      <th>test_name</th>\n",
       "      <td>logrank_test</td>\n",
       "    </tr>\n",
       "  </tbody>\n",
       "</table>\n",
       "</div><table border=\"1\" class=\"dataframe\">\n",
       "  <thead>\n",
       "    <tr style=\"text-align: right;\">\n",
       "      <th></th>\n",
       "      <th>test_statistic</th>\n",
       "      <th>p</th>\n",
       "      <th>-log2(p)</th>\n",
       "    </tr>\n",
       "  </thead>\n",
       "  <tbody>\n",
       "    <tr>\n",
       "      <th>0</th>\n",
       "      <td>34.01</td>\n",
       "      <td>&lt;0.005</td>\n",
       "      <td>27.44</td>\n",
       "    </tr>\n",
       "  </tbody>\n",
       "</table>"
      ],
      "text/latex": [
       "\\begin{tabular}{lrrr}\n",
       " & test_statistic & p & -log2(p) \\\\\n",
       "0 & 34.01 & 0.00 & 27.44 \\\\\n",
       "\\end{tabular}\n"
      ],
      "text/plain": [
       "<lifelines.StatisticalResult: logrank_test>\n",
       "               t_0 = -1\n",
       " null_distribution = chi squared\n",
       "degrees_of_freedom = 1\n",
       "         test_name = logrank_test\n",
       "\n",
       "---\n",
       " test_statistic      p  -log2(p)\n",
       "          34.01 <0.005     27.44"
      ]
     },
     "metadata": {},
     "output_type": "display_data"
    }
   ],
   "source": [
    "TR_results = logrank_test(TMZ_final['INTERVAL_DIAG_TO_VS'], TMZ_RTfinal['INTERVAL_DIAG_TO_VS'],\n",
    "                       event_observed_A = TMZ_final.apply(conditions,axis=1).astype(int),\n",
    "                       event_observed_B = TMZ_RTfinal.apply(conditions,axis=1).astype(int))\n",
    "TR_results.print_summary()"
   ]
  },
  {
   "cell_type": "markdown",
   "id": "f9fa6f98",
   "metadata": {},
   "source": [
    "## Build groups for seqs"
   ]
  },
  {
   "cell_type": "code",
   "execution_count": 62,
   "id": "1fab6c7d",
   "metadata": {},
   "outputs": [
    {
     "name": "stderr",
     "output_type": "stream",
     "text": [
      "/tmp/ipykernel_920047/1198997592.py:11: SettingWithCopyWarning:\n",
      "\n",
      "\n",
      "A value is trying to be set on a copy of a slice from a DataFrame\n",
      "\n",
      "See the caveats in the documentation: https://pandas.pydata.org/pandas-docs/stable/user_guide/indexing.html#returning-a-view-versus-a-copy\n",
      "\n"
     ]
    }
   ],
   "source": [
    "## prim is almost same with r_oligo, just did not merge with df\n",
    "rtds_oligo=prim\n",
    "\n",
    "# and only select the useful column\n",
    "rtds_oligo=rtds_oligo[['PSEUDO_PATIENTID', 'INTERVAL_DIAG_TO_TREAT_START']]\n",
    "TMZ_RTfinal=TMZ_RTfinal[['PSEUDO_PATIENTID', 'INTERVAL_DIAG_START_REGIMEN']]\n",
    "\n",
    "# drop NA and duplicates\n",
    "TMZ_RTfinal.dropna(subset='INTERVAL_DIAG_START_REGIMEN', axis=0)\n",
    "TMZ_RTfinal.drop_duplicates(subset='PSEUDO_PATIENTID', inplace=True)\n",
    "rtds_oligo.drop_duplicates(subset='PSEUDO_PATIENTID', inplace=True)"
   ]
  },
  {
   "cell_type": "code",
   "execution_count": 63,
   "id": "49d1b71f",
   "metadata": {},
   "outputs": [
    {
     "name": "stdout",
     "output_type": "stream",
     "text": [
      "after merging with patients in RTDS and TUM_PAT, patient number: 145\n"
     ]
    }
   ],
   "source": [
    "# Merge TMZ_RTfinal with oligo patients in RTDS, and df in order to applay kmf\n",
    "TMZ_RT_withT=pd.merge(TMZ_RTfinal, rtds_oligo)\n",
    "TMZ_RT_withI=pd.merge(TMZ_RT_withT, df, how='left')\n",
    "TMZ_RT_withI.drop_duplicates(subset='PSEUDO_PATIENTID', inplace=True)\n",
    "print('after merging with patients in RTDS and TUM_PAT, patient number:' ,TMZ_RT_withI['PSEUDO_PATIENTID'].nunique())\n"
   ]
  },
  {
   "cell_type": "code",
   "execution_count": 64,
   "id": "8db8611b",
   "metadata": {},
   "outputs": [
    {
     "name": "stdout",
     "output_type": "stream",
     "text": [
      "tmz,then rt 60\n",
      "rt,then tmz 79\n",
      "tmz and rt smae time 6\n"
     ]
    }
   ],
   "source": [
    "TMZ_RT_withI.loc[(TMZ_RT_withI.INTERVAL_DIAG_TO_TREAT_START > TMZ_RT_withI.INTERVAL_DIAG_START_REGIMEN), 'seq'] = 'TMZ_then_RT'\n",
    "TMZ_RT_withI.loc[(TMZ_RT_withI.INTERVAL_DIAG_TO_TREAT_START < TMZ_RT_withI.INTERVAL_DIAG_START_REGIMEN), 'seq'] = 'RT_then_TMZ'\n",
    "TMZ_RT_withI.loc[(TMZ_RT_withI.INTERVAL_DIAG_TO_TREAT_START == TMZ_RT_withI.INTERVAL_DIAG_START_REGIMEN), 'seq'] = 'RT_TMZsame'\n",
    "# os.chdir('/home/ll6222/Documents/DS175/share/19_Rare tumours')\n",
    "# TMZ_RT_withT.to_csv('TMZ RT seq survival comparison.csv')\n",
    "\n",
    "# these codes looks very repeated but practical\n",
    "tmz_then_rt='TMZ_then_RT'\n",
    "tmz_then_rt=TMZ_RT_withI.query('seq in @tmz_then_rt')\n",
    "print('tmz,then rt',tmz_then_rt['PSEUDO_PATIENTID'].nunique())\n",
    "\n",
    "rt_then_tmz='RT_then_TMZ'\n",
    "rt_then_tmz=TMZ_RT_withI.query('seq in @rt_then_tmz')\n",
    "print('rt,then tmz',rt_then_tmz['PSEUDO_PATIENTID'].nunique())\n",
    "\n",
    "tmz_rt_s='RT_TMZsame'\n",
    "tmz_rt_s=TMZ_RT_withI.query('seq in @tmz_rt_s')\n",
    "print('tmz and rt smae time',tmz_rt_s['PSEUDO_PATIENTID'].nunique())\n"
   ]
  },
  {
   "cell_type": "code",
   "execution_count": 65,
   "id": "ac8621e2",
   "metadata": {
    "scrolled": true
   },
   "outputs": [
    {
     "name": "stderr",
     "output_type": "stream",
     "text": [
      "/tmp/ipykernel_920047/597192751.py:1: SettingWithCopyWarning:\n",
      "\n",
      "\n",
      "A value is trying to be set on a copy of a slice from a DataFrame\n",
      "\n",
      "See the caveats in the documentation: https://pandas.pydata.org/pandas-docs/stable/user_guide/indexing.html#returning-a-view-versus-a-copy\n",
      "\n",
      "/tmp/ipykernel_920047/597192751.py:2: SettingWithCopyWarning:\n",
      "\n",
      "\n",
      "A value is trying to be set on a copy of a slice from a DataFrame\n",
      "\n",
      "See the caveats in the documentation: https://pandas.pydata.org/pandas-docs/stable/user_guide/indexing.html#returning-a-view-versus-a-copy\n",
      "\n",
      "/tmp/ipykernel_920047/597192751.py:3: SettingWithCopyWarning:\n",
      "\n",
      "\n",
      "A value is trying to be set on a copy of a slice from a DataFrame.\n",
      "Try using .loc[row_indexer,col_indexer] = value instead\n",
      "\n",
      "See the caveats in the documentation: https://pandas.pydata.org/pandas-docs/stable/user_guide/indexing.html#returning-a-view-versus-a-copy\n",
      "\n",
      "/tmp/ipykernel_920047/597192751.py:7: SettingWithCopyWarning:\n",
      "\n",
      "\n",
      "A value is trying to be set on a copy of a slice from a DataFrame.\n",
      "Try using .loc[row_indexer,col_indexer] = value instead\n",
      "\n",
      "See the caveats in the documentation: https://pandas.pydata.org/pandas-docs/stable/user_guide/indexing.html#returning-a-view-versus-a-copy\n",
      "\n",
      "/tmp/ipykernel_920047/597192751.py:11: SettingWithCopyWarning:\n",
      "\n",
      "\n",
      "A value is trying to be set on a copy of a slice from a DataFrame.\n",
      "Try using .loc[row_indexer,col_indexer] = value instead\n",
      "\n",
      "See the caveats in the documentation: https://pandas.pydata.org/pandas-docs/stable/user_guide/indexing.html#returning-a-view-versus-a-copy\n",
      "\n"
     ]
    },
    {
     "data": {
      "text/plain": [
       "Text(0, 0.5, 'Survival Probability')"
      ]
     },
     "execution_count": 65,
     "metadata": {},
     "output_type": "execute_result"
    },
    {
     "data": {
      "image/png": "[encoded data removed]",
      "text/plain": [
       "<Figure size 640x480 with 1 Axes>"
      ]
     },
     "metadata": {},
     "output_type": "display_data"
    }
   ],
   "source": [
    "\n",
    "TMZ_final['INTERVAL_DIAG_TO_VS'].replace(r'', np.nan, inplace = True)\n",
    "TMZ_final.dropna(axis = 0, subset=['INTERVAL_DIAG_TO_VS', 'VITALSTATUS'], inplace = True)\n",
    "TMZ_final['VITALSTATUS_NEW'] = TMZ_final.apply(conditions, axis = 1)\n",
    "tmz=kmf.fit(durations = TMZ_final['INTERVAL_DIAG_TO_VS'].astype(int), event_observed = TMZ_final['VITALSTATUS_NEW'], label = 'TMZ only(N=154)')\n",
    "kmf.plot(ci_show=False)\n",
    "\n",
    "tmz_then_rt['VITALSTATUS_NEW'] = tmz_then_rt.apply(conditions, axis = 1)\n",
    "TMZ_RT=kmf.fit(durations = tmz_then_rt['INTERVAL_DIAG_TO_VS'].astype(int), event_observed = tmz_then_rt['VITALSTATUS_NEW'], label = 'TMZ then RT(N=60)')\n",
    "kmf.plot(ci_show=False)\n",
    "\n",
    "rt_then_tmz['VITALSTATUS_NEW'] = rt_then_tmz.apply(conditions, axis = 1)\n",
    "rt_tmz=kmf.fit(durations = rt_then_tmz['INTERVAL_DIAG_TO_VS'].astype(int), event_observed = rt_then_tmz['VITALSTATUS_NEW'], label = 'RT then TMZ(N=79)')\n",
    "kmf.plot(ci_show=False)\n",
    "\n",
    "# tmz_rt_s['VITALSTATUS_NEW'] = tmz_rt_s.apply(conditions, axis = 1)\n",
    "# tmz_rt_same=kmf.fit(durations = tmz_rt_s['INTERVAL_DIAG_TO_VS'].astype(int), event_observed = tmz_rt_s['VITALSTATUS_NEW'], label = 'TMZ_RT same time(N=6)')\n",
    "# kmf.plot(ci_show=False)\n",
    "\n",
    "plt.title('Survival: TMZ only vs TMZ+RT')\n",
    "plt.xlabel('days')\n",
    "plt.ylabel('Survival Probability')"
   ]
  },
  {
   "cell_type": "code",
   "execution_count": 66,
   "id": "f86b7b59",
   "metadata": {},
   "outputs": [
    {
     "data": {
      "text/html": [
       "<div>\n",
       "<style scoped>\n",
       "    .dataframe tbody tr th:only-of-type {\n",
       "        vertical-align: middle;\n",
       "    }\n",
       "\n",
       "    .dataframe tbody tr th {\n",
       "        vertical-align: top;\n",
       "    }\n",
       "\n",
       "    .dataframe thead th {\n",
       "        text-align: right;\n",
       "    }\n",
       "</style>\n",
       "<table border=\"1\" class=\"dataframe\">\n",
       "  <tbody>\n",
       "    <tr>\n",
       "      <th>t_0</th>\n",
       "      <td>-1</td>\n",
       "    </tr>\n",
       "    <tr>\n",
       "      <th>null_distribution</th>\n",
       "      <td>chi squared</td>\n",
       "    </tr>\n",
       "    <tr>\n",
       "      <th>degrees_of_freedom</th>\n",
       "      <td>1</td>\n",
       "    </tr>\n",
       "    <tr>\n",
       "      <th>test_name</th>\n",
       "      <td>logrank_test</td>\n",
       "    </tr>\n",
       "  </tbody>\n",
       "</table>\n",
       "</div><table border=\"1\" class=\"dataframe\">\n",
       "  <thead>\n",
       "    <tr style=\"text-align: right;\">\n",
       "      <th></th>\n",
       "      <th>test_statistic</th>\n",
       "      <th>p</th>\n",
       "      <th>-log2(p)</th>\n",
       "    </tr>\n",
       "  </thead>\n",
       "  <tbody>\n",
       "    <tr>\n",
       "      <th>0</th>\n",
       "      <td>0.17</td>\n",
       "      <td>0.68</td>\n",
       "      <td>0.56</td>\n",
       "    </tr>\n",
       "  </tbody>\n",
       "</table>"
      ],
      "text/latex": [
       "\\begin{tabular}{lrrr}\n",
       " & test_statistic & p & -log2(p) \\\\\n",
       "0 & 0.17 & 0.68 & 0.56 \\\\\n",
       "\\end{tabular}\n"
      ],
      "text/plain": [
       "<lifelines.StatisticalResult: logrank_test>\n",
       "               t_0 = -1\n",
       " null_distribution = chi squared\n",
       "degrees_of_freedom = 1\n",
       "         test_name = logrank_test\n",
       "\n",
       "---\n",
       " test_statistic    p  -log2(p)\n",
       "           0.17 0.68      0.56"
      ]
     },
     "metadata": {},
     "output_type": "display_data"
    }
   ],
   "source": [
    "Tonly_RTthenTMZ_results = logrank_test(TMZ_final['INTERVAL_DIAG_TO_VS'], rt_then_tmz['INTERVAL_DIAG_TO_VS'],\n",
    "                       event_observed_A = TMZ_final.apply(conditions,axis=1).astype(int),\n",
    "                       event_observed_B = rt_then_tmz.apply(conditions,axis=1).astype(int))\n",
    "Tonly_RTthenTMZ_results.print_summary()"
   ]
  },
  {
   "cell_type": "code",
   "execution_count": 67,
   "id": "9f3f2d46",
   "metadata": {},
   "outputs": [
    {
     "data": {
      "text/html": [
       "<div>\n",
       "<style scoped>\n",
       "    .dataframe tbody tr th:only-of-type {\n",
       "        vertical-align: middle;\n",
       "    }\n",
       "\n",
       "    .dataframe tbody tr th {\n",
       "        vertical-align: top;\n",
       "    }\n",
       "\n",
       "    .dataframe thead th {\n",
       "        text-align: right;\n",
       "    }\n",
       "</style>\n",
       "<table border=\"1\" class=\"dataframe\">\n",
       "  <tbody>\n",
       "    <tr>\n",
       "      <th>t_0</th>\n",
       "      <td>-1</td>\n",
       "    </tr>\n",
       "    <tr>\n",
       "      <th>null_distribution</th>\n",
       "      <td>chi squared</td>\n",
       "    </tr>\n",
       "    <tr>\n",
       "      <th>degrees_of_freedom</th>\n",
       "      <td>1</td>\n",
       "    </tr>\n",
       "    <tr>\n",
       "      <th>test_name</th>\n",
       "      <td>logrank_test</td>\n",
       "    </tr>\n",
       "  </tbody>\n",
       "</table>\n",
       "</div><table border=\"1\" class=\"dataframe\">\n",
       "  <thead>\n",
       "    <tr style=\"text-align: right;\">\n",
       "      <th></th>\n",
       "      <th>test_statistic</th>\n",
       "      <th>p</th>\n",
       "      <th>-log2(p)</th>\n",
       "    </tr>\n",
       "  </thead>\n",
       "  <tbody>\n",
       "    <tr>\n",
       "      <th>0</th>\n",
       "      <td>10.97</td>\n",
       "      <td>&lt;0.005</td>\n",
       "      <td>10.08</td>\n",
       "    </tr>\n",
       "  </tbody>\n",
       "</table>"
      ],
      "text/latex": [
       "\\begin{tabular}{lrrr}\n",
       " & test_statistic & p & -log2(p) \\\\\n",
       "0 & 10.97 & 0.00 & 10.08 \\\\\n",
       "\\end{tabular}\n"
      ],
      "text/plain": [
       "<lifelines.StatisticalResult: logrank_test>\n",
       "               t_0 = -1\n",
       " null_distribution = chi squared\n",
       "degrees_of_freedom = 1\n",
       "         test_name = logrank_test\n",
       "\n",
       "---\n",
       " test_statistic      p  -log2(p)\n",
       "          10.97 <0.005     10.08"
      ]
     },
     "metadata": {},
     "output_type": "display_data"
    }
   ],
   "source": [
    "Tonly_TMZthenRT_results = logrank_test(TMZ_final['INTERVAL_DIAG_TO_VS'], tmz_then_rt['INTERVAL_DIAG_TO_VS'],\n",
    "                       event_observed_A = TMZ_final.apply(conditions,axis=1).astype(int),\n",
    "                       event_observed_B = tmz_then_rt.apply(conditions,axis=1).astype(int))\n",
    "Tonly_TMZthenRT_results.print_summary()"
   ]
  },
  {
   "cell_type": "markdown",
   "id": "8887ab45",
   "metadata": {},
   "source": [
    "## Discovery into PCV comparing with TMZ (plus RT or not)"
   ]
  },
  {
   "cell_type": "code",
   "execution_count": 68,
   "id": "2bbbdcb7",
   "metadata": {
    "scrolled": false
   },
   "outputs": [
    {
     "name": "stdout",
     "output_type": "stream",
     "text": [
      "pcv only patients count 194\n"
     ]
    },
    {
     "name": "stderr",
     "output_type": "stream",
     "text": [
      "/tmp/ipykernel_920047/684434533.py:10: SettingWithCopyWarning:\n",
      "\n",
      "\n",
      "A value is trying to be set on a copy of a slice from a DataFrame.\n",
      "Try using .loc[row_indexer,col_indexer] = value instead\n",
      "\n",
      "See the caveats in the documentation: https://pandas.pydata.org/pandas-docs/stable/user_guide/indexing.html#returning-a-view-versus-a-copy\n",
      "\n",
      "/tmp/ipykernel_920047/684434533.py:11: SettingWithCopyWarning:\n",
      "\n",
      "\n",
      "A value is trying to be set on a copy of a slice from a DataFrame.\n",
      "Try using .loc[row_indexer,col_indexer] = value instead\n",
      "\n",
      "See the caveats in the documentation: https://pandas.pydata.org/pandas-docs/stable/user_guide/indexing.html#returning-a-view-versus-a-copy\n",
      "\n"
     ]
    }
   ],
   "source": [
    "## build a group for PCV only\n",
    "pcv = pd.read_sql(\"SELECT * FROM SACT WHERE BENCHMARK_GROUP IN ('PCV', 'LOMUSTINE + PROCARBAZINE + VINCRISTINE') AND PSEUDO_PATIENTID IN (SELECT PSEUDO_PATIENTID FROM TUM_PAT WHERE MORPH_ICD10_O2 IN (9450, 9451) AND (INTERVAL_DIAG_TO_VS != '') AND (VITALSTATUS IN ('A', 'D')) AND (ETHNICITY IN ('A','B', 'C', 'D', 'F', 'G', 'H', 'J', 'L', 'M', 'N', 'P', 'R', 'S', 'X', 'Z')) AND (DIAGNOSISYEAR IN (2013,2014,2015,2016,2017,2018)) AND (SEX IN (1,2)) AND (BASISOFDIAGNOSIS IN (1,2,7,9)));\",conn)\n",
    "\n",
    "## not in RTDS\n",
    "pcv_only = pcv[~pcv['PSEUDO_PATIENTID'].isin(r_oligo['PSEUDO_PATIENTID'])]\n",
    "\n",
    "# don't forget to choose those in C70/C71/C72 diagnosis\n",
    "# diagnosis=('C70', 'C71', 'C72'), fetch the first 3 characters in Primary diagnosis column of new dataframe to double check\n",
    "pcv_only=Fetch_first(pcv_only)\n",
    "\n",
    "pcv_only=pcv_only[pcv_only.site_ICD10.isin(diagnosis)]\n",
    "\n",
    "# and choose those also underwent surgery in new version of codes\n",
    "pcv_only = pcv_only[pcv_only['PSEUDO_PATIENTID'].isin(surgery_or_bio['PSEUDO_PATIENTID'])]\n",
    "\n",
    "# and merge it with TUM_PAT for KaplanMeier 's applicaiton\n",
    "pcv_only=pd.merge(df,pcv_only, on='PSEUDO_PATIENTID')\n",
    "print('pcv only patients count',pcv_only['PSEUDO_PATIENTID'].nunique())"
   ]
  },
  {
   "cell_type": "code",
   "execution_count": 69,
   "id": "71571ae1",
   "metadata": {
    "scrolled": true
   },
   "outputs": [
    {
     "name": "stderr",
     "output_type": "stream",
     "text": [
      "/tmp/ipykernel_920047/684434533.py:5: SettingWithCopyWarning:\n",
      "\n",
      "\n",
      "A value is trying to be set on a copy of a slice from a DataFrame\n",
      "\n",
      "See the caveats in the documentation: https://pandas.pydata.org/pandas-docs/stable/user_guide/indexing.html#returning-a-view-versus-a-copy\n",
      "\n",
      "/tmp/ipykernel_920047/684434533.py:6: SettingWithCopyWarning:\n",
      "\n",
      "\n",
      "A value is trying to be set on a copy of a slice from a DataFrame\n",
      "\n",
      "See the caveats in the documentation: https://pandas.pydata.org/pandas-docs/stable/user_guide/indexing.html#returning-a-view-versus-a-copy\n",
      "\n",
      "/tmp/ipykernel_920047/2080809141.py:8: SettingWithCopyWarning:\n",
      "\n",
      "\n",
      "A value is trying to be set on a copy of a slice from a DataFrame.\n",
      "Try using .loc[row_indexer,col_indexer] = value instead\n",
      "\n",
      "See the caveats in the documentation: https://pandas.pydata.org/pandas-docs/stable/user_guide/indexing.html#returning-a-view-versus-a-copy\n",
      "\n"
     ]
    },
    {
     "data": {
      "text/plain": [
       "(0.0, 1.0302169052325554)"
      ]
     },
     "execution_count": 69,
     "metadata": {},
     "output_type": "execute_result"
    },
    {
     "data": {
      "image/png": "[encoded data removed]",
      "text/plain": [
       "<Figure size 640x480 with 1 Axes>"
      ]
     },
     "metadata": {},
     "output_type": "display_data"
    }
   ],
   "source": [
    "## PCV RT vs TMZ RT vs TMZ only vs PCV only\n",
    "TMZ_RT_withI=Drop(TMZ_RT_withI)\n",
    "TMZ_RT_withI['VITALSTATUS_NEW'] = TMZ_RT_withI.apply(conditions, axis = 1)\n",
    "tmz_rt=kmf.fit(durations = TMZ_RT_withI['INTERVAL_DIAG_TO_VS'].astype(int), event_observed = TMZ_RT_withI['VITALSTATUS_NEW'], label = 'TMZ + RT (N=145)')\n",
    "kmf.plot(ci_show=False)\n",
    "\n",
    "TMZ_final=Drop(TMZ_final)\n",
    "TMZ_final['VITALSTATUS_NEW'] = TMZ_final.apply(conditions, axis = 1)\n",
    "tmz=kmf.fit(durations = TMZ_final['INTERVAL_DIAG_TO_VS'].astype(int), event_observed = TMZ_final['VITALSTATUS_NEW'], label = 'TMZ only (N=154)')\n",
    "kmf.plot(ci_show=False)\n",
    "\n",
    "PCV_RT=Drop(PCV_RT)\n",
    "PCV_RT['VITALSTATUS_NEW'] = PCV_RT.apply(conditions, axis = 1)\n",
    "pcv_rt=kmf.fit(durations = PCV_RT['INTERVAL_DIAG_TO_VS'].astype(int), event_observed = PCV_RT['VITALSTATUS_NEW'], label = 'PCV + RT (N=275)')\n",
    "kmf.plot(ci_show=False)\n",
    "\n",
    "pcv_only=Drop(pcv_only)\n",
    "pcv_only['VITALSTATUS_NEW'] = pcv_only.apply(conditions, axis = 1)\n",
    "pcv=kmf.fit(durations = pcv_only['INTERVAL_DIAG_TO_VS'].astype(int), event_observed = pcv_only['VITALSTATUS_NEW'], label = 'PCV only (N=194)')\n",
    "kmf.plot(ci_show=False)\n",
    "\n",
    "plt.xlabel('Days')\n",
    "plt.title('Survival curve: PCV (+/- RT) vs TMZ (+/-RT)')\n",
    "plt.ylabel('Probability')\n",
    "plt.ylim(0,)"
   ]
  },
  {
   "cell_type": "code",
   "execution_count": 70,
   "id": "fd5aa3a7",
   "metadata": {},
   "outputs": [
    {
     "data": {
      "text/html": [
       "<div>\n",
       "<style scoped>\n",
       "    .dataframe tbody tr th:only-of-type {\n",
       "        vertical-align: middle;\n",
       "    }\n",
       "\n",
       "    .dataframe tbody tr th {\n",
       "        vertical-align: top;\n",
       "    }\n",
       "\n",
       "    .dataframe thead th {\n",
       "        text-align: right;\n",
       "    }\n",
       "</style>\n",
       "<table border=\"1\" class=\"dataframe\">\n",
       "  <tbody>\n",
       "    <tr>\n",
       "      <th>t_0</th>\n",
       "      <td>-1</td>\n",
       "    </tr>\n",
       "    <tr>\n",
       "      <th>null_distribution</th>\n",
       "      <td>chi squared</td>\n",
       "    </tr>\n",
       "    <tr>\n",
       "      <th>degrees_of_freedom</th>\n",
       "      <td>1</td>\n",
       "    </tr>\n",
       "    <tr>\n",
       "      <th>test_name</th>\n",
       "      <td>logrank_test</td>\n",
       "    </tr>\n",
       "  </tbody>\n",
       "</table>\n",
       "</div><table border=\"1\" class=\"dataframe\">\n",
       "  <thead>\n",
       "    <tr style=\"text-align: right;\">\n",
       "      <th></th>\n",
       "      <th>test_statistic</th>\n",
       "      <th>p</th>\n",
       "      <th>-log2(p)</th>\n",
       "    </tr>\n",
       "  </thead>\n",
       "  <tbody>\n",
       "    <tr>\n",
       "      <th>0</th>\n",
       "      <td>18.95</td>\n",
       "      <td>&lt;0.005</td>\n",
       "      <td>16.19</td>\n",
       "    </tr>\n",
       "  </tbody>\n",
       "</table>"
      ],
      "text/latex": [
       "\\begin{tabular}{lrrr}\n",
       " & test_statistic & p & -log2(p) \\\\\n",
       "0 & 18.95 & 0.00 & 16.19 \\\\\n",
       "\\end{tabular}\n"
      ],
      "text/plain": [
       "<lifelines.StatisticalResult: logrank_test>\n",
       "               t_0 = -1\n",
       " null_distribution = chi squared\n",
       "degrees_of_freedom = 1\n",
       "         test_name = logrank_test\n",
       "\n",
       "---\n",
       " test_statistic      p  -log2(p)\n",
       "          18.95 <0.005     16.19"
      ]
     },
     "metadata": {},
     "output_type": "display_data"
    }
   ],
   "source": [
    "PCVRT_PCVonly_results = logrank_test(PCV_RT['INTERVAL_DIAG_TO_VS'], pcv_only['INTERVAL_DIAG_TO_VS'],\n",
    "                       event_observed_A = PCV_RT.apply(conditions,axis=1).astype(int),\n",
    "                       event_observed_B = pcv_only.apply(conditions,axis=1).astype(int))\n",
    "PCVRT_PCVonly_results.print_summary()"
   ]
  },
  {
   "cell_type": "code",
   "execution_count": 71,
   "id": "12ce6c73",
   "metadata": {},
   "outputs": [
    {
     "data": {
      "text/html": [
       "<div>\n",
       "<style scoped>\n",
       "    .dataframe tbody tr th:only-of-type {\n",
       "        vertical-align: middle;\n",
       "    }\n",
       "\n",
       "    .dataframe tbody tr th {\n",
       "        vertical-align: top;\n",
       "    }\n",
       "\n",
       "    .dataframe thead th {\n",
       "        text-align: right;\n",
       "    }\n",
       "</style>\n",
       "<table border=\"1\" class=\"dataframe\">\n",
       "  <tbody>\n",
       "    <tr>\n",
       "      <th>t_0</th>\n",
       "      <td>-1</td>\n",
       "    </tr>\n",
       "    <tr>\n",
       "      <th>null_distribution</th>\n",
       "      <td>chi squared</td>\n",
       "    </tr>\n",
       "    <tr>\n",
       "      <th>degrees_of_freedom</th>\n",
       "      <td>1</td>\n",
       "    </tr>\n",
       "    <tr>\n",
       "      <th>test_name</th>\n",
       "      <td>logrank_test</td>\n",
       "    </tr>\n",
       "  </tbody>\n",
       "</table>\n",
       "</div><table border=\"1\" class=\"dataframe\">\n",
       "  <thead>\n",
       "    <tr style=\"text-align: right;\">\n",
       "      <th></th>\n",
       "      <th>test_statistic</th>\n",
       "      <th>p</th>\n",
       "      <th>-log2(p)</th>\n",
       "    </tr>\n",
       "  </thead>\n",
       "  <tbody>\n",
       "    <tr>\n",
       "      <th>0</th>\n",
       "      <td>62.72</td>\n",
       "      <td>&lt;0.005</td>\n",
       "      <td>48.57</td>\n",
       "    </tr>\n",
       "  </tbody>\n",
       "</table>"
      ],
      "text/latex": [
       "\\begin{tabular}{lrrr}\n",
       " & test_statistic & p & -log2(p) \\\\\n",
       "0 & 62.72 & 0.00 & 48.57 \\\\\n",
       "\\end{tabular}\n"
      ],
      "text/plain": [
       "<lifelines.StatisticalResult: logrank_test>\n",
       "               t_0 = -1\n",
       " null_distribution = chi squared\n",
       "degrees_of_freedom = 1\n",
       "         test_name = logrank_test\n",
       "\n",
       "---\n",
       " test_statistic      p  -log2(p)\n",
       "          62.72 <0.005     48.57"
      ]
     },
     "metadata": {},
     "output_type": "display_data"
    }
   ],
   "source": [
    "PCVRT_TMZonly_results = logrank_test(PCV_RT['INTERVAL_DIAG_TO_VS'], TMZ_final['INTERVAL_DIAG_TO_VS'],\n",
    "                       event_observed_A = PCV_RT.apply(conditions,axis=1).astype(int),\n",
    "                       event_observed_B = TMZ_final.apply(conditions,axis=1).astype(int))\n",
    "PCVRT_TMZonly_results.print_summary()"
   ]
  },
  {
   "cell_type": "code",
   "execution_count": 72,
   "id": "617f6a36",
   "metadata": {},
   "outputs": [
    {
     "name": "stdout",
     "output_type": "stream",
     "text": [
      "after SITE_ICD10 cleaning, PCV patient number 458\n",
      "after SITE_ICD10 cleaning, TMZ patient number 299\n"
     ]
    }
   ],
   "source": [
    "pcv = pd.read_sql(\"SELECT * FROM SACT WHERE (PRIMARY_DIAGNOSIS LIKE 'C71_' or 'C72_') AND BENCHMARK_GROUP IN ('PCV', 'LOMUSTINE + PROCARBAZINE + VINCRISTINE') AND PSEUDO_PATIENTID IN (SELECT PSEUDO_PATIENTID FROM TUM_PAT WHERE MORPH_ICD10_O2 IN (9450, 9451) AND (INTERVAL_DIAG_TO_VS != '') AND (VITALSTATUS IN ('A', 'D')) AND (ETHNICITY IN ('A','B', 'C', 'D', 'F', 'G', 'H', 'J', 'L', 'M', 'N', 'P', 'R', 'S', 'X', 'Z')) AND (DIAGNOSISYEAR IN (2013,2014,2015,2016,2017,2018)) AND (SEX IN (1,2)) AND (BASISOFDIAGNOSIS IN (1,2,7,9)));\",conn)\n",
    "pcv=pd.merge(pcv,df,on='PSEUDO_PATIENTID')\n",
    "\n",
    "pcv.drop_duplicates(subset='PSEUDO_PATIENTID', inplace=True)\n",
    "print('after SITE_ICD10 cleaning, PCV patient number',pcv['PSEUDO_PATIENTID'].nunique())\n",
    "\n",
    "tmz = pd.read_sql(\"SELECT * FROM SACT WHERE (PRIMARY_DIAGNOSIS LIKE 'C71_' or 'C72_') AND BENCHMARK_GROUP IN ('TEMOZOLOMIDE', 'TEMOZOLOMIDE + RT') AND PSEUDO_PATIENTID IN (SELECT PSEUDO_PATIENTID FROM TUM_PAT WHERE MORPH_ICD10_O2 IN (9450, 9451) AND (INTERVAL_DIAG_TO_VS != '') AND (VITALSTATUS IN ('A', 'D')) AND (ETHNICITY IN ('A','B', 'C', 'D', 'F', 'G', 'H', 'J', 'L', 'M', 'N', 'P', 'R', 'S', 'X', 'Z')) AND (DIAGNOSISYEAR IN (2013,2014,2015,2016,2017,2018)) AND (SEX IN (1,2)) AND (BASISOFDIAGNOSIS IN (1,2,7,9)));\",conn)\n",
    "tmz = pd.merge(tmz, df, on = 'PSEUDO_PATIENTID')\n",
    "\n",
    "tmz.drop_duplicates(subset='PSEUDO_PATIENTID', inplace=True)\n",
    "print('after SITE_ICD10 cleaning, TMZ patient number', tmz['PSEUDO_PATIENTID'].nunique())\n"
   ]
  },
  {
   "cell_type": "markdown",
   "id": "d2175e2a",
   "metadata": {},
   "source": [
    "## Cox version 5"
   ]
  },
  {
   "cell_type": "code",
   "execution_count": 73,
   "id": "4760fa79",
   "metadata": {},
   "outputs": [
    {
     "name": "stderr",
     "output_type": "stream",
     "text": [
      "/tmp/ipykernel_920047/141639176.py:7: SettingWithCopyWarning:\n",
      "\n",
      "\n",
      "A value is trying to be set on a copy of a slice from a DataFrame\n",
      "\n",
      "See the caveats in the documentation: https://pandas.pydata.org/pandas-docs/stable/user_guide/indexing.html#returning-a-view-versus-a-copy\n",
      "\n",
      "/tmp/ipykernel_920047/141639176.py:8: SettingWithCopyWarning:\n",
      "\n",
      "\n",
      "A value is trying to be set on a copy of a slice from a DataFrame\n",
      "\n",
      "See the caveats in the documentation: https://pandas.pydata.org/pandas-docs/stable/user_guide/indexing.html#returning-a-view-versus-a-copy\n",
      "\n",
      "/tmp/ipykernel_920047/141639176.py:11: SettingWithCopyWarning:\n",
      "\n",
      "\n",
      "A value is trying to be set on a copy of a slice from a DataFrame\n",
      "\n",
      "See the caveats in the documentation: https://pandas.pydata.org/pandas-docs/stable/user_guide/indexing.html#returning-a-view-versus-a-copy\n",
      "\n",
      "/tmp/ipykernel_920047/141639176.py:12: SettingWithCopyWarning:\n",
      "\n",
      "\n",
      "A value is trying to be set on a copy of a slice from a DataFrame\n",
      "\n",
      "See the caveats in the documentation: https://pandas.pydata.org/pandas-docs/stable/user_guide/indexing.html#returning-a-view-versus-a-copy\n",
      "\n",
      "/tmp/ipykernel_920047/141639176.py:13: SettingWithCopyWarning:\n",
      "\n",
      "\n",
      "A value is trying to be set on a copy of a slice from a DataFrame\n",
      "\n",
      "See the caveats in the documentation: https://pandas.pydata.org/pandas-docs/stable/user_guide/indexing.html#returning-a-view-versus-a-copy\n",
      "\n",
      "/tmp/ipykernel_920047/141639176.py:15: SettingWithCopyWarning:\n",
      "\n",
      "\n",
      "A value is trying to be set on a copy of a slice from a DataFrame\n",
      "\n",
      "See the caveats in the documentation: https://pandas.pydata.org/pandas-docs/stable/user_guide/indexing.html#returning-a-view-versus-a-copy\n",
      "\n",
      "/tmp/ipykernel_920047/141639176.py:16: SettingWithCopyWarning:\n",
      "\n",
      "\n",
      "A value is trying to be set on a copy of a slice from a DataFrame\n",
      "\n",
      "See the caveats in the documentation: https://pandas.pydata.org/pandas-docs/stable/user_guide/indexing.html#returning-a-view-versus-a-copy\n",
      "\n",
      "/tmp/ipykernel_920047/141639176.py:17: SettingWithCopyWarning:\n",
      "\n",
      "\n",
      "A value is trying to be set on a copy of a slice from a DataFrame\n",
      "\n",
      "See the caveats in the documentation: https://pandas.pydata.org/pandas-docs/stable/user_guide/indexing.html#returning-a-view-versus-a-copy\n",
      "\n",
      "/tmp/ipykernel_920047/141639176.py:18: SettingWithCopyWarning:\n",
      "\n",
      "\n",
      "A value is trying to be set on a copy of a slice from a DataFrame\n",
      "\n",
      "See the caveats in the documentation: https://pandas.pydata.org/pandas-docs/stable/user_guide/indexing.html#returning-a-view-versus-a-copy\n",
      "\n",
      "/tmp/ipykernel_920047/141639176.py:20: SettingWithCopyWarning:\n",
      "\n",
      "\n",
      "A value is trying to be set on a copy of a slice from a DataFrame\n",
      "\n",
      "See the caveats in the documentation: https://pandas.pydata.org/pandas-docs/stable/user_guide/indexing.html#returning-a-view-versus-a-copy\n",
      "\n",
      "/tmp/ipykernel_920047/141639176.py:21: SettingWithCopyWarning:\n",
      "\n",
      "\n",
      "A value is trying to be set on a copy of a slice from a DataFrame\n",
      "\n",
      "See the caveats in the documentation: https://pandas.pydata.org/pandas-docs/stable/user_guide/indexing.html#returning-a-view-versus-a-copy\n",
      "\n",
      "/tmp/ipykernel_920047/141639176.py:22: SettingWithCopyWarning:\n",
      "\n",
      "\n",
      "A value is trying to be set on a copy of a slice from a DataFrame\n",
      "\n",
      "See the caveats in the documentation: https://pandas.pydata.org/pandas-docs/stable/user_guide/indexing.html#returning-a-view-versus-a-copy\n",
      "\n",
      "/tmp/ipykernel_920047/141639176.py:24: SettingWithCopyWarning:\n",
      "\n",
      "\n",
      "A value is trying to be set on a copy of a slice from a DataFrame\n",
      "\n",
      "See the caveats in the documentation: https://pandas.pydata.org/pandas-docs/stable/user_guide/indexing.html#returning-a-view-versus-a-copy\n",
      "\n",
      "/tmp/ipykernel_920047/141639176.py:25: SettingWithCopyWarning:\n",
      "\n",
      "\n",
      "A value is trying to be set on a copy of a slice from a DataFrame\n",
      "\n",
      "See the caveats in the documentation: https://pandas.pydata.org/pandas-docs/stable/user_guide/indexing.html#returning-a-view-versus-a-copy\n",
      "\n",
      "/tmp/ipykernel_920047/141639176.py:26: SettingWithCopyWarning:\n",
      "\n",
      "\n",
      "A value is trying to be set on a copy of a slice from a DataFrame\n",
      "\n",
      "See the caveats in the documentation: https://pandas.pydata.org/pandas-docs/stable/user_guide/indexing.html#returning-a-view-versus-a-copy\n",
      "\n",
      "/tmp/ipykernel_920047/141639176.py:27: SettingWithCopyWarning:\n",
      "\n",
      "\n",
      "A value is trying to be set on a copy of a slice from a DataFrame\n",
      "\n",
      "See the caveats in the documentation: https://pandas.pydata.org/pandas-docs/stable/user_guide/indexing.html#returning-a-view-versus-a-copy\n",
      "\n",
      "/tmp/ipykernel_920047/141639176.py:28: SettingWithCopyWarning:\n",
      "\n",
      "\n",
      "A value is trying to be set on a copy of a slice from a DataFrame\n",
      "\n",
      "See the caveats in the documentation: https://pandas.pydata.org/pandas-docs/stable/user_guide/indexing.html#returning-a-view-versus-a-copy\n",
      "\n",
      "/tmp/ipykernel_920047/141639176.py:29: SettingWithCopyWarning:\n",
      "\n",
      "\n",
      "A value is trying to be set on a copy of a slice from a DataFrame\n",
      "\n",
      "See the caveats in the documentation: https://pandas.pydata.org/pandas-docs/stable/user_guide/indexing.html#returning-a-view-versus-a-copy\n",
      "\n",
      "/tmp/ipykernel_920047/141639176.py:30: SettingWithCopyWarning:\n",
      "\n",
      "\n",
      "A value is trying to be set on a copy of a slice from a DataFrame\n",
      "\n",
      "See the caveats in the documentation: https://pandas.pydata.org/pandas-docs/stable/user_guide/indexing.html#returning-a-view-versus-a-copy\n",
      "\n",
      "/tmp/ipykernel_920047/141639176.py:33: SettingWithCopyWarning:\n",
      "\n",
      "\n",
      "A value is trying to be set on a copy of a slice from a DataFrame\n",
      "\n",
      "See the caveats in the documentation: https://pandas.pydata.org/pandas-docs/stable/user_guide/indexing.html#returning-a-view-versus-a-copy\n",
      "\n",
      "/tmp/ipykernel_920047/141639176.py:35: SettingWithCopyWarning:\n",
      "\n",
      "\n",
      "A value is trying to be set on a copy of a slice from a DataFrame\n",
      "\n",
      "See the caveats in the documentation: https://pandas.pydata.org/pandas-docs/stable/user_guide/indexing.html#returning-a-view-versus-a-copy\n",
      "\n",
      "/tmp/ipykernel_920047/141639176.py:36: SettingWithCopyWarning:\n",
      "\n",
      "\n",
      "A value is trying to be set on a copy of a slice from a DataFrame\n",
      "\n",
      "See the caveats in the documentation: https://pandas.pydata.org/pandas-docs/stable/user_guide/indexing.html#returning-a-view-versus-a-copy\n",
      "\n",
      "/tmp/ipykernel_920047/141639176.py:37: SettingWithCopyWarning:\n",
      "\n",
      "\n",
      "A value is trying to be set on a copy of a slice from a DataFrame\n",
      "\n",
      "See the caveats in the documentation: https://pandas.pydata.org/pandas-docs/stable/user_guide/indexing.html#returning-a-view-versus-a-copy\n",
      "\n",
      "/tmp/ipykernel_920047/141639176.py:38: SettingWithCopyWarning:\n",
      "\n",
      "\n",
      "A value is trying to be set on a copy of a slice from a DataFrame\n",
      "\n",
      "See the caveats in the documentation: https://pandas.pydata.org/pandas-docs/stable/user_guide/indexing.html#returning-a-view-versus-a-copy\n",
      "\n",
      "/tmp/ipykernel_920047/141639176.py:39: SettingWithCopyWarning:\n",
      "\n",
      "\n",
      "A value is trying to be set on a copy of a slice from a DataFrame\n",
      "\n",
      "See the caveats in the documentation: https://pandas.pydata.org/pandas-docs/stable/user_guide/indexing.html#returning-a-view-versus-a-copy\n",
      "\n",
      "/tmp/ipykernel_920047/141639176.py:40: SettingWithCopyWarning:\n",
      "\n",
      "\n",
      "A value is trying to be set on a copy of a slice from a DataFrame\n",
      "\n",
      "See the caveats in the documentation: https://pandas.pydata.org/pandas-docs/stable/user_guide/indexing.html#returning-a-view-versus-a-copy\n",
      "\n",
      "/tmp/ipykernel_920047/141639176.py:41: SettingWithCopyWarning:\n",
      "\n",
      "\n",
      "A value is trying to be set on a copy of a slice from a DataFrame\n",
      "\n",
      "See the caveats in the documentation: https://pandas.pydata.org/pandas-docs/stable/user_guide/indexing.html#returning-a-view-versus-a-copy\n",
      "\n",
      "/tmp/ipykernel_920047/141639176.py:42: SettingWithCopyWarning:\n",
      "\n",
      "\n",
      "A value is trying to be set on a copy of a slice from a DataFrame\n",
      "\n",
      "See the caveats in the documentation: https://pandas.pydata.org/pandas-docs/stable/user_guide/indexing.html#returning-a-view-versus-a-copy\n",
      "\n",
      "/tmp/ipykernel_920047/141639176.py:45: SettingWithCopyWarning:\n",
      "\n",
      "\n",
      "A value is trying to be set on a copy of a slice from a DataFrame\n",
      "\n",
      "See the caveats in the documentation: https://pandas.pydata.org/pandas-docs/stable/user_guide/indexing.html#returning-a-view-versus-a-copy\n",
      "\n",
      "/tmp/ipykernel_920047/141639176.py:46: SettingWithCopyWarning:\n",
      "\n",
      "\n",
      "A value is trying to be set on a copy of a slice from a DataFrame\n",
      "\n",
      "See the caveats in the documentation: https://pandas.pydata.org/pandas-docs/stable/user_guide/indexing.html#returning-a-view-versus-a-copy\n",
      "\n",
      "/tmp/ipykernel_920047/141639176.py:47: SettingWithCopyWarning:\n",
      "\n",
      "\n",
      "A value is trying to be set on a copy of a slice from a DataFrame\n",
      "\n",
      "See the caveats in the documentation: https://pandas.pydata.org/pandas-docs/stable/user_guide/indexing.html#returning-a-view-versus-a-copy\n",
      "\n",
      "/tmp/ipykernel_920047/141639176.py:48: SettingWithCopyWarning:\n",
      "\n",
      "\n",
      "A value is trying to be set on a copy of a slice from a DataFrame\n",
      "\n",
      "See the caveats in the documentation: https://pandas.pydata.org/pandas-docs/stable/user_guide/indexing.html#returning-a-view-versus-a-copy\n",
      "\n",
      "/tmp/ipykernel_920047/141639176.py:49: SettingWithCopyWarning:\n",
      "\n",
      "\n",
      "A value is trying to be set on a copy of a slice from a DataFrame\n",
      "\n",
      "See the caveats in the documentation: https://pandas.pydata.org/pandas-docs/stable/user_guide/indexing.html#returning-a-view-versus-a-copy\n",
      "\n"
     ]
    }
   ],
   "source": [
    "## firstly we need to deal with NA in GRADE\n",
    "df['GRADE'].replace('','GX', inplace=True)\n",
    "df['GRADE'].replace('GX','NOS', inplace=True)\n",
    "df_cox=df[['PSEUDO_PATIENTID','BIGTUMOURCOUNT','AGE', 'SEX', 'INCOME_QUINTILE_2015', 'ETHNICITYNAME', 'GRADE', 'VITALSTATUS', 'INTERVAL_DIAG_TO_VS', 'SITE_ICD10_O2']]\n",
    "\n",
    "# Clean data as usual\n",
    "df_cox['VITALSTATUS'].replace(r'A', 0, inplace=True)\n",
    "df_cox['VITALSTATUS'].replace(r'D', 1, inplace=True)\n",
    "\n",
    "## black, asian, white and NOS\n",
    "df_cox['ETHNICITYNAME'].replace('ANY OTHER BLACK BACKGROUND', 'BLACK', inplace=True)\n",
    "df_cox['ETHNICITYNAME'].replace('BLACK AFRICAN', 'BLACK', inplace=True)\n",
    "df_cox['ETHNICITYNAME'].replace('BLACK CARIBBEAN', 'BLACK', inplace=True)\n",
    "\n",
    "df_cox['ETHNICITYNAME'].replace('CHINESE', 'ASIAN', inplace=True)\n",
    "df_cox['ETHNICITYNAME'].replace('ASIAN INDIAN', 'ASIAN', inplace=True)\n",
    "df_cox['ETHNICITYNAME'].replace('ASIAN PAKISTANI', 'ASIAN', inplace=True)\n",
    "df_cox['ETHNICITYNAME'].replace('ANY OTHER ASIAN BACKGROUND', 'ASIAN', inplace=True)\n",
    "\n",
    "df_cox['ETHNICITYNAME'].replace('WHITE IRISH', 'WHITE', inplace=True)\n",
    "df_cox['ETHNICITYNAME'].replace('WHITE BRITISH', 'WHITE', inplace=True)\n",
    "df_cox['ETHNICITYNAME'].replace('ANY OTHER WHITE BACKGROUND', 'WHITE', inplace=True)\n",
    "\n",
    "df_cox['ETHNICITYNAME'].replace('ANY OTHER MIXED BACKGROUND', 'Ethnicity NOS', inplace=True)\n",
    "df_cox['ETHNICITYNAME'].replace('NOT KNOWN', 'Ethnicity NOS', inplace=True)\n",
    "df_cox['ETHNICITYNAME'].replace('NOT STATED', 'Ethnicity NOS', inplace=True)\n",
    "df_cox['ETHNICITYNAME'].replace('ANY OTHER ETHNIC GROUP', 'Ethnicity NOS', inplace=True)\n",
    "df_cox['ETHNICITYNAME'].replace('ANY OTHER MIXED BACKGROUND', 'Ethnicity NOS', inplace=True)\n",
    "df_cox['ETHNICITYNAME'].replace('MIXED WHITE AND ASIAN', 'Ethnicity NOS', inplace=True)\n",
    "df_cox['ETHNICITYNAME'].replace('MIXED WHITE AND BLACK CARIBBEAN', 'Ethnicity NOS', inplace=True)\n",
    "\n",
    "## C71 and C72\n",
    "df_cox['SITE_ICD10_O2'].replace('C725', 'C72', inplace=True)\n",
    "\n",
    "df_cox['SITE_ICD10_O2'].replace('C710', 'C71', inplace=True)\n",
    "df_cox['SITE_ICD10_O2'].replace('C711', 'C71', inplace=True)\n",
    "df_cox['SITE_ICD10_O2'].replace('C712', 'C71', inplace=True)\n",
    "df_cox['SITE_ICD10_O2'].replace('C713', 'C71', inplace=True)\n",
    "df_cox['SITE_ICD10_O2'].replace('C714', 'C71', inplace=True)\n",
    "df_cox['SITE_ICD10_O2'].replace('C716', 'C71', inplace=True)\n",
    "df_cox['SITE_ICD10_O2'].replace('C718', 'C71', inplace=True)\n",
    "df_cox['SITE_ICD10_O2'].replace('C719', 'C71', inplace=True)\n",
    "\n",
    "## Most/middle/Least deprived\n",
    "df_cox['INCOME_QUINTILE_2015'].replace('1 - Least deprived', 'Least deprived', inplace=True)\n",
    "df_cox['INCOME_QUINTILE_2015'].replace('2', 'Least deprived', inplace=True)\n",
    "df_cox['INCOME_QUINTILE_2015'].replace('3', 'Middle deprived', inplace=True)\n",
    "df_cox['INCOME_QUINTILE_2015'].replace('4', 'Most deprived', inplace=True)\n",
    "df_cox['INCOME_QUINTILE_2015'].replace('5 - Most deprived', 'Most deprived', inplace=True)"
   ]
  },
  {
   "cell_type": "code",
   "execution_count": 74,
   "id": "67f6a2bd",
   "metadata": {
    "scrolled": true
   },
   "outputs": [
    {
     "name": "stderr",
     "output_type": "stream",
     "text": [
      "/tmp/ipykernel_920047/2268155444.py:1: SettingWithCopyWarning:\n",
      "\n",
      "\n",
      "A value is trying to be set on a copy of a slice from a DataFrame.\n",
      "Try using .loc[row_indexer,col_indexer] = value instead\n",
      "\n",
      "See the caveats in the documentation: https://pandas.pydata.org/pandas-docs/stable/user_guide/indexing.html#returning-a-view-versus-a-copy\n",
      "\n",
      "/tmp/ipykernel_920047/2268155444.py:2: SettingWithCopyWarning:\n",
      "\n",
      "\n",
      "A value is trying to be set on a copy of a slice from a DataFrame.\n",
      "Try using .loc[row_indexer,col_indexer] = value instead\n",
      "\n",
      "See the caveats in the documentation: https://pandas.pydata.org/pandas-docs/stable/user_guide/indexing.html#returning-a-view-versus-a-copy\n",
      "\n",
      "/tmp/ipykernel_920047/2268155444.py:4: SettingWithCopyWarning:\n",
      "\n",
      "\n",
      "A value is trying to be set on a copy of a slice from a DataFrame.\n",
      "Try using .loc[row_indexer,col_indexer] = value instead\n",
      "\n",
      "See the caveats in the documentation: https://pandas.pydata.org/pandas-docs/stable/user_guide/indexing.html#returning-a-view-versus-a-copy\n",
      "\n",
      "/tmp/ipykernel_920047/2268155444.py:5: SettingWithCopyWarning:\n",
      "\n",
      "\n",
      "A value is trying to be set on a copy of a slice from a DataFrame.\n",
      "Try using .loc[row_indexer,col_indexer] = value instead\n",
      "\n",
      "See the caveats in the documentation: https://pandas.pydata.org/pandas-docs/stable/user_guide/indexing.html#returning-a-view-versus-a-copy\n",
      "\n",
      "/tmp/ipykernel_920047/2268155444.py:8: SettingWithCopyWarning:\n",
      "\n",
      "\n",
      "A value is trying to be set on a copy of a slice from a DataFrame.\n",
      "Try using .loc[row_indexer,col_indexer] = value instead\n",
      "\n",
      "See the caveats in the documentation: https://pandas.pydata.org/pandas-docs/stable/user_guide/indexing.html#returning-a-view-versus-a-copy\n",
      "\n",
      "/tmp/ipykernel_920047/2268155444.py:9: SettingWithCopyWarning:\n",
      "\n",
      "\n",
      "A value is trying to be set on a copy of a slice from a DataFrame.\n",
      "Try using .loc[row_indexer,col_indexer] = value instead\n",
      "\n",
      "See the caveats in the documentation: https://pandas.pydata.org/pandas-docs/stable/user_guide/indexing.html#returning-a-view-versus-a-copy\n",
      "\n",
      "/tmp/ipykernel_920047/2268155444.py:12: SettingWithCopyWarning:\n",
      "\n",
      "\n",
      "A value is trying to be set on a copy of a slice from a DataFrame.\n",
      "Try using .loc[row_indexer,col_indexer] = value instead\n",
      "\n",
      "See the caveats in the documentation: https://pandas.pydata.org/pandas-docs/stable/user_guide/indexing.html#returning-a-view-versus-a-copy\n",
      "\n",
      "/tmp/ipykernel_920047/2268155444.py:13: SettingWithCopyWarning:\n",
      "\n",
      "\n",
      "A value is trying to be set on a copy of a slice from a DataFrame.\n",
      "Try using .loc[row_indexer,col_indexer] = value instead\n",
      "\n",
      "See the caveats in the documentation: https://pandas.pydata.org/pandas-docs/stable/user_guide/indexing.html#returning-a-view-versus-a-copy\n",
      "\n"
     ]
    }
   ],
   "source": [
    "df_cox['curative_RT']=0\n",
    "df_cox['palliative_RT']=0\n",
    "\n",
    "df_cox['PCV-Palliative']=0\n",
    "df_cox['PCV-Curative']=0\n",
    "# df_cox['PCV-Adjuvant']=0\n",
    "\n",
    "df_cox['TMZ-Palliative']=0\n",
    "df_cox['TMZ-Curative']=0\n",
    "# df_cox['TMZ-Adjuvant']=0\n",
    "\n",
    "df_cox['Resection']=0\n",
    "df_cox['Biopsy']=0"
   ]
  },
  {
   "cell_type": "code",
   "execution_count": 75,
   "id": "8b0ada10",
   "metadata": {},
   "outputs": [],
   "source": [
    "pcv_r=pcv[pcv.INTENT_OF_TREATMENT == 'C']\n",
    "pcv_p=pcv[pcv.INTENT_OF_TREATMENT == 'P']\n",
    "pcv_a=pcv[pcv.INTENT_OF_TREATMENT == 'A']\n",
    "pcv_n=pcv[pcv.INTENT_OF_TREATMENT == 'N']\n",
    "\n",
    "tmz_r=tmz[tmz.INTENT_OF_TREATMENT == 'C']\n",
    "tmz_p=tmz[tmz.INTENT_OF_TREATMENT == 'P']\n",
    "tmz_a=tmz[tmz.INTENT_OF_TREATMENT == 'A']\n",
    "tmz_n=tmz[tmz.INTENT_OF_TREATMENT == 'N']\n",
    "\n",
    "radio_oligo['RTACTUALDOSE'].replace('',np.nan,inplace=True)\n",
    "radio_oligo.dropna(subset='RTACTUALDOSE', axis=0, inplace=True)\n",
    "\n",
    "curative_r = radio_oligo.query('RTACTUALDOSE > 40')\n",
    "palliative_r = radio_oligo.query('RTACTUALDOSE <= 40')"
   ]
  },
  {
   "cell_type": "code",
   "execution_count": 76,
   "id": "86bc5d46",
   "metadata": {},
   "outputs": [],
   "source": [
    "df_cox.loc[df_cox['PSEUDO_PATIENTID'].isin(curative_r['PSEUDO_PATIENTID']), 'curative_RT'] = 1 # N=89\n",
    "df_cox.loc[df_cox['PSEUDO_PATIENTID'].isin(palliative_r['PSEUDO_PATIENTID']), 'palliative_RT'] = 1 # N=386\n",
    "\n",
    "df_cox.loc[df_cox['PSEUDO_PATIENTID'].isin(pcv_p['PSEUDO_PATIENTID']), 'PCV-Palliative'] = 1  # N=59\n",
    "df_cox.loc[df_cox['PSEUDO_PATIENTID'].isin(pcv_r['PSEUDO_PATIENTID']), 'PCV-Curative'] = 1 # N=17\n",
    "df_cox.loc[df_cox['PSEUDO_PATIENTID'].isin(pcv_a['PSEUDO_PATIENTID']), 'PCV-Curative'] = 1 # N=203\n",
    "df_cox.loc[df_cox['PSEUDO_PATIENTID'].isin(pcv_n['PSEUDO_PATIENTID']), 'PCV-Curative'] = 1 # N=2, N(curative)=222\n",
    "\n",
    "df_cox.loc[df_cox['PSEUDO_PATIENTID'].isin(tmz_p['PSEUDO_PATIENTID']), 'TMZ-Palliative'] = 1  # N=102\n",
    "df_cox.loc[df_cox['PSEUDO_PATIENTID'].isin(tmz_r['PSEUDO_PATIENTID']), 'TMZ-Curative'] = 1 # N=52\n",
    "df_cox.loc[df_cox['PSEUDO_PATIENTID'].isin(tmz_a['PSEUDO_PATIENTID']), 'TMZ-Curative'] = 1 # N=83\n",
    "df_cox.loc[df_cox['PSEUDO_PATIENTID'].isin(tmz_n['PSEUDO_PATIENTID']), 'TMZ-Curative'] = 1 # N=7, N(curative)=142\n",
    "\n",
    "df_cox.loc[df_cox['PSEUDO_PATIENTID'].isin(df_surgery['PSEUDO_PATIENTID']), 'Resection'] = 1  # N=1015\n",
    "df_cox.loc[df_cox['PSEUDO_PATIENTID'].isin(df_biopsy['PSEUDO_PATIENTID']), 'Biopsy'] = 1  # N=644"
   ]
  },
  {
   "cell_type": "code",
   "execution_count": 77,
   "id": "11518c64",
   "metadata": {
    "scrolled": true
   },
   "outputs": [
    {
     "name": "stderr",
     "output_type": "stream",
     "text": [
      "/tmp/ipykernel_920047/3480013219.py:2: SettingWithCopyWarning:\n",
      "\n",
      "\n",
      "A value is trying to be set on a copy of a slice from a DataFrame\n",
      "\n",
      "See the caveats in the documentation: https://pandas.pydata.org/pandas-docs/stable/user_guide/indexing.html#returning-a-view-versus-a-copy\n",
      "\n"
     ]
    },
    {
     "data": {
      "text/html": [
       "<div>\n",
       "<style scoped>\n",
       "    .dataframe tbody tr th:only-of-type {\n",
       "        vertical-align: middle;\n",
       "    }\n",
       "\n",
       "    .dataframe tbody tr th {\n",
       "        vertical-align: top;\n",
       "    }\n",
       "\n",
       "    .dataframe thead th {\n",
       "        text-align: right;\n",
       "    }\n",
       "</style>\n",
       "<table border=\"1\" class=\"dataframe\">\n",
       "  <tbody>\n",
       "    <tr>\n",
       "      <th>model</th>\n",
       "      <td>lifelines.CoxPHFitter</td>\n",
       "    </tr>\n",
       "    <tr>\n",
       "      <th>duration col</th>\n",
       "      <td>'INTERVAL_DIAG_TO_VS'</td>\n",
       "    </tr>\n",
       "    <tr>\n",
       "      <th>event col</th>\n",
       "      <td>'VITALSTATUS'</td>\n",
       "    </tr>\n",
       "    <tr>\n",
       "      <th>penalizer</th>\n",
       "      <td>0.1</td>\n",
       "    </tr>\n",
       "    <tr>\n",
       "      <th>l1 ratio</th>\n",
       "      <td>0.0</td>\n",
       "    </tr>\n",
       "    <tr>\n",
       "      <th>baseline estimation</th>\n",
       "      <td>breslow</td>\n",
       "    </tr>\n",
       "    <tr>\n",
       "      <th>number of observations</th>\n",
       "      <td>1271</td>\n",
       "    </tr>\n",
       "    <tr>\n",
       "      <th>number of events observed</th>\n",
       "      <td>293</td>\n",
       "    </tr>\n",
       "    <tr>\n",
       "      <th>partial log-likelihood</th>\n",
       "      <td>-1840.00</td>\n",
       "    </tr>\n",
       "    <tr>\n",
       "      <th>time fit was run</th>\n",
       "      <td>2023-02-04 22:44:42 UTC</td>\n",
       "    </tr>\n",
       "  </tbody>\n",
       "</table>\n",
       "</div><table border=\"1\" class=\"dataframe\">\n",
       "  <thead>\n",
       "    <tr style=\"text-align: right;\">\n",
       "      <th style=\"min-width: 12px;\"></th>\n",
       "      <th style=\"min-width: 12px;\">coef</th>\n",
       "      <th style=\"min-width: 12px;\">exp(coef)</th>\n",
       "      <th style=\"min-width: 12px;\">se(coef)</th>\n",
       "      <th style=\"min-width: 12px;\">coef lower 95%</th>\n",
       "      <th style=\"min-width: 12px;\">coef upper 95%</th>\n",
       "      <th style=\"min-width: 12px;\">exp(coef) lower 95%</th>\n",
       "      <th style=\"min-width: 12px;\">exp(coef) upper 95%</th>\n",
       "      <th style=\"min-width: 12px;\">cmp to</th>\n",
       "      <th style=\"min-width: 12px;\">z</th>\n",
       "      <th style=\"min-width: 12px;\">p</th>\n",
       "      <th style=\"min-width: 12px;\">-log2(p)</th>\n",
       "    </tr>\n",
       "  </thead>\n",
       "  <tbody>\n",
       "    <tr>\n",
       "      <th>BIGTUMOURCOUNT</th>\n",
       "      <td>0.39</td>\n",
       "      <td>1.48</td>\n",
       "      <td>0.11</td>\n",
       "      <td>0.18</td>\n",
       "      <td>0.61</td>\n",
       "      <td>1.19</td>\n",
       "      <td>1.83</td>\n",
       "      <td>0.00</td>\n",
       "      <td>3.58</td>\n",
       "      <td>&lt;0.005</td>\n",
       "      <td>11.49</td>\n",
       "    </tr>\n",
       "    <tr>\n",
       "      <th>AGE</th>\n",
       "      <td>0.03</td>\n",
       "      <td>1.03</td>\n",
       "      <td>0.00</td>\n",
       "      <td>0.02</td>\n",
       "      <td>0.04</td>\n",
       "      <td>1.02</td>\n",
       "      <td>1.04</td>\n",
       "      <td>0.00</td>\n",
       "      <td>8.97</td>\n",
       "      <td>&lt;0.005</td>\n",
       "      <td>61.51</td>\n",
       "    </tr>\n",
       "    <tr>\n",
       "      <th>Resection</th>\n",
       "      <td>-0.41</td>\n",
       "      <td>0.66</td>\n",
       "      <td>0.12</td>\n",
       "      <td>-0.64</td>\n",
       "      <td>-0.18</td>\n",
       "      <td>0.53</td>\n",
       "      <td>0.84</td>\n",
       "      <td>0.00</td>\n",
       "      <td>-3.49</td>\n",
       "      <td>&lt;0.005</td>\n",
       "      <td>11.01</td>\n",
       "    </tr>\n",
       "    <tr>\n",
       "      <th>Biopsy</th>\n",
       "      <td>0.10</td>\n",
       "      <td>1.10</td>\n",
       "      <td>0.10</td>\n",
       "      <td>-0.10</td>\n",
       "      <td>0.29</td>\n",
       "      <td>0.90</td>\n",
       "      <td>1.34</td>\n",
       "      <td>0.00</td>\n",
       "      <td>0.95</td>\n",
       "      <td>0.34</td>\n",
       "      <td>1.55</td>\n",
       "    </tr>\n",
       "    <tr>\n",
       "      <th>SEX_1</th>\n",
       "      <td>0.01</td>\n",
       "      <td>1.01</td>\n",
       "      <td>0.14</td>\n",
       "      <td>-0.26</td>\n",
       "      <td>0.28</td>\n",
       "      <td>0.77</td>\n",
       "      <td>1.32</td>\n",
       "      <td>0.00</td>\n",
       "      <td>0.08</td>\n",
       "      <td>0.94</td>\n",
       "      <td>0.09</td>\n",
       "    </tr>\n",
       "    <tr>\n",
       "      <th>SEX_2</th>\n",
       "      <td>-0.01</td>\n",
       "      <td>0.99</td>\n",
       "      <td>0.14</td>\n",
       "      <td>-0.28</td>\n",
       "      <td>0.26</td>\n",
       "      <td>0.76</td>\n",
       "      <td>1.29</td>\n",
       "      <td>0.00</td>\n",
       "      <td>-0.08</td>\n",
       "      <td>0.94</td>\n",
       "      <td>0.09</td>\n",
       "    </tr>\n",
       "    <tr>\n",
       "      <th>INCOME_QUINTILE_2015_Least deprived</th>\n",
       "      <td>-0.04</td>\n",
       "      <td>0.96</td>\n",
       "      <td>0.13</td>\n",
       "      <td>-0.29</td>\n",
       "      <td>0.21</td>\n",
       "      <td>0.75</td>\n",
       "      <td>1.24</td>\n",
       "      <td>0.00</td>\n",
       "      <td>-0.31</td>\n",
       "      <td>0.76</td>\n",
       "      <td>0.40</td>\n",
       "    </tr>\n",
       "    <tr>\n",
       "      <th>INCOME_QUINTILE_2015_Middle deprived</th>\n",
       "      <td>-0.10</td>\n",
       "      <td>0.91</td>\n",
       "      <td>0.15</td>\n",
       "      <td>-0.39</td>\n",
       "      <td>0.19</td>\n",
       "      <td>0.68</td>\n",
       "      <td>1.21</td>\n",
       "      <td>0.00</td>\n",
       "      <td>-0.68</td>\n",
       "      <td>0.50</td>\n",
       "      <td>1.01</td>\n",
       "    </tr>\n",
       "    <tr>\n",
       "      <th>INCOME_QUINTILE_2015_Most deprived</th>\n",
       "      <td>0.11</td>\n",
       "      <td>1.12</td>\n",
       "      <td>0.13</td>\n",
       "      <td>-0.14</td>\n",
       "      <td>0.37</td>\n",
       "      <td>0.87</td>\n",
       "      <td>1.44</td>\n",
       "      <td>0.00</td>\n",
       "      <td>0.86</td>\n",
       "      <td>0.39</td>\n",
       "      <td>1.36</td>\n",
       "    </tr>\n",
       "    <tr>\n",
       "      <th>ETHNICITYNAME_ASIAN</th>\n",
       "      <td>0.01</td>\n",
       "      <td>1.01</td>\n",
       "      <td>0.25</td>\n",
       "      <td>-0.47</td>\n",
       "      <td>0.50</td>\n",
       "      <td>0.62</td>\n",
       "      <td>1.64</td>\n",
       "      <td>0.00</td>\n",
       "      <td>0.05</td>\n",
       "      <td>0.96</td>\n",
       "      <td>0.06</td>\n",
       "    </tr>\n",
       "    <tr>\n",
       "      <th>ETHNICITYNAME_BLACK</th>\n",
       "      <td>-0.02</td>\n",
       "      <td>0.98</td>\n",
       "      <td>0.50</td>\n",
       "      <td>-1.00</td>\n",
       "      <td>0.96</td>\n",
       "      <td>0.37</td>\n",
       "      <td>2.61</td>\n",
       "      <td>0.00</td>\n",
       "      <td>-0.04</td>\n",
       "      <td>0.97</td>\n",
       "      <td>0.05</td>\n",
       "    </tr>\n",
       "    <tr>\n",
       "      <th>ETHNICITYNAME_Ethnicity NOS</th>\n",
       "      <td>-0.07</td>\n",
       "      <td>0.93</td>\n",
       "      <td>0.27</td>\n",
       "      <td>-0.61</td>\n",
       "      <td>0.46</td>\n",
       "      <td>0.54</td>\n",
       "      <td>1.59</td>\n",
       "      <td>0.00</td>\n",
       "      <td>-0.27</td>\n",
       "      <td>0.79</td>\n",
       "      <td>0.35</td>\n",
       "    </tr>\n",
       "    <tr>\n",
       "      <th>ETHNICITYNAME_WHITE</th>\n",
       "      <td>0.03</td>\n",
       "      <td>1.03</td>\n",
       "      <td>0.20</td>\n",
       "      <td>-0.37</td>\n",
       "      <td>0.43</td>\n",
       "      <td>0.69</td>\n",
       "      <td>1.53</td>\n",
       "      <td>0.00</td>\n",
       "      <td>0.13</td>\n",
       "      <td>0.89</td>\n",
       "      <td>0.16</td>\n",
       "    </tr>\n",
       "    <tr>\n",
       "      <th>GRADE_G2</th>\n",
       "      <td>-0.46</td>\n",
       "      <td>0.63</td>\n",
       "      <td>0.13</td>\n",
       "      <td>-0.72</td>\n",
       "      <td>-0.20</td>\n",
       "      <td>0.49</td>\n",
       "      <td>0.82</td>\n",
       "      <td>0.00</td>\n",
       "      <td>-3.47</td>\n",
       "      <td>&lt;0.005</td>\n",
       "      <td>10.90</td>\n",
       "    </tr>\n",
       "    <tr>\n",
       "      <th>GRADE_G3</th>\n",
       "      <td>0.31</td>\n",
       "      <td>1.37</td>\n",
       "      <td>0.13</td>\n",
       "      <td>0.06</td>\n",
       "      <td>0.57</td>\n",
       "      <td>1.06</td>\n",
       "      <td>1.77</td>\n",
       "      <td>0.00</td>\n",
       "      <td>2.39</td>\n",
       "      <td>0.02</td>\n",
       "      <td>5.89</td>\n",
       "    </tr>\n",
       "    <tr>\n",
       "      <th>GRADE_NOS</th>\n",
       "      <td>0.28</td>\n",
       "      <td>1.32</td>\n",
       "      <td>0.15</td>\n",
       "      <td>-0.02</td>\n",
       "      <td>0.58</td>\n",
       "      <td>0.98</td>\n",
       "      <td>1.79</td>\n",
       "      <td>0.00</td>\n",
       "      <td>1.84</td>\n",
       "      <td>0.07</td>\n",
       "      <td>3.92</td>\n",
       "    </tr>\n",
       "    <tr>\n",
       "      <th>palliative_RT_0</th>\n",
       "      <td>0.07</td>\n",
       "      <td>1.08</td>\n",
       "      <td>0.15</td>\n",
       "      <td>-0.22</td>\n",
       "      <td>0.36</td>\n",
       "      <td>0.81</td>\n",
       "      <td>1.44</td>\n",
       "      <td>0.00</td>\n",
       "      <td>0.50</td>\n",
       "      <td>0.62</td>\n",
       "      <td>0.69</td>\n",
       "    </tr>\n",
       "    <tr>\n",
       "      <th>palliative_RT_1</th>\n",
       "      <td>-0.07</td>\n",
       "      <td>0.93</td>\n",
       "      <td>0.15</td>\n",
       "      <td>-0.36</td>\n",
       "      <td>0.22</td>\n",
       "      <td>0.70</td>\n",
       "      <td>1.24</td>\n",
       "      <td>0.00</td>\n",
       "      <td>-0.50</td>\n",
       "      <td>0.62</td>\n",
       "      <td>0.69</td>\n",
       "    </tr>\n",
       "    <tr>\n",
       "      <th>curative_RT_0</th>\n",
       "      <td>-0.08</td>\n",
       "      <td>0.93</td>\n",
       "      <td>0.25</td>\n",
       "      <td>-0.57</td>\n",
       "      <td>0.42</td>\n",
       "      <td>0.56</td>\n",
       "      <td>1.52</td>\n",
       "      <td>0.00</td>\n",
       "      <td>-0.31</td>\n",
       "      <td>0.76</td>\n",
       "      <td>0.40</td>\n",
       "    </tr>\n",
       "    <tr>\n",
       "      <th>curative_RT_1</th>\n",
       "      <td>0.08</td>\n",
       "      <td>1.08</td>\n",
       "      <td>0.25</td>\n",
       "      <td>-0.42</td>\n",
       "      <td>0.57</td>\n",
       "      <td>0.66</td>\n",
       "      <td>1.78</td>\n",
       "      <td>0.00</td>\n",
       "      <td>0.31</td>\n",
       "      <td>0.76</td>\n",
       "      <td>0.40</td>\n",
       "    </tr>\n",
       "    <tr>\n",
       "      <th>SITE_ICD10_O2_C71</th>\n",
       "      <td>1.13</td>\n",
       "      <td>3.09</td>\n",
       "      <td>2.56</td>\n",
       "      <td>-3.89</td>\n",
       "      <td>6.14</td>\n",
       "      <td>0.02</td>\n",
       "      <td>464.50</td>\n",
       "      <td>0.00</td>\n",
       "      <td>0.44</td>\n",
       "      <td>0.66</td>\n",
       "      <td>0.60</td>\n",
       "    </tr>\n",
       "    <tr>\n",
       "      <th>SITE_ICD10_O2_C72</th>\n",
       "      <td>-1.13</td>\n",
       "      <td>0.32</td>\n",
       "      <td>2.56</td>\n",
       "      <td>-6.14</td>\n",
       "      <td>3.89</td>\n",
       "      <td>0.00</td>\n",
       "      <td>48.76</td>\n",
       "      <td>0.00</td>\n",
       "      <td>-0.44</td>\n",
       "      <td>0.66</td>\n",
       "      <td>0.60</td>\n",
       "    </tr>\n",
       "    <tr>\n",
       "      <th>TMZ-Palliative_0</th>\n",
       "      <td>-0.20</td>\n",
       "      <td>0.82</td>\n",
       "      <td>0.25</td>\n",
       "      <td>-0.68</td>\n",
       "      <td>0.28</td>\n",
       "      <td>0.50</td>\n",
       "      <td>1.32</td>\n",
       "      <td>0.00</td>\n",
       "      <td>-0.83</td>\n",
       "      <td>0.40</td>\n",
       "      <td>1.31</td>\n",
       "    </tr>\n",
       "    <tr>\n",
       "      <th>TMZ-Palliative_1</th>\n",
       "      <td>0.20</td>\n",
       "      <td>1.23</td>\n",
       "      <td>0.25</td>\n",
       "      <td>-0.28</td>\n",
       "      <td>0.68</td>\n",
       "      <td>0.76</td>\n",
       "      <td>1.98</td>\n",
       "      <td>0.00</td>\n",
       "      <td>0.83</td>\n",
       "      <td>0.40</td>\n",
       "      <td>1.31</td>\n",
       "    </tr>\n",
       "    <tr>\n",
       "      <th>TMZ-Curative_0</th>\n",
       "      <td>0.02</td>\n",
       "      <td>1.02</td>\n",
       "      <td>0.22</td>\n",
       "      <td>-0.41</td>\n",
       "      <td>0.44</td>\n",
       "      <td>0.67</td>\n",
       "      <td>1.56</td>\n",
       "      <td>0.00</td>\n",
       "      <td>0.09</td>\n",
       "      <td>0.93</td>\n",
       "      <td>0.10</td>\n",
       "    </tr>\n",
       "    <tr>\n",
       "      <th>TMZ-Curative_1</th>\n",
       "      <td>-0.02</td>\n",
       "      <td>0.98</td>\n",
       "      <td>0.22</td>\n",
       "      <td>-0.44</td>\n",
       "      <td>0.41</td>\n",
       "      <td>0.64</td>\n",
       "      <td>1.50</td>\n",
       "      <td>0.00</td>\n",
       "      <td>-0.09</td>\n",
       "      <td>0.93</td>\n",
       "      <td>0.10</td>\n",
       "    </tr>\n",
       "    <tr>\n",
       "      <th>PCV-Palliative_0</th>\n",
       "      <td>-0.02</td>\n",
       "      <td>0.98</td>\n",
       "      <td>0.27</td>\n",
       "      <td>-0.55</td>\n",
       "      <td>0.50</td>\n",
       "      <td>0.58</td>\n",
       "      <td>1.65</td>\n",
       "      <td>0.00</td>\n",
       "      <td>-0.09</td>\n",
       "      <td>0.93</td>\n",
       "      <td>0.11</td>\n",
       "    </tr>\n",
       "    <tr>\n",
       "      <th>PCV-Palliative_1</th>\n",
       "      <td>0.02</td>\n",
       "      <td>1.02</td>\n",
       "      <td>0.27</td>\n",
       "      <td>-0.50</td>\n",
       "      <td>0.55</td>\n",
       "      <td>0.61</td>\n",
       "      <td>1.73</td>\n",
       "      <td>0.00</td>\n",
       "      <td>0.09</td>\n",
       "      <td>0.93</td>\n",
       "      <td>0.11</td>\n",
       "    </tr>\n",
       "    <tr>\n",
       "      <th>PCV-Curative_0</th>\n",
       "      <td>0.40</td>\n",
       "      <td>1.49</td>\n",
       "      <td>0.16</td>\n",
       "      <td>0.08</td>\n",
       "      <td>0.72</td>\n",
       "      <td>1.08</td>\n",
       "      <td>2.05</td>\n",
       "      <td>0.00</td>\n",
       "      <td>2.43</td>\n",
       "      <td>0.01</td>\n",
       "      <td>6.06</td>\n",
       "    </tr>\n",
       "    <tr>\n",
       "      <th>PCV-Curative_1</th>\n",
       "      <td>-0.40</td>\n",
       "      <td>0.67</td>\n",
       "      <td>0.16</td>\n",
       "      <td>-0.72</td>\n",
       "      <td>-0.08</td>\n",
       "      <td>0.49</td>\n",
       "      <td>0.93</td>\n",
       "      <td>0.00</td>\n",
       "      <td>-2.43</td>\n",
       "      <td>0.01</td>\n",
       "      <td>6.06</td>\n",
       "    </tr>\n",
       "  </tbody>\n",
       "</table><br><div>\n",
       "<style scoped>\n",
       "    .dataframe tbody tr th:only-of-type {\n",
       "        vertical-align: middle;\n",
       "    }\n",
       "\n",
       "    .dataframe tbody tr th {\n",
       "        vertical-align: top;\n",
       "    }\n",
       "\n",
       "    .dataframe thead th {\n",
       "        text-align: right;\n",
       "    }\n",
       "</style>\n",
       "<table border=\"1\" class=\"dataframe\">\n",
       "  <tbody>\n",
       "    <tr>\n",
       "      <th>Concordance</th>\n",
       "      <td>0.79</td>\n",
       "    </tr>\n",
       "    <tr>\n",
       "      <th>Partial AIC</th>\n",
       "      <td>3740.00</td>\n",
       "    </tr>\n",
       "    <tr>\n",
       "      <th>log-likelihood ratio test</th>\n",
       "      <td>247.29 on 30 df</td>\n",
       "    </tr>\n",
       "    <tr>\n",
       "      <th>-log2(p) of ll-ratio test</th>\n",
       "      <td>117.26</td>\n",
       "    </tr>\n",
       "  </tbody>\n",
       "</table>\n",
       "</div>"
      ],
      "text/latex": [
       "\\begin{tabular}{lrrrrrrrrrrr}\n",
       " & coef & exp(coef) & se(coef) & coef lower 95% & coef upper 95% & exp(coef) lower 95% & exp(coef) upper 95% & cmp to & z & p & -log2(p) \\\\\n",
       "covariate &  &  &  &  &  &  &  &  &  &  &  \\\\\n",
       "BIGTUMOURCOUNT & 0.39 & 1.48 & 0.11 & 0.18 & 0.61 & 1.19 & 1.83 & 0.00 & 3.58 & 0.00 & 11.49 \\\\\n",
       "AGE & 0.03 & 1.03 & 0.00 & 0.02 & 0.04 & 1.02 & 1.04 & 0.00 & 8.97 & 0.00 & 61.51 \\\\\n",
       "Resection & -0.41 & 0.66 & 0.12 & -0.64 & -0.18 & 0.53 & 0.84 & 0.00 & -3.49 & 0.00 & 11.01 \\\\\n",
       "Biopsy & 0.10 & 1.10 & 0.10 & -0.10 & 0.29 & 0.90 & 1.34 & 0.00 & 0.95 & 0.34 & 1.55 \\\\\n",
       "SEX_1 & 0.01 & 1.01 & 0.14 & -0.26 & 0.28 & 0.77 & 1.32 & 0.00 & 0.08 & 0.94 & 0.09 \\\\\n",
       "SEX_2 & -0.01 & 0.99 & 0.14 & -0.28 & 0.26 & 0.76 & 1.29 & 0.00 & -0.08 & 0.94 & 0.09 \\\\\n",
       "INCOME_QUINTILE_2015_Least deprived & -0.04 & 0.96 & 0.13 & -0.29 & 0.21 & 0.75 & 1.24 & 0.00 & -0.31 & 0.76 & 0.40 \\\\\n",
       "INCOME_QUINTILE_2015_Middle deprived & -0.10 & 0.91 & 0.15 & -0.39 & 0.19 & 0.68 & 1.21 & 0.00 & -0.68 & 0.50 & 1.01 \\\\\n",
       "INCOME_QUINTILE_2015_Most deprived & 0.11 & 1.12 & 0.13 & -0.14 & 0.37 & 0.87 & 1.44 & 0.00 & 0.86 & 0.39 & 1.36 \\\\\n",
       "ETHNICITYNAME_ASIAN & 0.01 & 1.01 & 0.25 & -0.47 & 0.50 & 0.62 & 1.64 & 0.00 & 0.05 & 0.96 & 0.06 \\\\\n",
       "ETHNICITYNAME_BLACK & -0.02 & 0.98 & 0.50 & -1.00 & 0.96 & 0.37 & 2.61 & 0.00 & -0.04 & 0.97 & 0.05 \\\\\n",
       "ETHNICITYNAME_Ethnicity NOS & -0.07 & 0.93 & 0.27 & -0.61 & 0.46 & 0.54 & 1.59 & 0.00 & -0.27 & 0.79 & 0.35 \\\\\n",
       "ETHNICITYNAME_WHITE & 0.03 & 1.03 & 0.20 & -0.37 & 0.43 & 0.69 & 1.53 & 0.00 & 0.13 & 0.89 & 0.16 \\\\\n",
       "GRADE_G2 & -0.46 & 0.63 & 0.13 & -0.72 & -0.20 & 0.49 & 0.82 & 0.00 & -3.47 & 0.00 & 10.90 \\\\\n",
       "GRADE_G3 & 0.31 & 1.37 & 0.13 & 0.06 & 0.57 & 1.06 & 1.77 & 0.00 & 2.39 & 0.02 & 5.89 \\\\\n",
       "GRADE_NOS & 0.28 & 1.32 & 0.15 & -0.02 & 0.58 & 0.98 & 1.79 & 0.00 & 1.84 & 0.07 & 3.92 \\\\\n",
       "palliative_RT_0 & 0.07 & 1.08 & 0.15 & -0.22 & 0.36 & 0.81 & 1.44 & 0.00 & 0.50 & 0.62 & 0.69 \\\\\n",
       "palliative_RT_1 & -0.07 & 0.93 & 0.15 & -0.36 & 0.22 & 0.70 & 1.24 & 0.00 & -0.50 & 0.62 & 0.69 \\\\\n",
       "curative_RT_0 & -0.08 & 0.93 & 0.25 & -0.57 & 0.42 & 0.56 & 1.52 & 0.00 & -0.31 & 0.76 & 0.40 \\\\\n",
       "curative_RT_1 & 0.08 & 1.08 & 0.25 & -0.42 & 0.57 & 0.66 & 1.78 & 0.00 & 0.31 & 0.76 & 0.40 \\\\\n",
       "SITE_ICD10_O2_C71 & 1.13 & 3.09 & 2.56 & -3.89 & 6.14 & 0.02 & 464.50 & 0.00 & 0.44 & 0.66 & 0.60 \\\\\n",
       "SITE_ICD10_O2_C72 & -1.13 & 0.32 & 2.56 & -6.14 & 3.89 & 0.00 & 48.76 & 0.00 & -0.44 & 0.66 & 0.60 \\\\\n",
       "TMZ-Palliative_0 & -0.20 & 0.82 & 0.25 & -0.68 & 0.28 & 0.50 & 1.32 & 0.00 & -0.83 & 0.40 & 1.31 \\\\\n",
       "TMZ-Palliative_1 & 0.20 & 1.23 & 0.25 & -0.28 & 0.68 & 0.76 & 1.98 & 0.00 & 0.83 & 0.40 & 1.31 \\\\\n",
       "TMZ-Curative_0 & 0.02 & 1.02 & 0.22 & -0.41 & 0.44 & 0.67 & 1.56 & 0.00 & 0.09 & 0.93 & 0.10 \\\\\n",
       "TMZ-Curative_1 & -0.02 & 0.98 & 0.22 & -0.44 & 0.41 & 0.64 & 1.50 & 0.00 & -0.09 & 0.93 & 0.10 \\\\\n",
       "PCV-Palliative_0 & -0.02 & 0.98 & 0.27 & -0.55 & 0.50 & 0.58 & 1.65 & 0.00 & -0.09 & 0.93 & 0.11 \\\\\n",
       "PCV-Palliative_1 & 0.02 & 1.02 & 0.27 & -0.50 & 0.55 & 0.61 & 1.73 & 0.00 & 0.09 & 0.93 & 0.11 \\\\\n",
       "PCV-Curative_0 & 0.40 & 1.49 & 0.16 & 0.08 & 0.72 & 1.08 & 2.05 & 0.00 & 2.43 & 0.01 & 6.06 \\\\\n",
       "PCV-Curative_1 & -0.40 & 0.67 & 0.16 & -0.72 & -0.08 & 0.49 & 0.93 & 0.00 & -2.43 & 0.01 & 6.06 \\\\\n",
       "\\end{tabular}\n"
      ],
      "text/plain": [
       "<lifelines.CoxPHFitter: fitted with 1271 total observations, 978 right-censored observations>\n",
       "             duration col = 'INTERVAL_DIAG_TO_VS'\n",
       "                event col = 'VITALSTATUS'\n",
       "                penalizer = 0.1\n",
       "                 l1 ratio = 0.0\n",
       "      baseline estimation = breslow\n",
       "   number of observations = 1271\n",
       "number of events observed = 293\n",
       "   partial log-likelihood = -1840.00\n",
       "         time fit was run = 2023-02-04 22:44:42 UTC\n",
       "\n",
       "---\n",
       "                                       coef  exp(coef)   se(coef)   coef lower 95%   coef upper 95%  exp(coef) lower 95%  exp(coef) upper 95%\n",
       "covariate                                                                                                                                    \n",
       "BIGTUMOURCOUNT                         0.39       1.48       0.11             0.18             0.61                 1.19                 1.83\n",
       "AGE                                    0.03       1.03       0.00             0.02             0.04                 1.02                 1.04\n",
       "Resection                             -0.41       0.66       0.12            -0.64            -0.18                 0.53                 0.84\n",
       "Biopsy                                 0.10       1.10       0.10            -0.10             0.29                 0.90                 1.34\n",
       "SEX_1                                  0.01       1.01       0.14            -0.26             0.28                 0.77                 1.32\n",
       "SEX_2                                 -0.01       0.99       0.14            -0.28             0.26                 0.76                 1.29\n",
       "INCOME_QUINTILE_2015_Least deprived   -0.04       0.96       0.13            -0.29             0.21                 0.75                 1.24\n",
       "INCOME_QUINTILE_2015_Middle deprived  -0.10       0.91       0.15            -0.39             0.19                 0.68                 1.21\n",
       "INCOME_QUINTILE_2015_Most deprived     0.11       1.12       0.13            -0.14             0.37                 0.87                 1.44\n",
       "ETHNICITYNAME_ASIAN                    0.01       1.01       0.25            -0.47             0.50                 0.62                 1.64\n",
       "ETHNICITYNAME_BLACK                   -0.02       0.98       0.50            -1.00             0.96                 0.37                 2.61\n",
       "ETHNICITYNAME_Ethnicity NOS           -0.07       0.93       0.27            -0.61             0.46                 0.54                 1.59\n",
       "ETHNICITYNAME_WHITE                    0.03       1.03       0.20            -0.37             0.43                 0.69                 1.53\n",
       "GRADE_G2                              -0.46       0.63       0.13            -0.72            -0.20                 0.49                 0.82\n",
       "GRADE_G3                               0.31       1.37       0.13             0.06             0.57                 1.06                 1.77\n",
       "GRADE_NOS                              0.28       1.32       0.15            -0.02             0.58                 0.98                 1.79\n",
       "palliative_RT_0                        0.07       1.08       0.15            -0.22             0.36                 0.81                 1.44\n",
       "palliative_RT_1                       -0.07       0.93       0.15            -0.36             0.22                 0.70                 1.24\n",
       "curative_RT_0                         -0.08       0.93       0.25            -0.57             0.42                 0.56                 1.52\n",
       "curative_RT_1                          0.08       1.08       0.25            -0.42             0.57                 0.66                 1.78\n",
       "SITE_ICD10_O2_C71                      1.13       3.09       2.56            -3.89             6.14                 0.02               464.50\n",
       "SITE_ICD10_O2_C72                     -1.13       0.32       2.56            -6.14             3.89                 0.00                48.76\n",
       "TMZ-Palliative_0                      -0.20       0.82       0.25            -0.68             0.28                 0.50                 1.32\n",
       "TMZ-Palliative_1                       0.20       1.23       0.25            -0.28             0.68                 0.76                 1.98\n",
       "TMZ-Curative_0                         0.02       1.02       0.22            -0.41             0.44                 0.67                 1.56\n",
       "TMZ-Curative_1                        -0.02       0.98       0.22            -0.44             0.41                 0.64                 1.50\n",
       "PCV-Palliative_0                      -0.02       0.98       0.27            -0.55             0.50                 0.58                 1.65\n",
       "PCV-Palliative_1                       0.02       1.02       0.27            -0.50             0.55                 0.61                 1.73\n",
       "PCV-Curative_0                         0.40       1.49       0.16             0.08             0.72                 1.08                 2.05\n",
       "PCV-Curative_1                        -0.40       0.67       0.16            -0.72            -0.08                 0.49                 0.93\n",
       "\n",
       "                                       cmp to     z      p   -log2(p)\n",
       "covariate                                                            \n",
       "BIGTUMOURCOUNT                           0.00  3.58 <0.005      11.49\n",
       "AGE                                      0.00  8.97 <0.005      61.51\n",
       "Resection                                0.00 -3.49 <0.005      11.01\n",
       "Biopsy                                   0.00  0.95   0.34       1.55\n",
       "SEX_1                                    0.00  0.08   0.94       0.09\n",
       "SEX_2                                    0.00 -0.08   0.94       0.09\n",
       "INCOME_QUINTILE_2015_Least deprived      0.00 -0.31   0.76       0.40\n",
       "INCOME_QUINTILE_2015_Middle deprived     0.00 -0.68   0.50       1.01\n",
       "INCOME_QUINTILE_2015_Most deprived       0.00  0.86   0.39       1.36\n",
       "ETHNICITYNAME_ASIAN                      0.00  0.05   0.96       0.06\n",
       "ETHNICITYNAME_BLACK                      0.00 -0.04   0.97       0.05\n",
       "ETHNICITYNAME_Ethnicity NOS              0.00 -0.27   0.79       0.35\n",
       "ETHNICITYNAME_WHITE                      0.00  0.13   0.89       0.16\n",
       "GRADE_G2                                 0.00 -3.47 <0.005      10.90\n",
       "GRADE_G3                                 0.00  2.39   0.02       5.89\n",
       "GRADE_NOS                                0.00  1.84   0.07       3.92\n",
       "palliative_RT_0                          0.00  0.50   0.62       0.69\n",
       "palliative_RT_1                          0.00 -0.50   0.62       0.69\n",
       "curative_RT_0                            0.00 -0.31   0.76       0.40\n",
       "curative_RT_1                            0.00  0.31   0.76       0.40\n",
       "SITE_ICD10_O2_C71                        0.00  0.44   0.66       0.60\n",
       "SITE_ICD10_O2_C72                        0.00 -0.44   0.66       0.60\n",
       "TMZ-Palliative_0                         0.00 -0.83   0.40       1.31\n",
       "TMZ-Palliative_1                         0.00  0.83   0.40       1.31\n",
       "TMZ-Curative_0                           0.00  0.09   0.93       0.10\n",
       "TMZ-Curative_1                           0.00 -0.09   0.93       0.10\n",
       "PCV-Palliative_0                         0.00 -0.09   0.93       0.11\n",
       "PCV-Palliative_1                         0.00  0.09   0.93       0.11\n",
       "PCV-Curative_0                           0.00  2.43   0.01       6.06\n",
       "PCV-Curative_1                           0.00 -2.43   0.01       6.06\n",
       "---\n",
       "Concordance = 0.79\n",
       "Partial AIC = 3740.00\n",
       "log-likelihood ratio test = 247.29 on 30 df\n",
       "-log2(p) of ll-ratio test = 117.26"
      ]
     },
     "metadata": {},
     "output_type": "display_data"
    }
   ],
   "source": [
    "# drop id ad get dummies\n",
    "df_cox.drop(columns='PSEUDO_PATIENTID', inplace=True)\n",
    "df_cox=pd.get_dummies(df_cox, columns=['SEX', 'INCOME_QUINTILE_2015', 'ETHNICITYNAME', 'GRADE','palliative_RT','curative_RT' ,'SITE_ICD10_O2','TMZ-Palliative','TMZ-Curative','PCV-Palliative', 'PCV-Curative'])\n",
    "\n",
    "cph=CoxPHFitter(penalizer=0.1)\n",
    "cox=cph.fit(df_cox, \"INTERVAL_DIAG_TO_VS\", event_col=\"VITALSTATUS\")\n",
    "cox.print_summary()\n"
   ]
  },
  {
   "cell_type": "code",
   "execution_count": 78,
   "id": "ea8ad3ef",
   "metadata": {},
   "outputs": [],
   "source": [
    "# borrow dataset from df.cox\n",
    "from sksurv.datasets import get_x_y\n",
    "X, y = get_x_y(df_cox, attr_labels=['VITALSTATUS','INTERVAL_DIAG_TO_VS'], pos_label=True, survival=True)\n",
    "\n",
    "from sklearn.model_selection import train_test_split\n",
    "X_train, X_val, y_train, y_val = train_test_split(X, y, test_size=0.2, shuffle=True, random_state=8)"
   ]
  },
  {
   "cell_type": "markdown",
   "id": "0788316a",
   "metadata": {},
   "source": [
    "## Survival XGBoost"
   ]
  },
  {
   "cell_type": "code",
   "execution_count": 79,
   "id": "8ee061a3",
   "metadata": {},
   "outputs": [],
   "source": [
    "import lime"
   ]
  },
  {
   "cell_type": "code",
   "execution_count": 80,
   "id": "cdd2ff81",
   "metadata": {},
   "outputs": [],
   "source": [
    "import shap"
   ]
  },
  {
   "cell_type": "code",
   "execution_count": 81,
   "id": "d2c37a99",
   "metadata": {},
   "outputs": [],
   "source": [
    "from xgbse import XGBSEKaplanNeighbors,XGBSEDebiasedBCE ,XGBSEBootstrapEstimator, XGBSEKaplanTree, XGBSEStackedWeibull"
   ]
  },
  {
   "cell_type": "code",
   "execution_count": 250,
   "id": "d5d4afcf",
   "metadata": {},
   "outputs": [],
   "source": [
    "PARAMS_XGB_AFT = {\n",
    "    'objective': 'survival:aft',\n",
    "    'eval_metric': 'aft-nloglik',\n",
    "    'aft_loss_distribution': 'extreme',\n",
    "    'aft_loss_distribution_scale': 0.75,\n",
    "    'tree_method': 'hist', \n",
    "    'learning_rate': 0.032, \n",
    "    'max_depth': 64, \n",
    "    'booster':'dart',\n",
    "    'subsample':0.125,\n",
    "    'min_child_weight': 16,\n",
    "    'colsample_bynode':0.2  # referenced from optuna results\n",
    "}\n",
    "# 'min_child_weight': 25,\n",
    "# 'learning_rate': 0.03186830987642394,\n",
    "#   'colsample_bynode': 0.22694594280064426,\n",
    "#     'subsample': 0.139524913299788,\n",
    "#         'aft_loss_distribution_scale': 0.3754298243700869,\n",
    "#             'max_depth': 30\n",
    "\n",
    "\n",
    "\n",
    "PARAMS_XGB_SW = {\n",
    "    'objective': 'survival:aft',\n",
    "    'eval_metric': 'aft-nloglik',\n",
    "    'aft_loss_distribution': 'extreme',\n",
    "    'aft_loss_distribution_scale': 1.0,\n",
    "    'tree_method': 'hist', \n",
    "    'learning_rate': 5e-2, \n",
    "    'max_depth': 24, \n",
    "    'booster':'dart',\n",
    "    'subsample':0.5,\n",
    "    'min_child_weight': 50,\n",
    "    'colsample_bynode':0.5,\n",
    "}\n",
    "\n",
    "PARAMS_XGB_COX = {\n",
    "    'objective': 'survival:cox',\n",
    "    'tree_method': 'hist', \n",
    "    'learning_rate': 5e-2, \n",
    "    'max_depth': 8, \n",
    "    'booster':'dart',\n",
    "    'subsample':1,\n",
    "    'min_child_weight': 50, \n",
    "    'colsample_bynode':0.5\n",
    "}\n",
    "\n",
    "PARAMS_TREE = {\n",
    "    'objective': 'survival:cox',\n",
    "    'eval_metric': 'cox-nloglik',\n",
    "    'tree_method': 'hist', \n",
    "    'max_depth': 175, \n",
    "    'booster':'dart', \n",
    "    'subsample': 0.75,\n",
    "    'min_child_weight': 16, \n",
    "    'colsample_bynode': 0.6\n",
    "}\n",
    "# 'min_child_weight': 16,\n",
    "# 'colsample_bynode': 0.6016575834004046,\n",
    "#     'subsample': 0.7241760292772557,\n",
    "#         'max_depth': 174\n",
    "\n",
    "PARAMS_LR={'C':1e-3,\n",
    "          'max_iter':500}\n",
    "TIME_BINS=np.arange(0, 2191, 100)"
   ]
  },
  {
   "cell_type": "code",
   "execution_count": 239,
   "id": "b145968b",
   "metadata": {},
   "outputs": [
    {
     "data": {
      "text/html": [
       "<style>#sk-container-id-33 {color: black;background-color: white;}#sk-container-id-33 pre{padding: 0;}#sk-container-id-33 div.sk-toggleable {background-color: white;}#sk-container-id-33 label.sk-toggleable__label {cursor: pointer;display: block;width: 100%;margin-bottom: 0;padding: 0.3em;box-sizing: border-box;text-align: center;}#sk-container-id-33 label.sk-toggleable__label-arrow:before {content: \"▸\";float: left;margin-right: 0.25em;color: #696969;}#sk-container-id-33 label.sk-toggleable__label-arrow:hover:before {color: black;}#sk-container-id-33 div.sk-estimator:hover label.sk-toggleable__label-arrow:before {color: black;}#sk-container-id-33 div.sk-toggleable__content {max-height: 0;max-width: 0;overflow: hidden;text-align: left;background-color: #f0f8ff;}#sk-container-id-33 div.sk-toggleable__content pre {margin: 0.2em;color: black;border-radius: 0.25em;background-color: #f0f8ff;}#sk-container-id-33 input.sk-toggleable__control:checked~div.sk-toggleable__content {max-height: 200px;max-width: 100%;overflow: auto;}#sk-container-id-33 input.sk-toggleable__control:checked~label.sk-toggleable__label-arrow:before {content: \"▾\";}#sk-container-id-33 div.sk-estimator input.sk-toggleable__control:checked~label.sk-toggleable__label {background-color: #d4ebff;}#sk-container-id-33 div.sk-label input.sk-toggleable__control:checked~label.sk-toggleable__label {background-color: #d4ebff;}#sk-container-id-33 input.sk-hidden--visually {border: 0;clip: rect(1px 1px 1px 1px);clip: rect(1px, 1px, 1px, 1px);height: 1px;margin: -1px;overflow: hidden;padding: 0;position: absolute;width: 1px;}#sk-container-id-33 div.sk-estimator {font-family: monospace;background-color: #f0f8ff;border: 1px dotted black;border-radius: 0.25em;box-sizing: border-box;margin-bottom: 0.5em;}#sk-container-id-33 div.sk-estimator:hover {background-color: #d4ebff;}#sk-container-id-33 div.sk-parallel-item::after {content: \"\";width: 100%;border-bottom: 1px solid gray;flex-grow: 1;}#sk-container-id-33 div.sk-label:hover label.sk-toggleable__label {background-color: #d4ebff;}#sk-container-id-33 div.sk-serial::before {content: \"\";position: absolute;border-left: 1px solid gray;box-sizing: border-box;top: 0;bottom: 0;left: 50%;z-index: 0;}#sk-container-id-33 div.sk-serial {display: flex;flex-direction: column;align-items: center;background-color: white;padding-right: 0.2em;padding-left: 0.2em;position: relative;}#sk-container-id-33 div.sk-item {position: relative;z-index: 1;}#sk-container-id-33 div.sk-parallel {display: flex;align-items: stretch;justify-content: center;background-color: white;position: relative;}#sk-container-id-33 div.sk-item::before, #sk-container-id-33 div.sk-parallel-item::before {content: \"\";position: absolute;border-left: 1px solid gray;box-sizing: border-box;top: 0;bottom: 0;left: 50%;z-index: -1;}#sk-container-id-33 div.sk-parallel-item {display: flex;flex-direction: column;z-index: 1;position: relative;background-color: white;}#sk-container-id-33 div.sk-parallel-item:first-child::after {align-self: flex-end;width: 50%;}#sk-container-id-33 div.sk-parallel-item:last-child::after {align-self: flex-start;width: 50%;}#sk-container-id-33 div.sk-parallel-item:only-child::after {width: 0;}#sk-container-id-33 div.sk-dashed-wrapped {border: 1px dashed gray;margin: 0 0.4em 0.5em 0.4em;box-sizing: border-box;padding-bottom: 0.4em;background-color: white;}#sk-container-id-33 div.sk-label label {font-family: monospace;font-weight: bold;display: inline-block;line-height: 1.2em;}#sk-container-id-33 div.sk-label-container {text-align: center;}#sk-container-id-33 div.sk-container {/* jupyter's `normalize.less` sets `[hidden] { display: none; }` but bootstrap.min.css set `[hidden] { display: none !important; }` so we also need the `!important` here to be able to override the default hidden behavior on the sphinx rendered scikit-learn.org. See: https://github.com/scikit-learn/scikit-learn/issues/21755 */display: inline-block !important;position: relative;}#sk-container-id-33 div.sk-text-repr-fallback {display: none;}</style><div id=\"sk-container-id-33\" class=\"sk-top-container\"><div class=\"sk-text-repr-fallback\"><pre>XGBSEKaplanNeighbors(n_neighbors=50,\n",
       "                     xgb_params={&#x27;aft_loss_distribution&#x27;: &#x27;extreme&#x27;,\n",
       "                                 &#x27;aft_loss_distribution_scale&#x27;: 0.75,\n",
       "                                 &#x27;booster&#x27;: &#x27;dart&#x27;, &#x27;colsample_bynode&#x27;: 0.2,\n",
       "                                 &#x27;eval_metric&#x27;: &#x27;aft-nloglik&#x27;,\n",
       "                                 &#x27;learning_rate&#x27;: 0.032, &#x27;max_depth&#x27;: 64,\n",
       "                                 &#x27;min_child_weight&#x27;: 16,\n",
       "                                 &#x27;objective&#x27;: &#x27;survival:aft&#x27;,\n",
       "                                 &#x27;subsample&#x27;: 0.125, &#x27;tree_method&#x27;: &#x27;hist&#x27;})</pre><b>In a Jupyter environment, please rerun this cell to show the HTML representation or trust the notebook. <br />On GitHub, the HTML representation is unable to render, please try loading this page with nbviewer.org.</b></div><div class=\"sk-container\" hidden><div class=\"sk-item\"><div class=\"sk-estimator sk-toggleable\"><input class=\"sk-toggleable__control sk-hidden--visually\" id=\"sk-estimator-id-39\" type=\"checkbox\" checked><label for=\"sk-estimator-id-39\" class=\"sk-toggleable__label sk-toggleable__label-arrow\">XGBSEKaplanNeighbors</label><div class=\"sk-toggleable__content\"><pre>XGBSEKaplanNeighbors(n_neighbors=50,\n",
       "                     xgb_params={&#x27;aft_loss_distribution&#x27;: &#x27;extreme&#x27;,\n",
       "                                 &#x27;aft_loss_distribution_scale&#x27;: 0.75,\n",
       "                                 &#x27;booster&#x27;: &#x27;dart&#x27;, &#x27;colsample_bynode&#x27;: 0.2,\n",
       "                                 &#x27;eval_metric&#x27;: &#x27;aft-nloglik&#x27;,\n",
       "                                 &#x27;learning_rate&#x27;: 0.032, &#x27;max_depth&#x27;: 64,\n",
       "                                 &#x27;min_child_weight&#x27;: 16,\n",
       "                                 &#x27;objective&#x27;: &#x27;survival:aft&#x27;,\n",
       "                                 &#x27;subsample&#x27;: 0.125, &#x27;tree_method&#x27;: &#x27;hist&#x27;})</pre></div></div></div></div></div>"
      ],
      "text/plain": [
       "XGBSEKaplanNeighbors(n_neighbors=50,\n",
       "                     xgb_params={'aft_loss_distribution': 'extreme',\n",
       "                                 'aft_loss_distribution_scale': 0.75,\n",
       "                                 'booster': 'dart', 'colsample_bynode': 0.2,\n",
       "                                 'eval_metric': 'aft-nloglik',\n",
       "                                 'learning_rate': 0.032, 'max_depth': 64,\n",
       "                                 'min_child_weight': 16,\n",
       "                                 'objective': 'survival:aft',\n",
       "                                 'subsample': 0.125, 'tree_method': 'hist'})"
      ]
     },
     "execution_count": 239,
     "metadata": {},
     "output_type": "execute_result"
    }
   ],
   "source": [
    "xgb_aft = XGBSEKaplanNeighbors(PARAMS_XGB_AFT, n_neighbors=50)\n",
    "\n",
    "xgb_aft.fit(X_train, y_train,\n",
    "               validation_data = (X_val, y_val),\n",
    "               early_stopping_rounds=10,\n",
    "               time_bins=TIME_BINS)"
   ]
  },
  {
   "cell_type": "code",
   "execution_count": 240,
   "id": "962ab6af",
   "metadata": {},
   "outputs": [
    {
     "name": "stdout",
     "output_type": "stream",
     "text": [
      "C-index: 0.7615356721965371\n",
      "Avg. Brier Score: 0.12190236214216023\n"
     ]
    }
   ],
   "source": [
    "preds=xgb_aft.predict(X_val)\n",
    "\n",
    "print(f'C-index: {concordance_index(y_val, preds)}')\n",
    "print(f'Avg. Brier Score: {approx_brier_score(y_val, preds)}')"
   ]
  },
  {
   "cell_type": "markdown",
   "id": "97bbc135",
   "metadata": {},
   "source": [
    "## XGB Tree"
   ]
  },
  {
   "cell_type": "code",
   "execution_count": 251,
   "id": "a9f844c5",
   "metadata": {},
   "outputs": [
    {
     "data": {
      "text/html": [
       "<style>#sk-container-id-37 {color: black;background-color: white;}#sk-container-id-37 pre{padding: 0;}#sk-container-id-37 div.sk-toggleable {background-color: white;}#sk-container-id-37 label.sk-toggleable__label {cursor: pointer;display: block;width: 100%;margin-bottom: 0;padding: 0.3em;box-sizing: border-box;text-align: center;}#sk-container-id-37 label.sk-toggleable__label-arrow:before {content: \"▸\";float: left;margin-right: 0.25em;color: #696969;}#sk-container-id-37 label.sk-toggleable__label-arrow:hover:before {color: black;}#sk-container-id-37 div.sk-estimator:hover label.sk-toggleable__label-arrow:before {color: black;}#sk-container-id-37 div.sk-toggleable__content {max-height: 0;max-width: 0;overflow: hidden;text-align: left;background-color: #f0f8ff;}#sk-container-id-37 div.sk-toggleable__content pre {margin: 0.2em;color: black;border-radius: 0.25em;background-color: #f0f8ff;}#sk-container-id-37 input.sk-toggleable__control:checked~div.sk-toggleable__content {max-height: 200px;max-width: 100%;overflow: auto;}#sk-container-id-37 input.sk-toggleable__control:checked~label.sk-toggleable__label-arrow:before {content: \"▾\";}#sk-container-id-37 div.sk-estimator input.sk-toggleable__control:checked~label.sk-toggleable__label {background-color: #d4ebff;}#sk-container-id-37 div.sk-label input.sk-toggleable__control:checked~label.sk-toggleable__label {background-color: #d4ebff;}#sk-container-id-37 input.sk-hidden--visually {border: 0;clip: rect(1px 1px 1px 1px);clip: rect(1px, 1px, 1px, 1px);height: 1px;margin: -1px;overflow: hidden;padding: 0;position: absolute;width: 1px;}#sk-container-id-37 div.sk-estimator {font-family: monospace;background-color: #f0f8ff;border: 1px dotted black;border-radius: 0.25em;box-sizing: border-box;margin-bottom: 0.5em;}#sk-container-id-37 div.sk-estimator:hover {background-color: #d4ebff;}#sk-container-id-37 div.sk-parallel-item::after {content: \"\";width: 100%;border-bottom: 1px solid gray;flex-grow: 1;}#sk-container-id-37 div.sk-label:hover label.sk-toggleable__label {background-color: #d4ebff;}#sk-container-id-37 div.sk-serial::before {content: \"\";position: absolute;border-left: 1px solid gray;box-sizing: border-box;top: 0;bottom: 0;left: 50%;z-index: 0;}#sk-container-id-37 div.sk-serial {display: flex;flex-direction: column;align-items: center;background-color: white;padding-right: 0.2em;padding-left: 0.2em;position: relative;}#sk-container-id-37 div.sk-item {position: relative;z-index: 1;}#sk-container-id-37 div.sk-parallel {display: flex;align-items: stretch;justify-content: center;background-color: white;position: relative;}#sk-container-id-37 div.sk-item::before, #sk-container-id-37 div.sk-parallel-item::before {content: \"\";position: absolute;border-left: 1px solid gray;box-sizing: border-box;top: 0;bottom: 0;left: 50%;z-index: -1;}#sk-container-id-37 div.sk-parallel-item {display: flex;flex-direction: column;z-index: 1;position: relative;background-color: white;}#sk-container-id-37 div.sk-parallel-item:first-child::after {align-self: flex-end;width: 50%;}#sk-container-id-37 div.sk-parallel-item:last-child::after {align-self: flex-start;width: 50%;}#sk-container-id-37 div.sk-parallel-item:only-child::after {width: 0;}#sk-container-id-37 div.sk-dashed-wrapped {border: 1px dashed gray;margin: 0 0.4em 0.5em 0.4em;box-sizing: border-box;padding-bottom: 0.4em;background-color: white;}#sk-container-id-37 div.sk-label label {font-family: monospace;font-weight: bold;display: inline-block;line-height: 1.2em;}#sk-container-id-37 div.sk-label-container {text-align: center;}#sk-container-id-37 div.sk-container {/* jupyter's `normalize.less` sets `[hidden] { display: none; }` but bootstrap.min.css set `[hidden] { display: none !important; }` so we also need the `!important` here to be able to override the default hidden behavior on the sphinx rendered scikit-learn.org. See: https://github.com/scikit-learn/scikit-learn/issues/21755 */display: inline-block !important;position: relative;}#sk-container-id-37 div.sk-text-repr-fallback {display: none;}</style><div id=\"sk-container-id-37\" class=\"sk-top-container\"><div class=\"sk-text-repr-fallback\"><pre>XGBSEKaplanTree(xgb_params={&#x27;booster&#x27;: &#x27;dart&#x27;, &#x27;colsample_bynode&#x27;: 0.6,\n",
       "                            &#x27;eval_metric&#x27;: &#x27;cox-nloglik&#x27;, &#x27;max_depth&#x27;: 175,\n",
       "                            &#x27;min_child_weight&#x27;: 16, &#x27;objective&#x27;: &#x27;survival:cox&#x27;,\n",
       "                            &#x27;subsample&#x27;: 0.75, &#x27;tree_method&#x27;: &#x27;hist&#x27;})</pre><b>In a Jupyter environment, please rerun this cell to show the HTML representation or trust the notebook. <br />On GitHub, the HTML representation is unable to render, please try loading this page with nbviewer.org.</b></div><div class=\"sk-container\" hidden><div class=\"sk-item\"><div class=\"sk-estimator sk-toggleable\"><input class=\"sk-toggleable__control sk-hidden--visually\" id=\"sk-estimator-id-43\" type=\"checkbox\" checked><label for=\"sk-estimator-id-43\" class=\"sk-toggleable__label sk-toggleable__label-arrow\">XGBSEKaplanTree</label><div class=\"sk-toggleable__content\"><pre>XGBSEKaplanTree(xgb_params={&#x27;booster&#x27;: &#x27;dart&#x27;, &#x27;colsample_bynode&#x27;: 0.6,\n",
       "                            &#x27;eval_metric&#x27;: &#x27;cox-nloglik&#x27;, &#x27;max_depth&#x27;: 175,\n",
       "                            &#x27;min_child_weight&#x27;: 16, &#x27;objective&#x27;: &#x27;survival:cox&#x27;,\n",
       "                            &#x27;subsample&#x27;: 0.75, &#x27;tree_method&#x27;: &#x27;hist&#x27;})</pre></div></div></div></div></div>"
      ],
      "text/plain": [
       "XGBSEKaplanTree(xgb_params={'booster': 'dart', 'colsample_bynode': 0.6,\n",
       "                            'eval_metric': 'cox-nloglik', 'max_depth': 175,\n",
       "                            'min_child_weight': 16, 'objective': 'survival:cox',\n",
       "                            'subsample': 0.75, 'tree_method': 'hist'})"
      ]
     },
     "execution_count": 251,
     "metadata": {},
     "output_type": "execute_result"
    }
   ],
   "source": [
    "xgbT = XGBSEKaplanTree(PARAMS_TREE)\n",
    "xgbT.fit(X_train, y_train,\n",
    "               ci_width=0.99,\n",
    "               time_bins=TIME_BINS)"
   ]
  },
  {
   "cell_type": "code",
   "execution_count": 252,
   "id": "9657a417",
   "metadata": {
    "scrolled": true
   },
   "outputs": [
    {
     "name": "stdout",
     "output_type": "stream",
     "text": [
      "C-index: 0.707324811893754\n",
      "Avg. Brier Score: 0.12469176540896108\n"
     ]
    }
   ],
   "source": [
    "preds=xgbT.predict(X_val)\n",
    "\n",
    "print(f'C-index: {concordance_index(y_val, preds)}')\n",
    "print(f'Avg. Brier Score: {approx_brier_score(y_val, preds)}')"
   ]
  },
  {
   "cell_type": "markdown",
   "id": "075b6e82",
   "metadata": {},
   "source": [
    "## optuna on XGBoost KN"
   ]
  },
  {
   "cell_type": "code",
   "execution_count": 124,
   "id": "a60cb6e0",
   "metadata": {
    "scrolled": true
   },
   "outputs": [
    {
     "name": "stderr",
     "output_type": "stream",
     "text": [
      "\u001b[32m[I 2023-02-05 01:41:11,604]\u001b[0m A new study created in memory with name: XGB\u001b[0m\n",
      "\u001b[32m[I 2023-02-05 01:42:21,305]\u001b[0m Trial 0 finished with value: 0.75147312120388 and parameters: {'min_child_weight': 52, 'learning_rate': 0.10037636149444447, 'colsample_bynode': 0.34457357953651346, 'subsample': 0.20476370644231148, 'aft_loss_distribution_scale': 0.7427234772771271, 'max_depth': 7}. Best is trial 0 with value: 0.75147312120388.\u001b[0m\n",
      "\u001b[32m[I 2023-02-05 01:43:35,285]\u001b[0m Trial 1 finished with value: 0.7381923669658236 and parameters: {'min_child_weight': 81, 'learning_rate': 0.19286906783221403, 'colsample_bynode': 0.3517269494903176, 'subsample': 0.7455545037042468, 'aft_loss_distribution_scale': 0.9797383796152305, 'max_depth': 19}. Best is trial 0 with value: 0.75147312120388.\u001b[0m\n",
      "\u001b[32m[I 2023-02-05 01:44:45,387]\u001b[0m Trial 2 finished with value: 0.7320732481189376 and parameters: {'min_child_weight': 79, 'learning_rate': 0.10583560473759111, 'colsample_bynode': 0.6748114810607118, 'subsample': 0.3602502376850309, 'aft_loss_distribution_scale': 0.6553984298083387, 'max_depth': 15}. Best is trial 0 with value: 0.75147312120388.\u001b[0m\n",
      "\u001b[32m[I 2023-02-05 01:45:58,612]\u001b[0m Trial 3 finished with value: 0.7623062279031819 and parameters: {'min_child_weight': 62, 'learning_rate': 0.07462299869927576, 'colsample_bynode': 0.6125998894787534, 'subsample': 0.27057506005741333, 'aft_loss_distribution_scale': 1.3607490924898498, 'max_depth': 9}. Best is trial 3 with value: 0.7623062279031819.\u001b[0m\n",
      "\u001b[32m[I 2023-02-05 01:47:10,690]\u001b[0m Trial 4 finished with value: 0.7618076330341764 and parameters: {'min_child_weight': 21, 'learning_rate': 0.13624111611569403, 'colsample_bynode': 0.5936043041183626, 'subsample': 0.25163740874682966, 'aft_loss_distribution_scale': 1.8000081827766026, 'max_depth': 8}. Best is trial 3 with value: 0.7623062279031819.\u001b[0m\n",
      "\u001b[32m[I 2023-02-05 01:48:22,013]\u001b[0m Trial 5 finished with value: 0.7580455081134984 and parameters: {'min_child_weight': 66, 'learning_rate': 0.16756861425663744, 'colsample_bynode': 0.6656667477182521, 'subsample': 0.22950220363806298, 'aft_loss_distribution_scale': 1.2392398286955233, 'max_depth': 36}. Best is trial 3 with value: 0.7623062279031819.\u001b[0m\n",
      "\u001b[32m[I 2023-02-05 01:49:32,214]\u001b[0m Trial 6 finished with value: 0.7336596863385005 and parameters: {'min_child_weight': 60, 'learning_rate': 0.07941247378485553, 'colsample_bynode': 0.694212669033866, 'subsample': 0.2941999255694072, 'aft_loss_distribution_scale': 0.6203637619845955, 'max_depth': 25}. Best is trial 3 with value: 0.7623062279031819.\u001b[0m\n",
      "\u001b[32m[I 2023-02-05 01:50:46,853]\u001b[0m Trial 7 finished with value: 0.7235518085395704 and parameters: {'min_child_weight': 34, 'learning_rate': 0.11543162565762174, 'colsample_bynode': 0.4709088948764958, 'subsample': 0.5760530653411081, 'aft_loss_distribution_scale': 1.357465023173037, 'max_depth': 13}. Best is trial 3 with value: 0.7623062279031819.\u001b[0m\n",
      "\u001b[32m[I 2023-02-05 01:52:02,532]\u001b[0m Trial 8 finished with value: 0.7748164264345934 and parameters: {'min_child_weight': 15, 'learning_rate': 0.0537761587936772, 'colsample_bynode': 0.19834328260284317, 'subsample': 0.10965684030712207, 'aft_loss_distribution_scale': 0.5290478114694838, 'max_depth': 28}. Best is trial 8 with value: 0.7748164264345934.\u001b[0m\n",
      "\u001b[32m[I 2023-02-05 01:53:19,051]\u001b[0m Trial 9 finished with value: 0.7486175324086665 and parameters: {'min_child_weight': 97, 'learning_rate': 0.052783016795309654, 'colsample_bynode': 0.5227474746135665, 'subsample': 0.5092472971400379, 'aft_loss_distribution_scale': 0.7707719670050166, 'max_depth': 25}. Best is trial 8 with value: 0.7748164264345934.\u001b[0m\n",
      "\u001b[32m[I 2023-02-05 01:54:35,087]\u001b[0m Trial 10 finished with value: 0.7775813616172604 and parameters: {'min_child_weight': 11, 'learning_rate': 0.004174257360422665, 'colsample_bynode': 0.15684237089222458, 'subsample': 0.01596525153394948, 'aft_loss_distribution_scale': 0.13702472977942337, 'max_depth': 35}. Best is trial 10 with value: 0.7775813616172604.\u001b[0m\n",
      "\u001b[32m[I 2023-02-05 01:55:50,626]\u001b[0m Trial 11 finished with value: 0.7755869821412383 and parameters: {'min_child_weight': 10, 'learning_rate': 0.007800854302468435, 'colsample_bynode': 0.11811049317940742, 'subsample': 0.012764078512417287, 'aft_loss_distribution_scale': 0.11197737386233798, 'max_depth': 35}. Best is trial 10 with value: 0.7775813616172604.\u001b[0m\n",
      "\u001b[32m[I 2023-02-05 01:57:11,628]\u001b[0m Trial 12 finished with value: 0.7580001813072251 and parameters: {'min_child_weight': 37, 'learning_rate': 0.0079410815355543, 'colsample_bynode': 0.03753901353054523, 'subsample': 0.018714087437765148, 'aft_loss_distribution_scale': 0.19371536323478483, 'max_depth': 34}. Best is trial 10 with value: 0.7775813616172604.\u001b[0m\n",
      "\u001b[32m[I 2023-02-05 01:58:38,224]\u001b[0m Trial 13 finished with value: 0.7385096546097362 and parameters: {'min_child_weight': 11, 'learning_rate': 0.005229398043401405, 'colsample_bynode': 0.04291454374413327, 'subsample': 0.02431739753673194, 'aft_loss_distribution_scale': 0.12693103840977027, 'max_depth': 31}. Best is trial 10 with value: 0.7775813616172604.\u001b[0m\n",
      "\u001b[32m[I 2023-02-05 01:59:53,498]\u001b[0m Trial 14 finished with value: 0.7773547275858943 and parameters: {'min_child_weight': 28, 'learning_rate': 0.02623287685615601, 'colsample_bynode': 0.19619219683379532, 'subsample': 0.1269724040382142, 'aft_loss_distribution_scale': 0.3281524785804962, 'max_depth': 31}. Best is trial 10 with value: 0.7775813616172604.\u001b[0m\n",
      "\u001b[32m[I 2023-02-05 02:01:10,772]\u001b[0m Trial 15 finished with value: 0.7848336506209772 and parameters: {'min_child_weight': 25, 'learning_rate': 0.03186830987642394, 'colsample_bynode': 0.22694594280064426, 'subsample': 0.139524913299788, 'aft_loss_distribution_scale': 0.3754298243700869, 'max_depth': 30}. Best is trial 15 with value: 0.7848336506209772.\u001b[0m\n",
      "\u001b[32m[I 2023-02-05 02:02:19,401]\u001b[0m Trial 16 finished with value: 0.7641193001541111 and parameters: {'min_child_weight': 47, 'learning_rate': 0.033281803692963394, 'colsample_bynode': 0.7966411756388878, 'subsample': 0.11306497761934786, 'aft_loss_distribution_scale': 0.363234958105475, 'max_depth': 23}. Best is trial 15 with value: 0.7848336506209772.\u001b[0m\n",
      "\u001b[32m[I 2023-02-05 02:03:34,011]\u001b[0m Trial 17 finished with value: 0.7682893663312483 and parameters: {'min_child_weight': 25, 'learning_rate': 0.03011093415095585, 'colsample_bynode': 0.2704722961524559, 'subsample': 0.17949353796932763, 'aft_loss_distribution_scale': 0.410752128302196, 'max_depth': 31}. Best is trial 15 with value: 0.7848336506209772.\u001b[0m\n",
      "\u001b[32m[I 2023-02-05 02:04:45,220]\u001b[0m Trial 18 finished with value: 0.5913335146405584 and parameters: {'min_child_weight': 43, 'learning_rate': 0.0032498475841890428, 'colsample_bynode': 0.2429579039283273, 'subsample': 0.11673931528431421, 'aft_loss_distribution_scale': 0.33685829451965166, 'max_depth': 20}. Best is trial 15 with value: 0.7848336506209772.\u001b[0m\n",
      "\u001b[32m[I 2023-02-05 02:05:54,088]\u001b[0m Trial 19 finished with value: 0.7566403771190282 and parameters: {'min_child_weight': 22, 'learning_rate': 0.04755039933567182, 'colsample_bynode': 0.1310849363970419, 'subsample': 0.33807585827536984, 'aft_loss_distribution_scale': 0.41581209399217955, 'max_depth': 3}. Best is trial 15 with value: 0.7848336506209772.\u001b[0m\n",
      "\u001b[32m[I 2023-02-05 02:07:03,530]\u001b[0m Trial 20 finished with value: 0.767836098268516 and parameters: {'min_child_weight': 34, 'learning_rate': 0.07198664864083447, 'colsample_bynode': 0.32550433719338867, 'subsample': 0.4181051100589386, 'aft_loss_distribution_scale': 0.11600293468799402, 'max_depth': 29}. Best is trial 15 with value: 0.7848336506209772.\u001b[0m\n",
      "\u001b[32m[I 2023-02-05 02:08:20,387]\u001b[0m Trial 21 finished with value: 0.7672015229806908 and parameters: {'min_child_weight': 28, 'learning_rate': 0.021285102445663298, 'colsample_bynode': 0.1788773665672441, 'subsample': 0.15815002861361638, 'aft_loss_distribution_scale': 0.29564594730980515, 'max_depth': 32}. Best is trial 15 with value: 0.7848336506209772.\u001b[0m\n",
      "\u001b[32m[I 2023-02-05 02:09:35,104]\u001b[0m Trial 22 finished with value: 0.7752696944973257 and parameters: {'min_child_weight': 18, 'learning_rate': 0.029098531405249883, 'colsample_bynode': 0.25592023256619073, 'subsample': 0.08267971334884922, 'aft_loss_distribution_scale': 0.4836725789639736, 'max_depth': 28}. Best is trial 15 with value: 0.7848336506209772.\u001b[0m\n"
     ]
    },
    {
     "name": "stderr",
     "output_type": "stream",
     "text": [
      "\u001b[32m[I 2023-02-05 02:10:55,445]\u001b[0m Trial 23 finished with value: 0.756005801831203 and parameters: {'min_child_weight': 29, 'learning_rate': 0.021586601751079005, 'colsample_bynode': 0.10966554002461641, 'subsample': 0.16975635425452376, 'aft_loss_distribution_scale': 0.2591722298172936, 'max_depth': 33}. Best is trial 15 with value: 0.7848336506209772.\u001b[0m\n",
      "\u001b[32m[I 2023-02-05 02:12:11,987]\u001b[0m Trial 24 finished with value: 0.7642552805729308 and parameters: {'min_child_weight': 42, 'learning_rate': 0.04298287709367414, 'colsample_bynode': 0.18810759711850575, 'subsample': 0.07299944639675333, 'aft_loss_distribution_scale': 0.282153520394541, 'max_depth': 36}. Best is trial 15 with value: 0.7848336506209772.\u001b[0m\n",
      "\u001b[32m[I 2023-02-05 02:13:28,605]\u001b[0m Trial 25 finished with value: 0.7641193001541111 and parameters: {'min_child_weight': 16, 'learning_rate': 0.021372931485229826, 'colsample_bynode': 0.42073663736270484, 'subsample': 0.16999553453584354, 'aft_loss_distribution_scale': 0.5117353610299012, 'max_depth': 26}. Best is trial 15 with value: 0.7848336506209772.\u001b[0m\n",
      "\u001b[32m[I 2023-02-05 02:14:49,099]\u001b[0m Trial 26 finished with value: 0.7776720152298069 and parameters: {'min_child_weight': 29, 'learning_rate': 0.06124239058694056, 'colsample_bynode': 0.3044570574233641, 'subsample': 0.06698987895462552, 'aft_loss_distribution_scale': 0.2343026078210079, 'max_depth': 22}. Best is trial 15 with value: 0.7848336506209772.\u001b[0m\n",
      "\u001b[32m[I 2023-02-05 02:16:07,154]\u001b[0m Trial 27 finished with value: 0.7661136796301332 and parameters: {'min_child_weight': 10, 'learning_rate': 0.0625629442576489, 'colsample_bynode': 0.2854334610923064, 'subsample': 0.07320773519607987, 'aft_loss_distribution_scale': 0.22672183497968845, 'max_depth': 20}. Best is trial 15 with value: 0.7848336506209772.\u001b[0m\n",
      "\u001b[32m[I 2023-02-05 02:17:21,995]\u001b[0m Trial 28 finished with value: 0.7590426978515094 and parameters: {'min_child_weight': 39, 'learning_rate': 0.039456184184312175, 'colsample_bynode': 0.3975695317145761, 'subsample': 0.05394075192946629, 'aft_loss_distribution_scale': 0.1228639074885647, 'max_depth': 17}. Best is trial 15 with value: 0.7848336506209772.\u001b[0m\n",
      "\u001b[32m[I 2023-02-05 02:18:36,124]\u001b[0m Trial 29 finished with value: 0.7663403136614995 and parameters: {'min_child_weight': 47, 'learning_rate': 0.08453337714722535, 'colsample_bynode': 0.3233756351704569, 'subsample': 0.19193434709155627, 'aft_loss_distribution_scale': 0.7402089610004492, 'max_depth': 23}. Best is trial 15 with value: 0.7848336506209772.\u001b[0m\n"
     ]
    }
   ],
   "source": [
    "from sklearn.model_selection import StratifiedKFold, train_test_split\n",
    "from xgbse.metrics import concordance_index, approx_brier_score\n",
    "def objective(trial):\n",
    "    X_train, X_test, y_train, y_test=train_test_split(X, y, train_size=0.8)\n",
    "    \n",
    "    PARAMS_XGB_AFT = {\n",
    "        \"min_child_weight\": trial.suggest_int(\"min_child_weight\", 10, 100),\n",
    "        \"learning_rate\": trial.suggest_float(\"learning_rate\", 0.0001, 0.2),\n",
    "        \"colsample_bynode\": trial.suggest_float(\"colsample_bynode\", 0.01, 0.8),\n",
    "        \"subsample\": trial.suggest_float(\"subsample\", 0.01, 0.8),\n",
    "        \"aft_loss_distribution_scale\": trial.suggest_float(\"aft_loss_distribution_scale\", 0.1, 2.0),\n",
    "        \"max_depth\": trial.suggest_int(\"max_depth\", 3, 36),\n",
    "        \"random_state\": 8,\n",
    "        'objective': 'survival:aft',\n",
    "        'eval_metric': 'aft-nloglik',\n",
    "        'aft_loss_distribution': 'extreme',\n",
    "        'tree_method': 'hist', \n",
    "        'booster':'dart',\n",
    "    }\n",
    "    model = XGBSEKaplanNeighbors(PARAMS_XGB_AFT, n_neighbors=50)\n",
    "    model.fit(\n",
    "        X_train,\n",
    "        y_train,\n",
    "             \n",
    "    )\n",
    "    preds=model.predict(X_val)\n",
    "#     gb_chf = model.predict_cumulative_hazard_function(X_val,return_array=False)\n",
    "#     gb_risk_scores = np.row_stack([chf(times) for chf in gb_chf])\n",
    "#     gb_auc, gb_mean_auc = cumulative_dynamic_auc(y_train, y_val, gb_risk_scores, times)\n",
    "#     scores = gb_mean_auc\n",
    "    scores = concordance_index(y_val, preds)\n",
    "    return scores\n",
    "import optuna\n",
    "study = optuna.create_study(direction=\"maximize\", study_name=\"XGB\") \n",
    "study.optimize(objective, n_trials=30)\n",
    "\n"
   ]
  },
  {
   "cell_type": "code",
   "execution_count": 133,
   "id": "577d8645",
   "metadata": {},
   "outputs": [
    {
     "data": {
      "text/html": [
       "<style>#sk-container-id-14 {color: black;background-color: white;}#sk-container-id-14 pre{padding: 0;}#sk-container-id-14 div.sk-toggleable {background-color: white;}#sk-container-id-14 label.sk-toggleable__label {cursor: pointer;display: block;width: 100%;margin-bottom: 0;padding: 0.3em;box-sizing: border-box;text-align: center;}#sk-container-id-14 label.sk-toggleable__label-arrow:before {content: \"▸\";float: left;margin-right: 0.25em;color: #696969;}#sk-container-id-14 label.sk-toggleable__label-arrow:hover:before {color: black;}#sk-container-id-14 div.sk-estimator:hover label.sk-toggleable__label-arrow:before {color: black;}#sk-container-id-14 div.sk-toggleable__content {max-height: 0;max-width: 0;overflow: hidden;text-align: left;background-color: #f0f8ff;}#sk-container-id-14 div.sk-toggleable__content pre {margin: 0.2em;color: black;border-radius: 0.25em;background-color: #f0f8ff;}#sk-container-id-14 input.sk-toggleable__control:checked~div.sk-toggleable__content {max-height: 200px;max-width: 100%;overflow: auto;}#sk-container-id-14 input.sk-toggleable__control:checked~label.sk-toggleable__label-arrow:before {content: \"▾\";}#sk-container-id-14 div.sk-estimator input.sk-toggleable__control:checked~label.sk-toggleable__label {background-color: #d4ebff;}#sk-container-id-14 div.sk-label input.sk-toggleable__control:checked~label.sk-toggleable__label {background-color: #d4ebff;}#sk-container-id-14 input.sk-hidden--visually {border: 0;clip: rect(1px 1px 1px 1px);clip: rect(1px, 1px, 1px, 1px);height: 1px;margin: -1px;overflow: hidden;padding: 0;position: absolute;width: 1px;}#sk-container-id-14 div.sk-estimator {font-family: monospace;background-color: #f0f8ff;border: 1px dotted black;border-radius: 0.25em;box-sizing: border-box;margin-bottom: 0.5em;}#sk-container-id-14 div.sk-estimator:hover {background-color: #d4ebff;}#sk-container-id-14 div.sk-parallel-item::after {content: \"\";width: 100%;border-bottom: 1px solid gray;flex-grow: 1;}#sk-container-id-14 div.sk-label:hover label.sk-toggleable__label {background-color: #d4ebff;}#sk-container-id-14 div.sk-serial::before {content: \"\";position: absolute;border-left: 1px solid gray;box-sizing: border-box;top: 0;bottom: 0;left: 50%;z-index: 0;}#sk-container-id-14 div.sk-serial {display: flex;flex-direction: column;align-items: center;background-color: white;padding-right: 0.2em;padding-left: 0.2em;position: relative;}#sk-container-id-14 div.sk-item {position: relative;z-index: 1;}#sk-container-id-14 div.sk-parallel {display: flex;align-items: stretch;justify-content: center;background-color: white;position: relative;}#sk-container-id-14 div.sk-item::before, #sk-container-id-14 div.sk-parallel-item::before {content: \"\";position: absolute;border-left: 1px solid gray;box-sizing: border-box;top: 0;bottom: 0;left: 50%;z-index: -1;}#sk-container-id-14 div.sk-parallel-item {display: flex;flex-direction: column;z-index: 1;position: relative;background-color: white;}#sk-container-id-14 div.sk-parallel-item:first-child::after {align-self: flex-end;width: 50%;}#sk-container-id-14 div.sk-parallel-item:last-child::after {align-self: flex-start;width: 50%;}#sk-container-id-14 div.sk-parallel-item:only-child::after {width: 0;}#sk-container-id-14 div.sk-dashed-wrapped {border: 1px dashed gray;margin: 0 0.4em 0.5em 0.4em;box-sizing: border-box;padding-bottom: 0.4em;background-color: white;}#sk-container-id-14 div.sk-label label {font-family: monospace;font-weight: bold;display: inline-block;line-height: 1.2em;}#sk-container-id-14 div.sk-label-container {text-align: center;}#sk-container-id-14 div.sk-container {/* jupyter's `normalize.less` sets `[hidden] { display: none; }` but bootstrap.min.css set `[hidden] { display: none !important; }` so we also need the `!important` here to be able to override the default hidden behavior on the sphinx rendered scikit-learn.org. See: https://github.com/scikit-learn/scikit-learn/issues/21755 */display: inline-block !important;position: relative;}#sk-container-id-14 div.sk-text-repr-fallback {display: none;}</style><div id=\"sk-container-id-14\" class=\"sk-top-container\"><div class=\"sk-text-repr-fallback\"><pre>XGBSEKaplanNeighbors(n_neighbors=2000,\n",
       "                     xgb_params={&#x27;aft_loss_distribution&#x27;: &#x27;extreme&#x27;,\n",
       "                                 &#x27;aft_loss_distribution_scale&#x27;: 0.3754298243700869,\n",
       "                                 &#x27;booster&#x27;: &#x27;dart&#x27;,\n",
       "                                 &#x27;colsample_bynode&#x27;: 0.22694594280064426,\n",
       "                                 &#x27;eval_metric&#x27;: &#x27;aft-nloglik&#x27;,\n",
       "                                 &#x27;learning_rate&#x27;: 0.03186830987642394,\n",
       "                                 &#x27;max_depth&#x27;: 30, &#x27;min_child_weight&#x27;: 25,\n",
       "                                 &#x27;objective&#x27;: &#x27;survival:aft&#x27;,\n",
       "                                 &#x27;subsample&#x27;: 0.139524913299788,\n",
       "                                 &#x27;tree_method&#x27;: &#x27;hist&#x27;})</pre><b>In a Jupyter environment, please rerun this cell to show the HTML representation or trust the notebook. <br />On GitHub, the HTML representation is unable to render, please try loading this page with nbviewer.org.</b></div><div class=\"sk-container\" hidden><div class=\"sk-item\"><div class=\"sk-estimator sk-toggleable\"><input class=\"sk-toggleable__control sk-hidden--visually\" id=\"sk-estimator-id-14\" type=\"checkbox\" checked><label for=\"sk-estimator-id-14\" class=\"sk-toggleable__label sk-toggleable__label-arrow\">XGBSEKaplanNeighbors</label><div class=\"sk-toggleable__content\"><pre>XGBSEKaplanNeighbors(n_neighbors=2000,\n",
       "                     xgb_params={&#x27;aft_loss_distribution&#x27;: &#x27;extreme&#x27;,\n",
       "                                 &#x27;aft_loss_distribution_scale&#x27;: 0.3754298243700869,\n",
       "                                 &#x27;booster&#x27;: &#x27;dart&#x27;,\n",
       "                                 &#x27;colsample_bynode&#x27;: 0.22694594280064426,\n",
       "                                 &#x27;eval_metric&#x27;: &#x27;aft-nloglik&#x27;,\n",
       "                                 &#x27;learning_rate&#x27;: 0.03186830987642394,\n",
       "                                 &#x27;max_depth&#x27;: 30, &#x27;min_child_weight&#x27;: 25,\n",
       "                                 &#x27;objective&#x27;: &#x27;survival:aft&#x27;,\n",
       "                                 &#x27;subsample&#x27;: 0.139524913299788,\n",
       "                                 &#x27;tree_method&#x27;: &#x27;hist&#x27;})</pre></div></div></div></div></div>"
      ],
      "text/plain": [
       "XGBSEKaplanNeighbors(n_neighbors=2000,\n",
       "                     xgb_params={'aft_loss_distribution': 'extreme',\n",
       "                                 'aft_loss_distribution_scale': 0.3754298243700869,\n",
       "                                 'booster': 'dart',\n",
       "                                 'colsample_bynode': 0.22694594280064426,\n",
       "                                 'eval_metric': 'aft-nloglik',\n",
       "                                 'learning_rate': 0.03186830987642394,\n",
       "                                 'max_depth': 30, 'min_child_weight': 25,\n",
       "                                 'objective': 'survival:aft',\n",
       "                                 'subsample': 0.139524913299788,\n",
       "                                 'tree_method': 'hist'})"
      ]
     },
     "execution_count": 133,
     "metadata": {},
     "output_type": "execute_result"
    }
   ],
   "source": [
    "# need to manaully copy the best params here\n",
    "best_params = {\n",
    "    'objective': 'survival:aft',\n",
    "    'eval_metric': 'aft-nloglik',\n",
    "    'aft_loss_distribution': 'extreme',\n",
    "    'tree_method': 'hist', \n",
    "    'booster':'dart', \n",
    "    'min_child_weight': 25,\n",
    "    'learning_rate': 0.03186830987642394,\n",
    "    'colsample_bynode': 0.22694594280064426,\n",
    "    'subsample': 0.139524913299788,\n",
    "    'aft_loss_distribution_scale': 0.3754298243700869,\n",
    "    'max_depth': 30\n",
    "}\n",
    "xgb_aft = XGBSEKaplanNeighbors(best_params,n_neighbors=2000)\n",
    "\n",
    "xgb_aft.fit(X_train, y_train,\n",
    "               validation_data = (X_val, y_val),\n",
    "               early_stopping_rounds=50,\n",
    "               time_bins=(0, 2191, 100))"
   ]
  },
  {
   "cell_type": "code",
   "execution_count": 132,
   "id": "01340fc4",
   "metadata": {},
   "outputs": [
    {
     "name": "stdout",
     "output_type": "stream",
     "text": [
      "C-index: 0.7375577916779984\n",
      "Avg. Brier Score: 0.3416567595643287\n"
     ]
    }
   ],
   "source": [
    "preds=xgb_aft.predict(X_val)\n",
    "\n",
    "print(f'C-index: {concordance_index(y_val, preds)}')\n",
    "print(f'Avg. Brier Score: {approx_brier_score(y_val, preds)}')"
   ]
  },
  {
   "cell_type": "code",
   "execution_count": 118,
   "id": "6768a24a",
   "metadata": {
    "scrolled": true
   },
   "outputs": [
    {
     "data": {
      "application/vnd.plotly.v1+json": {
       "config": {
        "plotlyServerURL": "https://plot.ly"
       },
       "data": [
        {
         "cliponaxis": false,
         "hovertemplate": [
          "max_depth (IntDistribution): 0.05133466192421545<extra></extra>",
          "subsample (FloatDistribution): 0.08397521035200646<extra></extra>",
          "min_child_weight (IntDistribution): 0.1016580899844875<extra></extra>",
          "learning_rate (FloatDistribution): 0.14055697343022924<extra></extra>",
          "colsample_bynode (FloatDistribution): 0.6224750643090613<extra></extra>"
         ],
         "marker": {
          "color": "rgb(66,146,198)"
         },
         "orientation": "h",
         "text": [
          "0.05",
          "0.08",
          "0.10",
          "0.14",
          "0.62"
         ],
         "textposition": "outside",
         "type": "bar",
         "x": [
          0.05133466192421545,
          0.08397521035200646,
          0.1016580899844875,
          0.14055697343022924,
          0.6224750643090613
         ],
         "y": [
          "max_depth",
          "subsample",
          "min_child_weight",
          "learning_rate",
          "colsample_bynode"
         ]
        }
       ],
       "layout": {
        "showlegend": false,
        "template": {
         "data": {
          "bar": [
           {
            "error_x": {
             "color": "#2a3f5f"
            },
            "error_y": {
             "color": "#2a3f5f"
            },
            "marker": {
             "line": {
              "color": "#E5ECF6",
              "width": 0.5
             },
             "pattern": {
              "fillmode": "overlay",
              "size": 10,
              "solidity": 0.2
             }
            },
            "type": "bar"
           }
          ],
          "barpolar": [
           {
            "marker": {
             "line": {
              "color": "#E5ECF6",
              "width": 0.5
             },
             "pattern": {
              "fillmode": "overlay",
              "size": 10,
              "solidity": 0.2
             }
            },
            "type": "barpolar"
           }
          ],
          "carpet": [
           {
            "aaxis": {
             "endlinecolor": "#2a3f5f",
             "gridcolor": "white",
             "linecolor": "white",
             "minorgridcolor": "white",
             "startlinecolor": "#2a3f5f"
            },
            "baxis": {
             "endlinecolor": "#2a3f5f",
             "gridcolor": "white",
             "linecolor": "white",
             "minorgridcolor": "white",
             "startlinecolor": "#2a3f5f"
            },
            "type": "carpet"
           }
          ],
          "choropleth": [
           {
            "colorbar": {
             "outlinewidth": 0,
             "ticks": ""
            },
            "type": "choropleth"
           }
          ],
          "contour": [
           {
            "colorbar": {
             "outlinewidth": 0,
             "ticks": ""
            },
            "colorscale": [
             [
              0,
              "#0d0887"
             ],
             [
              0.1111111111111111,
              "#46039f"
             ],
             [
              0.2222222222222222,
              "#7201a8"
             ],
             [
              0.3333333333333333,
              "#9c179e"
             ],
             [
              0.4444444444444444,
              "#bd3786"
             ],
             [
              0.5555555555555556,
              "#d8576b"
             ],
             [
              0.6666666666666666,
              "#ed7953"
             ],
             [
              0.7777777777777778,
              "#fb9f3a"
             ],
             [
              0.8888888888888888,
              "#fdca26"
             ],
             [
              1,
              "#f0f921"
             ]
            ],
            "type": "contour"
           }
          ],
          "contourcarpet": [
           {
            "colorbar": {
             "outlinewidth": 0,
             "ticks": ""
            },
            "type": "contourcarpet"
           }
          ],
          "heatmap": [
           {
            "colorbar": {
             "outlinewidth": 0,
             "ticks": ""
            },
            "colorscale": [
             [
              0,
              "#0d0887"
             ],
             [
              0.1111111111111111,
              "#46039f"
             ],
             [
              0.2222222222222222,
              "#7201a8"
             ],
             [
              0.3333333333333333,
              "#9c179e"
             ],
             [
              0.4444444444444444,
              "#bd3786"
             ],
             [
              0.5555555555555556,
              "#d8576b"
             ],
             [
              0.6666666666666666,
              "#ed7953"
             ],
             [
              0.7777777777777778,
              "#fb9f3a"
             ],
             [
              0.8888888888888888,
              "#fdca26"
             ],
             [
              1,
              "#f0f921"
             ]
            ],
            "type": "heatmap"
           }
          ],
          "heatmapgl": [
           {
            "colorbar": {
             "outlinewidth": 0,
             "ticks": ""
            },
            "colorscale": [
             [
              0,
              "#0d0887"
             ],
             [
              0.1111111111111111,
              "#46039f"
             ],
             [
              0.2222222222222222,
              "#7201a8"
             ],
             [
              0.3333333333333333,
              "#9c179e"
             ],
             [
              0.4444444444444444,
              "#bd3786"
             ],
             [
              0.5555555555555556,
              "#d8576b"
             ],
             [
              0.6666666666666666,
              "#ed7953"
             ],
             [
              0.7777777777777778,
              "#fb9f3a"
             ],
             [
              0.8888888888888888,
              "#fdca26"
             ],
             [
              1,
              "#f0f921"
             ]
            ],
            "type": "heatmapgl"
           }
          ],
          "histogram": [
           {
            "marker": {
             "pattern": {
              "fillmode": "overlay",
              "size": 10,
              "solidity": 0.2
             }
            },
            "type": "histogram"
           }
          ],
          "histogram2d": [
           {
            "colorbar": {
             "outlinewidth": 0,
             "ticks": ""
            },
            "colorscale": [
             [
              0,
              "#0d0887"
             ],
             [
              0.1111111111111111,
              "#46039f"
             ],
             [
              0.2222222222222222,
              "#7201a8"
             ],
             [
              0.3333333333333333,
              "#9c179e"
             ],
             [
              0.4444444444444444,
              "#bd3786"
             ],
             [
              0.5555555555555556,
              "#d8576b"
             ],
             [
              0.6666666666666666,
              "#ed7953"
             ],
             [
              0.7777777777777778,
              "#fb9f3a"
             ],
             [
              0.8888888888888888,
              "#fdca26"
             ],
             [
              1,
              "#f0f921"
             ]
            ],
            "type": "histogram2d"
           }
          ],
          "histogram2dcontour": [
           {
            "colorbar": {
             "outlinewidth": 0,
             "ticks": ""
            },
            "colorscale": [
             [
              0,
              "#0d0887"
             ],
             [
              0.1111111111111111,
              "#46039f"
             ],
             [
              0.2222222222222222,
              "#7201a8"
             ],
             [
              0.3333333333333333,
              "#9c179e"
             ],
             [
              0.4444444444444444,
              "#bd3786"
             ],
             [
              0.5555555555555556,
              "#d8576b"
             ],
             [
              0.6666666666666666,
              "#ed7953"
             ],
             [
              0.7777777777777778,
              "#fb9f3a"
             ],
             [
              0.8888888888888888,
              "#fdca26"
             ],
             [
              1,
              "#f0f921"
             ]
            ],
            "type": "histogram2dcontour"
           }
          ],
          "mesh3d": [
           {
            "colorbar": {
             "outlinewidth": 0,
             "ticks": ""
            },
            "type": "mesh3d"
           }
          ],
          "parcoords": [
           {
            "line": {
             "colorbar": {
              "outlinewidth": 0,
              "ticks": ""
             }
            },
            "type": "parcoords"
           }
          ],
          "pie": [
           {
            "automargin": true,
            "type": "pie"
           }
          ],
          "scatter": [
           {
            "fillpattern": {
             "fillmode": "overlay",
             "size": 10,
             "solidity": 0.2
            },
            "type": "scatter"
           }
          ],
          "scatter3d": [
           {
            "line": {
             "colorbar": {
              "outlinewidth": 0,
              "ticks": ""
             }
            },
            "marker": {
             "colorbar": {
              "outlinewidth": 0,
              "ticks": ""
             }
            },
            "type": "scatter3d"
           }
          ],
          "scattercarpet": [
           {
            "marker": {
             "colorbar": {
              "outlinewidth": 0,
              "ticks": ""
             }
            },
            "type": "scattercarpet"
           }
          ],
          "scattergeo": [
           {
            "marker": {
             "colorbar": {
              "outlinewidth": 0,
              "ticks": ""
             }
            },
            "type": "scattergeo"
           }
          ],
          "scattergl": [
           {
            "marker": {
             "colorbar": {
              "outlinewidth": 0,
              "ticks": ""
             }
            },
            "type": "scattergl"
           }
          ],
          "scattermapbox": [
           {
            "marker": {
             "colorbar": {
              "outlinewidth": 0,
              "ticks": ""
             }
            },
            "type": "scattermapbox"
           }
          ],
          "scatterpolar": [
           {
            "marker": {
             "colorbar": {
              "outlinewidth": 0,
              "ticks": ""
             }
            },
            "type": "scatterpolar"
           }
          ],
          "scatterpolargl": [
           {
            "marker": {
             "colorbar": {
              "outlinewidth": 0,
              "ticks": ""
             }
            },
            "type": "scatterpolargl"
           }
          ],
          "scatterternary": [
           {
            "marker": {
             "colorbar": {
              "outlinewidth": 0,
              "ticks": ""
             }
            },
            "type": "scatterternary"
           }
          ],
          "surface": [
           {
            "colorbar": {
             "outlinewidth": 0,
             "ticks": ""
            },
            "colorscale": [
             [
              0,
              "#0d0887"
             ],
             [
              0.1111111111111111,
              "#46039f"
             ],
             [
              0.2222222222222222,
              "#7201a8"
             ],
             [
              0.3333333333333333,
              "#9c179e"
             ],
             [
              0.4444444444444444,
              "#bd3786"
             ],
             [
              0.5555555555555556,
              "#d8576b"
             ],
             [
              0.6666666666666666,
              "#ed7953"
             ],
             [
              0.7777777777777778,
              "#fb9f3a"
             ],
             [
              0.8888888888888888,
              "#fdca26"
             ],
             [
              1,
              "#f0f921"
             ]
            ],
            "type": "surface"
           }
          ],
          "table": [
           {
            "cells": {
             "fill": {
              "color": "#EBF0F8"
             },
             "line": {
              "color": "white"
             }
            },
            "header": {
             "fill": {
              "color": "#C8D4E3"
             },
             "line": {
              "color": "white"
             }
            },
            "type": "table"
           }
          ]
         },
         "layout": {
          "annotationdefaults": {
           "arrowcolor": "#2a3f5f",
           "arrowhead": 0,
           "arrowwidth": 1
          },
          "autotypenumbers": "strict",
          "coloraxis": {
           "colorbar": {
            "outlinewidth": 0,
            "ticks": ""
           }
          },
          "colorscale": {
           "diverging": [
            [
             0,
             "#8e0152"
            ],
            [
             0.1,
             "#c51b7d"
            ],
            [
             0.2,
             "#de77ae"
            ],
            [
             0.3,
             "#f1b6da"
            ],
            [
             0.4,
             "#fde0ef"
            ],
            [
             0.5,
             "#f7f7f7"
            ],
            [
             0.6,
             "#e6f5d0"
            ],
            [
             0.7,
             "#b8e186"
            ],
            [
             0.8,
             "#7fbc41"
            ],
            [
             0.9,
             "#4d9221"
            ],
            [
             1,
             "#276419"
            ]
           ],
           "sequential": [
            [
             0,
             "#0d0887"
            ],
            [
             0.1111111111111111,
             "#46039f"
            ],
            [
             0.2222222222222222,
             "#7201a8"
            ],
            [
             0.3333333333333333,
             "#9c179e"
            ],
            [
             0.4444444444444444,
             "#bd3786"
            ],
            [
             0.5555555555555556,
             "#d8576b"
            ],
            [
             0.6666666666666666,
             "#ed7953"
            ],
            [
             0.7777777777777778,
             "#fb9f3a"
            ],
            [
             0.8888888888888888,
             "#fdca26"
            ],
            [
             1,
             "#f0f921"
            ]
           ],
           "sequentialminus": [
            [
             0,
             "#0d0887"
            ],
            [
             0.1111111111111111,
             "#46039f"
            ],
            [
             0.2222222222222222,
             "#7201a8"
            ],
            [
             0.3333333333333333,
             "#9c179e"
            ],
            [
             0.4444444444444444,
             "#bd3786"
            ],
            [
             0.5555555555555556,
             "#d8576b"
            ],
            [
             0.6666666666666666,
             "#ed7953"
            ],
            [
             0.7777777777777778,
             "#fb9f3a"
            ],
            [
             0.8888888888888888,
             "#fdca26"
            ],
            [
             1,
             "#f0f921"
            ]
           ]
          },
          "colorway": [
           "#636efa",
           "#EF553B",
           "#00cc96",
           "#ab63fa",
           "#FFA15A",
           "#19d3f3",
           "#FF6692",
           "#B6E880",
           "#FF97FF",
           "#FECB52"
          ],
          "font": {
           "color": "#2a3f5f"
          },
          "geo": {
           "bgcolor": "white",
           "lakecolor": "white",
           "landcolor": "#E5ECF6",
           "showlakes": true,
           "showland": true,
           "subunitcolor": "white"
          },
          "hoverlabel": {
           "align": "left"
          },
          "hovermode": "closest",
          "mapbox": {
           "style": "light"
          },
          "paper_bgcolor": "white",
          "plot_bgcolor": "#E5ECF6",
          "polar": {
           "angularaxis": {
            "gridcolor": "white",
            "linecolor": "white",
            "ticks": ""
           },
           "bgcolor": "#E5ECF6",
           "radialaxis": {
            "gridcolor": "white",
            "linecolor": "white",
            "ticks": ""
           }
          },
          "scene": {
           "xaxis": {
            "backgroundcolor": "#E5ECF6",
            "gridcolor": "white",
            "gridwidth": 2,
            "linecolor": "white",
            "showbackground": true,
            "ticks": "",
            "zerolinecolor": "white"
           },
           "yaxis": {
            "backgroundcolor": "#E5ECF6",
            "gridcolor": "white",
            "gridwidth": 2,
            "linecolor": "white",
            "showbackground": true,
            "ticks": "",
            "zerolinecolor": "white"
           },
           "zaxis": {
            "backgroundcolor": "#E5ECF6",
            "gridcolor": "white",
            "gridwidth": 2,
            "linecolor": "white",
            "showbackground": true,
            "ticks": "",
            "zerolinecolor": "white"
           }
          },
          "shapedefaults": {
           "line": {
            "color": "#2a3f5f"
           }
          },
          "ternary": {
           "aaxis": {
            "gridcolor": "white",
            "linecolor": "white",
            "ticks": ""
           },
           "baxis": {
            "gridcolor": "white",
            "linecolor": "white",
            "ticks": ""
           },
           "bgcolor": "#E5ECF6",
           "caxis": {
            "gridcolor": "white",
            "linecolor": "white",
            "ticks": ""
           }
          },
          "title": {
           "x": 0.05
          },
          "xaxis": {
           "automargin": true,
           "gridcolor": "white",
           "linecolor": "white",
           "ticks": "",
           "title": {
            "standoff": 15
           },
           "zerolinecolor": "white",
           "zerolinewidth": 2
          },
          "yaxis": {
           "automargin": true,
           "gridcolor": "white",
           "linecolor": "white",
           "ticks": "",
           "title": {
            "standoff": 15
           },
           "zerolinecolor": "white",
           "zerolinewidth": 2
          }
         }
        },
        "title": {
         "text": "Hyperparameter Importances"
        },
        "xaxis": {
         "title": {
          "text": "Importance for Objective Value"
         }
        },
        "yaxis": {
         "title": {
          "text": "Hyperparameter"
         }
        }
       }
      },
      "text/html": [
       "<div>                            <div id=\"3b1daf9c-3e95-45aa-a1aa-dd3352123699\" class=\"plotly-graph-div\" style=\"height:525px; width:100%;\"></div>            <script type=\"text/javascript\">                require([\"plotly\"], function(Plotly) {                    window.PLOTLYENV=window.PLOTLYENV || {};                                    if (document.getElementById(\"3b1daf9c-3e95-45aa-a1aa-dd3352123699\")) {                    Plotly.newPlot(                        \"3b1daf9c-3e95-45aa-a1aa-dd3352123699\",                        [{\"cliponaxis\":false,\"hovertemplate\":[\"max_depth (IntDistribution): 0.05133466192421545<extra></extra>\",\"subsample (FloatDistribution): 0.08397521035200646<extra></extra>\",\"min_child_weight (IntDistribution): 0.1016580899844875<extra></extra>\",\"learning_rate (FloatDistribution): 0.14055697343022924<extra></extra>\",\"colsample_bynode (FloatDistribution): 0.6224750643090613<extra></extra>\"],\"marker\":{\"color\":\"rgb(66,146,198)\"},\"orientation\":\"h\",\"text\":[\"0.05\",\"0.08\",\"0.10\",\"0.14\",\"0.62\"],\"textposition\":\"outside\",\"x\":[0.05133466192421545,0.08397521035200646,0.1016580899844875,0.14055697343022924,0.6224750643090613],\"y\":[\"max_depth\",\"subsample\",\"min_child_weight\",\"learning_rate\",\"colsample_bynode\"],\"type\":\"bar\"}],                        {\"showlegend\":false,\"title\":{\"text\":\"Hyperparameter Importances\"},\"xaxis\":{\"title\":{\"text\":\"Importance for Objective Value\"}},\"yaxis\":{\"title\":{\"text\":\"Hyperparameter\"}},\"template\":{\"data\":{\"histogram2dcontour\":[{\"type\":\"histogram2dcontour\",\"colorbar\":{\"outlinewidth\":0,\"ticks\":\"\"},\"colorscale\":[[0.0,\"#0d0887\"],[0.1111111111111111,\"#46039f\"],[0.2222222222222222,\"#7201a8\"],[0.3333333333333333,\"#9c179e\"],[0.4444444444444444,\"#bd3786\"],[0.5555555555555556,\"#d8576b\"],[0.6666666666666666,\"#ed7953\"],[0.7777777777777778,\"#fb9f3a\"],[0.8888888888888888,\"#fdca26\"],[1.0,\"#f0f921\"]]}],\"choropleth\":[{\"type\":\"choropleth\",\"colorbar\":{\"outlinewidth\":0,\"ticks\":\"\"}}],\"histogram2d\":[{\"type\":\"histogram2d\",\"colorbar\":{\"outlinewidth\":0,\"ticks\":\"\"},\"colorscale\":[[0.0,\"#0d0887\"],[0.1111111111111111,\"#46039f\"],[0.2222222222222222,\"#7201a8\"],[0.3333333333333333,\"#9c179e\"],[0.4444444444444444,\"#bd3786\"],[0.5555555555555556,\"#d8576b\"],[0.6666666666666666,\"#ed7953\"],[0.7777777777777778,\"#fb9f3a\"],[0.8888888888888888,\"#fdca26\"],[1.0,\"#f0f921\"]]}],\"heatmap\":[{\"type\":\"heatmap\",\"colorbar\":{\"outlinewidth\":0,\"ticks\":\"\"},\"colorscale\":[[0.0,\"#0d0887\"],[0.1111111111111111,\"#46039f\"],[0.2222222222222222,\"#7201a8\"],[0.3333333333333333,\"#9c179e\"],[0.4444444444444444,\"#bd3786\"],[0.5555555555555556,\"#d8576b\"],[0.6666666666666666,\"#ed7953\"],[0.7777777777777778,\"#fb9f3a\"],[0.8888888888888888,\"#fdca26\"],[1.0,\"#f0f921\"]]}],\"heatmapgl\":[{\"type\":\"heatmapgl\",\"colorbar\":{\"outlinewidth\":0,\"ticks\":\"\"},\"colorscale\":[[0.0,\"#0d0887\"],[0.1111111111111111,\"#46039f\"],[0.2222222222222222,\"#7201a8\"],[0.3333333333333333,\"#9c179e\"],[0.4444444444444444,\"#bd3786\"],[0.5555555555555556,\"#d8576b\"],[0.6666666666666666,\"#ed7953\"],[0.7777777777777778,\"#fb9f3a\"],[0.8888888888888888,\"#fdca26\"],[1.0,\"#f0f921\"]]}],\"contourcarpet\":[{\"type\":\"contourcarpet\",\"colorbar\":{\"outlinewidth\":0,\"ticks\":\"\"}}],\"contour\":[{\"type\":\"contour\",\"colorbar\":{\"outlinewidth\":0,\"ticks\":\"\"},\"colorscale\":[[0.0,\"#0d0887\"],[0.1111111111111111,\"#46039f\"],[0.2222222222222222,\"#7201a8\"],[0.3333333333333333,\"#9c179e\"],[0.4444444444444444,\"#bd3786\"],[0.5555555555555556,\"#d8576b\"],[0.6666666666666666,\"#ed7953\"],[0.7777777777777778,\"#fb9f3a\"],[0.8888888888888888,\"#fdca26\"],[1.0,\"#f0f921\"]]}],\"surface\":[{\"type\":\"surface\",\"colorbar\":{\"outlinewidth\":0,\"ticks\":\"\"},\"colorscale\":[[0.0,\"#0d0887\"],[0.1111111111111111,\"#46039f\"],[0.2222222222222222,\"#7201a8\"],[0.3333333333333333,\"#9c179e\"],[0.4444444444444444,\"#bd3786\"],[0.5555555555555556,\"#d8576b\"],[0.6666666666666666,\"#ed7953\"],[0.7777777777777778,\"#fb9f3a\"],[0.8888888888888888,\"#fdca26\"],[1.0,\"#f0f921\"]]}],\"mesh3d\":[{\"type\":\"mesh3d\",\"colorbar\":{\"outlinewidth\":0,\"ticks\":\"\"}}],\"scatter\":[{\"fillpattern\":{\"fillmode\":\"overlay\",\"size\":10,\"solidity\":0.2},\"type\":\"scatter\"}],\"parcoords\":[{\"type\":\"parcoords\",\"line\":{\"colorbar\":{\"outlinewidth\":0,\"ticks\":\"\"}}}],\"scatterpolargl\":[{\"type\":\"scatterpolargl\",\"marker\":{\"colorbar\":{\"outlinewidth\":0,\"ticks\":\"\"}}}],\"bar\":[{\"error_x\":{\"color\":\"#2a3f5f\"},\"error_y\":{\"color\":\"#2a3f5f\"},\"marker\":{\"line\":{\"color\":\"#E5ECF6\",\"width\":0.5},\"pattern\":{\"fillmode\":\"overlay\",\"size\":10,\"solidity\":0.2}},\"type\":\"bar\"}],\"scattergeo\":[{\"type\":\"scattergeo\",\"marker\":{\"colorbar\":{\"outlinewidth\":0,\"ticks\":\"\"}}}],\"scatterpolar\":[{\"type\":\"scatterpolar\",\"marker\":{\"colorbar\":{\"outlinewidth\":0,\"ticks\":\"\"}}}],\"histogram\":[{\"marker\":{\"pattern\":{\"fillmode\":\"overlay\",\"size\":10,\"solidity\":0.2}},\"type\":\"histogram\"}],\"scattergl\":[{\"type\":\"scattergl\",\"marker\":{\"colorbar\":{\"outlinewidth\":0,\"ticks\":\"\"}}}],\"scatter3d\":[{\"type\":\"scatter3d\",\"line\":{\"colorbar\":{\"outlinewidth\":0,\"ticks\":\"\"}},\"marker\":{\"colorbar\":{\"outlinewidth\":0,\"ticks\":\"\"}}}],\"scattermapbox\":[{\"type\":\"scattermapbox\",\"marker\":{\"colorbar\":{\"outlinewidth\":0,\"ticks\":\"\"}}}],\"scatterternary\":[{\"type\":\"scatterternary\",\"marker\":{\"colorbar\":{\"outlinewidth\":0,\"ticks\":\"\"}}}],\"scattercarpet\":[{\"type\":\"scattercarpet\",\"marker\":{\"colorbar\":{\"outlinewidth\":0,\"ticks\":\"\"}}}],\"carpet\":[{\"aaxis\":{\"endlinecolor\":\"#2a3f5f\",\"gridcolor\":\"white\",\"linecolor\":\"white\",\"minorgridcolor\":\"white\",\"startlinecolor\":\"#2a3f5f\"},\"baxis\":{\"endlinecolor\":\"#2a3f5f\",\"gridcolor\":\"white\",\"linecolor\":\"white\",\"minorgridcolor\":\"white\",\"startlinecolor\":\"#2a3f5f\"},\"type\":\"carpet\"}],\"table\":[{\"cells\":{\"fill\":{\"color\":\"#EBF0F8\"},\"line\":{\"color\":\"white\"}},\"header\":{\"fill\":{\"color\":\"#C8D4E3\"},\"line\":{\"color\":\"white\"}},\"type\":\"table\"}],\"barpolar\":[{\"marker\":{\"line\":{\"color\":\"#E5ECF6\",\"width\":0.5},\"pattern\":{\"fillmode\":\"overlay\",\"size\":10,\"solidity\":0.2}},\"type\":\"barpolar\"}],\"pie\":[{\"automargin\":true,\"type\":\"pie\"}]},\"layout\":{\"autotypenumbers\":\"strict\",\"colorway\":[\"#636efa\",\"#EF553B\",\"#00cc96\",\"#ab63fa\",\"#FFA15A\",\"#19d3f3\",\"#FF6692\",\"#B6E880\",\"#FF97FF\",\"#FECB52\"],\"font\":{\"color\":\"#2a3f5f\"},\"hovermode\":\"closest\",\"hoverlabel\":{\"align\":\"left\"},\"paper_bgcolor\":\"white\",\"plot_bgcolor\":\"#E5ECF6\",\"polar\":{\"bgcolor\":\"#E5ECF6\",\"angularaxis\":{\"gridcolor\":\"white\",\"linecolor\":\"white\",\"ticks\":\"\"},\"radialaxis\":{\"gridcolor\":\"white\",\"linecolor\":\"white\",\"ticks\":\"\"}},\"ternary\":{\"bgcolor\":\"#E5ECF6\",\"aaxis\":{\"gridcolor\":\"white\",\"linecolor\":\"white\",\"ticks\":\"\"},\"baxis\":{\"gridcolor\":\"white\",\"linecolor\":\"white\",\"ticks\":\"\"},\"caxis\":{\"gridcolor\":\"white\",\"linecolor\":\"white\",\"ticks\":\"\"}},\"coloraxis\":{\"colorbar\":{\"outlinewidth\":0,\"ticks\":\"\"}},\"colorscale\":{\"sequential\":[[0.0,\"#0d0887\"],[0.1111111111111111,\"#46039f\"],[0.2222222222222222,\"#7201a8\"],[0.3333333333333333,\"#9c179e\"],[0.4444444444444444,\"#bd3786\"],[0.5555555555555556,\"#d8576b\"],[0.6666666666666666,\"#ed7953\"],[0.7777777777777778,\"#fb9f3a\"],[0.8888888888888888,\"#fdca26\"],[1.0,\"#f0f921\"]],\"sequentialminus\":[[0.0,\"#0d0887\"],[0.1111111111111111,\"#46039f\"],[0.2222222222222222,\"#7201a8\"],[0.3333333333333333,\"#9c179e\"],[0.4444444444444444,\"#bd3786\"],[0.5555555555555556,\"#d8576b\"],[0.6666666666666666,\"#ed7953\"],[0.7777777777777778,\"#fb9f3a\"],[0.8888888888888888,\"#fdca26\"],[1.0,\"#f0f921\"]],\"diverging\":[[0,\"#8e0152\"],[0.1,\"#c51b7d\"],[0.2,\"#de77ae\"],[0.3,\"#f1b6da\"],[0.4,\"#fde0ef\"],[0.5,\"#f7f7f7\"],[0.6,\"#e6f5d0\"],[0.7,\"#b8e186\"],[0.8,\"#7fbc41\"],[0.9,\"#4d9221\"],[1,\"#276419\"]]},\"xaxis\":{\"gridcolor\":\"white\",\"linecolor\":\"white\",\"ticks\":\"\",\"title\":{\"standoff\":15},\"zerolinecolor\":\"white\",\"automargin\":true,\"zerolinewidth\":2},\"yaxis\":{\"gridcolor\":\"white\",\"linecolor\":\"white\",\"ticks\":\"\",\"title\":{\"standoff\":15},\"zerolinecolor\":\"white\",\"automargin\":true,\"zerolinewidth\":2},\"scene\":{\"xaxis\":{\"backgroundcolor\":\"#E5ECF6\",\"gridcolor\":\"white\",\"linecolor\":\"white\",\"showbackground\":true,\"ticks\":\"\",\"zerolinecolor\":\"white\",\"gridwidth\":2},\"yaxis\":{\"backgroundcolor\":\"#E5ECF6\",\"gridcolor\":\"white\",\"linecolor\":\"white\",\"showbackground\":true,\"ticks\":\"\",\"zerolinecolor\":\"white\",\"gridwidth\":2},\"zaxis\":{\"backgroundcolor\":\"#E5ECF6\",\"gridcolor\":\"white\",\"linecolor\":\"white\",\"showbackground\":true,\"ticks\":\"\",\"zerolinecolor\":\"white\",\"gridwidth\":2}},\"shapedefaults\":{\"line\":{\"color\":\"#2a3f5f\"}},\"annotationdefaults\":{\"arrowcolor\":\"#2a3f5f\",\"arrowhead\":0,\"arrowwidth\":1},\"geo\":{\"bgcolor\":\"white\",\"landcolor\":\"#E5ECF6\",\"subunitcolor\":\"white\",\"showland\":true,\"showlakes\":true,\"lakecolor\":\"white\"},\"title\":{\"x\":0.05},\"mapbox\":{\"style\":\"light\"}}}},                        {\"responsive\": true}                    ).then(function(){\n",
       "                            \n",
       "var gd = document.getElementById('3b1daf9c-3e95-45aa-a1aa-dd3352123699');\n",
       "var x = new MutationObserver(function (mutations, observer) {{\n",
       "        var display = window.getComputedStyle(gd).display;\n",
       "        if (!display || display === 'none') {{\n",
       "            console.log([gd, 'removed!']);\n",
       "            Plotly.purge(gd);\n",
       "            observer.disconnect();\n",
       "        }}\n",
       "}});\n",
       "\n",
       "// Listen for the removal of the full notebook cells\n",
       "var notebookContainer = gd.closest('#notebook-container');\n",
       "if (notebookContainer) {{\n",
       "    x.observe(notebookContainer, {childList: true});\n",
       "}}\n",
       "\n",
       "// Listen for the clearing of the current output cell\n",
       "var outputEl = gd.closest('.output');\n",
       "if (outputEl) {{\n",
       "    x.observe(outputEl, {childList: true});\n",
       "}}\n",
       "\n",
       "                        })                };                });            </script>        </div>"
      ]
     },
     "metadata": {},
     "output_type": "display_data"
    }
   ],
   "source": [
    "optuna.visualization.plot_param_importances(study)"
   ]
  },
  {
   "cell_type": "markdown",
   "id": "60b6bc65",
   "metadata": {},
   "source": [
    "## optuna on XGB LR, too small data amnout, so don't set trials too high"
   ]
  },
  {
   "cell_type": "code",
   "execution_count": 139,
   "id": "f5d7d9cb",
   "metadata": {
    "scrolled": true
   },
   "outputs": [
    {
     "name": "stderr",
     "output_type": "stream",
     "text": [
      "\u001b[32m[I 2023-02-05 03:05:51,187]\u001b[0m A new study created in memory with name: XGB_LR\u001b[0m\n",
      "\u001b[32m[I 2023-02-05 03:05:54,545]\u001b[0m Trial 0 finished with value: 0.7909527694678633 and parameters: {'min_child_weight': 88, 'learning_rate': 0.17243672630779075, 'colsample_bynode': 0.4803518371503417, 'subsample': 0.47088425659579825, 'aft_loss_distribution_scale': 0.8576645750705469, 'max_depth': 14, 'C': 0.1629188573838729, 'max_iter': 251}. Best is trial 0 with value: 0.7909527694678633.\u001b[0m\n",
      "\u001b[32m[I 2023-02-05 03:06:04,053]\u001b[0m Trial 1 finished with value: 0.7774000543921675 and parameters: {'min_child_weight': 35, 'learning_rate': 0.08760753025679209, 'colsample_bynode': 0.7627514404854846, 'subsample': 0.32579666225402115, 'aft_loss_distribution_scale': 1.370808310584971, 'max_depth': 24, 'C': 0.1869151570626284, 'max_iter': 245}. Best is trial 0 with value: 0.7909527694678633.\u001b[0m\n",
      "/opt/python/3.10.9/lib/python3.10/site-packages/xgbse/_debiased_bce.py:286: RuntimeWarning: Warning: Only one class found in a time bucket\n",
      "  warnings.warn(\n",
      "\u001b[32m[I 2023-02-05 03:06:17,554]\u001b[0m Trial 2 finished with value: 0.7429516816245127 and parameters: {'min_child_weight': 92, 'learning_rate': 0.0598806076101205, 'colsample_bynode': 0.033107890854074326, 'subsample': 0.6980016918085352, 'aft_loss_distribution_scale': 0.930864008128259, 'max_depth': 4, 'C': 0.03738969868950412, 'max_iter': 420}. Best is trial 0 with value: 0.7909527694678633.\u001b[0m\n",
      "/opt/python/3.10.9/lib/python3.10/site-packages/xgbse/_debiased_bce.py:286: RuntimeWarning: Warning: Only one class found in a time bucket\n",
      "  warnings.warn(\n",
      "\u001b[32m[I 2023-02-05 03:07:01,086]\u001b[0m Trial 3 finished with value: 0.8090834919771553 and parameters: {'min_child_weight': 48, 'learning_rate': 0.03052956605959322, 'colsample_bynode': 0.19552647230644132, 'subsample': 0.7627447154512376, 'aft_loss_distribution_scale': 1.094814919065316, 'max_depth': 32, 'C': 0.10036390841971028, 'max_iter': 127}. Best is trial 3 with value: 0.8090834919771553.\u001b[0m\n",
      "/opt/python/3.10.9/lib/python3.10/site-packages/xgbse/_debiased_bce.py:286: RuntimeWarning: Warning: Only one class found in a time bucket\n",
      "  warnings.warn(\n",
      "\u001b[32m[I 2023-02-05 03:10:22,005]\u001b[0m Trial 4 finished with value: 0.9165986764572568 and parameters: {'min_child_weight': 16, 'learning_rate': 0.009353509806962191, 'colsample_bynode': 0.38079720430809466, 'subsample': 0.6615382263608088, 'aft_loss_distribution_scale': 1.7240664772683516, 'max_depth': 16, 'C': 0.09054874589223885, 'max_iter': 160}. Best is trial 4 with value: 0.9165986764572568.\u001b[0m\n",
      "/opt/python/3.10.9/lib/python3.10/site-packages/xgbse/_debiased_bce.py:286: RuntimeWarning: Warning: Only one class found in a time bucket\n",
      "  warnings.warn(\n",
      "\u001b[32m[I 2023-02-05 03:10:22,810]\u001b[0m Trial 5 finished with value: 0.7449460611005349 and parameters: {'min_child_weight': 79, 'learning_rate': 0.19421190839842753, 'colsample_bynode': 0.1507234205739974, 'subsample': 0.31508820792729236, 'aft_loss_distribution_scale': 1.5498276571880525, 'max_depth': 22, 'C': 0.10999317584605287, 'max_iter': 355}. Best is trial 4 with value: 0.9165986764572568.\u001b[0m\n",
      "/opt/python/3.10.9/lib/python3.10/site-packages/xgbse/_debiased_bce.py:286: RuntimeWarning: Warning: Only one class found in a time bucket\n",
      "  warnings.warn(\n",
      "\u001b[32m[I 2023-02-05 03:10:31,621]\u001b[0m Trial 6 finished with value: 0.828528691868371 and parameters: {'min_child_weight': 29, 'learning_rate': 0.06459119175094688, 'colsample_bynode': 0.3355044905969877, 'subsample': 0.600428492302553, 'aft_loss_distribution_scale': 1.5580612145203334, 'max_depth': 18, 'C': 0.16460362083419028, 'max_iter': 148}. Best is trial 4 with value: 0.9165986764572568.\u001b[0m\n",
      "/opt/python/3.10.9/lib/python3.10/site-packages/xgbse/_debiased_bce.py:286: RuntimeWarning: Warning: Only one class found in a time bucket\n",
      "  warnings.warn(\n",
      "\u001b[32m[I 2023-02-05 03:10:47,714]\u001b[0m Trial 7 finished with value: 0.766838908530505 and parameters: {'min_child_weight': 45, 'learning_rate': 0.03239722166626456, 'colsample_bynode': 0.3751780237027579, 'subsample': 0.15577583985216326, 'aft_loss_distribution_scale': 1.2744900758716515, 'max_depth': 29, 'C': 0.1659536216673451, 'max_iter': 480}. Best is trial 4 with value: 0.9165986764572568.\u001b[0m\n",
      "/opt/python/3.10.9/lib/python3.10/site-packages/xgbse/_debiased_bce.py:286: RuntimeWarning: Warning: Only one class found in a time bucket\n",
      "  warnings.warn(\n",
      "\u001b[32m[I 2023-02-05 03:11:08,284]\u001b[0m Trial 8 finished with value: 0.7520623696854319 and parameters: {'min_child_weight': 40, 'learning_rate': 0.031629083625451276, 'colsample_bynode': 0.02658867525243458, 'subsample': 0.5852883018873877, 'aft_loss_distribution_scale': 1.918526838847434, 'max_depth': 20, 'C': 0.16347652919914282, 'max_iter': 343}. Best is trial 4 with value: 0.9165986764572568.\u001b[0m\n",
      "/opt/python/3.10.9/lib/python3.10/site-packages/xgbse/_debiased_bce.py:286: RuntimeWarning: Warning: Only one class found in a time bucket\n",
      "  warnings.warn(\n",
      "\u001b[32m[I 2023-02-05 03:11:16,005]\u001b[0m Trial 9 finished with value: 0.7312120387997462 and parameters: {'min_child_weight': 36, 'learning_rate': 0.0663572107091425, 'colsample_bynode': 0.03103731892050849, 'subsample': 0.6178223408895605, 'aft_loss_distribution_scale': 1.9279497035351612, 'max_depth': 33, 'C': 0.012046356035711627, 'max_iter': 309}. Best is trial 4 with value: 0.9165986764572568.\u001b[0m\n"
     ]
    }
   ],
   "source": [
    "def objective(trial):\n",
    "    X_train, X_test, y_train, y_test=train_test_split(X, y, train_size=0.8)\n",
    "    \n",
    "    PARAMS_XGB_AFT = {\n",
    "        \"min_child_weight\": trial.suggest_int(\"min_child_weight\", 10, 100),\n",
    "        \"learning_rate\": trial.suggest_float(\"learning_rate\", 0.0001, 0.2),\n",
    "        \"colsample_bynode\": trial.suggest_float(\"colsample_bynode\", 0.01, 0.8),\n",
    "        \"subsample\": trial.suggest_float(\"subsample\", 0.01, 0.8),\n",
    "        \"aft_loss_distribution_scale\": trial.suggest_float(\"aft_loss_distribution_scale\", 0.1, 2.0),\n",
    "        \"max_depth\": trial.suggest_int(\"max_depth\", 3, 36),\n",
    "        \"random_state\": 8,\n",
    "        'objective': 'survival:aft',\n",
    "        'eval_metric': 'aft-nloglik',\n",
    "        'aft_loss_distribution': 'extreme',\n",
    "        'tree_method': 'hist', \n",
    "        'booster':'dart',\n",
    "    }\n",
    "    PARAMS_LR={\"C\": trial.suggest_float(\"C\", 0.0001, 0.2), \"max_iter\": trial.suggest_int(\"max_iter\", 100, 500)}\n",
    "    xgbLR = XGBSEDebiasedBCE(PARAMS_XGB_AFT,PARAMS_LR)\n",
    "    xgbLR.fit(X_train, y_train, validation_data = (X_val, y_val),time_bins=TIME_BINS, early_stopping_rounds=15)\n",
    "   \n",
    "    preds=xgbLR.predict(X_val)\n",
    "#     gb_chf = model.predict_cumulative_hazard_function(X_val,return_array=False)\n",
    "#     gb_risk_scores = np.row_stack([chf(times) for chf in gb_chf])\n",
    "#     gb_auc, gb_mean_auc = cumulative_dynamic_auc(y_train, y_val, gb_risk_scores, times)\n",
    "#     scores = gb_mean_auc\n",
    "    scores = concordance_index(y_val, preds)\n",
    "    return scores\n",
    "import optuna\n",
    "study = optuna.create_study(direction=\"maximize\", study_name=\"XGB_LR\") \n",
    "study.optimize(objective, n_trials=10)"
   ]
  },
  {
   "cell_type": "code",
   "execution_count": 140,
   "id": "a0791142",
   "metadata": {},
   "outputs": [
    {
     "name": "stderr",
     "output_type": "stream",
     "text": [
      "/opt/python/3.10.9/lib/python3.10/site-packages/xgbse/_debiased_bce.py:286: RuntimeWarning: Warning: Only one class found in a time bucket\n",
      "  warnings.warn(\n",
      "/opt/python/3.10.9/lib/python3.10/site-packages/sklearn/linear_model/_logistic.py:444: ConvergenceWarning: lbfgs failed to converge (status=1):\n",
      "STOP: TOTAL NO. of ITERATIONS REACHED LIMIT.\n",
      "\n",
      "Increase the number of iterations (max_iter) or scale the data as shown in:\n",
      "    https://scikit-learn.org/stable/modules/preprocessing.html\n",
      "Please also refer to the documentation for alternative solver options:\n",
      "    https://scikit-learn.org/stable/modules/linear_model.html#logistic-regression\n",
      "  n_iter_i = _check_optimize_result(\n"
     ]
    },
    {
     "data": {
      "text/html": [
       "<style>#sk-container-id-15 {color: black;background-color: white;}#sk-container-id-15 pre{padding: 0;}#sk-container-id-15 div.sk-toggleable {background-color: white;}#sk-container-id-15 label.sk-toggleable__label {cursor: pointer;display: block;width: 100%;margin-bottom: 0;padding: 0.3em;box-sizing: border-box;text-align: center;}#sk-container-id-15 label.sk-toggleable__label-arrow:before {content: \"▸\";float: left;margin-right: 0.25em;color: #696969;}#sk-container-id-15 label.sk-toggleable__label-arrow:hover:before {color: black;}#sk-container-id-15 div.sk-estimator:hover label.sk-toggleable__label-arrow:before {color: black;}#sk-container-id-15 div.sk-toggleable__content {max-height: 0;max-width: 0;overflow: hidden;text-align: left;background-color: #f0f8ff;}#sk-container-id-15 div.sk-toggleable__content pre {margin: 0.2em;color: black;border-radius: 0.25em;background-color: #f0f8ff;}#sk-container-id-15 input.sk-toggleable__control:checked~div.sk-toggleable__content {max-height: 200px;max-width: 100%;overflow: auto;}#sk-container-id-15 input.sk-toggleable__control:checked~label.sk-toggleable__label-arrow:before {content: \"▾\";}#sk-container-id-15 div.sk-estimator input.sk-toggleable__control:checked~label.sk-toggleable__label {background-color: #d4ebff;}#sk-container-id-15 div.sk-label input.sk-toggleable__control:checked~label.sk-toggleable__label {background-color: #d4ebff;}#sk-container-id-15 input.sk-hidden--visually {border: 0;clip: rect(1px 1px 1px 1px);clip: rect(1px, 1px, 1px, 1px);height: 1px;margin: -1px;overflow: hidden;padding: 0;position: absolute;width: 1px;}#sk-container-id-15 div.sk-estimator {font-family: monospace;background-color: #f0f8ff;border: 1px dotted black;border-radius: 0.25em;box-sizing: border-box;margin-bottom: 0.5em;}#sk-container-id-15 div.sk-estimator:hover {background-color: #d4ebff;}#sk-container-id-15 div.sk-parallel-item::after {content: \"\";width: 100%;border-bottom: 1px solid gray;flex-grow: 1;}#sk-container-id-15 div.sk-label:hover label.sk-toggleable__label {background-color: #d4ebff;}#sk-container-id-15 div.sk-serial::before {content: \"\";position: absolute;border-left: 1px solid gray;box-sizing: border-box;top: 0;bottom: 0;left: 50%;z-index: 0;}#sk-container-id-15 div.sk-serial {display: flex;flex-direction: column;align-items: center;background-color: white;padding-right: 0.2em;padding-left: 0.2em;position: relative;}#sk-container-id-15 div.sk-item {position: relative;z-index: 1;}#sk-container-id-15 div.sk-parallel {display: flex;align-items: stretch;justify-content: center;background-color: white;position: relative;}#sk-container-id-15 div.sk-item::before, #sk-container-id-15 div.sk-parallel-item::before {content: \"\";position: absolute;border-left: 1px solid gray;box-sizing: border-box;top: 0;bottom: 0;left: 50%;z-index: -1;}#sk-container-id-15 div.sk-parallel-item {display: flex;flex-direction: column;z-index: 1;position: relative;background-color: white;}#sk-container-id-15 div.sk-parallel-item:first-child::after {align-self: flex-end;width: 50%;}#sk-container-id-15 div.sk-parallel-item:last-child::after {align-self: flex-start;width: 50%;}#sk-container-id-15 div.sk-parallel-item:only-child::after {width: 0;}#sk-container-id-15 div.sk-dashed-wrapped {border: 1px dashed gray;margin: 0 0.4em 0.5em 0.4em;box-sizing: border-box;padding-bottom: 0.4em;background-color: white;}#sk-container-id-15 div.sk-label label {font-family: monospace;font-weight: bold;display: inline-block;line-height: 1.2em;}#sk-container-id-15 div.sk-label-container {text-align: center;}#sk-container-id-15 div.sk-container {/* jupyter's `normalize.less` sets `[hidden] { display: none; }` but bootstrap.min.css set `[hidden] { display: none !important; }` so we also need the `!important` here to be able to override the default hidden behavior on the sphinx rendered scikit-learn.org. See: https://github.com/scikit-learn/scikit-learn/issues/21755 */display: inline-block !important;position: relative;}#sk-container-id-15 div.sk-text-repr-fallback {display: none;}</style><div id=\"sk-container-id-15\" class=\"sk-top-container\"><div class=\"sk-text-repr-fallback\"><pre>XGBSEDebiasedBCE(lr_params={&#x27;C&#x27;: 0.09054874589223885, &#x27;max_iter&#x27;: 160},\n",
       "                 xgb_params={&#x27;aft_loss_distribution&#x27;: &#x27;extreme&#x27;,\n",
       "                             &#x27;aft_loss_distribution_scale&#x27;: 1.7240664772683516,\n",
       "                             &#x27;booster&#x27;: &#x27;dart&#x27;,\n",
       "                             &#x27;colsample_bynode&#x27;: 0.38079720430809466,\n",
       "                             &#x27;eval_metric&#x27;: &#x27;aft-nloglik&#x27;,\n",
       "                             &#x27;learning_rate&#x27;: 0.009353509806962191,\n",
       "                             &#x27;max_depth&#x27;: 16, &#x27;min_child_weight&#x27;: 16,\n",
       "                             &#x27;objective&#x27;: &#x27;survival:aft&#x27;,\n",
       "                             &#x27;subsample&#x27;: 0.6615382263608088,\n",
       "                             &#x27;tree_method&#x27;: &#x27;hist&#x27;})</pre><b>In a Jupyter environment, please rerun this cell to show the HTML representation or trust the notebook. <br />On GitHub, the HTML representation is unable to render, please try loading this page with nbviewer.org.</b></div><div class=\"sk-container\" hidden><div class=\"sk-item\"><div class=\"sk-estimator sk-toggleable\"><input class=\"sk-toggleable__control sk-hidden--visually\" id=\"sk-estimator-id-15\" type=\"checkbox\" checked><label for=\"sk-estimator-id-15\" class=\"sk-toggleable__label sk-toggleable__label-arrow\">XGBSEDebiasedBCE</label><div class=\"sk-toggleable__content\"><pre>XGBSEDebiasedBCE(lr_params={&#x27;C&#x27;: 0.09054874589223885, &#x27;max_iter&#x27;: 160},\n",
       "                 xgb_params={&#x27;aft_loss_distribution&#x27;: &#x27;extreme&#x27;,\n",
       "                             &#x27;aft_loss_distribution_scale&#x27;: 1.7240664772683516,\n",
       "                             &#x27;booster&#x27;: &#x27;dart&#x27;,\n",
       "                             &#x27;colsample_bynode&#x27;: 0.38079720430809466,\n",
       "                             &#x27;eval_metric&#x27;: &#x27;aft-nloglik&#x27;,\n",
       "                             &#x27;learning_rate&#x27;: 0.009353509806962191,\n",
       "                             &#x27;max_depth&#x27;: 16, &#x27;min_child_weight&#x27;: 16,\n",
       "                             &#x27;objective&#x27;: &#x27;survival:aft&#x27;,\n",
       "                             &#x27;subsample&#x27;: 0.6615382263608088,\n",
       "                             &#x27;tree_method&#x27;: &#x27;hist&#x27;})</pre></div></div></div></div></div>"
      ],
      "text/plain": [
       "XGBSEDebiasedBCE(lr_params={'C': 0.09054874589223885, 'max_iter': 160},\n",
       "                 xgb_params={'aft_loss_distribution': 'extreme',\n",
       "                             'aft_loss_distribution_scale': 1.7240664772683516,\n",
       "                             'booster': 'dart',\n",
       "                             'colsample_bynode': 0.38079720430809466,\n",
       "                             'eval_metric': 'aft-nloglik',\n",
       "                             'learning_rate': 0.009353509806962191,\n",
       "                             'max_depth': 16, 'min_child_weight': 16,\n",
       "                             'objective': 'survival:aft',\n",
       "                             'subsample': 0.6615382263608088,\n",
       "                             'tree_method': 'hist'})"
      ]
     },
     "execution_count": 140,
     "metadata": {},
     "output_type": "execute_result"
    }
   ],
   "source": [
    "best_params_aft = {\n",
    "    'objective': 'survival:aft',\n",
    "    'eval_metric': 'aft-nloglik',\n",
    "    'aft_loss_distribution': 'extreme',\n",
    "    'tree_method': 'hist', \n",
    "    'booster':'dart', \n",
    "    'min_child_weight': 16,\n",
    "    'learning_rate': 0.009353509806962191,\n",
    "    'colsample_bynode': 0.38079720430809466,\n",
    "    'subsample': 0.6615382263608088,\n",
    "    'aft_loss_distribution_scale': 1.7240664772683516,\n",
    "    'max_depth': 16\n",
    "    \n",
    "}\n",
    "PARAMS_LR={'C': 0.09054874589223885, 'max_iter': 160}\n",
    "xgbLR = XGBSEDebiasedBCE(best_params_aft,PARAMS_LR)\n",
    "xgbLR.fit(X_train, y_train, validation_data = (X_val, y_val),time_bins=TIME_BINS, early_stopping_rounds=100)"
   ]
  },
  {
   "cell_type": "code",
   "execution_count": 141,
   "id": "c4ea2fd2",
   "metadata": {},
   "outputs": [
    {
     "name": "stdout",
     "output_type": "stream",
     "text": [
      "C-index: 0.7206508929380836\n",
      "Avg. Brier Score: 0.133295494207442\n"
     ]
    }
   ],
   "source": [
    "preds=xgbLR.predict(X_val)\n",
    "\n",
    "print(f'C-index: {concordance_index(y_val, preds)}')\n",
    "print(f'Avg. Brier Score: {approx_brier_score(y_val, preds)}')"
   ]
  },
  {
   "cell_type": "markdown",
   "id": "6347fa14",
   "metadata": {},
   "source": [
    "## optuna on XGB forest"
   ]
  },
  {
   "cell_type": "code",
   "execution_count": 149,
   "id": "efc6adce",
   "metadata": {
    "scrolled": true
   },
   "outputs": [
    {
     "name": "stderr",
     "output_type": "stream",
     "text": [
      "\u001b[32m[I 2023-02-05 03:36:28,043]\u001b[0m A new study created in memory with name: XGB\u001b[0m\n",
      "\u001b[32m[I 2023-02-05 03:36:29,962]\u001b[0m Trial 0 finished with value: 0.5 and parameters: {'min_child_weight': 23, 'colsample_bynode': 0.13737671778960875, 'subsample': 0.23341749521172672, 'max_depth': 115}. Best is trial 0 with value: 0.5.\u001b[0m\n",
      "\u001b[32m[I 2023-02-05 03:36:33,819]\u001b[0m Trial 1 finished with value: 0.5647720061644457 and parameters: {'min_child_weight': 59, 'colsample_bynode': 0.5201212679692301, 'subsample': 0.7640104340825643, 'max_depth': 182}. Best is trial 1 with value: 0.5647720061644457.\u001b[0m\n",
      "\u001b[32m[I 2023-02-05 03:36:36,309]\u001b[0m Trial 2 finished with value: 0.4763394071253739 and parameters: {'min_child_weight': 33, 'colsample_bynode': 0.7053121818292519, 'subsample': 0.270799407676278, 'max_depth': 203}. Best is trial 1 with value: 0.5647720061644457.\u001b[0m\n",
      "\u001b[32m[I 2023-02-05 03:36:38,277]\u001b[0m Trial 3 finished with value: 0.5 and parameters: {'min_child_weight': 92, 'colsample_bynode': 0.7349779035932229, 'subsample': 0.6128015535398647, 'max_depth': 12}. Best is trial 1 with value: 0.5647720061644457.\u001b[0m\n",
      "\u001b[32m[I 2023-02-05 03:36:42,061]\u001b[0m Trial 4 finished with value: 0.4729852234611549 and parameters: {'min_child_weight': 69, 'colsample_bynode': 0.49403444562189835, 'subsample': 0.6867457350232858, 'max_depth': 210}. Best is trial 1 with value: 0.5647720061644457.\u001b[0m\n",
      "\u001b[32m[I 2023-02-05 03:36:44,127]\u001b[0m Trial 5 finished with value: 0.5 and parameters: {'min_child_weight': 87, 'colsample_bynode': 0.33141126084568256, 'subsample': 0.4127250936503048, 'max_depth': 255}. Best is trial 1 with value: 0.5647720061644457.\u001b[0m\n",
      "\u001b[32m[I 2023-02-05 03:36:46,138]\u001b[0m Trial 6 finished with value: 0.5 and parameters: {'min_child_weight': 91, 'colsample_bynode': 0.6309235423451071, 'subsample': 0.0712013293192717, 'max_depth': 19}. Best is trial 1 with value: 0.5647720061644457.\u001b[0m\n",
      "\u001b[32m[I 2023-02-05 03:36:49,319]\u001b[0m Trial 7 finished with value: 0.7461698848699121 and parameters: {'min_child_weight': 29, 'colsample_bynode': 0.3572362542520322, 'subsample': 0.7429198377807722, 'max_depth': 151}. Best is trial 7 with value: 0.7461698848699121.\u001b[0m\n",
      "\u001b[32m[I 2023-02-05 03:36:52,921]\u001b[0m Trial 8 finished with value: 0.503354183664219 and parameters: {'min_child_weight': 69, 'colsample_bynode': 0.7941387648068291, 'subsample': 0.7617139509903016, 'max_depth': 276}. Best is trial 7 with value: 0.7461698848699121.\u001b[0m\n",
      "\u001b[32m[I 2023-02-05 03:36:54,834]\u001b[0m Trial 9 finished with value: 0.5 and parameters: {'min_child_weight': 48, 'colsample_bynode': 0.4358753765155953, 'subsample': 0.08290209273352013, 'max_depth': 289}. Best is trial 7 with value: 0.7461698848699121.\u001b[0m\n",
      "\u001b[32m[I 2023-02-05 03:36:58,032]\u001b[0m Trial 10 finished with value: 0.7339769739824132 and parameters: {'min_child_weight': 10, 'colsample_bynode': 0.27856493553534745, 'subsample': 0.535607095159093, 'max_depth': 116}. Best is trial 7 with value: 0.7461698848699121.\u001b[0m\n",
      "\u001b[32m[I 2023-02-05 03:37:01,300]\u001b[0m Trial 11 finished with value: 0.7271779530414287 and parameters: {'min_child_weight': 11, 'colsample_bynode': 0.26442352548829934, 'subsample': 0.5654519681806803, 'max_depth': 102}. Best is trial 7 with value: 0.7461698848699121.\u001b[0m\n",
      "\u001b[32m[I 2023-02-05 03:37:03,186]\u001b[0m Trial 12 finished with value: 0.5 and parameters: {'min_child_weight': 13, 'colsample_bynode': 0.03360126834738478, 'subsample': 0.5450771569534371, 'max_depth': 104}. Best is trial 7 with value: 0.7461698848699121.\u001b[0m\n",
      "\u001b[32m[I 2023-02-05 03:37:06,903]\u001b[0m Trial 13 finished with value: 0.6737829752515637 and parameters: {'min_child_weight': 35, 'colsample_bynode': 0.3006702218015989, 'subsample': 0.7898494300292018, 'max_depth': 149}. Best is trial 7 with value: 0.7461698848699121.\u001b[0m\n",
      "\u001b[32m[I 2023-02-05 03:37:10,339]\u001b[0m Trial 14 finished with value: 0.6962197443568127 and parameters: {'min_child_weight': 29, 'colsample_bynode': 0.22864179721049985, 'subsample': 0.5095286553165371, 'max_depth': 66}. Best is trial 7 with value: 0.7461698848699121.\u001b[0m\n",
      "\u001b[32m[I 2023-02-05 03:37:13,620]\u001b[0m Trial 15 finished with value: 0.7444927930378026 and parameters: {'min_child_weight': 21, 'colsample_bynode': 0.3930970278952602, 'subsample': 0.6492874412785911, 'max_depth': 148}. Best is trial 7 with value: 0.7461698848699121.\u001b[0m\n",
      "\u001b[32m[I 2023-02-05 03:37:16,889]\u001b[0m Trial 16 finished with value: 0.7250022663403136 and parameters: {'min_child_weight': 42, 'colsample_bynode': 0.3923216912436382, 'subsample': 0.6559440849772409, 'max_depth': 158}. Best is trial 7 with value: 0.7461698848699121.\u001b[0m\n",
      "\u001b[32m[I 2023-02-05 03:37:20,739]\u001b[0m Trial 17 finished with value: 0.7434956032997915 and parameters: {'min_child_weight': 23, 'colsample_bynode': 0.5571421715407627, 'subsample': 0.6879750938254356, 'max_depth': 234}. Best is trial 7 with value: 0.7461698848699121.\u001b[0m\n",
      "\u001b[32m[I 2023-02-05 03:37:23,625]\u001b[0m Trial 18 finished with value: 0.7124920678089022 and parameters: {'min_child_weight': 47, 'colsample_bynode': 0.4038584155021323, 'subsample': 0.6845849708310011, 'max_depth': 63}. Best is trial 7 with value: 0.7461698848699121.\u001b[0m\n",
      "\u001b[32m[I 2023-02-05 03:37:26,928]\u001b[0m Trial 19 finished with value: 0.7420451454990481 and parameters: {'min_child_weight': 24, 'colsample_bynode': 0.44814802227170886, 'subsample': 0.7954434715943195, 'max_depth': 155}. Best is trial 7 with value: 0.7461698848699121.\u001b[0m\n",
      "\u001b[32m[I 2023-02-05 03:37:28,950]\u001b[0m Trial 20 finished with value: 0.5 and parameters: {'min_child_weight': 40, 'colsample_bynode': 0.365679261745788, 'subsample': 0.4434687939299433, 'max_depth': 70}. Best is trial 7 with value: 0.7461698848699121.\u001b[0m\n",
      "\u001b[32m[I 2023-02-05 03:37:32,333]\u001b[0m Trial 21 finished with value: 0.7462152116761853 and parameters: {'min_child_weight': 20, 'colsample_bynode': 0.5508624500606449, 'subsample': 0.6980719279499973, 'max_depth': 234}. Best is trial 21 with value: 0.7462152116761853.\u001b[0m\n",
      "\u001b[32m[I 2023-02-05 03:37:35,702]\u001b[0m Trial 22 finished with value: 0.7438582177499773 and parameters: {'min_child_weight': 19, 'colsample_bynode': 0.5828356705412439, 'subsample': 0.615562678977716, 'max_depth': 188}. Best is trial 21 with value: 0.7462152116761853.\u001b[0m\n",
      "\u001b[32m[I 2023-02-05 03:37:39,074]\u001b[0m Trial 23 finished with value: 0.7500226634031366 and parameters: {'min_child_weight': 18, 'colsample_bynode': 0.4775567735603966, 'subsample': 0.7243605590939385, 'max_depth': 135}. Best is trial 23 with value: 0.7500226634031366.\u001b[0m\n",
      "\u001b[32m[I 2023-02-05 03:37:42,826]\u001b[0m Trial 24 finished with value: 0.6967636660320914 and parameters: {'min_child_weight': 31, 'colsample_bynode': 0.4840960602710712, 'subsample': 0.7252375798868083, 'max_depth': 229}. Best is trial 23 with value: 0.7500226634031366.\u001b[0m\n",
      "\u001b[32m[I 2023-02-05 03:37:45,991]\u001b[0m Trial 25 finished with value: 0.7487535128274861 and parameters: {'min_child_weight': 16, 'colsample_bynode': 0.6016575834004046, 'subsample': 0.7241760292772557, 'max_depth': 174}. Best is trial 23 with value: 0.7500226634031366.\u001b[0m\n",
      "\u001b[32m[I 2023-02-05 03:37:49,274]\u001b[0m Trial 26 finished with value: 0.7568216843441211 and parameters: {'min_child_weight': 14, 'colsample_bynode': 0.6271169914531283, 'subsample': 0.7200258119390829, 'max_depth': 235}. Best is trial 26 with value: 0.7568216843441211.\u001b[0m\n",
      "\u001b[32m[I 2023-02-05 03:37:52,562]\u001b[0m Trial 27 finished with value: 0.7336596863385005 and parameters: {'min_child_weight': 16, 'colsample_bynode': 0.6116461918977109, 'subsample': 0.6093873220694752, 'max_depth': 174}. Best is trial 26 with value: 0.7568216843441211.\u001b[0m\n",
      "\u001b[32m[I 2023-02-05 03:37:56,509]\u001b[0m Trial 28 finished with value: 0.5092013416734656 and parameters: {'min_child_weight': 58, 'colsample_bynode': 0.6396532621202994, 'subsample': 0.7294356010288325, 'max_depth': 259}. Best is trial 26 with value: 0.7568216843441211.\u001b[0m\n",
      "\u001b[32m[I 2023-02-05 03:37:59,925]\u001b[0m Trial 29 finished with value: 0.7388722690599221 and parameters: {'min_child_weight': 26, 'colsample_bynode': 0.5120442762578867, 'subsample': 0.7973669962460683, 'max_depth': 130}. Best is trial 26 with value: 0.7568216843441211.\u001b[0m\n"
     ]
    }
   ],
   "source": [
    "from sklearn.model_selection import StratifiedKFold, train_test_split\n",
    "from xgbse.metrics import concordance_index, approx_brier_score\n",
    "def objective(trial):\n",
    "    X_train, X_test, y_train, y_test=train_test_split(X, y, train_size=0.8)\n",
    "    PARAMS_TREE = {\n",
    "        \"min_child_weight\": trial.suggest_int(\"min_child_weight\", 10, 100),\n",
    "        \"colsample_bynode\": trial.suggest_float(\"colsample_bynode\", 0.01, 0.8),\n",
    "        \"subsample\": trial.suggest_float(\"subsample\", 0.01, 0.8),\n",
    "        \"max_depth\": trial.suggest_int(\"max_depth\", 3, 300),\n",
    "        'objective': 'survival:cox',\n",
    "        'eval_metric': 'cox-nloglik',\n",
    "        'tree_method': 'hist', \n",
    "        'booster':'dart',\n",
    "    }\n",
    "    base_model = XGBSEKaplanTree(PARAMS_TREE)\n",
    "\n",
    "    model=XGBSEBootstrapEstimator(base_model,n_estimators=100)\n",
    "    model.fit(\n",
    "        X_train,\n",
    "        y_train,\n",
    "        ci_width=0.99,\n",
    "        time_bins=TIME_BINS  \n",
    "    )\n",
    "    preds=model.predict(X_val)\n",
    "#     gb_chf = model.predict_cumulative_hazard_function(X_val,return_array=False)\n",
    "#     gb_risk_scores = np.row_stack([chf(times) for chf in gb_chf])\n",
    "#     gb_auc, gb_mean_auc = cumulative_dynamic_auc(y_train, y_val, gb_risk_scores, times)\n",
    "#     scores = gb_mean_auc\n",
    "    scores = concordance_index(y_val, preds)\n",
    "    return scores\n",
    "import optuna\n",
    "study = optuna.create_study(direction=\"maximize\", study_name=\"XGB\") \n",
    "study.optimize(objective, n_trials=30)"
   ]
  },
  {
   "cell_type": "code",
   "execution_count": 208,
   "id": "34c2ceff",
   "metadata": {},
   "outputs": [
    {
     "data": {
      "text/html": [
       "<style>#sk-container-id-26 {color: black;background-color: white;}#sk-container-id-26 pre{padding: 0;}#sk-container-id-26 div.sk-toggleable {background-color: white;}#sk-container-id-26 label.sk-toggleable__label {cursor: pointer;display: block;width: 100%;margin-bottom: 0;padding: 0.3em;box-sizing: border-box;text-align: center;}#sk-container-id-26 label.sk-toggleable__label-arrow:before {content: \"▸\";float: left;margin-right: 0.25em;color: #696969;}#sk-container-id-26 label.sk-toggleable__label-arrow:hover:before {color: black;}#sk-container-id-26 div.sk-estimator:hover label.sk-toggleable__label-arrow:before {color: black;}#sk-container-id-26 div.sk-toggleable__content {max-height: 0;max-width: 0;overflow: hidden;text-align: left;background-color: #f0f8ff;}#sk-container-id-26 div.sk-toggleable__content pre {margin: 0.2em;color: black;border-radius: 0.25em;background-color: #f0f8ff;}#sk-container-id-26 input.sk-toggleable__control:checked~div.sk-toggleable__content {max-height: 200px;max-width: 100%;overflow: auto;}#sk-container-id-26 input.sk-toggleable__control:checked~label.sk-toggleable__label-arrow:before {content: \"▾\";}#sk-container-id-26 div.sk-estimator input.sk-toggleable__control:checked~label.sk-toggleable__label {background-color: #d4ebff;}#sk-container-id-26 div.sk-label input.sk-toggleable__control:checked~label.sk-toggleable__label {background-color: #d4ebff;}#sk-container-id-26 input.sk-hidden--visually {border: 0;clip: rect(1px 1px 1px 1px);clip: rect(1px, 1px, 1px, 1px);height: 1px;margin: -1px;overflow: hidden;padding: 0;position: absolute;width: 1px;}#sk-container-id-26 div.sk-estimator {font-family: monospace;background-color: #f0f8ff;border: 1px dotted black;border-radius: 0.25em;box-sizing: border-box;margin-bottom: 0.5em;}#sk-container-id-26 div.sk-estimator:hover {background-color: #d4ebff;}#sk-container-id-26 div.sk-parallel-item::after {content: \"\";width: 100%;border-bottom: 1px solid gray;flex-grow: 1;}#sk-container-id-26 div.sk-label:hover label.sk-toggleable__label {background-color: #d4ebff;}#sk-container-id-26 div.sk-serial::before {content: \"\";position: absolute;border-left: 1px solid gray;box-sizing: border-box;top: 0;bottom: 0;left: 50%;z-index: 0;}#sk-container-id-26 div.sk-serial {display: flex;flex-direction: column;align-items: center;background-color: white;padding-right: 0.2em;padding-left: 0.2em;position: relative;}#sk-container-id-26 div.sk-item {position: relative;z-index: 1;}#sk-container-id-26 div.sk-parallel {display: flex;align-items: stretch;justify-content: center;background-color: white;position: relative;}#sk-container-id-26 div.sk-item::before, #sk-container-id-26 div.sk-parallel-item::before {content: \"\";position: absolute;border-left: 1px solid gray;box-sizing: border-box;top: 0;bottom: 0;left: 50%;z-index: -1;}#sk-container-id-26 div.sk-parallel-item {display: flex;flex-direction: column;z-index: 1;position: relative;background-color: white;}#sk-container-id-26 div.sk-parallel-item:first-child::after {align-self: flex-end;width: 50%;}#sk-container-id-26 div.sk-parallel-item:last-child::after {align-self: flex-start;width: 50%;}#sk-container-id-26 div.sk-parallel-item:only-child::after {width: 0;}#sk-container-id-26 div.sk-dashed-wrapped {border: 1px dashed gray;margin: 0 0.4em 0.5em 0.4em;box-sizing: border-box;padding-bottom: 0.4em;background-color: white;}#sk-container-id-26 div.sk-label label {font-family: monospace;font-weight: bold;display: inline-block;line-height: 1.2em;}#sk-container-id-26 div.sk-label-container {text-align: center;}#sk-container-id-26 div.sk-container {/* jupyter's `normalize.less` sets `[hidden] { display: none; }` but bootstrap.min.css set `[hidden] { display: none !important; }` so we also need the `!important` here to be able to override the default hidden behavior on the sphinx rendered scikit-learn.org. See: https://github.com/scikit-learn/scikit-learn/issues/21755 */display: inline-block !important;position: relative;}#sk-container-id-26 div.sk-text-repr-fallback {display: none;}</style><div id=\"sk-container-id-26\" class=\"sk-top-container\"><div class=\"sk-text-repr-fallback\"><pre>XGBSEBootstrapEstimator(base_estimator=XGBSEKaplanTree(xgb_params={&#x27;booster&#x27;: &#x27;dart&#x27;,\n",
       "                                                                   &#x27;colsample_bynode&#x27;: 0.6271169914531283,\n",
       "                                                                   &#x27;eval_metric&#x27;: &#x27;cox-nloglik&#x27;,\n",
       "                                                                   &#x27;max_depth&#x27;: 235,\n",
       "                                                                   &#x27;min_child_weight&#x27;: 14,\n",
       "                                                                   &#x27;objective&#x27;: &#x27;survival:cox&#x27;,\n",
       "                                                                   &#x27;subsample&#x27;: 0.7200258119390829,\n",
       "                                                                   &#x27;tree_method&#x27;: &#x27;hist&#x27;}),\n",
       "                        n_estimators=100)</pre><b>In a Jupyter environment, please rerun this cell to show the HTML representation or trust the notebook. <br />On GitHub, the HTML representation is unable to render, please try loading this page with nbviewer.org.</b></div><div class=\"sk-container\" hidden><div class=\"sk-item sk-dashed-wrapped\"><div class=\"sk-label-container\"><div class=\"sk-label sk-toggleable\"><input class=\"sk-toggleable__control sk-hidden--visually\" id=\"sk-estimator-id-30\" type=\"checkbox\" ><label for=\"sk-estimator-id-30\" class=\"sk-toggleable__label sk-toggleable__label-arrow\">XGBSEBootstrapEstimator</label><div class=\"sk-toggleable__content\"><pre>XGBSEBootstrapEstimator(base_estimator=XGBSEKaplanTree(xgb_params={&#x27;booster&#x27;: &#x27;dart&#x27;,\n",
       "                                                                   &#x27;colsample_bynode&#x27;: 0.6271169914531283,\n",
       "                                                                   &#x27;eval_metric&#x27;: &#x27;cox-nloglik&#x27;,\n",
       "                                                                   &#x27;max_depth&#x27;: 235,\n",
       "                                                                   &#x27;min_child_weight&#x27;: 14,\n",
       "                                                                   &#x27;objective&#x27;: &#x27;survival:cox&#x27;,\n",
       "                                                                   &#x27;subsample&#x27;: 0.7200258119390829,\n",
       "                                                                   &#x27;tree_method&#x27;: &#x27;hist&#x27;}),\n",
       "                        n_estimators=100)</pre></div></div></div><div class=\"sk-parallel\"><div class=\"sk-parallel-item\"><div class=\"sk-item\"><div class=\"sk-label-container\"><div class=\"sk-label sk-toggleable\"><input class=\"sk-toggleable__control sk-hidden--visually\" id=\"sk-estimator-id-31\" type=\"checkbox\" ><label for=\"sk-estimator-id-31\" class=\"sk-toggleable__label sk-toggleable__label-arrow\">base_estimator: XGBSEKaplanTree</label><div class=\"sk-toggleable__content\"><pre>XGBSEKaplanTree(xgb_params={&#x27;booster&#x27;: &#x27;dart&#x27;,\n",
       "                            &#x27;colsample_bynode&#x27;: 0.6271169914531283,\n",
       "                            &#x27;eval_metric&#x27;: &#x27;cox-nloglik&#x27;, &#x27;max_depth&#x27;: 235,\n",
       "                            &#x27;min_child_weight&#x27;: 14, &#x27;objective&#x27;: &#x27;survival:cox&#x27;,\n",
       "                            &#x27;subsample&#x27;: 0.7200258119390829,\n",
       "                            &#x27;tree_method&#x27;: &#x27;hist&#x27;})</pre></div></div></div><div class=\"sk-serial\"><div class=\"sk-item\"><div class=\"sk-estimator sk-toggleable\"><input class=\"sk-toggleable__control sk-hidden--visually\" id=\"sk-estimator-id-32\" type=\"checkbox\" ><label for=\"sk-estimator-id-32\" class=\"sk-toggleable__label sk-toggleable__label-arrow\">XGBSEKaplanTree</label><div class=\"sk-toggleable__content\"><pre>XGBSEKaplanTree(xgb_params={&#x27;booster&#x27;: &#x27;dart&#x27;,\n",
       "                            &#x27;colsample_bynode&#x27;: 0.6271169914531283,\n",
       "                            &#x27;eval_metric&#x27;: &#x27;cox-nloglik&#x27;, &#x27;max_depth&#x27;: 235,\n",
       "                            &#x27;min_child_weight&#x27;: 14, &#x27;objective&#x27;: &#x27;survival:cox&#x27;,\n",
       "                            &#x27;subsample&#x27;: 0.7200258119390829,\n",
       "                            &#x27;tree_method&#x27;: &#x27;hist&#x27;})</pre></div></div></div></div></div></div></div></div></div></div>"
      ],
      "text/plain": [
       "XGBSEBootstrapEstimator(base_estimator=XGBSEKaplanTree(xgb_params={'booster': 'dart',\n",
       "                                                                   'colsample_bynode': 0.6271169914531283,\n",
       "                                                                   'eval_metric': 'cox-nloglik',\n",
       "                                                                   'max_depth': 235,\n",
       "                                                                   'min_child_weight': 14,\n",
       "                                                                   'objective': 'survival:cox',\n",
       "                                                                   'subsample': 0.7200258119390829,\n",
       "                                                                   'tree_method': 'hist'}),\n",
       "                        n_estimators=100)"
      ]
     },
     "execution_count": 208,
     "metadata": {},
     "output_type": "execute_result"
    }
   ],
   "source": [
    "PARAMS_TREE = {\n",
    "        'min_child_weight': 14, 'colsample_bynode': 0.6271169914531283, 'subsample': 0.7200258119390829, 'max_depth': 235,\n",
    "        'objective': 'survival:cox',\n",
    "        'eval_metric': 'cox-nloglik',\n",
    "        'tree_method': 'hist', \n",
    "        'booster':'dart',\n",
    "    }\n",
    "base_model = XGBSEKaplanTree(PARAMS_TREE)\n",
    "\n",
    "forest=XGBSEBootstrapEstimator(base_model,n_estimators=100)\n",
    "forest.fit(\n",
    "    X_train,\n",
    "    y_train,\n",
    "    ci_width=0.99,\n",
    "    time_bins=TIME_BINS  \n",
    ")"
   ]
  },
  {
   "cell_type": "code",
   "execution_count": 209,
   "id": "1c2b6097",
   "metadata": {},
   "outputs": [
    {
     "name": "stdout",
     "output_type": "stream",
     "text": [
      "C-index: 0.7212854682259088\n",
      "Avg. Brier Score: 0.12334535635800276\n"
     ]
    }
   ],
   "source": [
    "preds=forest.predict(X_val)\n",
    "\n",
    "print(f'C-index: {concordance_index(y_val, preds)}')\n",
    "print(f'Avg. Brier Score: {approx_brier_score(y_val, preds)}')"
   ]
  },
  {
   "cell_type": "markdown",
   "id": "e5f5ce94",
   "metadata": {},
   "source": [
    "## optuna on XGB LR"
   ]
  },
  {
   "cell_type": "code",
   "execution_count": 207,
   "id": "6700a74f",
   "metadata": {},
   "outputs": [
    {
     "name": "stderr",
     "output_type": "stream",
     "text": [
      "\u001b[32m[I 2023-02-05 03:54:35,178]\u001b[0m A new study created in memory with name: XGB_LR\u001b[0m\n",
      "/opt/python/3.10.9/lib/python3.10/site-packages/xgbse/_debiased_bce.py:286: RuntimeWarning: Warning: Only one class found in a time bucket\n",
      "  warnings.warn(\n",
      "/opt/python/3.10.9/lib/python3.10/site-packages/xgbse/_debiased_bce.py:286: RuntimeWarning: Warning: Only one class found in a time bucket\n",
      "  warnings.warn(\n",
      "/opt/python/3.10.9/lib/python3.10/site-packages/xgbse/_debiased_bce.py:286: RuntimeWarning: Warning: Only one class found in a time bucket\n",
      "  warnings.warn(\n",
      "/opt/python/3.10.9/lib/python3.10/site-packages/xgbse/_debiased_bce.py:286: RuntimeWarning: Warning: Only one class found in a time bucket\n",
      "  warnings.warn(\n",
      "/opt/python/3.10.9/lib/python3.10/site-packages/xgbse/_debiased_bce.py:286: RuntimeWarning: Warning: Only one class found in a time bucket\n",
      "  warnings.warn(\n",
      "/opt/python/3.10.9/lib/python3.10/site-packages/xgbse/_debiased_bce.py:286: RuntimeWarning: Warning: Only one class found in a time bucket\n",
      "  warnings.warn(\n",
      "/opt/python/3.10.9/lib/python3.10/site-packages/xgbse/_debiased_bce.py:286: RuntimeWarning: Warning: Only one class found in a time bucket\n",
      "  warnings.warn(\n",
      "/opt/python/3.10.9/lib/python3.10/site-packages/xgbse/_debiased_bce.py:286: RuntimeWarning: Warning: Only one class found in a time bucket\n",
      "  warnings.warn(\n",
      "/opt/python/3.10.9/lib/python3.10/site-packages/xgbse/_debiased_bce.py:286: RuntimeWarning: Warning: Only one class found in a time bucket\n",
      "  warnings.warn(\n",
      "/opt/python/3.10.9/lib/python3.10/site-packages/xgbse/_debiased_bce.py:286: RuntimeWarning: Warning: Only one class found in a time bucket\n",
      "  warnings.warn(\n",
      "/opt/python/3.10.9/lib/python3.10/site-packages/xgbse/_debiased_bce.py:286: RuntimeWarning: Warning: Only one class found in a time bucket\n",
      "  warnings.warn(\n",
      "/opt/python/3.10.9/lib/python3.10/site-packages/xgbse/_debiased_bce.py:286: RuntimeWarning: Warning: Only one class found in a time bucket\n",
      "  warnings.warn(\n",
      "/opt/python/3.10.9/lib/python3.10/site-packages/xgbse/_debiased_bce.py:286: RuntimeWarning: Warning: Only one class found in a time bucket\n",
      "  warnings.warn(\n",
      "/opt/python/3.10.9/lib/python3.10/site-packages/xgbse/_debiased_bce.py:286: RuntimeWarning: Warning: Only one class found in a time bucket\n",
      "  warnings.warn(\n",
      "/opt/python/3.10.9/lib/python3.10/site-packages/xgbse/_debiased_bce.py:286: RuntimeWarning: Warning: Only one class found in a time bucket\n",
      "  warnings.warn(\n",
      "/opt/python/3.10.9/lib/python3.10/site-packages/xgbse/_debiased_bce.py:286: RuntimeWarning: Warning: Only one class found in a time bucket\n",
      "  warnings.warn(\n",
      "/opt/python/3.10.9/lib/python3.10/site-packages/xgbse/_debiased_bce.py:286: RuntimeWarning: Warning: Only one class found in a time bucket\n",
      "  warnings.warn(\n",
      "/opt/python/3.10.9/lib/python3.10/site-packages/xgbse/_debiased_bce.py:286: RuntimeWarning: Warning: Only one class found in a time bucket\n",
      "  warnings.warn(\n",
      "/opt/python/3.10.9/lib/python3.10/site-packages/xgbse/_debiased_bce.py:286: RuntimeWarning: Warning: Only one class found in a time bucket\n",
      "  warnings.warn(\n",
      "/opt/python/3.10.9/lib/python3.10/site-packages/xgbse/_debiased_bce.py:286: RuntimeWarning: Warning: Only one class found in a time bucket\n",
      "  warnings.warn(\n",
      "/opt/python/3.10.9/lib/python3.10/site-packages/xgbse/_debiased_bce.py:286: RuntimeWarning: Warning: Only one class found in a time bucket\n",
      "  warnings.warn(\n",
      "/opt/python/3.10.9/lib/python3.10/site-packages/xgbse/_debiased_bce.py:286: RuntimeWarning: Warning: Only one class found in a time bucket\n",
      "  warnings.warn(\n",
      "/opt/python/3.10.9/lib/python3.10/site-packages/xgbse/_debiased_bce.py:286: RuntimeWarning: Warning: Only one class found in a time bucket\n",
      "  warnings.warn(\n",
      "/opt/python/3.10.9/lib/python3.10/site-packages/xgbse/_debiased_bce.py:286: RuntimeWarning: Warning: Only one class found in a time bucket\n",
      "  warnings.warn(\n",
      "/opt/python/3.10.9/lib/python3.10/site-packages/xgbse/_debiased_bce.py:286: RuntimeWarning: Warning: Only one class found in a time bucket\n",
      "  warnings.warn(\n",
      "\u001b[32m[I 2023-02-05 03:55:56,300]\u001b[0m Trial 0 finished with value: 0.8041428700933733 and parameters: {'min_child_weight': 44, 'learning_rate': 0.10734730250013798, 'colsample_bynode': 0.31878569265284934, 'subsample': 0.15629459411055238, 'aft_loss_distribution_scale': 0.7011607513718643, 'max_depth': 13, 'C': 0.19767679389361642, 'max_iter': 341}. Best is trial 0 with value: 0.8041428700933733.\u001b[0m\n",
      "/opt/python/3.10.9/lib/python3.10/site-packages/xgbse/_debiased_bce.py:286: RuntimeWarning: Warning: Only one class found in a time bucket\n",
      "  warnings.warn(\n",
      "/opt/python/3.10.9/lib/python3.10/site-packages/xgbse/_debiased_bce.py:286: RuntimeWarning: Warning: Only one class found in a time bucket\n",
      "  warnings.warn(\n",
      "/opt/python/3.10.9/lib/python3.10/site-packages/xgbse/_debiased_bce.py:286: RuntimeWarning: Warning: Only one class found in a time bucket\n",
      "  warnings.warn(\n",
      "/opt/python/3.10.9/lib/python3.10/site-packages/xgbse/_debiased_bce.py:286: RuntimeWarning: Warning: Only one class found in a time bucket\n",
      "  warnings.warn(\n",
      "/opt/python/3.10.9/lib/python3.10/site-packages/xgbse/_debiased_bce.py:286: RuntimeWarning: Warning: Only one class found in a time bucket\n",
      "  warnings.warn(\n",
      "/opt/python/3.10.9/lib/python3.10/site-packages/xgbse/_debiased_bce.py:286: RuntimeWarning: Warning: Only one class found in a time bucket\n",
      "  warnings.warn(\n",
      "/opt/python/3.10.9/lib/python3.10/site-packages/xgbse/_debiased_bce.py:286: RuntimeWarning: Warning: Only one class found in a time bucket\n",
      "  warnings.warn(\n",
      "/opt/python/3.10.9/lib/python3.10/site-packages/xgbse/_debiased_bce.py:286: RuntimeWarning: Warning: Only one class found in a time bucket\n",
      "  warnings.warn(\n",
      "/opt/python/3.10.9/lib/python3.10/site-packages/xgbse/_debiased_bce.py:286: RuntimeWarning: Warning: Only one class found in a time bucket\n",
      "  warnings.warn(\n",
      "/opt/python/3.10.9/lib/python3.10/site-packages/xgbse/_debiased_bce.py:286: RuntimeWarning: Warning: Only one class found in a time bucket\n",
      "  warnings.warn(\n",
      "/opt/python/3.10.9/lib/python3.10/site-packages/xgbse/_debiased_bce.py:286: RuntimeWarning: Warning: Only one class found in a time bucket\n",
      "  warnings.warn(\n",
      "/opt/python/3.10.9/lib/python3.10/site-packages/xgbse/_debiased_bce.py:286: RuntimeWarning: Warning: Only one class found in a time bucket\n",
      "  warnings.warn(\n",
      "/opt/python/3.10.9/lib/python3.10/site-packages/xgbse/_debiased_bce.py:286: RuntimeWarning: Warning: Only one class found in a time bucket\n",
      "  warnings.warn(\n",
      "/opt/python/3.10.9/lib/python3.10/site-packages/xgbse/_debiased_bce.py:286: RuntimeWarning: Warning: Only one class found in a time bucket\n",
      "  warnings.warn(\n",
      "/opt/python/3.10.9/lib/python3.10/site-packages/xgbse/_debiased_bce.py:286: RuntimeWarning: Warning: Only one class found in a time bucket\n",
      "  warnings.warn(\n",
      "/opt/python/3.10.9/lib/python3.10/site-packages/xgbse/_debiased_bce.py:286: RuntimeWarning: Warning: Only one class found in a time bucket\n",
      "  warnings.warn(\n",
      "/opt/python/3.10.9/lib/python3.10/site-packages/xgbse/_debiased_bce.py:286: RuntimeWarning: Warning: Only one class found in a time bucket\n",
      "  warnings.warn(\n",
      "/opt/python/3.10.9/lib/python3.10/site-packages/xgbse/_debiased_bce.py:286: RuntimeWarning: Warning: Only one class found in a time bucket\n",
      "  warnings.warn(\n",
      "/opt/python/3.10.9/lib/python3.10/site-packages/xgbse/_debiased_bce.py:286: RuntimeWarning: Warning: Only one class found in a time bucket\n",
      "  warnings.warn(\n",
      "/opt/python/3.10.9/lib/python3.10/site-packages/xgbse/_debiased_bce.py:286: RuntimeWarning: Warning: Only one class found in a time bucket\n",
      "  warnings.warn(\n",
      "/opt/python/3.10.9/lib/python3.10/site-packages/xgbse/_debiased_bce.py:286: RuntimeWarning: Warning: Only one class found in a time bucket\n",
      "  warnings.warn(\n",
      "/opt/python/3.10.9/lib/python3.10/site-packages/xgbse/_debiased_bce.py:286: RuntimeWarning: Warning: Only one class found in a time bucket\n",
      "  warnings.warn(\n",
      "/opt/python/3.10.9/lib/python3.10/site-packages/xgbse/_debiased_bce.py:286: RuntimeWarning: Warning: Only one class found in a time bucket\n",
      "  warnings.warn(\n",
      "/opt/python/3.10.9/lib/python3.10/site-packages/xgbse/_debiased_bce.py:286: RuntimeWarning: Warning: Only one class found in a time bucket\n",
      "  warnings.warn(\n",
      "\u001b[32m[I 2023-02-05 03:57:06,519]\u001b[0m Trial 1 finished with value: 0.768017405493609 and parameters: {'min_child_weight': 29, 'learning_rate': 0.09362488017829965, 'colsample_bynode': 0.5218565551876005, 'subsample': 0.06636002233973055, 'aft_loss_distribution_scale': 1.0340781921652078, 'max_depth': 31, 'C': 0.14003493597877217, 'max_iter': 261}. Best is trial 0 with value: 0.8041428700933733.\u001b[0m\n"
     ]
    },
    {
     "name": "stderr",
     "output_type": "stream",
     "text": [
      "\u001b[33m[W 2023-02-05 03:57:06,602]\u001b[0m Trial 2 failed with parameters: {'min_child_weight': 18, 'learning_rate': 0.07569471399525061, 'colsample_bynode': 0.6164357850690952, 'subsample': 0.4366411874451929, 'aft_loss_distribution_scale': 0.24104871277323933, 'max_depth': 31, 'C': 0.15807119595734714, 'max_iter': 284} because of the following error: ValueError('Expected 2D array, got 1D array instead:\\narray=[0. 0. 0. ... 0. 0. 0.].\\nReshape your data either using array.reshape(-1, 1) if your data has a single feature or array.reshape(1, -1) if it contains a single sample.').\u001b[0m\n",
      "Traceback (most recent call last):\n",
      "  File \"/opt/python/3.10.9/lib/python3.10/site-packages/optuna/study/_optimize.py\", line 200, in _run_trial\n",
      "    value_or_values = func(trial)\n",
      "  File \"/tmp/ipykernel_920047/1321120392.py\", line 21, in objective\n",
      "    LRforest.fit(X_train, y_train, validation_data = (X_val, y_val),time_bins=TIME_BINS, early_stopping_rounds=15)\n",
      "  File \"/opt/python/3.10.9/lib/python3.10/site-packages/xgbse/_meta.py\", line 57, in fit\n",
      "    trained_model = self.base_estimator.fit(X_sample, y_sample, **kwargs)\n",
      "  File \"/opt/python/3.10.9/lib/python3.10/site-packages/xgbse/_debiased_bce.py\", line 234, in fit\n",
      "    leaves_encoded = self.encoder.fit_transform(leaves)\n",
      "  File \"/opt/python/3.10.9/lib/python3.10/site-packages/sklearn/preprocessing/_encoders.py\", line 855, in fit_transform\n",
      "    return super().fit_transform(X, y)\n",
      "  File \"/opt/python/3.10.9/lib/python3.10/site-packages/sklearn/base.py\", line 867, in fit_transform\n",
      "    return self.fit(X, **fit_params).transform(X)\n",
      "  File \"/opt/python/3.10.9/lib/python3.10/site-packages/sklearn/preprocessing/_encoders.py\", line 818, in fit\n",
      "    fit_results = self._fit(\n",
      "  File \"/opt/python/3.10.9/lib/python3.10/site-packages/sklearn/preprocessing/_encoders.py\", line 80, in _fit\n",
      "    X_list, n_samples, n_features = self._check_X(\n",
      "  File \"/opt/python/3.10.9/lib/python3.10/site-packages/sklearn/preprocessing/_encoders.py\", line 45, in _check_X\n",
      "    X_temp = check_array(X, dtype=None, force_all_finite=force_all_finite)\n",
      "  File \"/opt/python/3.10.9/lib/python3.10/site-packages/sklearn/utils/validation.py\", line 879, in check_array\n",
      "    raise ValueError(\n",
      "ValueError: Expected 2D array, got 1D array instead:\n",
      "array=[0. 0. 0. ... 0. 0. 0.].\n",
      "Reshape your data either using array.reshape(-1, 1) if your data has a single feature or array.reshape(1, -1) if it contains a single sample.\n",
      "\u001b[33m[W 2023-02-05 03:57:06,603]\u001b[0m Trial 2 failed with value None.\u001b[0m\n"
     ]
    },
    {
     "ename": "ValueError",
     "evalue": "Expected 2D array, got 1D array instead:\narray=[0. 0. 0. ... 0. 0. 0.].\nReshape your data either using array.reshape(-1, 1) if your data has a single feature or array.reshape(1, -1) if it contains a single sample.",
     "output_type": "error",
     "traceback": [
      "\u001b[0;31m---------------------------------------------------------------------------\u001b[0m",
      "\u001b[0;31mValueError\u001b[0m                                Traceback (most recent call last)",
      "Cell \u001b[0;32mIn[207], line 32\u001b[0m\n\u001b[1;32m     30\u001b[0m \u001b[38;5;28;01mimport\u001b[39;00m \u001b[38;5;21;01moptuna\u001b[39;00m\n\u001b[1;32m     31\u001b[0m study \u001b[38;5;241m=\u001b[39m optuna\u001b[38;5;241m.\u001b[39mcreate_study(direction\u001b[38;5;241m=\u001b[39m\u001b[38;5;124m\"\u001b[39m\u001b[38;5;124mmaximize\u001b[39m\u001b[38;5;124m\"\u001b[39m, study_name\u001b[38;5;241m=\u001b[39m\u001b[38;5;124m\"\u001b[39m\u001b[38;5;124mXGB_LR\u001b[39m\u001b[38;5;124m\"\u001b[39m) \n\u001b[0;32m---> 32\u001b[0m \u001b[43mstudy\u001b[49m\u001b[38;5;241;43m.\u001b[39;49m\u001b[43moptimize\u001b[49m\u001b[43m(\u001b[49m\u001b[43mobjective\u001b[49m\u001b[43m,\u001b[49m\u001b[43m \u001b[49m\u001b[43mn_trials\u001b[49m\u001b[38;5;241;43m=\u001b[39;49m\u001b[38;5;241;43m5\u001b[39;49m\u001b[43m)\u001b[49m\n",
      "File \u001b[0;32m/opt/python/3.10.9/lib/python3.10/site-packages/optuna/study/study.py:425\u001b[0m, in \u001b[0;36mStudy.optimize\u001b[0;34m(self, func, n_trials, timeout, n_jobs, catch, callbacks, gc_after_trial, show_progress_bar)\u001b[0m\n\u001b[1;32m    321\u001b[0m \u001b[38;5;28;01mdef\u001b[39;00m \u001b[38;5;21moptimize\u001b[39m(\n\u001b[1;32m    322\u001b[0m     \u001b[38;5;28mself\u001b[39m,\n\u001b[1;32m    323\u001b[0m     func: ObjectiveFuncType,\n\u001b[0;32m   (...)\u001b[0m\n\u001b[1;32m    330\u001b[0m     show_progress_bar: \u001b[38;5;28mbool\u001b[39m \u001b[38;5;241m=\u001b[39m \u001b[38;5;28;01mFalse\u001b[39;00m,\n\u001b[1;32m    331\u001b[0m ) \u001b[38;5;241m-\u001b[39m\u001b[38;5;241m>\u001b[39m \u001b[38;5;28;01mNone\u001b[39;00m:\n\u001b[1;32m    332\u001b[0m     \u001b[38;5;124;03m\"\"\"Optimize an objective function.\u001b[39;00m\n\u001b[1;32m    333\u001b[0m \n\u001b[1;32m    334\u001b[0m \u001b[38;5;124;03m    Optimization is done by choosing a suitable set of hyperparameter values from a given\u001b[39;00m\n\u001b[0;32m   (...)\u001b[0m\n\u001b[1;32m    422\u001b[0m \u001b[38;5;124;03m            If nested invocation of this method occurs.\u001b[39;00m\n\u001b[1;32m    423\u001b[0m \u001b[38;5;124;03m    \"\"\"\u001b[39;00m\n\u001b[0;32m--> 425\u001b[0m     \u001b[43m_optimize\u001b[49m\u001b[43m(\u001b[49m\n\u001b[1;32m    426\u001b[0m \u001b[43m        \u001b[49m\u001b[43mstudy\u001b[49m\u001b[38;5;241;43m=\u001b[39;49m\u001b[38;5;28;43mself\u001b[39;49m\u001b[43m,\u001b[49m\n\u001b[1;32m    427\u001b[0m \u001b[43m        \u001b[49m\u001b[43mfunc\u001b[49m\u001b[38;5;241;43m=\u001b[39;49m\u001b[43mfunc\u001b[49m\u001b[43m,\u001b[49m\n\u001b[1;32m    428\u001b[0m \u001b[43m        \u001b[49m\u001b[43mn_trials\u001b[49m\u001b[38;5;241;43m=\u001b[39;49m\u001b[43mn_trials\u001b[49m\u001b[43m,\u001b[49m\n\u001b[1;32m    429\u001b[0m \u001b[43m        \u001b[49m\u001b[43mtimeout\u001b[49m\u001b[38;5;241;43m=\u001b[39;49m\u001b[43mtimeout\u001b[49m\u001b[43m,\u001b[49m\n\u001b[1;32m    430\u001b[0m \u001b[43m        \u001b[49m\u001b[43mn_jobs\u001b[49m\u001b[38;5;241;43m=\u001b[39;49m\u001b[43mn_jobs\u001b[49m\u001b[43m,\u001b[49m\n\u001b[1;32m    431\u001b[0m \u001b[43m        \u001b[49m\u001b[43mcatch\u001b[49m\u001b[38;5;241;43m=\u001b[39;49m\u001b[38;5;28;43mtuple\u001b[39;49m\u001b[43m(\u001b[49m\u001b[43mcatch\u001b[49m\u001b[43m)\u001b[49m\u001b[43m \u001b[49m\u001b[38;5;28;43;01mif\u001b[39;49;00m\u001b[43m \u001b[49m\u001b[38;5;28;43misinstance\u001b[39;49m\u001b[43m(\u001b[49m\u001b[43mcatch\u001b[49m\u001b[43m,\u001b[49m\u001b[43m \u001b[49m\u001b[43mIterable\u001b[49m\u001b[43m)\u001b[49m\u001b[43m \u001b[49m\u001b[38;5;28;43;01melse\u001b[39;49;00m\u001b[43m \u001b[49m\u001b[43m(\u001b[49m\u001b[43mcatch\u001b[49m\u001b[43m,\u001b[49m\u001b[43m)\u001b[49m\u001b[43m,\u001b[49m\n\u001b[1;32m    432\u001b[0m \u001b[43m        \u001b[49m\u001b[43mcallbacks\u001b[49m\u001b[38;5;241;43m=\u001b[39;49m\u001b[43mcallbacks\u001b[49m\u001b[43m,\u001b[49m\n\u001b[1;32m    433\u001b[0m \u001b[43m        \u001b[49m\u001b[43mgc_after_trial\u001b[49m\u001b[38;5;241;43m=\u001b[39;49m\u001b[43mgc_after_trial\u001b[49m\u001b[43m,\u001b[49m\n\u001b[1;32m    434\u001b[0m \u001b[43m        \u001b[49m\u001b[43mshow_progress_bar\u001b[49m\u001b[38;5;241;43m=\u001b[39;49m\u001b[43mshow_progress_bar\u001b[49m\u001b[43m,\u001b[49m\n\u001b[1;32m    435\u001b[0m \u001b[43m    \u001b[49m\u001b[43m)\u001b[49m\n",
      "File \u001b[0;32m/opt/python/3.10.9/lib/python3.10/site-packages/optuna/study/_optimize.py:66\u001b[0m, in \u001b[0;36m_optimize\u001b[0;34m(study, func, n_trials, timeout, n_jobs, catch, callbacks, gc_after_trial, show_progress_bar)\u001b[0m\n\u001b[1;32m     64\u001b[0m \u001b[38;5;28;01mtry\u001b[39;00m:\n\u001b[1;32m     65\u001b[0m     \u001b[38;5;28;01mif\u001b[39;00m n_jobs \u001b[38;5;241m==\u001b[39m \u001b[38;5;241m1\u001b[39m:\n\u001b[0;32m---> 66\u001b[0m         \u001b[43m_optimize_sequential\u001b[49m\u001b[43m(\u001b[49m\n\u001b[1;32m     67\u001b[0m \u001b[43m            \u001b[49m\u001b[43mstudy\u001b[49m\u001b[43m,\u001b[49m\n\u001b[1;32m     68\u001b[0m \u001b[43m            \u001b[49m\u001b[43mfunc\u001b[49m\u001b[43m,\u001b[49m\n\u001b[1;32m     69\u001b[0m \u001b[43m            \u001b[49m\u001b[43mn_trials\u001b[49m\u001b[43m,\u001b[49m\n\u001b[1;32m     70\u001b[0m \u001b[43m            \u001b[49m\u001b[43mtimeout\u001b[49m\u001b[43m,\u001b[49m\n\u001b[1;32m     71\u001b[0m \u001b[43m            \u001b[49m\u001b[43mcatch\u001b[49m\u001b[43m,\u001b[49m\n\u001b[1;32m     72\u001b[0m \u001b[43m            \u001b[49m\u001b[43mcallbacks\u001b[49m\u001b[43m,\u001b[49m\n\u001b[1;32m     73\u001b[0m \u001b[43m            \u001b[49m\u001b[43mgc_after_trial\u001b[49m\u001b[43m,\u001b[49m\n\u001b[1;32m     74\u001b[0m \u001b[43m            \u001b[49m\u001b[43mreseed_sampler_rng\u001b[49m\u001b[38;5;241;43m=\u001b[39;49m\u001b[38;5;28;43;01mFalse\u001b[39;49;00m\u001b[43m,\u001b[49m\n\u001b[1;32m     75\u001b[0m \u001b[43m            \u001b[49m\u001b[43mtime_start\u001b[49m\u001b[38;5;241;43m=\u001b[39;49m\u001b[38;5;28;43;01mNone\u001b[39;49;00m\u001b[43m,\u001b[49m\n\u001b[1;32m     76\u001b[0m \u001b[43m            \u001b[49m\u001b[43mprogress_bar\u001b[49m\u001b[38;5;241;43m=\u001b[39;49m\u001b[43mprogress_bar\u001b[49m\u001b[43m,\u001b[49m\n\u001b[1;32m     77\u001b[0m \u001b[43m        \u001b[49m\u001b[43m)\u001b[49m\n\u001b[1;32m     78\u001b[0m     \u001b[38;5;28;01melse\u001b[39;00m:\n\u001b[1;32m     79\u001b[0m         \u001b[38;5;28;01mif\u001b[39;00m n_jobs \u001b[38;5;241m==\u001b[39m \u001b[38;5;241m-\u001b[39m\u001b[38;5;241m1\u001b[39m:\n",
      "File \u001b[0;32m/opt/python/3.10.9/lib/python3.10/site-packages/optuna/study/_optimize.py:163\u001b[0m, in \u001b[0;36m_optimize_sequential\u001b[0;34m(study, func, n_trials, timeout, catch, callbacks, gc_after_trial, reseed_sampler_rng, time_start, progress_bar)\u001b[0m\n\u001b[1;32m    160\u001b[0m         \u001b[38;5;28;01mbreak\u001b[39;00m\n\u001b[1;32m    162\u001b[0m \u001b[38;5;28;01mtry\u001b[39;00m:\n\u001b[0;32m--> 163\u001b[0m     frozen_trial \u001b[38;5;241m=\u001b[39m \u001b[43m_run_trial\u001b[49m\u001b[43m(\u001b[49m\u001b[43mstudy\u001b[49m\u001b[43m,\u001b[49m\u001b[43m \u001b[49m\u001b[43mfunc\u001b[49m\u001b[43m,\u001b[49m\u001b[43m \u001b[49m\u001b[43mcatch\u001b[49m\u001b[43m)\u001b[49m\n\u001b[1;32m    164\u001b[0m \u001b[38;5;28;01mfinally\u001b[39;00m:\n\u001b[1;32m    165\u001b[0m     \u001b[38;5;66;03m# The following line mitigates memory problems that can be occurred in some\u001b[39;00m\n\u001b[1;32m    166\u001b[0m     \u001b[38;5;66;03m# environments (e.g., services that use computing containers such as GitHub Actions).\u001b[39;00m\n\u001b[1;32m    167\u001b[0m     \u001b[38;5;66;03m# Please refer to the following PR for further details:\u001b[39;00m\n\u001b[1;32m    168\u001b[0m     \u001b[38;5;66;03m# https://github.com/optuna/optuna/pull/325.\u001b[39;00m\n\u001b[1;32m    169\u001b[0m     \u001b[38;5;28;01mif\u001b[39;00m gc_after_trial:\n",
      "File \u001b[0;32m/opt/python/3.10.9/lib/python3.10/site-packages/optuna/study/_optimize.py:251\u001b[0m, in \u001b[0;36m_run_trial\u001b[0;34m(study, func, catch)\u001b[0m\n\u001b[1;32m    244\u001b[0m         \u001b[38;5;28;01massert\u001b[39;00m \u001b[38;5;28;01mFalse\u001b[39;00m, \u001b[38;5;124m\"\u001b[39m\u001b[38;5;124mShould not reach.\u001b[39m\u001b[38;5;124m\"\u001b[39m\n\u001b[1;32m    246\u001b[0m \u001b[38;5;28;01mif\u001b[39;00m (\n\u001b[1;32m    247\u001b[0m     frozen_trial\u001b[38;5;241m.\u001b[39mstate \u001b[38;5;241m==\u001b[39m TrialState\u001b[38;5;241m.\u001b[39mFAIL\n\u001b[1;32m    248\u001b[0m     \u001b[38;5;129;01mand\u001b[39;00m func_err \u001b[38;5;129;01mis\u001b[39;00m \u001b[38;5;129;01mnot\u001b[39;00m \u001b[38;5;28;01mNone\u001b[39;00m\n\u001b[1;32m    249\u001b[0m     \u001b[38;5;129;01mand\u001b[39;00m \u001b[38;5;129;01mnot\u001b[39;00m \u001b[38;5;28misinstance\u001b[39m(func_err, catch)\n\u001b[1;32m    250\u001b[0m ):\n\u001b[0;32m--> 251\u001b[0m     \u001b[38;5;28;01mraise\u001b[39;00m func_err\n\u001b[1;32m    252\u001b[0m \u001b[38;5;28;01mreturn\u001b[39;00m frozen_trial\n",
      "File \u001b[0;32m/opt/python/3.10.9/lib/python3.10/site-packages/optuna/study/_optimize.py:200\u001b[0m, in \u001b[0;36m_run_trial\u001b[0;34m(study, func, catch)\u001b[0m\n\u001b[1;32m    198\u001b[0m \u001b[38;5;28;01mwith\u001b[39;00m get_heartbeat_thread(trial\u001b[38;5;241m.\u001b[39m_trial_id, study\u001b[38;5;241m.\u001b[39m_storage):\n\u001b[1;32m    199\u001b[0m     \u001b[38;5;28;01mtry\u001b[39;00m:\n\u001b[0;32m--> 200\u001b[0m         value_or_values \u001b[38;5;241m=\u001b[39m \u001b[43mfunc\u001b[49m\u001b[43m(\u001b[49m\u001b[43mtrial\u001b[49m\u001b[43m)\u001b[49m\n\u001b[1;32m    201\u001b[0m     \u001b[38;5;28;01mexcept\u001b[39;00m exceptions\u001b[38;5;241m.\u001b[39mTrialPruned \u001b[38;5;28;01mas\u001b[39;00m e:\n\u001b[1;32m    202\u001b[0m         \u001b[38;5;66;03m# TODO(mamu): Handle multi-objective cases.\u001b[39;00m\n\u001b[1;32m    203\u001b[0m         state \u001b[38;5;241m=\u001b[39m TrialState\u001b[38;5;241m.\u001b[39mPRUNED\n",
      "Cell \u001b[0;32mIn[207], line 21\u001b[0m, in \u001b[0;36mobjective\u001b[0;34m(trial)\u001b[0m\n\u001b[1;32m     19\u001b[0m     base_model \u001b[38;5;241m=\u001b[39m XGBSEDebiasedBCE(PARAMS_XGB_AFT,PARAMS_LR)\n\u001b[1;32m     20\u001b[0m     LRforest\u001b[38;5;241m=\u001b[39mXGBSEBootstrapEstimator(base_model,n_estimators\u001b[38;5;241m=\u001b[39m\u001b[38;5;241m20\u001b[39m)\n\u001b[0;32m---> 21\u001b[0m     \u001b[43mLRforest\u001b[49m\u001b[38;5;241;43m.\u001b[39;49m\u001b[43mfit\u001b[49m\u001b[43m(\u001b[49m\u001b[43mX_train\u001b[49m\u001b[43m,\u001b[49m\u001b[43m \u001b[49m\u001b[43my_train\u001b[49m\u001b[43m,\u001b[49m\u001b[43m \u001b[49m\u001b[43mvalidation_data\u001b[49m\u001b[43m \u001b[49m\u001b[38;5;241;43m=\u001b[39;49m\u001b[43m \u001b[49m\u001b[43m(\u001b[49m\u001b[43mX_val\u001b[49m\u001b[43m,\u001b[49m\u001b[43m \u001b[49m\u001b[43my_val\u001b[49m\u001b[43m)\u001b[49m\u001b[43m,\u001b[49m\u001b[43mtime_bins\u001b[49m\u001b[38;5;241;43m=\u001b[39;49m\u001b[43mTIME_BINS\u001b[49m\u001b[43m,\u001b[49m\u001b[43m \u001b[49m\u001b[43mearly_stopping_rounds\u001b[49m\u001b[38;5;241;43m=\u001b[39;49m\u001b[38;5;241;43m15\u001b[39;49m\u001b[43m)\u001b[49m\n\u001b[1;32m     23\u001b[0m     preds\u001b[38;5;241m=\u001b[39mLRforest\u001b[38;5;241m.\u001b[39mpredict(X_val)\n\u001b[1;32m     24\u001b[0m \u001b[38;5;66;03m#     gb_chf = model.predict_cumulative_hazard_function(X_val,return_array=False)\u001b[39;00m\n\u001b[1;32m     25\u001b[0m \u001b[38;5;66;03m#     gb_risk_scores = np.row_stack([chf(times) for chf in gb_chf])\u001b[39;00m\n\u001b[1;32m     26\u001b[0m \u001b[38;5;66;03m#     gb_auc, gb_mean_auc = cumulative_dynamic_auc(y_train, y_val, gb_risk_scores, times)\u001b[39;00m\n\u001b[1;32m     27\u001b[0m \u001b[38;5;66;03m#     scores = gb_mean_auc\u001b[39;00m\n",
      "File \u001b[0;32m/opt/python/3.10.9/lib/python3.10/site-packages/xgbse/_meta.py:57\u001b[0m, in \u001b[0;36mXGBSEBootstrapEstimator.fit\u001b[0;34m(self, X, y, **kwargs)\u001b[0m\n\u001b[1;32m     53\u001b[0m \u001b[38;5;28;01mfor\u001b[39;00m i \u001b[38;5;129;01min\u001b[39;00m \u001b[38;5;28mrange\u001b[39m(\u001b[38;5;28mself\u001b[39m\u001b[38;5;241m.\u001b[39mn_estimators):\n\u001b[1;32m     55\u001b[0m     X_sample, y_sample \u001b[38;5;241m=\u001b[39m resample(X, y, random_state\u001b[38;5;241m=\u001b[39mi \u001b[38;5;241m+\u001b[39m \u001b[38;5;28mself\u001b[39m\u001b[38;5;241m.\u001b[39mrandom_state)\n\u001b[0;32m---> 57\u001b[0m     trained_model \u001b[38;5;241m=\u001b[39m \u001b[38;5;28;43mself\u001b[39;49m\u001b[38;5;241;43m.\u001b[39;49m\u001b[43mbase_estimator\u001b[49m\u001b[38;5;241;43m.\u001b[39;49m\u001b[43mfit\u001b[49m\u001b[43m(\u001b[49m\u001b[43mX_sample\u001b[49m\u001b[43m,\u001b[49m\u001b[43m \u001b[49m\u001b[43my_sample\u001b[49m\u001b[43m,\u001b[49m\u001b[43m \u001b[49m\u001b[38;5;241;43m*\u001b[39;49m\u001b[38;5;241;43m*\u001b[39;49m\u001b[43mkwargs\u001b[49m\u001b[43m)\u001b[49m\n\u001b[1;32m     59\u001b[0m     \u001b[38;5;28mself\u001b[39m\u001b[38;5;241m.\u001b[39mestimators_\u001b[38;5;241m.\u001b[39mappend(deepcopy(trained_model))\n\u001b[1;32m     61\u001b[0m \u001b[38;5;28;01mreturn\u001b[39;00m \u001b[38;5;28mself\u001b[39m\n",
      "File \u001b[0;32m/opt/python/3.10.9/lib/python3.10/site-packages/xgbse/_debiased_bce.py:234\u001b[0m, in \u001b[0;36mXGBSEDebiasedBCE.fit\u001b[0;34m(self, X, y, num_boost_round, validation_data, early_stopping_rounds, verbose_eval, persist_train, index_id, time_bins)\u001b[0m\n\u001b[1;32m    230\u001b[0m \u001b[38;5;28mself\u001b[39m\u001b[38;5;241m.\u001b[39mencoder \u001b[38;5;241m=\u001b[39m OneHotEncoder()\n\u001b[1;32m    231\u001b[0m leaves \u001b[38;5;241m=\u001b[39m \u001b[38;5;28mself\u001b[39m\u001b[38;5;241m.\u001b[39mbst\u001b[38;5;241m.\u001b[39mpredict(\n\u001b[1;32m    232\u001b[0m     dtrain, pred_leaf\u001b[38;5;241m=\u001b[39m\u001b[38;5;28;01mTrue\u001b[39;00m, iteration_range\u001b[38;5;241m=\u001b[39m(\u001b[38;5;241m0\u001b[39m, \u001b[38;5;28mself\u001b[39m\u001b[38;5;241m.\u001b[39mbst\u001b[38;5;241m.\u001b[39mbest_iteration \u001b[38;5;241m+\u001b[39m \u001b[38;5;241m1\u001b[39m)\n\u001b[1;32m    233\u001b[0m )\n\u001b[0;32m--> 234\u001b[0m leaves_encoded \u001b[38;5;241m=\u001b[39m \u001b[38;5;28;43mself\u001b[39;49m\u001b[38;5;241;43m.\u001b[39;49m\u001b[43mencoder\u001b[49m\u001b[38;5;241;43m.\u001b[39;49m\u001b[43mfit_transform\u001b[49m\u001b[43m(\u001b[49m\u001b[43mleaves\u001b[49m\u001b[43m)\u001b[49m\n\u001b[1;32m    236\u001b[0m \u001b[38;5;66;03m# convert targets for using with logistic regression\u001b[39;00m\n\u001b[1;32m    237\u001b[0m \u001b[38;5;28mself\u001b[39m\u001b[38;5;241m.\u001b[39mtargets, \u001b[38;5;28mself\u001b[39m\u001b[38;5;241m.\u001b[39mtime_bins \u001b[38;5;241m=\u001b[39m _build_multi_task_targets(\n\u001b[1;32m    238\u001b[0m     E_train, T_train, \u001b[38;5;28mself\u001b[39m\u001b[38;5;241m.\u001b[39mtime_bins\n\u001b[1;32m    239\u001b[0m )\n",
      "File \u001b[0;32m/opt/python/3.10.9/lib/python3.10/site-packages/sklearn/preprocessing/_encoders.py:855\u001b[0m, in \u001b[0;36mOneHotEncoder.fit_transform\u001b[0;34m(self, X, y)\u001b[0m\n\u001b[1;32m    833\u001b[0m \u001b[38;5;124;03m\"\"\"\u001b[39;00m\n\u001b[1;32m    834\u001b[0m \u001b[38;5;124;03mFit OneHotEncoder to X, then transform X.\u001b[39;00m\n\u001b[1;32m    835\u001b[0m \n\u001b[0;32m   (...)\u001b[0m\n\u001b[1;32m    852\u001b[0m \u001b[38;5;124;03m    returned.\u001b[39;00m\n\u001b[1;32m    853\u001b[0m \u001b[38;5;124;03m\"\"\"\u001b[39;00m\n\u001b[1;32m    854\u001b[0m \u001b[38;5;28mself\u001b[39m\u001b[38;5;241m.\u001b[39m_validate_keywords()\n\u001b[0;32m--> 855\u001b[0m \u001b[38;5;28;01mreturn\u001b[39;00m \u001b[38;5;28;43msuper\u001b[39;49m\u001b[43m(\u001b[49m\u001b[43m)\u001b[49m\u001b[38;5;241;43m.\u001b[39;49m\u001b[43mfit_transform\u001b[49m\u001b[43m(\u001b[49m\u001b[43mX\u001b[49m\u001b[43m,\u001b[49m\u001b[43m \u001b[49m\u001b[43my\u001b[49m\u001b[43m)\u001b[49m\n",
      "File \u001b[0;32m/opt/python/3.10.9/lib/python3.10/site-packages/sklearn/base.py:867\u001b[0m, in \u001b[0;36mTransformerMixin.fit_transform\u001b[0;34m(self, X, y, **fit_params)\u001b[0m\n\u001b[1;32m    863\u001b[0m \u001b[38;5;66;03m# non-optimized default implementation; override when a better\u001b[39;00m\n\u001b[1;32m    864\u001b[0m \u001b[38;5;66;03m# method is possible for a given clustering algorithm\u001b[39;00m\n\u001b[1;32m    865\u001b[0m \u001b[38;5;28;01mif\u001b[39;00m y \u001b[38;5;129;01mis\u001b[39;00m \u001b[38;5;28;01mNone\u001b[39;00m:\n\u001b[1;32m    866\u001b[0m     \u001b[38;5;66;03m# fit method of arity 1 (unsupervised transformation)\u001b[39;00m\n\u001b[0;32m--> 867\u001b[0m     \u001b[38;5;28;01mreturn\u001b[39;00m \u001b[38;5;28;43mself\u001b[39;49m\u001b[38;5;241;43m.\u001b[39;49m\u001b[43mfit\u001b[49m\u001b[43m(\u001b[49m\u001b[43mX\u001b[49m\u001b[43m,\u001b[49m\u001b[43m \u001b[49m\u001b[38;5;241;43m*\u001b[39;49m\u001b[38;5;241;43m*\u001b[39;49m\u001b[43mfit_params\u001b[49m\u001b[43m)\u001b[49m\u001b[38;5;241m.\u001b[39mtransform(X)\n\u001b[1;32m    868\u001b[0m \u001b[38;5;28;01melse\u001b[39;00m:\n\u001b[1;32m    869\u001b[0m     \u001b[38;5;66;03m# fit method of arity 2 (supervised transformation)\u001b[39;00m\n\u001b[1;32m    870\u001b[0m     \u001b[38;5;28;01mreturn\u001b[39;00m \u001b[38;5;28mself\u001b[39m\u001b[38;5;241m.\u001b[39mfit(X, y, \u001b[38;5;241m*\u001b[39m\u001b[38;5;241m*\u001b[39mfit_params)\u001b[38;5;241m.\u001b[39mtransform(X)\n",
      "File \u001b[0;32m/opt/python/3.10.9/lib/python3.10/site-packages/sklearn/preprocessing/_encoders.py:818\u001b[0m, in \u001b[0;36mOneHotEncoder.fit\u001b[0;34m(self, X, y)\u001b[0m\n\u001b[1;32m    800\u001b[0m \u001b[38;5;124;03m\"\"\"\u001b[39;00m\n\u001b[1;32m    801\u001b[0m \u001b[38;5;124;03mFit OneHotEncoder to X.\u001b[39;00m\n\u001b[1;32m    802\u001b[0m \n\u001b[0;32m   (...)\u001b[0m\n\u001b[1;32m    815\u001b[0m \u001b[38;5;124;03m    Fitted encoder.\u001b[39;00m\n\u001b[1;32m    816\u001b[0m \u001b[38;5;124;03m\"\"\"\u001b[39;00m\n\u001b[1;32m    817\u001b[0m \u001b[38;5;28mself\u001b[39m\u001b[38;5;241m.\u001b[39m_validate_keywords()\n\u001b[0;32m--> 818\u001b[0m fit_results \u001b[38;5;241m=\u001b[39m \u001b[38;5;28;43mself\u001b[39;49m\u001b[38;5;241;43m.\u001b[39;49m\u001b[43m_fit\u001b[49m\u001b[43m(\u001b[49m\n\u001b[1;32m    819\u001b[0m \u001b[43m    \u001b[49m\u001b[43mX\u001b[49m\u001b[43m,\u001b[49m\n\u001b[1;32m    820\u001b[0m \u001b[43m    \u001b[49m\u001b[43mhandle_unknown\u001b[49m\u001b[38;5;241;43m=\u001b[39;49m\u001b[38;5;28;43mself\u001b[39;49m\u001b[38;5;241;43m.\u001b[39;49m\u001b[43mhandle_unknown\u001b[49m\u001b[43m,\u001b[49m\n\u001b[1;32m    821\u001b[0m \u001b[43m    \u001b[49m\u001b[43mforce_all_finite\u001b[49m\u001b[38;5;241;43m=\u001b[39;49m\u001b[38;5;124;43m\"\u001b[39;49m\u001b[38;5;124;43mallow-nan\u001b[39;49m\u001b[38;5;124;43m\"\u001b[39;49m\u001b[43m,\u001b[49m\n\u001b[1;32m    822\u001b[0m \u001b[43m    \u001b[49m\u001b[43mreturn_counts\u001b[49m\u001b[38;5;241;43m=\u001b[39;49m\u001b[38;5;28;43mself\u001b[39;49m\u001b[38;5;241;43m.\u001b[39;49m\u001b[43m_infrequent_enabled\u001b[49m\u001b[43m,\u001b[49m\n\u001b[1;32m    823\u001b[0m \u001b[43m\u001b[49m\u001b[43m)\u001b[49m\n\u001b[1;32m    824\u001b[0m \u001b[38;5;28;01mif\u001b[39;00m \u001b[38;5;28mself\u001b[39m\u001b[38;5;241m.\u001b[39m_infrequent_enabled:\n\u001b[1;32m    825\u001b[0m     \u001b[38;5;28mself\u001b[39m\u001b[38;5;241m.\u001b[39m_fit_infrequent_category_mapping(\n\u001b[1;32m    826\u001b[0m         fit_results[\u001b[38;5;124m\"\u001b[39m\u001b[38;5;124mn_samples\u001b[39m\u001b[38;5;124m\"\u001b[39m], fit_results[\u001b[38;5;124m\"\u001b[39m\u001b[38;5;124mcategory_counts\u001b[39m\u001b[38;5;124m\"\u001b[39m]\n\u001b[1;32m    827\u001b[0m     )\n",
      "File \u001b[0;32m/opt/python/3.10.9/lib/python3.10/site-packages/sklearn/preprocessing/_encoders.py:80\u001b[0m, in \u001b[0;36m_BaseEncoder._fit\u001b[0;34m(self, X, handle_unknown, force_all_finite, return_counts)\u001b[0m\n\u001b[1;32m     78\u001b[0m \u001b[38;5;28mself\u001b[39m\u001b[38;5;241m.\u001b[39m_check_n_features(X, reset\u001b[38;5;241m=\u001b[39m\u001b[38;5;28;01mTrue\u001b[39;00m)\n\u001b[1;32m     79\u001b[0m \u001b[38;5;28mself\u001b[39m\u001b[38;5;241m.\u001b[39m_check_feature_names(X, reset\u001b[38;5;241m=\u001b[39m\u001b[38;5;28;01mTrue\u001b[39;00m)\n\u001b[0;32m---> 80\u001b[0m X_list, n_samples, n_features \u001b[38;5;241m=\u001b[39m \u001b[38;5;28;43mself\u001b[39;49m\u001b[38;5;241;43m.\u001b[39;49m\u001b[43m_check_X\u001b[49m\u001b[43m(\u001b[49m\n\u001b[1;32m     81\u001b[0m \u001b[43m    \u001b[49m\u001b[43mX\u001b[49m\u001b[43m,\u001b[49m\u001b[43m \u001b[49m\u001b[43mforce_all_finite\u001b[49m\u001b[38;5;241;43m=\u001b[39;49m\u001b[43mforce_all_finite\u001b[49m\n\u001b[1;32m     82\u001b[0m \u001b[43m\u001b[49m\u001b[43m)\u001b[49m\n\u001b[1;32m     83\u001b[0m \u001b[38;5;28mself\u001b[39m\u001b[38;5;241m.\u001b[39mn_features_in_ \u001b[38;5;241m=\u001b[39m n_features\n\u001b[1;32m     85\u001b[0m \u001b[38;5;28;01mif\u001b[39;00m \u001b[38;5;28mself\u001b[39m\u001b[38;5;241m.\u001b[39mcategories \u001b[38;5;241m!=\u001b[39m \u001b[38;5;124m\"\u001b[39m\u001b[38;5;124mauto\u001b[39m\u001b[38;5;124m\"\u001b[39m:\n",
      "File \u001b[0;32m/opt/python/3.10.9/lib/python3.10/site-packages/sklearn/preprocessing/_encoders.py:45\u001b[0m, in \u001b[0;36m_BaseEncoder._check_X\u001b[0;34m(self, X, force_all_finite)\u001b[0m\n\u001b[1;32m     32\u001b[0m \u001b[38;5;124;03m\"\"\"\u001b[39;00m\n\u001b[1;32m     33\u001b[0m \u001b[38;5;124;03mPerform custom check_array:\u001b[39;00m\n\u001b[1;32m     34\u001b[0m \u001b[38;5;124;03m- convert list of strings to object dtype\u001b[39;00m\n\u001b[0;32m   (...)\u001b[0m\n\u001b[1;32m     41\u001b[0m \n\u001b[1;32m     42\u001b[0m \u001b[38;5;124;03m\"\"\"\u001b[39;00m\n\u001b[1;32m     43\u001b[0m \u001b[38;5;28;01mif\u001b[39;00m \u001b[38;5;129;01mnot\u001b[39;00m (\u001b[38;5;28mhasattr\u001b[39m(X, \u001b[38;5;124m\"\u001b[39m\u001b[38;5;124miloc\u001b[39m\u001b[38;5;124m\"\u001b[39m) \u001b[38;5;129;01mand\u001b[39;00m \u001b[38;5;28mgetattr\u001b[39m(X, \u001b[38;5;124m\"\u001b[39m\u001b[38;5;124mndim\u001b[39m\u001b[38;5;124m\"\u001b[39m, \u001b[38;5;241m0\u001b[39m) \u001b[38;5;241m==\u001b[39m \u001b[38;5;241m2\u001b[39m):\n\u001b[1;32m     44\u001b[0m     \u001b[38;5;66;03m# if not a dataframe, do normal check_array validation\u001b[39;00m\n\u001b[0;32m---> 45\u001b[0m     X_temp \u001b[38;5;241m=\u001b[39m \u001b[43mcheck_array\u001b[49m\u001b[43m(\u001b[49m\u001b[43mX\u001b[49m\u001b[43m,\u001b[49m\u001b[43m \u001b[49m\u001b[43mdtype\u001b[49m\u001b[38;5;241;43m=\u001b[39;49m\u001b[38;5;28;43;01mNone\u001b[39;49;00m\u001b[43m,\u001b[49m\u001b[43m \u001b[49m\u001b[43mforce_all_finite\u001b[49m\u001b[38;5;241;43m=\u001b[39;49m\u001b[43mforce_all_finite\u001b[49m\u001b[43m)\u001b[49m\n\u001b[1;32m     46\u001b[0m     \u001b[38;5;28;01mif\u001b[39;00m \u001b[38;5;129;01mnot\u001b[39;00m \u001b[38;5;28mhasattr\u001b[39m(X, \u001b[38;5;124m\"\u001b[39m\u001b[38;5;124mdtype\u001b[39m\u001b[38;5;124m\"\u001b[39m) \u001b[38;5;129;01mand\u001b[39;00m np\u001b[38;5;241m.\u001b[39missubdtype(X_temp\u001b[38;5;241m.\u001b[39mdtype, np\u001b[38;5;241m.\u001b[39mstr_):\n\u001b[1;32m     47\u001b[0m         X \u001b[38;5;241m=\u001b[39m check_array(X, dtype\u001b[38;5;241m=\u001b[39m\u001b[38;5;28mobject\u001b[39m, force_all_finite\u001b[38;5;241m=\u001b[39mforce_all_finite)\n",
      "File \u001b[0;32m/opt/python/3.10.9/lib/python3.10/site-packages/sklearn/utils/validation.py:879\u001b[0m, in \u001b[0;36mcheck_array\u001b[0;34m(array, accept_sparse, accept_large_sparse, dtype, order, copy, force_all_finite, ensure_2d, allow_nd, ensure_min_samples, ensure_min_features, estimator, input_name)\u001b[0m\n\u001b[1;32m    877\u001b[0m     \u001b[38;5;66;03m# If input is 1D raise error\u001b[39;00m\n\u001b[1;32m    878\u001b[0m     \u001b[38;5;28;01mif\u001b[39;00m array\u001b[38;5;241m.\u001b[39mndim \u001b[38;5;241m==\u001b[39m \u001b[38;5;241m1\u001b[39m:\n\u001b[0;32m--> 879\u001b[0m         \u001b[38;5;28;01mraise\u001b[39;00m \u001b[38;5;167;01mValueError\u001b[39;00m(\n\u001b[1;32m    880\u001b[0m             \u001b[38;5;124m\"\u001b[39m\u001b[38;5;124mExpected 2D array, got 1D array instead:\u001b[39m\u001b[38;5;130;01m\\n\u001b[39;00m\u001b[38;5;124marray=\u001b[39m\u001b[38;5;132;01m{}\u001b[39;00m\u001b[38;5;124m.\u001b[39m\u001b[38;5;130;01m\\n\u001b[39;00m\u001b[38;5;124m\"\u001b[39m\n\u001b[1;32m    881\u001b[0m             \u001b[38;5;124m\"\u001b[39m\u001b[38;5;124mReshape your data either using array.reshape(-1, 1) if \u001b[39m\u001b[38;5;124m\"\u001b[39m\n\u001b[1;32m    882\u001b[0m             \u001b[38;5;124m\"\u001b[39m\u001b[38;5;124myour data has a single feature or array.reshape(1, -1) \u001b[39m\u001b[38;5;124m\"\u001b[39m\n\u001b[1;32m    883\u001b[0m             \u001b[38;5;124m\"\u001b[39m\u001b[38;5;124mif it contains a single sample.\u001b[39m\u001b[38;5;124m\"\u001b[39m\u001b[38;5;241m.\u001b[39mformat(array)\n\u001b[1;32m    884\u001b[0m         )\n\u001b[1;32m    886\u001b[0m \u001b[38;5;28;01mif\u001b[39;00m dtype_numeric \u001b[38;5;129;01mand\u001b[39;00m array\u001b[38;5;241m.\u001b[39mdtype\u001b[38;5;241m.\u001b[39mkind \u001b[38;5;129;01min\u001b[39;00m \u001b[38;5;124m\"\u001b[39m\u001b[38;5;124mUSV\u001b[39m\u001b[38;5;124m\"\u001b[39m:\n\u001b[1;32m    887\u001b[0m     \u001b[38;5;28;01mraise\u001b[39;00m \u001b[38;5;167;01mValueError\u001b[39;00m(\n\u001b[1;32m    888\u001b[0m         \u001b[38;5;124m\"\u001b[39m\u001b[38;5;124mdtype=\u001b[39m\u001b[38;5;124m'\u001b[39m\u001b[38;5;124mnumeric\u001b[39m\u001b[38;5;124m'\u001b[39m\u001b[38;5;124m is not compatible with arrays of bytes/strings.\u001b[39m\u001b[38;5;124m\"\u001b[39m\n\u001b[1;32m    889\u001b[0m         \u001b[38;5;124m\"\u001b[39m\u001b[38;5;124mConvert your data to numeric values explicitly instead.\u001b[39m\u001b[38;5;124m\"\u001b[39m\n\u001b[1;32m    890\u001b[0m     )\n",
      "\u001b[0;31mValueError\u001b[0m: Expected 2D array, got 1D array instead:\narray=[0. 0. 0. ... 0. 0. 0.].\nReshape your data either using array.reshape(-1, 1) if your data has a single feature or array.reshape(1, -1) if it contains a single sample."
     ]
    }
   ],
   "source": [
    "def objective(trial):\n",
    "    X_train, X_test, y_train, y_test=train_test_split(X, y, train_size=0.8)\n",
    "    \n",
    "    PARAMS_XGB_AFT = {\n",
    "        \"min_child_weight\": trial.suggest_int(\"min_child_weight\", 10, 100),\n",
    "        \"learning_rate\": trial.suggest_float(\"learning_rate\", 0.0001, 0.2),\n",
    "        \"colsample_bynode\": trial.suggest_float(\"colsample_bynode\", 0.01, 0.8),\n",
    "        \"subsample\": trial.suggest_float(\"subsample\", 0.01, 0.8),\n",
    "        \"aft_loss_distribution_scale\": trial.suggest_float(\"aft_loss_distribution_scale\", 0.1, 2.0),\n",
    "        \"max_depth\": trial.suggest_int(\"max_depth\", 3, 36),\n",
    "        \"random_state\": 8,\n",
    "        'objective': 'survival:aft',\n",
    "        'eval_metric': 'aft-nloglik',\n",
    "        'aft_loss_distribution': 'extreme',\n",
    "        'tree_method': 'hist', \n",
    "        'booster':'dart',\n",
    "    }\n",
    "    PARAMS_LR={\"C\": trial.suggest_float(\"C\", 0.0001, 0.2), \"max_iter\": trial.suggest_int(\"max_iter\", 100, 500)}\n",
    "    base_model = XGBSEDebiasedBCE(PARAMS_XGB_AFT,PARAMS_LR)\n",
    "    LRforest=XGBSEBootstrapEstimator(base_model,n_estimators=20)\n",
    "    LRforest.fit(X_train, y_train, validation_data = (X_val, y_val),time_bins=TIME_BINS, early_stopping_rounds=15)\n",
    "   \n",
    "    preds=LRforest.predict(X_val)\n",
    "#     gb_chf = model.predict_cumulative_hazard_function(X_val,return_array=False)\n",
    "#     gb_risk_scores = np.row_stack([chf(times) for chf in gb_chf])\n",
    "#     gb_auc, gb_mean_auc = cumulative_dynamic_auc(y_train, y_val, gb_risk_scores, times)\n",
    "#     scores = gb_mean_auc\n",
    "    scores = concordance_index(y_val, preds)\n",
    "    return scores\n",
    "import optuna\n",
    "study = optuna.create_study(direction=\"maximize\", study_name=\"XGB_LR\") \n",
    "study.optimize(objective, n_trials=5)"
   ]
  },
  {
   "cell_type": "code",
   "execution_count": null,
   "id": "d5e712c4",
   "metadata": {},
   "outputs": [],
   "source": []
  }
 ],
 "metadata": {
  "kernelspec": {
   "display_name": "Python 3 (ipykernel)",
   "language": "python",
   "name": "python3"
  },
  "language_info": {
   "codemirror_mode": {
    "name": "ipython",
    "version": 3
   },
   "file_extension": ".py",
   "mimetype": "text/x-python",
   "name": "python",
   "nbconvert_exporter": "python",
   "pygments_lexer": "ipython3",
   "version": "3.10.9"
  }
 },
 "nbformat": 4,
 "nbformat_minor": 5
}
