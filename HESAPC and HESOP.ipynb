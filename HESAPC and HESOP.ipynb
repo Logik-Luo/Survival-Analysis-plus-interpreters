{
 "cells": [
  {
   "cell_type": "code",
   "execution_count": 45,
   "id": "a3704679",
   "metadata": {},
   "outputs": [],
   "source": [
    "import sqlite3\n",
    "import pandas as pd\n",
    "import matplotlib.pyplot as plt\n",
    "import numpy as np \n",
    "from lifelines import KaplanMeierFitter\n",
    "import os \n",
    "from matplotlib_venn import venn3\n",
    "import pyper as pr\n",
    "os.chdir('/data/master/DS175/share/0_Database')\n"
   ]
  },
  {
   "cell_type": "code",
   "execution_count": 65,
   "id": "2dba1ace",
   "metadata": {},
   "outputs": [
    {
     "name": "stdout",
     "output_type": "stream",
     "text": [
      "1326\n"
     ]
    },
    {
     "data": {
      "text/html": [
       "<div>\n",
       "<style scoped>\n",
       "    .dataframe tbody tr th:only-of-type {\n",
       "        vertical-align: middle;\n",
       "    }\n",
       "\n",
       "    .dataframe tbody tr th {\n",
       "        vertical-align: top;\n",
       "    }\n",
       "\n",
       "    .dataframe thead th {\n",
       "        text-align: right;\n",
       "    }\n",
       "</style>\n",
       "<table border=\"1\" class=\"dataframe\">\n",
       "  <thead>\n",
       "    <tr style=\"text-align: right;\">\n",
       "      <th></th>\n",
       "      <th>INTERVAL_DIAG_ADMISSION</th>\n",
       "    </tr>\n",
       "  </thead>\n",
       "  <tbody>\n",
       "    <tr>\n",
       "      <th>less_than_-3months</th>\n",
       "      <td>0</td>\n",
       "    </tr>\n",
       "    <tr>\n",
       "      <th>less_than_-2months</th>\n",
       "      <td>21</td>\n",
       "    </tr>\n",
       "    <tr>\n",
       "      <th>less_than_-1month</th>\n",
       "      <td>33</td>\n",
       "    </tr>\n",
       "    <tr>\n",
       "      <th>more_than_-1month</th>\n",
       "      <td>240</td>\n",
       "    </tr>\n",
       "    <tr>\n",
       "      <th>less_than_1month</th>\n",
       "      <td>29</td>\n",
       "    </tr>\n",
       "    <tr>\n",
       "      <th>more_than_1month</th>\n",
       "      <td>19</td>\n",
       "    </tr>\n",
       "    <tr>\n",
       "      <th>more_than_2months</th>\n",
       "      <td>18</td>\n",
       "    </tr>\n",
       "    <tr>\n",
       "      <th>more_than_3months</th>\n",
       "      <td>77</td>\n",
       "    </tr>\n",
       "    <tr>\n",
       "      <th>more_than_0.5yrs</th>\n",
       "      <td>207</td>\n",
       "    </tr>\n",
       "    <tr>\n",
       "      <th>more_than_1yr</th>\n",
       "      <td>363</td>\n",
       "    </tr>\n",
       "    <tr>\n",
       "      <th>more_than_3yrs</th>\n",
       "      <td>224</td>\n",
       "    </tr>\n",
       "    <tr>\n",
       "      <th>more_than_5yrs</th>\n",
       "      <td>95</td>\n",
       "    </tr>\n",
       "  </tbody>\n",
       "</table>\n",
       "</div>"
      ],
      "text/plain": [
       "                    INTERVAL_DIAG_ADMISSION\n",
       "less_than_-3months                        0\n",
       "less_than_-2months                       21\n",
       "less_than_-1month                        33\n",
       "more_than_-1month                       240\n",
       "less_than_1month                         29\n",
       "more_than_1month                         19\n",
       "more_than_2months                        18\n",
       "more_than_3months                        77\n",
       "more_than_0.5yrs                        207\n",
       "more_than_1yr                           363\n",
       "more_than_3yrs                          224\n",
       "more_than_5yrs                           95"
      ]
     },
     "execution_count": 65,
     "metadata": {},
     "output_type": "execute_result"
    }
   ],
   "source": [
    "conn = sqlite3.connect('Gliocova.db')\n",
    "cur = conn.cursor()\n",
    "HESAPC_oligo = pd.read_sql(\"SELECT * FROM HESAPC WHERE PSEUDO_PATIENTID IN (SELECT PSEUDO_PATIENTID FROM TUM_PAT WHERE MORPH_ICD10_O2 IN (9450, 9451) AND (INTERVAL_DIAG_TO_VS != '') AND (VITALSTATUS IN ('A', 'D')) AND (ETHNICITY IN ('A','B', 'C', 'D', 'F', 'G', 'H', 'J', 'L', 'M', 'N', 'P', 'R', 'S', 'X', 'Z')) AND (DIAGNOSISYEAR IN (2013,2014,2015,2016,2017,2018)) AND (SEX IN (1,2)) AND (BASISOFDIAGNOSIS IN (1,2,7,9)) AND (BIGTUMOURCOUNT IN (1,2,3,4)));\",conn)\n",
    "\n",
    "HESAPC_oligo.drop_duplicates(subset='PSEUDO_PATIENTID', inplace=True)\n",
    "print(len(HESAPC_oligo))\n",
    "bin = [-10000, -90, -60, -30, 0, 30, 60, 90, 180, 365, 1095, 1825, 10000]\n",
    "label = ['less_than_-3months', 'less_than_-2months', 'less_than_-1month', 'more_than_-1month', 'less_than_1month', 'more_than_1month', 'more_than_2months', 'more_than_3months', 'more_than_0.5yrs', 'more_than_1yr', 'more_than_3yrs', 'more_than_5yrs']\n",
    "DA_group = pd.cut(HESAPC_oligo['INTERVAL_DIAG_ADMISSION'].astype(int), bins = bin, labels = label)\n",
    "\n",
    "DA_group.value_counts(sort=False).to_frame()\n"
   ]
  },
  {
   "cell_type": "code",
   "execution_count": 4,
   "id": "5896b00d",
   "metadata": {},
   "outputs": [
    {
     "data": {
      "text/html": [
       "<div>\n",
       "<style scoped>\n",
       "    .dataframe tbody tr th:only-of-type {\n",
       "        vertical-align: middle;\n",
       "    }\n",
       "\n",
       "    .dataframe tbody tr th {\n",
       "        vertical-align: top;\n",
       "    }\n",
       "\n",
       "    .dataframe thead th {\n",
       "        text-align: right;\n",
       "    }\n",
       "</style>\n",
       "<table border=\"1\" class=\"dataframe\">\n",
       "  <thead>\n",
       "    <tr style=\"text-align: right;\">\n",
       "      <th></th>\n",
       "      <th>INTERVAL_DIAG_DECISION_ADMIT</th>\n",
       "    </tr>\n",
       "  </thead>\n",
       "  <tbody>\n",
       "    <tr>\n",
       "      <th>less_than_-3months</th>\n",
       "      <td>9</td>\n",
       "    </tr>\n",
       "    <tr>\n",
       "      <th>less_than_-2months</th>\n",
       "      <td>9</td>\n",
       "    </tr>\n",
       "    <tr>\n",
       "      <th>less_than_-1month</th>\n",
       "      <td>29</td>\n",
       "    </tr>\n",
       "    <tr>\n",
       "      <th>more_than_-1month</th>\n",
       "      <td>104</td>\n",
       "    </tr>\n",
       "    <tr>\n",
       "      <th>less_than_1month</th>\n",
       "      <td>7</td>\n",
       "    </tr>\n",
       "    <tr>\n",
       "      <th>more_than_1month</th>\n",
       "      <td>9</td>\n",
       "    </tr>\n",
       "    <tr>\n",
       "      <th>more_than_2months</th>\n",
       "      <td>11</td>\n",
       "    </tr>\n",
       "    <tr>\n",
       "      <th>more_than_3months</th>\n",
       "      <td>76</td>\n",
       "    </tr>\n",
       "    <tr>\n",
       "      <th>more_than_0.5yrs</th>\n",
       "      <td>95</td>\n",
       "    </tr>\n",
       "    <tr>\n",
       "      <th>more_than_1yr</th>\n",
       "      <td>158</td>\n",
       "    </tr>\n",
       "    <tr>\n",
       "      <th>more_than_3yrs</th>\n",
       "      <td>91</td>\n",
       "    </tr>\n",
       "    <tr>\n",
       "      <th>more_than_5yrs</th>\n",
       "      <td>32</td>\n",
       "    </tr>\n",
       "  </tbody>\n",
       "</table>\n",
       "</div>"
      ],
      "text/plain": [
       "                    INTERVAL_DIAG_DECISION_ADMIT\n",
       "less_than_-3months                             9\n",
       "less_than_-2months                             9\n",
       "less_than_-1month                             29\n",
       "more_than_-1month                            104\n",
       "less_than_1month                               7\n",
       "more_than_1month                               9\n",
       "more_than_2months                             11\n",
       "more_than_3months                             76\n",
       "more_than_0.5yrs                              95\n",
       "more_than_1yr                                158\n",
       "more_than_3yrs                                91\n",
       "more_than_5yrs                                32"
      ]
     },
     "execution_count": 4,
     "metadata": {},
     "output_type": "execute_result"
    }
   ],
   "source": [
    "HESAPC_oligo['INTERVAL_DIAG_DECISION_ADMIT'].replace(r'', np.nan, inplace = True)\n",
    "HESAPC_oligo.dropna(axis = 0, subset=['INTERVAL_DIAG_DECISION_ADMIT'], inplace = True)\n",
    "bin = [-10000, -90, -60, -30, 0, 30, 60, 90, 180, 365, 1095, 1825, 10000]\n",
    "label = ['less_than_-3months', 'less_than_-2months', 'less_than_-1month', 'more_than_-1month', 'less_than_1month', 'more_than_1month', 'more_than_2months', 'more_than_3months', 'more_than_0.5yrs', 'more_than_1yr', 'more_than_3yrs', 'more_than_5yrs']\n",
    "DDA_group = pd.cut(HESAPC_oligo['INTERVAL_DIAG_DECISION_ADMIT'].astype(float).astype(int), bins = bin, labels = label)\n",
    "\n",
    "DDA_group.value_counts(sort=False).to_frame()\n"
   ]
  },
  {
   "cell_type": "code",
   "execution_count": 6,
   "id": "6e5e75b8",
   "metadata": {},
   "outputs": [
    {
     "data": {
      "text/plain": [
       "ADMIMETH\n",
       "11    283\n",
       "12     87\n",
       "13    260\n",
       "Name: PSEUDO_PATIENTID, dtype: int64"
      ]
     },
     "execution_count": 6,
     "metadata": {},
     "output_type": "execute_result"
    }
   ],
   "source": [
    "HESAPC_oligo.groupby(['ADMIMETH'])['PSEUDO_PATIENTID'].count()"
   ]
  },
  {
   "cell_type": "code",
   "execution_count": 7,
   "id": "6042d20b",
   "metadata": {},
   "outputs": [
    {
     "data": {
      "text/plain": [
       "ADMISORC\n",
       "19    619\n",
       "29      2\n",
       "51      8\n",
       "65      1\n",
       "Name: PSEUDO_PATIENTID, dtype: int64"
      ]
     },
     "execution_count": 7,
     "metadata": {},
     "output_type": "execute_result"
    }
   ],
   "source": [
    "HESAPC_oligo.groupby(['ADMISORC'])['PSEUDO_PATIENTID'].count()"
   ]
  },
  {
   "cell_type": "code",
   "execution_count": 9,
   "id": "ec52c569",
   "metadata": {},
   "outputs": [
    {
     "data": {
      "text/html": [
       "<div>\n",
       "<style scoped>\n",
       "    .dataframe tbody tr th:only-of-type {\n",
       "        vertical-align: middle;\n",
       "    }\n",
       "\n",
       "    .dataframe tbody tr th {\n",
       "        vertical-align: top;\n",
       "    }\n",
       "\n",
       "    .dataframe thead th {\n",
       "        text-align: right;\n",
       "    }\n",
       "</style>\n",
       "<table border=\"1\" class=\"dataframe\">\n",
       "  <thead>\n",
       "    <tr style=\"text-align: right;\">\n",
       "      <th></th>\n",
       "      <th>ELECDUR</th>\n",
       "    </tr>\n",
       "  </thead>\n",
       "  <tbody>\n",
       "    <tr>\n",
       "      <th>less_than_1month</th>\n",
       "      <td>316</td>\n",
       "    </tr>\n",
       "    <tr>\n",
       "      <th>more_than_1month</th>\n",
       "      <td>131</td>\n",
       "    </tr>\n",
       "    <tr>\n",
       "      <th>more_than_2months</th>\n",
       "      <td>48</td>\n",
       "    </tr>\n",
       "    <tr>\n",
       "      <th>more_than_3months</th>\n",
       "      <td>43</td>\n",
       "    </tr>\n",
       "    <tr>\n",
       "      <th>more_than_0.5yrs</th>\n",
       "      <td>9</td>\n",
       "    </tr>\n",
       "    <tr>\n",
       "      <th>more_than_1yr</th>\n",
       "      <td>2</td>\n",
       "    </tr>\n",
       "    <tr>\n",
       "      <th>more_than_3yrs</th>\n",
       "      <td>0</td>\n",
       "    </tr>\n",
       "    <tr>\n",
       "      <th>more_than_5yrs</th>\n",
       "      <td>0</td>\n",
       "    </tr>\n",
       "  </tbody>\n",
       "</table>\n",
       "</div>"
      ],
      "text/plain": [
       "                   ELECDUR\n",
       "less_than_1month       316\n",
       "more_than_1month       131\n",
       "more_than_2months       48\n",
       "more_than_3months       43\n",
       "more_than_0.5yrs         9\n",
       "more_than_1yr            2\n",
       "more_than_3yrs           0\n",
       "more_than_5yrs           0"
      ]
     },
     "execution_count": 9,
     "metadata": {},
     "output_type": "execute_result"
    }
   ],
   "source": [
    "HESAPC_oligo['ELECDUR'].replace(r'', np.nan, inplace = True)\n",
    "HESAPC_oligo.dropna(axis = 0, subset=['ELECDUR'], inplace = True)\n",
    "bin = [0, 30, 60, 90, 180, 365, 1095, 1825, 10000]\n",
    "label = ['less_than_1month', 'more_than_1month', 'more_than_2months', 'more_than_3months', 'more_than_0.5yrs', 'more_than_1yr', 'more_than_3yrs', 'more_than_5yrs']\n",
    "Waiting_time_group = pd.cut(HESAPC_oligo['ELECDUR'].astype(float).astype(int), bins = bin, labels = label)\n",
    "\n",
    "Waiting_time_group.value_counts(sort=False).to_frame()"
   ]
  },
  {
   "cell_type": "code",
   "execution_count": 10,
   "id": "793f59c4",
   "metadata": {},
   "outputs": [
    {
     "data": {
      "text/plain": [
       "CLASSPAT\n",
       "1    240\n",
       "2    251\n",
       "3     58\n",
       "Name: PSEUDO_PATIENTID, dtype: int64"
      ]
     },
     "execution_count": 10,
     "metadata": {},
     "output_type": "execute_result"
    }
   ],
   "source": [
    "HESAPC_oligo.groupby(['CLASSPAT'])['PSEUDO_PATIENTID'].count()"
   ]
  },
  {
   "cell_type": "code",
   "execution_count": 15,
   "id": "3c4ce988",
   "metadata": {},
   "outputs": [
    {
     "data": {
      "text/html": [
       "<div>\n",
       "<style scoped>\n",
       "    .dataframe tbody tr th:only-of-type {\n",
       "        vertical-align: middle;\n",
       "    }\n",
       "\n",
       "    .dataframe tbody tr th {\n",
       "        vertical-align: top;\n",
       "    }\n",
       "\n",
       "    .dataframe thead th {\n",
       "        text-align: right;\n",
       "    }\n",
       "</style>\n",
       "<table border=\"1\" class=\"dataframe\">\n",
       "  <thead>\n",
       "    <tr style=\"text-align: right;\">\n",
       "      <th></th>\n",
       "      <th>INTERVAL_ADMISION_DISCHARGE</th>\n",
       "    </tr>\n",
       "  </thead>\n",
       "  <tbody>\n",
       "    <tr>\n",
       "      <th>(0, 30]</th>\n",
       "      <td>213</td>\n",
       "    </tr>\n",
       "    <tr>\n",
       "      <th>(30, 60]</th>\n",
       "      <td>4</td>\n",
       "    </tr>\n",
       "    <tr>\n",
       "      <th>(60, 90]</th>\n",
       "      <td>2</td>\n",
       "    </tr>\n",
       "    <tr>\n",
       "      <th>(90, 180]</th>\n",
       "      <td>0</td>\n",
       "    </tr>\n",
       "    <tr>\n",
       "      <th>(180, 365]</th>\n",
       "      <td>0</td>\n",
       "    </tr>\n",
       "    <tr>\n",
       "      <th>(365, 1095]</th>\n",
       "      <td>0</td>\n",
       "    </tr>\n",
       "    <tr>\n",
       "      <th>(1095, 1825]</th>\n",
       "      <td>0</td>\n",
       "    </tr>\n",
       "    <tr>\n",
       "      <th>(1825, 10000]</th>\n",
       "      <td>0</td>\n",
       "    </tr>\n",
       "  </tbody>\n",
       "</table>\n",
       "</div>"
      ],
      "text/plain": [
       "               INTERVAL_ADMISION_DISCHARGE\n",
       "(0, 30]                                213\n",
       "(30, 60]                                 4\n",
       "(60, 90]                                 2\n",
       "(90, 180]                                0\n",
       "(180, 365]                               0\n",
       "(365, 1095]                              0\n",
       "(1095, 1825]                             0\n",
       "(1825, 10000]                            0"
      ]
     },
     "execution_count": 15,
     "metadata": {},
     "output_type": "execute_result"
    }
   ],
   "source": [
    "HESAPC_oligo['INTERVAL_ADMISION_DISCHARGE'].replace(r'', np.nan, inplace = True)\n",
    "HESAPC_oligo.dropna(axis = 0, subset=['INTERVAL_ADMISION_DISCHARGE'], inplace = True)\n",
    "bin = [0, 30, 60, 90, 180, 365, 1095, 1825, 10000]\n",
    "# label = ['less_than_1month', 'more_than_1month', 'more_than_2months', 'more_than_3months', 'more_than_0.5yrs', 'more_than_1yr', 'more_than_3yrs', 'more_than_5yrs']\n",
    "Waiting_time_group = pd.cut(HESAPC_oligo['INTERVAL_ADMISION_DISCHARGE'].astype(int), bins = bin)\n",
    "\n",
    "Waiting_time_group.value_counts(sort=False).to_frame()"
   ]
  },
  {
   "cell_type": "code",
   "execution_count": 16,
   "id": "3ffd5839",
   "metadata": {},
   "outputs": [
    {
     "data": {
      "text/plain": [
       "DISMETH\n",
       "1    534\n",
       "2      3\n",
       "4      1\n",
       "8      2\n",
       "Name: PSEUDO_PATIENTID, dtype: int64"
      ]
     },
     "execution_count": 16,
     "metadata": {},
     "output_type": "execute_result"
    }
   ],
   "source": [
    "HESAPC_oligo.groupby(['DISMETH'])['PSEUDO_PATIENTID'].count()"
   ]
  },
  {
   "cell_type": "code",
   "execution_count": 18,
   "id": "b8375a6c",
   "metadata": {},
   "outputs": [
    {
     "data": {
      "text/plain": [
       "DISDEST\n",
       "19    528\n",
       "29      1\n",
       "51      6\n",
       "79      1\n",
       "85      2\n",
       "88      1\n",
       "98      1\n",
       "Name: PSEUDO_PATIENTID, dtype: int64"
      ]
     },
     "execution_count": 18,
     "metadata": {},
     "output_type": "execute_result"
    }
   ],
   "source": [
    "HESAPC_oligo.groupby(['DISDEST'])['PSEUDO_PATIENTID'].count()"
   ]
  },
  {
   "cell_type": "code",
   "execution_count": 19,
   "id": "8c21092e",
   "metadata": {},
   "outputs": [
    {
     "data": {
      "text/html": [
       "<div>\n",
       "<style scoped>\n",
       "    .dataframe tbody tr th:only-of-type {\n",
       "        vertical-align: middle;\n",
       "    }\n",
       "\n",
       "    .dataframe tbody tr th {\n",
       "        vertical-align: top;\n",
       "    }\n",
       "\n",
       "    .dataframe thead th {\n",
       "        text-align: right;\n",
       "    }\n",
       "</style>\n",
       "<table border=\"1\" class=\"dataframe\">\n",
       "  <thead>\n",
       "    <tr style=\"text-align: right;\">\n",
       "      <th></th>\n",
       "      <th>BEDYEAR</th>\n",
       "    </tr>\n",
       "  </thead>\n",
       "  <tbody>\n",
       "    <tr>\n",
       "      <th>(0, 30]</th>\n",
       "      <td>215</td>\n",
       "    </tr>\n",
       "    <tr>\n",
       "      <th>(30, 60]</th>\n",
       "      <td>3</td>\n",
       "    </tr>\n",
       "    <tr>\n",
       "      <th>(60, 90]</th>\n",
       "      <td>1</td>\n",
       "    </tr>\n",
       "    <tr>\n",
       "      <th>(90, 180]</th>\n",
       "      <td>0</td>\n",
       "    </tr>\n",
       "    <tr>\n",
       "      <th>(180, 365]</th>\n",
       "      <td>0</td>\n",
       "    </tr>\n",
       "    <tr>\n",
       "      <th>(365, 1095]</th>\n",
       "      <td>0</td>\n",
       "    </tr>\n",
       "    <tr>\n",
       "      <th>(1095, 1825]</th>\n",
       "      <td>0</td>\n",
       "    </tr>\n",
       "    <tr>\n",
       "      <th>(1825, 10000]</th>\n",
       "      <td>0</td>\n",
       "    </tr>\n",
       "  </tbody>\n",
       "</table>\n",
       "</div>"
      ],
      "text/plain": [
       "               BEDYEAR\n",
       "(0, 30]            215\n",
       "(30, 60]             3\n",
       "(60, 90]             1\n",
       "(90, 180]            0\n",
       "(180, 365]           0\n",
       "(365, 1095]          0\n",
       "(1095, 1825]         0\n",
       "(1825, 10000]        0"
      ]
     },
     "execution_count": 19,
     "metadata": {},
     "output_type": "execute_result"
    }
   ],
   "source": [
    "HESAPC_oligo['BEDYEAR'].replace(r'', np.nan, inplace = True)\n",
    "HESAPC_oligo.dropna(axis = 0, subset=['BEDYEAR'], inplace = True)\n",
    "bin = [0, 30, 60, 90, 180, 365, 1095, 1825, 10000]\n",
    "# label = ['less_than_1month', 'more_than_1month', 'more_than_2months', 'more_than_3months', 'more_than_0.5yrs', 'more_than_1yr', 'more_than_3yrs', 'more_than_5yrs']\n",
    "Waiting_time_group = pd.cut(HESAPC_oligo['BEDYEAR'].astype(int), bins = bin)\n",
    "\n",
    "Waiting_time_group.value_counts(sort=False).to_frame()"
   ]
  },
  {
   "cell_type": "code",
   "execution_count": 42,
   "id": "dbaa4fa7",
   "metadata": {},
   "outputs": [
    {
     "data": {
      "text/plain": [
       "STHATRET\n",
       "Q30    2\n",
       "Q31    1\n",
       "Q32    1\n",
       "Q33    1\n",
       "Q34    2\n",
       "Q35    1\n",
       "Q36    1\n",
       "Name: PSEUDO_PATIENTID, dtype: int64"
      ]
     },
     "execution_count": 42,
     "metadata": {},
     "output_type": "execute_result"
    }
   ],
   "source": [
    "HESAPC_oligo.groupby('STHATRET')['PSEUDO_PATIENTID'].count()"
   ]
  },
  {
   "cell_type": "code",
   "execution_count": 52,
   "id": "726b48cc",
   "metadata": {},
   "outputs": [
    {
     "name": "stdout",
     "output_type": "stream",
     "text": [
      "1325\n"
     ]
    },
    {
     "data": {
      "text/html": [
       "<div>\n",
       "<style scoped>\n",
       "    .dataframe tbody tr th:only-of-type {\n",
       "        vertical-align: middle;\n",
       "    }\n",
       "\n",
       "    .dataframe tbody tr th {\n",
       "        vertical-align: top;\n",
       "    }\n",
       "\n",
       "    .dataframe thead th {\n",
       "        text-align: right;\n",
       "    }\n",
       "</style>\n",
       "<table border=\"1\" class=\"dataframe\">\n",
       "  <thead>\n",
       "    <tr style=\"text-align: right;\">\n",
       "      <th></th>\n",
       "      <th>INTERVAL_DIAG_APPT</th>\n",
       "    </tr>\n",
       "  </thead>\n",
       "  <tbody>\n",
       "    <tr>\n",
       "      <th>less_than_-3months</th>\n",
       "      <td>2</td>\n",
       "    </tr>\n",
       "    <tr>\n",
       "      <th>less_than_-2months</th>\n",
       "      <td>23</td>\n",
       "    </tr>\n",
       "    <tr>\n",
       "      <th>less_than_-1month</th>\n",
       "      <td>39</td>\n",
       "    </tr>\n",
       "    <tr>\n",
       "      <th>more_than_-1month</th>\n",
       "      <td>86</td>\n",
       "    </tr>\n",
       "    <tr>\n",
       "      <th>less_than_1month</th>\n",
       "      <td>87</td>\n",
       "    </tr>\n",
       "    <tr>\n",
       "      <th>more_than_1month</th>\n",
       "      <td>95</td>\n",
       "    </tr>\n",
       "    <tr>\n",
       "      <th>more_than_2months</th>\n",
       "      <td>97</td>\n",
       "    </tr>\n",
       "    <tr>\n",
       "      <th>more_than_3months</th>\n",
       "      <td>164</td>\n",
       "    </tr>\n",
       "    <tr>\n",
       "      <th>more_than_0.5yrs</th>\n",
       "      <td>198</td>\n",
       "    </tr>\n",
       "    <tr>\n",
       "      <th>more_than_1yr</th>\n",
       "      <td>350</td>\n",
       "    </tr>\n",
       "    <tr>\n",
       "      <th>more_than_3yrs</th>\n",
       "      <td>154</td>\n",
       "    </tr>\n",
       "    <tr>\n",
       "      <th>more_than_5yrs</th>\n",
       "      <td>30</td>\n",
       "    </tr>\n",
       "  </tbody>\n",
       "</table>\n",
       "</div>"
      ],
      "text/plain": [
       "                    INTERVAL_DIAG_APPT\n",
       "less_than_-3months                   2\n",
       "less_than_-2months                  23\n",
       "less_than_-1month                   39\n",
       "more_than_-1month                   86\n",
       "less_than_1month                    87\n",
       "more_than_1month                    95\n",
       "more_than_2months                   97\n",
       "more_than_3months                  164\n",
       "more_than_0.5yrs                   198\n",
       "more_than_1yr                      350\n",
       "more_than_3yrs                     154\n",
       "more_than_5yrs                      30"
      ]
     },
     "execution_count": 52,
     "metadata": {},
     "output_type": "execute_result"
    }
   ],
   "source": [
    "###################################### FOR IN PATIENTS ###########################################\n",
    "HESOP_oligo = pd.read_sql(\"SELECT * FROM HESOP WHERE PSEUDO_PATIENTID IN (SELECT PSEUDO_PATIENTID FROM TUM_PAT WHERE MORPH_ICD10_O2 IN (9450, 9451) AND (INTERVAL_DIAG_TO_VS != '') AND (VITALSTATUS IN ('A', 'D')) AND (ETHNICITY IN ('A','B', 'C', 'D', 'F', 'G', 'H', 'J', 'L', 'M', 'N', 'P', 'R', 'S', 'X', 'Z')) AND (DIAGNOSISYEAR IN (2013,2014,2015,2016,2017,2018)) AND (SEX IN (1,2)) AND (BASISOFDIAGNOSIS IN (1,2,7,9)) AND (BIGTUMOURCOUNT IN (1,2,3,4)));\",conn)\n",
    "\n",
    "HESOP_oligo.drop_duplicates(subset='PSEUDO_PATIENTID', inplace=True)\n",
    "print(len(HESOP_oligo))\n",
    "HESOP_oligo['INTERVAL_DIAG_APPT'].replace(r'', np.nan, inplace = True)\n",
    "HESOP_oligo.dropna(axis = 0, subset=['INTERVAL_DIAG_APPT'], inplace = True)\n",
    "bin = [-10000, -90, -60, -30, 0, 30, 60, 90, 180, 365, 1095, 1825, 10000]\n",
    "label = ['less_than_-3months', 'less_than_-2months', 'less_than_-1month', 'more_than_-1month', 'less_than_1month', 'more_than_1month', 'more_than_2months', 'more_than_3months', 'more_than_0.5yrs', 'more_than_1yr', 'more_than_3yrs', 'more_than_5yrs']\n",
    "DDA_group = pd.cut(HESOP_oligo['INTERVAL_DIAG_APPT'].astype(float).astype(int), bins = bin, labels = label)\n",
    "\n",
    "DDA_group.value_counts(sort=False).to_frame()\n"
   ]
  },
  {
   "cell_type": "code",
   "execution_count": 51,
   "id": "b3dc6b53",
   "metadata": {},
   "outputs": [
    {
     "data": {
      "text/plain": [
       "ATENTYPE\n",
       "1     211\n",
       "2     842\n",
       "3       1\n",
       "4      15\n",
       "5      47\n",
       "7      20\n",
       "8      47\n",
       "10     12\n",
       "11     69\n",
       "12      1\n",
       "13      6\n",
       "21      8\n",
       "22     43\n",
       "25      2\n",
       "28      1\n",
       "Name: PSEUDO_PATIENTID, dtype: int64"
      ]
     },
     "execution_count": 51,
     "metadata": {},
     "output_type": "execute_result"
    }
   ],
   "source": [
    "HESOP_oligo.groupby('ATENTYPE')['PSEUDO_PATIENTID'].count()"
   ]
  },
  {
   "cell_type": "code",
   "execution_count": 54,
   "id": "1c91126d",
   "metadata": {},
   "outputs": [
    {
     "data": {
      "text/plain": [
       "ATTENDED\n",
       "2      68\n",
       "3      64\n",
       "4      82\n",
       "5    1094\n",
       "6      11\n",
       "9       6\n",
       "Name: PSEUDO_PATIENTID, dtype: int64"
      ]
     },
     "execution_count": 54,
     "metadata": {},
     "output_type": "execute_result"
    }
   ],
   "source": [
    "HESOP_oligo.groupby('ATTENDED')['PSEUDO_PATIENTID'].count()"
   ]
  },
  {
   "cell_type": "code",
   "execution_count": 55,
   "id": "7353e298",
   "metadata": {},
   "outputs": [
    {
     "data": {
      "text/plain": [
       "FIRSTATT\n",
       "1     258\n",
       "2    1011\n",
       "3       8\n",
       "4      46\n",
       "X       2\n",
       "Name: PSEUDO_PATIENTID, dtype: int64"
      ]
     },
     "execution_count": 55,
     "metadata": {},
     "output_type": "execute_result"
    }
   ],
   "source": [
    "HESOP_oligo.groupby('FIRSTATT')['PSEUDO_PATIENTID'].count()"
   ]
  },
  {
   "cell_type": "code",
   "execution_count": 56,
   "id": "0142e0c2",
   "metadata": {},
   "outputs": [
    {
     "data": {
      "text/plain": [
       "PRIORITY\n",
       "1    1017\n",
       "2     229\n",
       "3      27\n",
       "9      52\n",
       "Name: PSEUDO_PATIENTID, dtype: int64"
      ]
     },
     "execution_count": 56,
     "metadata": {},
     "output_type": "execute_result"
    }
   ],
   "source": [
    "HESOP_oligo.groupby('PRIORITY')['PSEUDO_PATIENTID'].count()"
   ]
  },
  {
   "cell_type": "code",
   "execution_count": 58,
   "id": "5924a666",
   "metadata": {},
   "outputs": [
    {
     "data": {
      "text/plain": [
       "REFSOURC\n",
       "1      14\n",
       "3     173\n",
       "4      13\n",
       "5     802\n",
       "6      15\n",
       "10      5\n",
       "11    155\n",
       "12      1\n",
       "13     10\n",
       "14     11\n",
       "15      1\n",
       "17      1\n",
       "92      2\n",
       "97    110\n",
       "99     12\n",
       "Name: PSEUDO_PATIENTID, dtype: int64"
      ]
     },
     "execution_count": 58,
     "metadata": {},
     "output_type": "execute_result"
    }
   ],
   "source": [
    "HESOP_oligo.groupby('REFSOURC')['PSEUDO_PATIENTID'].count()"
   ]
  },
  {
   "cell_type": "code",
   "execution_count": 60,
   "id": "68788ace",
   "metadata": {},
   "outputs": [
    {
     "data": {
      "text/html": [
       "<div>\n",
       "<style scoped>\n",
       "    .dataframe tbody tr th:only-of-type {\n",
       "        vertical-align: middle;\n",
       "    }\n",
       "\n",
       "    .dataframe tbody tr th {\n",
       "        vertical-align: top;\n",
       "    }\n",
       "\n",
       "    .dataframe thead th {\n",
       "        text-align: right;\n",
       "    }\n",
       "</style>\n",
       "<table border=\"1\" class=\"dataframe\">\n",
       "  <thead>\n",
       "    <tr style=\"text-align: right;\">\n",
       "      <th></th>\n",
       "      <th>WAITING</th>\n",
       "    </tr>\n",
       "  </thead>\n",
       "  <tbody>\n",
       "    <tr>\n",
       "      <th>(0, 30]</th>\n",
       "      <td>292</td>\n",
       "    </tr>\n",
       "    <tr>\n",
       "      <th>(30, 60]</th>\n",
       "      <td>210</td>\n",
       "    </tr>\n",
       "    <tr>\n",
       "      <th>(60, 90]</th>\n",
       "      <td>105</td>\n",
       "    </tr>\n",
       "    <tr>\n",
       "      <th>(90, 180]</th>\n",
       "      <td>141</td>\n",
       "    </tr>\n",
       "    <tr>\n",
       "      <th>(180, 365]</th>\n",
       "      <td>167</td>\n",
       "    </tr>\n",
       "    <tr>\n",
       "      <th>(365, 1095]</th>\n",
       "      <td>152</td>\n",
       "    </tr>\n",
       "    <tr>\n",
       "      <th>(1095, 1825]</th>\n",
       "      <td>28</td>\n",
       "    </tr>\n",
       "    <tr>\n",
       "      <th>(1825, 10000]</th>\n",
       "      <td>4</td>\n",
       "    </tr>\n",
       "  </tbody>\n",
       "</table>\n",
       "</div>"
      ],
      "text/plain": [
       "               WAITING\n",
       "(0, 30]            292\n",
       "(30, 60]           210\n",
       "(60, 90]           105\n",
       "(90, 180]          141\n",
       "(180, 365]         167\n",
       "(365, 1095]        152\n",
       "(1095, 1825]        28\n",
       "(1825, 10000]        4"
      ]
     },
     "execution_count": 60,
     "metadata": {},
     "output_type": "execute_result"
    }
   ],
   "source": [
    "HESOP_oligo['WAITING'].replace(r'', np.nan, inplace = True)\n",
    "HESOP_oligo.dropna(axis = 0, subset=['WAITING'], inplace = True)\n",
    "bin = [0, 30, 60, 90, 180, 365, 1095, 1825, 10000]\n",
    "# label = ['less_than_-3months', 'less_than_-2months', 'less_than_-1month', 'more_than_-1month', 'less_than_1month', 'more_than_1month', 'more_than_2months', 'more_than_3months', 'more_than_0.5yrs', 'more_than_1yr', 'more_than_3yrs', 'more_than_5yrs']\n",
    "DDA_group = pd.cut(HESOP_oligo['WAITING'].astype(float).astype(int), bins = bin)\n",
    "\n",
    "DDA_group.value_counts(sort=False).to_frame()"
   ]
  },
  {
   "cell_type": "code",
   "execution_count": 61,
   "id": "71624c53",
   "metadata": {},
   "outputs": [
    {
     "data": {
      "text/plain": [
       "OPERSTAT\n",
       "1    352\n",
       "8    640\n",
       "9     98\n",
       "      68\n",
       "Name: PSEUDO_PATIENTID, dtype: int64"
      ]
     },
     "execution_count": 61,
     "metadata": {},
     "output_type": "execute_result"
    }
   ],
   "source": [
    "HESOP_oligo.groupby('OPERSTAT')['PSEUDO_PATIENTID'].count()"
   ]
  },
  {
   "cell_type": "code",
   "execution_count": 63,
   "id": "d25ef1d5",
   "metadata": {},
   "outputs": [
    {
     "data": {
      "text/plain": [
       "MAINSPEF\n",
       "100      9\n",
       "101      8\n",
       "110      4\n",
       "120      9\n",
       "130     19\n",
       "140      3\n",
       "145      1\n",
       "150    172\n",
       "160      2\n",
       "180      1\n",
       "190      5\n",
       "192      1\n",
       "300     18\n",
       "301      8\n",
       "302      3\n",
       "303      7\n",
       "313      2\n",
       "314      5\n",
       "315     10\n",
       "320      5\n",
       "330      8\n",
       "340      9\n",
       "350      3\n",
       "361      1\n",
       "370     62\n",
       "371      1\n",
       "400     95\n",
       "401     11\n",
       "410      4\n",
       "430      3\n",
       "501      4\n",
       "502     12\n",
       "560      4\n",
       "700      2\n",
       "710      2\n",
       "713      9\n",
       "800    409\n",
       "810     51\n",
       "821      1\n",
       "823      1\n",
       "831      1\n",
       "900      1\n",
       "950     50\n",
       "960    121\n",
       "&        1\n",
       "Name: PSEUDO_PATIENTID, dtype: int64"
      ]
     },
     "execution_count": 63,
     "metadata": {},
     "output_type": "execute_result"
    }
   ],
   "source": [
    "HESOP_oligo.groupby('MAINSPEF')['PSEUDO_PATIENTID'].count()"
   ]
  },
  {
   "cell_type": "code",
   "execution_count": 64,
   "id": "ac886203",
   "metadata": {},
   "outputs": [
    {
     "data": {
      "text/plain": [
       "TRETSPEF\n",
       "100      5\n",
       "101      9\n",
       "103      1\n",
       "104      2\n",
       "107      2\n",
       "      ... \n",
       "722      1\n",
       "800    479\n",
       "812     75\n",
       "840      3\n",
       "&        2\n",
       "Name: PSEUDO_PATIENTID, Length: 62, dtype: int64"
      ]
     },
     "execution_count": 64,
     "metadata": {},
     "output_type": "execute_result"
    }
   ],
   "source": [
    "HESOP_oligo.groupby('TRETSPEF')['PSEUDO_PATIENTID'].count()"
   ]
  },
  {
   "cell_type": "code",
   "execution_count": null,
   "id": "0fe9db45",
   "metadata": {},
   "outputs": [],
   "source": []
  }
 ],
 "metadata": {
  "kernelspec": {
   "display_name": "Python 3 (ipykernel)",
   "language": "python",
   "name": "python3"
  },
  "language_info": {
   "codemirror_mode": {
    "name": "ipython",
    "version": 3
   },
   "file_extension": ".py",
   "mimetype": "text/x-python",
   "name": "python",
   "nbconvert_exporter": "python",
   "pygments_lexer": "ipython3",
   "version": "3.10.9"
  }
 },
 "nbformat": 4,
 "nbformat_minor": 5
}
