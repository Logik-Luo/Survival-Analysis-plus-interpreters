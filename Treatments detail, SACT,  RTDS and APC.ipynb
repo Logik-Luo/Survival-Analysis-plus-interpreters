{
 "cells": [
  {
   "cell_type": "code",
   "execution_count": 2,
   "id": "f8954598",
   "metadata": {},
   "outputs": [
    {
     "name": "stdout",
     "output_type": "stream",
     "text": [
      "/data/master/DS175/share/0_Database\n",
      "1335\n"
     ]
    }
   ],
   "source": [
    "import sqlite3\n",
    "import pandas as pd \n",
    "import matplotlib.pyplot as plt\n",
    "import numpy as np \n",
    "from lifelines import KaplanMeierFitter\n",
    "import os \n",
    "os.chdir('/data/master/DS175/share/0_Database')\n",
    "print(os.getcwd())\n",
    "        \n",
    "conn = sqlite3.connect('Gliocova.db')\n",
    "cur = conn.cursor()\n",
    "query = \"SELECT * from TUM_PAT WHERE MORPH_ICD10_O2 IN (9450, 9451) AND (INTERVAL_DIAG_TO_VS != '') AND (VITALSTATUS IN ('A', 'D')) AND (ETHNICITY IN ('A','B', 'C', 'D', 'F', 'G', 'H', 'J', 'L', 'M', 'N', 'P', 'R', 'S', 'X', 'Z')) AND (DIAGNOSISYEAR IN (2013,2014,2015,2016,2017,2018)) AND (SEX IN (1,2)) AND (BASISOFDIAGNOSIS IN (1,2,7,9)) AND (BIGTUMOURCOUNT IN (1,2,3,4))\"\n",
    "patients = pd.read_sql(query,conn)\n",
    "patients = patients.drop_duplicates()\n",
    "\n",
    "patients.replace(r'^\\s*$', np.nan, regex = True, inplace = True)\n",
    "print(len(patients))\n"
   ]
  },
  {
   "cell_type": "code",
   "execution_count": 3,
   "id": "5711b482",
   "metadata": {},
   "outputs": [],
   "source": [
    "def survival_per_treatment(df):\n",
    "        patients=df['PSEUDO_PATIENTID'].tolist()\n",
    "        ids=tuple(patients)\n",
    "        tum=pd.read_sql(\"SELECT * FROM TUM_PAT WHERE PSEUDO_PATIENTID IN {}\".format(ids), conn);\n",
    "        print('Number of these patients in the registrar accroding to pt id:', tum['PSEUDO_PATIENTID'].nunique())\n",
    "          \n",
    "\n",
    "        print('Number of brain tumour pts in the cancer registry:', tum['PSEUDO_PATIENTID'].nunique())\n",
    "        tum['INTERVAL_DIAG_TO_VS'].replace('', np.nan, inplace=True)\n",
    "        tum.dropna(subset=['INTERVAL_DIAG_TO_VS'], inplace=True)\n",
    "        tum['INTERVAL_DIAG_TO_VS']=tum['INTERVAL_DIAG_TO_VS'].astype(int)\n",
    "        death=('D')\n",
    "\n",
    "        tum=tum.query('VITALSTATUS in \"D\"')\n",
    "\n",
    "        print('Number of deceased patients in the cancer registry:', tum['PSEUDO_PATIENTID'].nunique())\n",
    "        print('DEATH DISTRIBUTION:', tum['INTERVAL_DIAG_TO_VS'].describe())"
   ]
  },
  {
   "cell_type": "code",
   "execution_count": 4,
   "id": "c8dc75db",
   "metadata": {
    "scrolled": true
   },
   "outputs": [
    {
     "name": "stdout",
     "output_type": "stream",
     "text": [
      "Total number of patients with oligodendro in SACT table: 784\n",
      "Number of these patients in the registrar accroding to pt id: 784\n",
      "Number of brain tumour pts in the cancer registry: 784\n",
      "Number of deceased patients in the cancer registry: 150\n",
      "DEATH DISTRIBUTION: count     150.000000\n",
      "mean      871.326667\n",
      "std       553.011869\n",
      "min       100.000000\n",
      "25%       447.500000\n",
      "50%       743.500000\n",
      "75%      1191.000000\n",
      "max      2350.000000\n",
      "Name: INTERVAL_DIAG_TO_VS, dtype: float64\n"
     ]
    }
   ],
   "source": [
    "# chemo\n",
    "\n",
    "chemo_oligo = pd.read_sql(\"SELECT * FROM SACT WHERE PSEUDO_PATIENTID IN (SELECT PSEUDO_PATIENTID FROM TUM_PAT WHERE MORPH_ICD10_O2 IN (9450, 9451) AND (INTERVAL_DIAG_TO_VS != '') AND (VITALSTATUS IN ('A', 'D')) AND (ETHNICITY IN ('A','B', 'C', 'D', 'F', 'G', 'H', 'J', 'L', 'M', 'N', 'P', 'R', 'S', 'X', 'Z')) AND (DIAGNOSISYEAR IN (2013,2014,2015,2016,2017,2018)) AND (SEX IN (1,2)) AND (BASISOFDIAGNOSIS IN (1,2,7,9)) AND (BIGTUMOURCOUNT IN (1,2,3,4)));\",conn)\n",
    "print('Total number of patients with oligodendro in SACT table:', chemo_oligo['PSEUDO_PATIENTID'].nunique())\n",
    "survival_per_treatment(chemo_oligo)\n",
    "\n",
    "# so survival rate for patients under chemotherapy == (784-150)/784 == 80.87%\n",
    "# number of patients who choose chemo == 58.73%\n"
   ]
  },
  {
   "cell_type": "code",
   "execution_count": 5,
   "id": "e61a9222",
   "metadata": {},
   "outputs": [
    {
     "name": "stdout",
     "output_type": "stream",
     "text": [
      "Total number of patients with oligodendro in RTDS table: 864\n",
      "Number of these patients in the registrar accroding to pt id: 809\n",
      "Number of brain tumour pts in the cancer registry: 809\n",
      "Number of deceased patients in the cancer registry: 195\n",
      "DEATH DISTRIBUTION: count     195.000000\n",
      "mean      835.353846\n",
      "std       569.225376\n",
      "min        68.000000\n",
      "25%       388.500000\n",
      "50%       695.000000\n",
      "75%      1197.500000\n",
      "max      2416.000000\n",
      "Name: INTERVAL_DIAG_TO_VS, dtype: float64\n",
      "Number of patients treated to the primary site (or PR): 809\n"
     ]
    }
   ],
   "source": [
    "# radio\n",
    "\n",
    "radio_oligo = pd.read_sql(\"SELECT * FROM RTDS WHERE PSEUDO_PATIENTID IN (SELECT PSEUDO_PATIENTID FROM TUM_PAT WHERE MORPH_ICD10_O2 IN (9450, 9451) AND (INTERVAL_DIAG_TO_VS != '') AND (VITALSTATUS IN ('A', 'D')) AND (ETHNICITY IN ('A','B', 'C', 'D', 'F', 'G', 'H', 'J', 'L', 'M', 'N', 'P', 'R', 'S', 'X', 'Z')) AND (DIAGNOSISYEAR IN (2013,2014,2015,2016,2017,2018)) AND (SEX IN (1,2)) AND (BASISOFDIAGNOSIS IN (1,2,7,9)) AND (BIGTUMOURCOUNT IN (1,2,3,4)));\",conn)\n",
    "print('Total number of patients with oligodendro in RTDS table:', radio_oligo['PSEUDO_PATIENTID'].nunique())\n",
    "\n",
    "\n",
    "radio_oligo['PRIMARYDIAGNOSISICD']=radio_oligo['PRIMARYDIAGNOSISICD'].astype(str)\n",
    "radio_oligo['PRIMARYDIAGNOSISICD']=radio_oligo['PRIMARYDIAGNOSISICD'].astype(str).str[:3]\n",
    "\n",
    "# selecting patients with oligo and treated to primary site: cerebral menninges, spinal menings, cerebrum, temporal lobe, etc\n",
    "primarydiag=('C70', 'C71', 'C72')\n",
    "rtds=radio_oligo.query('PRIMARYDIAGNOSISICD in @primarydiag')\n",
    "\n",
    "site=('P', 'PR')\n",
    "rtds_final=rtds.query('RTTREATMENTREGION in @site')\n",
    "survival_per_treatment(rtds_final)\n",
    "print('Number of patients treated to the primary site (or PR):', rtds_final['PSEUDO_PATIENTID'].nunique())\n",
    "\n",
    "# 864/1335 = 64.72% patients choose radio"
   ]
  },
  {
   "cell_type": "code",
   "execution_count": 6,
   "id": "b2ec616b",
   "metadata": {},
   "outputs": [],
   "source": [
    "# surgery, BIOPSY IS INCLUDED\n",
    "############################################# Looking at surgery ###############################################\n",
    "surgery=('A012', 'A013', 'A018', 'A019', 'A021', 'A022', 'A023', 'A024', 'A025', 'A026', 'A027', 'A028', \n",
    "         'A029', 'A073', 'A078', 'A108', 'A118', 'A168', 'A171', 'A208', 'A291', 'A293', 'A295', 'A298',\n",
    "         'A381', 'A382', 'A383', 'A384', 'A385', 'A386', 'A388', 'A389', 'A428', 'A431', 'A432', 'A438',\n",
    "         'A441', 'A442', 'A443', 'A444', 'A445', 'A448', 'A449', 'A511', 'A518', 'A571', 'A599', 'A611', \n",
    "         'B012', 'B068', 'C021', 'E158', 'T962', 'V031', 'V038', 'V039', 'V051', 'V058', 'V431', 'V433', \n",
    "         'V498', 'V499', 'Y059', 'Y068', 'Y069', 'Y461', 'Y463', 'Y464', 'Y465', 'Y467', 'Y468', 'Y469',\n",
    "         'A041', 'A042', 'A043', 'A044', 'A045', 'A046', 'A048', 'A049', 'A081', 'A082', 'A083', 'A084', \n",
    "         'A085', 'A086', 'A088', 'A089', 'A104', 'A105', 'A181', 'A188', 'A363', 'A422', 'A454', 'A456', \n",
    "         'A481', 'A482', 'A513', 'A578', 'A731', 'B042', 'T968', 'V036', 'V052', 'Y201', 'Y202', 'Y208', \n",
    "         'Y462', 'Y466', 'Y471', 'Y472', 'Y473', 'Y474', 'Y475', 'Y476', 'Y478', 'Y479', 'Y698')\n",
    "         \n",
    "HESIP=pd.read_sql(\"SELECT * FROM HESAPC WHERE PSEUDO_PATIENTID IN (SELECT PSEUDO_PATIENTID FROM TUM_PAT WHERE MORPH_ICD10_O2 IN (9450, 9451) AND (INTERVAL_DIAG_TO_VS != '') AND (VITALSTATUS IN ('A', 'D')) AND (ETHNICITY IN ('A','B', 'C', 'D', 'F', 'G', 'H', 'J', 'L', 'M', 'N', 'P', 'R', 'S', 'X', 'Z')) AND (DIAGNOSISYEAR IN (2013,2014,2015,2016,2017,2018)) AND (SEX IN (1,2)) AND (BASISOFDIAGNOSIS IN (1,2,7,9)) AND (BIGTUMOURCOUNT IN (1,2,3,4)));\",conn)\n"
   ]
  },
  {
   "cell_type": "code",
   "execution_count": 7,
   "id": "08e76798",
   "metadata": {},
   "outputs": [],
   "source": [
    "HESIP['id']=HESIP.index\n",
    "# Merging operation, diagnosis and days from diag to operationcolumns from multiple to one \n",
    "HESNEW=pd.wide_to_long(HESIP,['OPERTN_'], i=\"id\",j=\"OP/DAY NUMBER ORIGINAL 1-24\")"
   ]
  },
  {
   "cell_type": "code",
   "execution_count": 8,
   "id": "e830d7a5",
   "metadata": {},
   "outputs": [
    {
     "name": "stdout",
     "output_type": "stream",
     "text": [
      "Number of pts undergoing a major resection: 1254\n"
     ]
    }
   ],
   "source": [
    "surgdf=HESNEW.query('OPERTN_ in @surgery')\n",
    "print('Number of pts undergoing a major resection:', surgdf['PSEUDO_PATIENTID'].nunique())"
   ]
  },
  {
   "cell_type": "code",
   "execution_count": 9,
   "id": "4cb04dec",
   "metadata": {
    "scrolled": true
   },
   "outputs": [
    {
     "name": "stdout",
     "output_type": "stream",
     "text": [
      "Number of these patients in the registrar accroding to pt id: 1254\n",
      "Number of brain tumour pts in the cancer registry: 1254\n",
      "Number of deceased patients in the cancer registry: 284\n",
      "DEATH DISTRIBUTION: count     284.000000\n",
      "mean      740.577465\n",
      "std       587.900809\n",
      "min         1.000000\n",
      "25%       288.000000\n",
      "50%       577.500000\n",
      "75%      1057.250000\n",
      "max      2416.000000\n",
      "Name: INTERVAL_DIAG_TO_VS, dtype: float64\n"
     ]
    }
   ],
   "source": [
    "survival_per_treatment(surgdf)\n"
   ]
  },
  {
   "cell_type": "code",
   "execution_count": 10,
   "id": "d5a67b30",
   "metadata": {},
   "outputs": [
    {
     "name": "stdout",
     "output_type": "stream",
     "text": [
      "652\n"
     ]
    }
   ],
   "source": [
    "# Number of patients who undergone all treatment measures\n",
    "all_treatments=pd.merge((pd.merge(chemo_oligo, radio_oligo, on ='PSEUDO_PATIENTID')), surgdf, on='PSEUDO_PATIENTID')\n",
    "print(all_treatments['PSEUDO_PATIENTID'].nunique())\n",
    "# 40.90% patients choose all treatments"
   ]
  },
  {
   "cell_type": "code",
   "execution_count": 11,
   "id": "d38833f9",
   "metadata": {},
   "outputs": [
    {
     "name": "stdout",
     "output_type": "stream",
     "text": [
      "668\n"
     ]
    }
   ],
   "source": [
    "radio_chemo=pd.merge(chemo_oligo, radio_oligo, on ='PSEUDO_PATIENTID')\n",
    "print(radio_chemo['PSEUDO_PATIENTID'].nunique())\n",
    "# 50.04% patients choose radio + chemo therapy"
   ]
  },
  {
   "cell_type": "code",
   "execution_count": 12,
   "id": "743ab88d",
   "metadata": {},
   "outputs": [
    {
     "name": "stdout",
     "output_type": "stream",
     "text": [
      "762\n"
     ]
    }
   ],
   "source": [
    "sur_chemo=pd.merge(chemo_oligo, surgdf, on ='PSEUDO_PATIENTID')\n",
    "print(sur_chemo['PSEUDO_PATIENTID'].nunique())\n",
    "# 46.97% patients choose surgery + chemotherapy"
   ]
  },
  {
   "cell_type": "code",
   "execution_count": 13,
   "id": "2c98bee6",
   "metadata": {},
   "outputs": [
    {
     "name": "stdout",
     "output_type": "stream",
     "text": [
      "841\n"
     ]
    }
   ],
   "source": [
    "radio_sur=pd.merge(surgdf, radio_oligo, on ='PSEUDO_PATIENTID')\n",
    "print(radio_sur['PSEUDO_PATIENTID'].nunique())\n",
    "# 52.28% patients choose surgery + radiotherapy"
   ]
  },
  {
   "cell_type": "code",
   "execution_count": 14,
   "id": "2c9f22e4",
   "metadata": {},
   "outputs": [
    {
     "data": {
      "text/plain": [
       "RADIOTHERAPYPRIORITY\n",
       "      53\n",
       "D     70\n",
       "E      3\n",
       "R    732\n",
       "U      6\n",
       "Name: PSEUDO_PATIENTID, dtype: int64"
      ]
     },
     "execution_count": 14,
     "metadata": {},
     "output_type": "execute_result"
    }
   ],
   "source": [
    "# priority discovoery\n",
    "radio = pd.merge(radio_oligo, patients, on=['PSEUDO_PATIENTID'], how='left')\n",
    "radio = radio.drop_duplicates(subset='PSEUDO_PATIENTID')\n",
    "radio.groupby('RADIOTHERAPYPRIORITY')['PSEUDO_PATIENTID'].nunique()"
   ]
  },
  {
   "cell_type": "code",
   "execution_count": 15,
   "id": "6682864b",
   "metadata": {},
   "outputs": [
    {
     "data": {
      "text/plain": [
       "SEX  RADIOTHERAPYINTENT\n",
       "1    1                      18\n",
       "     2                     434\n",
       "                            11\n",
       "2    1                      20\n",
       "     2                     368\n",
       "     3                       1\n",
       "                            12\n",
       "Name: PSEUDO_PATIENTID, dtype: int64"
      ]
     },
     "execution_count": 15,
     "metadata": {},
     "output_type": "execute_result"
    }
   ],
   "source": [
    "radio.groupby(['SEX','RADIOTHERAPYINTENT'])['PSEUDO_PATIENTID'].nunique()"
   ]
  },
  {
   "cell_type": "code",
   "execution_count": 16,
   "id": "6bf77a08",
   "metadata": {},
   "outputs": [
    {
     "data": {
      "text/plain": [
       "RTTREATMENTREGION\n",
       "       30\n",
       "A       1\n",
       "M       5\n",
       "P     826\n",
       "PR      2\n",
       "Name: PSEUDO_PATIENTID, dtype: int64"
      ]
     },
     "execution_count": 16,
     "metadata": {},
     "output_type": "execute_result"
    }
   ],
   "source": [
    "radio.groupby('RTTREATMENTREGION')['PSEUDO_PATIENTID'].nunique()"
   ]
  },
  {
   "cell_type": "code",
   "execution_count": 17,
   "id": "c3a70223",
   "metadata": {},
   "outputs": [
    {
     "data": {
      "text/plain": [
       "RADIOTHERAPYBEAMTYPE\n",
       "T1    863\n",
       "T2      1\n",
       "Name: PSEUDO_PATIENTID, dtype: int64"
      ]
     },
     "execution_count": 17,
     "metadata": {},
     "output_type": "execute_result"
    }
   ],
   "source": [
    "radio.groupby('RADIOTHERAPYBEAMTYPE')['PSEUDO_PATIENTID'].nunique()"
   ]
  },
  {
   "cell_type": "code",
   "execution_count": 18,
   "id": "4936e593",
   "metadata": {},
   "outputs": [
    {
     "data": {
      "text/plain": [
       "RADIOTHERAPYBEAMENERGY\n",
       "0.00       5\n",
       "0.14       1\n",
       "6.00     827\n",
       "10.00     17\n",
       "15.00     13\n",
       "18.00      1\n",
       "Name: PSEUDO_PATIENTID, dtype: int64"
      ]
     },
     "execution_count": 18,
     "metadata": {},
     "output_type": "execute_result"
    }
   ],
   "source": [
    "radio.groupby('RADIOTHERAPYBEAMENERGY')['PSEUDO_PATIENTID'].nunique()"
   ]
  },
  {
   "cell_type": "code",
   "execution_count": 19,
   "id": "425405a7",
   "metadata": {},
   "outputs": [
    {
     "data": {
      "text/plain": [
       "NUMBEROFTELETHERAPYFIELDS\n",
       "1     132\n",
       "2     318\n",
       "3      72\n",
       "4     105\n",
       "5      70\n",
       "6      47\n",
       "7      22\n",
       "8      26\n",
       "9       8\n",
       "10     19\n",
       "11      6\n",
       "12     17\n",
       "13      1\n",
       "14      6\n",
       "15      3\n",
       "16      4\n",
       "18      2\n",
       "20      1\n",
       "21      1\n",
       "24      1\n",
       "29      1\n",
       "30      1\n",
       "31      1\n",
       "Name: PSEUDO_PATIENTID, dtype: int64"
      ]
     },
     "execution_count": 19,
     "metadata": {},
     "output_type": "execute_result"
    }
   ],
   "source": [
    "radio.groupby('NUMBEROFTELETHERAPYFIELDS')['PSEUDO_PATIENTID'].nunique()"
   ]
  },
  {
   "cell_type": "code",
   "execution_count": 20,
   "id": "1df59af7",
   "metadata": {},
   "outputs": [
    {
     "data": {
      "text/plain": [
       "RTTREATMENTMODALITY\n",
       "5    862\n",
       "6      2\n",
       "Name: PSEUDO_PATIENTID, dtype: int64"
      ]
     },
     "execution_count": 20,
     "metadata": {},
     "output_type": "execute_result"
    }
   ],
   "source": [
    "radio.groupby('RTTREATMENTMODALITY')['PSEUDO_PATIENTID'].nunique()"
   ]
  },
  {
   "cell_type": "code",
   "execution_count": 21,
   "id": "7930038b",
   "metadata": {},
   "outputs": [
    {
     "data": {
      "text/plain": [
       "PRESCRIBEDFRACTIONS\n",
       "1       2\n",
       "3       1\n",
       "4       1\n",
       "5       2\n",
       "6      16\n",
       "7       2\n",
       "8       4\n",
       "9       1\n",
       "10     13\n",
       "11      1\n",
       "13      1\n",
       "15     17\n",
       "16      1\n",
       "17      1\n",
       "20      6\n",
       "21      2\n",
       "22      2\n",
       "23      2\n",
       "24      2\n",
       "25      8\n",
       "26      1\n",
       "27     11\n",
       "28     32\n",
       "29     12\n",
       "30    520\n",
       "31      1\n",
       "33    199\n",
       "35      1\n",
       "40      1\n",
       "        1\n",
       "Name: PSEUDO_PATIENTID, dtype: int64"
      ]
     },
     "execution_count": 21,
     "metadata": {},
     "output_type": "execute_result"
    }
   ],
   "source": [
    "radio.groupby('PRESCRIBEDFRACTIONS')['PSEUDO_PATIENTID'].nunique()"
   ]
  },
  {
   "cell_type": "code",
   "execution_count": 22,
   "id": "a55a8500",
   "metadata": {},
   "outputs": [
    {
     "data": {
      "text/html": [
       "<div>\n",
       "<style scoped>\n",
       "    .dataframe tbody tr th:only-of-type {\n",
       "        vertical-align: middle;\n",
       "    }\n",
       "\n",
       "    .dataframe tbody tr th {\n",
       "        vertical-align: top;\n",
       "    }\n",
       "\n",
       "    .dataframe thead th {\n",
       "        text-align: right;\n",
       "    }\n",
       "</style>\n",
       "<table border=\"1\" class=\"dataframe\">\n",
       "  <thead>\n",
       "    <tr style=\"text-align: right;\">\n",
       "      <th></th>\n",
       "      <th>RTPRESCRIBEDDOSE</th>\n",
       "    </tr>\n",
       "  </thead>\n",
       "  <tbody>\n",
       "    <tr>\n",
       "      <th>(0, 20]</th>\n",
       "      <td>17</td>\n",
       "    </tr>\n",
       "    <tr>\n",
       "      <th>(20, 40]</th>\n",
       "      <td>54</td>\n",
       "    </tr>\n",
       "    <tr>\n",
       "      <th>(40, 60]</th>\n",
       "      <td>789</td>\n",
       "    </tr>\n",
       "    <tr>\n",
       "      <th>(60, 80]</th>\n",
       "      <td>2</td>\n",
       "    </tr>\n",
       "  </tbody>\n",
       "</table>\n",
       "</div>"
      ],
      "text/plain": [
       "          RTPRESCRIBEDDOSE\n",
       "(0, 20]                 17\n",
       "(20, 40]                54\n",
       "(40, 60]               789\n",
       "(60, 80]                 2"
      ]
     },
     "execution_count": 22,
     "metadata": {},
     "output_type": "execute_result"
    }
   ],
   "source": [
    "# DOSE AND FRACTION, THE 2 MOST IMPORTANT PARAMETERS\n",
    "bin = [0, 20, 40, 60, 80]\n",
    "radio.drop_duplicates(subset=['PSEUDO_PATIENTID'], inplace=True)\n",
    "radio['RTPRESCRIBEDDOSE'].replace(r'', np.nan, inplace = True)\n",
    "radio.dropna(axis=0, subset=['RTPRESCRIBEDDOSE'], inplace=True)\n",
    "\n",
    "DOSE = pd.cut(radio['RTPRESCRIBEDDOSE'].astype(float).astype(int), bins = bin)\n",
    "DOSE.value_counts(sort=False).to_frame()\n"
   ]
  },
  {
   "cell_type": "code",
   "execution_count": 1,
   "id": "c6686326",
   "metadata": {},
   "outputs": [
    {
     "ename": "NameError",
     "evalue": "name 'radio' is not defined",
     "output_type": "error",
     "traceback": [
      "\u001b[0;31m---------------------------------------------------------------------------\u001b[0m",
      "\u001b[0;31mNameError\u001b[0m                                 Traceback (most recent call last)",
      "Cell \u001b[0;32mIn[1], line 3\u001b[0m\n\u001b[1;32m      1\u001b[0m \u001b[38;5;66;03m# ACtual Fraction\u001b[39;00m\n\u001b[1;32m      2\u001b[0m \u001b[38;5;28mbin\u001b[39m \u001b[38;5;241m=\u001b[39m [\u001b[38;5;241m0\u001b[39m, \u001b[38;5;241m10\u001b[39m, \u001b[38;5;241m20\u001b[39m, \u001b[38;5;241m30\u001b[39m, \u001b[38;5;241m80\u001b[39m]\n\u001b[0;32m----> 3\u001b[0m \u001b[43mradio\u001b[49m\u001b[38;5;241m.\u001b[39mdrop_duplicates(subset\u001b[38;5;241m=\u001b[39m[\u001b[38;5;124m'\u001b[39m\u001b[38;5;124mPSEUDO_PATIENTID\u001b[39m\u001b[38;5;124m'\u001b[39m], inplace\u001b[38;5;241m=\u001b[39m\u001b[38;5;28;01mTrue\u001b[39;00m)\n\u001b[1;32m      4\u001b[0m radio[\u001b[38;5;124m'\u001b[39m\u001b[38;5;124mRTPRESCRIBEDDOSE\u001b[39m\u001b[38;5;124m'\u001b[39m]\u001b[38;5;241m.\u001b[39mreplace(\u001b[38;5;124mr\u001b[39m\u001b[38;5;124m'\u001b[39m\u001b[38;5;124m'\u001b[39m, np\u001b[38;5;241m.\u001b[39mnan, inplace \u001b[38;5;241m=\u001b[39m \u001b[38;5;28;01mTrue\u001b[39;00m)\n\u001b[1;32m      5\u001b[0m radio\u001b[38;5;241m.\u001b[39mdropna(axis\u001b[38;5;241m=\u001b[39m\u001b[38;5;241m0\u001b[39m, subset\u001b[38;5;241m=\u001b[39m[\u001b[38;5;124m'\u001b[39m\u001b[38;5;124mRTPRESCRIBEDDOSE\u001b[39m\u001b[38;5;124m'\u001b[39m], inplace\u001b[38;5;241m=\u001b[39m\u001b[38;5;28;01mTrue\u001b[39;00m)\n",
      "\u001b[0;31mNameError\u001b[0m: name 'radio' is not defined"
     ]
    }
   ],
   "source": [
    "# ACtual Fraction\n",
    "bin = [0, 10, 20, 30, 80]\n",
    "radio.drop_duplicates(subset=['PSEUDO_PATIENTID'], inplace=True)\n",
    "radio['RTPRESCRIBEDDOSE'].replace(r'', np.nan, inplace = True)\n",
    "radio.dropna(axis=0, subset=['RTPRESCRIBEDDOSE'], inplace=True)\n",
    "\n",
    "DOSE = pd.cut(radio['ACTUALFRACTIONS'].astype(float).astype(int), bins = bin)\n",
    "DOSE.value_counts(sort=False).to_frame()"
   ]
  },
  {
   "cell_type": "code",
   "execution_count": 23,
   "id": "1a7a9035",
   "metadata": {},
   "outputs": [
    {
     "data": {
      "text/html": [
       "<div>\n",
       "<style scoped>\n",
       "    .dataframe tbody tr th:only-of-type {\n",
       "        vertical-align: middle;\n",
       "    }\n",
       "\n",
       "    .dataframe tbody tr th {\n",
       "        vertical-align: top;\n",
       "    }\n",
       "\n",
       "    .dataframe thead th {\n",
       "        text-align: right;\n",
       "    }\n",
       "</style>\n",
       "<table border=\"1\" class=\"dataframe\">\n",
       "  <thead>\n",
       "    <tr style=\"text-align: right;\">\n",
       "      <th></th>\n",
       "      <th>RTACTUALDOSE</th>\n",
       "    </tr>\n",
       "  </thead>\n",
       "  <tbody>\n",
       "    <tr>\n",
       "      <th>(0, 20]</th>\n",
       "      <td>212</td>\n",
       "    </tr>\n",
       "    <tr>\n",
       "      <th>(20, 40]</th>\n",
       "      <td>235</td>\n",
       "    </tr>\n",
       "    <tr>\n",
       "      <th>(40, 60]</th>\n",
       "      <td>104</td>\n",
       "    </tr>\n",
       "    <tr>\n",
       "      <th>(60, 80]</th>\n",
       "      <td>0</td>\n",
       "    </tr>\n",
       "  </tbody>\n",
       "</table>\n",
       "</div>"
      ],
      "text/plain": [
       "          RTACTUALDOSE\n",
       "(0, 20]            212\n",
       "(20, 40]           235\n",
       "(40, 60]           104\n",
       "(60, 80]             0"
      ]
     },
     "execution_count": 23,
     "metadata": {},
     "output_type": "execute_result"
    }
   ],
   "source": [
    "bin = [0, 20, 40, 60, 80]\n",
    "radio.drop_duplicates(subset=['PSEUDO_PATIENTID'], inplace=True)\n",
    "radio['RTACTUALDOSE'].replace(r'', np.nan, inplace = True)\n",
    "radio.dropna(axis=0, subset=['RTACTUALDOSE'], inplace=True)\n",
    "\n",
    "DOSE = pd.cut(radio['RTACTUALDOSE'].astype(float).astype(int), bins = bin)\n",
    "DOSE.value_counts(sort=False).to_frame()"
   ]
  },
  {
   "cell_type": "code",
   "execution_count": 24,
   "id": "0811a02d",
   "metadata": {},
   "outputs": [
    {
     "data": {
      "text/html": [
       "<div>\n",
       "<style scoped>\n",
       "    .dataframe tbody tr th:only-of-type {\n",
       "        vertical-align: middle;\n",
       "    }\n",
       "\n",
       "    .dataframe tbody tr th {\n",
       "        vertical-align: top;\n",
       "    }\n",
       "\n",
       "    .dataframe thead th {\n",
       "        text-align: right;\n",
       "    }\n",
       "</style>\n",
       "<table border=\"1\" class=\"dataframe\">\n",
       "  <thead>\n",
       "    <tr style=\"text-align: right;\">\n",
       "      <th></th>\n",
       "      <th>INTERVAL_DIAG_TO_PROCEDURE</th>\n",
       "    </tr>\n",
       "  </thead>\n",
       "  <tbody>\n",
       "    <tr>\n",
       "      <th>(0, 30]</th>\n",
       "      <td>7</td>\n",
       "    </tr>\n",
       "    <tr>\n",
       "      <th>(30, 60]</th>\n",
       "      <td>183</td>\n",
       "    </tr>\n",
       "    <tr>\n",
       "      <th>(60, 90]</th>\n",
       "      <td>265</td>\n",
       "    </tr>\n",
       "    <tr>\n",
       "      <th>(90, 180]</th>\n",
       "      <td>173</td>\n",
       "    </tr>\n",
       "    <tr>\n",
       "      <th>(180, 365]</th>\n",
       "      <td>66</td>\n",
       "    </tr>\n",
       "    <tr>\n",
       "      <th>(365, 1095]</th>\n",
       "      <td>96</td>\n",
       "    </tr>\n",
       "    <tr>\n",
       "      <th>(1095, 1825]</th>\n",
       "      <td>61</td>\n",
       "    </tr>\n",
       "    <tr>\n",
       "      <th>(1825, 10000]</th>\n",
       "      <td>12</td>\n",
       "    </tr>\n",
       "  </tbody>\n",
       "</table>\n",
       "</div>"
      ],
      "text/plain": [
       "               INTERVAL_DIAG_TO_PROCEDURE\n",
       "(0, 30]                                 7\n",
       "(30, 60]                              183\n",
       "(60, 90]                              265\n",
       "(90, 180]                             173\n",
       "(180, 365]                             66\n",
       "(365, 1095]                            96\n",
       "(1095, 1825]                           61\n",
       "(1825, 10000]                          12"
      ]
     },
     "execution_count": 24,
     "metadata": {},
     "output_type": "execute_result"
    }
   ],
   "source": [
    "bin = [0, 30, 60, 90, 180, 365, 1095, 1825, 10000]\n",
    "Wait_for_beam = pd.read_sql(\"SELECT * FROM RTDS WHERE INTERVAL_DIAG_TO_PROCEDURE != '' AND PSEUDO_PATIENTID IN (SELECT PSEUDO_PATIENTID FROM TUM_PAT WHERE MORPH_ICD10_O2 IN (9450, 9451) AND (INTERVAL_DIAG_TO_VS != '') AND (VITALSTATUS IN ('A', 'D')) AND (ETHNICITY IN ('A','B', 'C', 'D', 'F', 'G', 'H', 'J', 'L', 'M', 'N', 'P', 'R', 'S', 'X', 'Z')) AND (DIAGNOSISYEAR IN (2013,2014,2015,2016,2017,2018)) AND (SEX IN (1,2)) AND (BASISOFDIAGNOSIS IN (1,2,7,9)) AND (BIGTUMOURCOUNT IN (1,2,3,4)));\",conn)\n",
    "Wait_for_beam.drop_duplicates(subset=['PSEUDO_PATIENTID'], inplace=True)\n",
    "To_beam = pd.cut(Wait_for_beam['INTERVAL_DIAG_TO_PROCEDURE'].astype(int), bins = bin)\n",
    "\n",
    "To_beam.value_counts(sort=False).to_frame()\n"
   ]
  },
  {
   "cell_type": "code",
   "execution_count": 25,
   "id": "9ffd6169",
   "metadata": {},
   "outputs": [
    {
     "data": {
      "text/plain": [
       "<AxesSubplot: xlabel='NUMBER_OF_CYCLES_PLANNED'>"
      ]
     },
     "execution_count": 25,
     "metadata": {},
     "output_type": "execute_result"
    },
    {
     "data": {
      "image/png": "[encoded data removed]",
      "text/plain": [
       "<Figure size 640x480 with 1 Axes>"
      ]
     },
     "metadata": {},
     "output_type": "display_data"
    }
   ],
   "source": [
    "################################################## looking into SACT now ################################################\n",
    "chemo_oligo.drop_duplicates(subset='PSEUDO_PATIENTID', inplace=True)\n",
    "PLAN_CYCLES = chemo_oligo.groupby('NUMBER_OF_CYCLES_PLANNED')['PSEUDO_PATIENTID'].nunique()\n",
    "PLAN_CYCLES.plot()"
   ]
  },
  {
   "cell_type": "code",
   "execution_count": 26,
   "id": "d661fe47",
   "metadata": {},
   "outputs": [
    {
     "data": {
      "text/plain": [
       "CYCLE_NUMBER\n",
       "0     13\n",
       "1    717\n",
       "2     34\n",
       "3     11\n",
       "4      4\n",
       "5      3\n",
       "6      2\n",
       "Name: PSEUDO_PATIENTID, dtype: int64"
      ]
     },
     "execution_count": 26,
     "metadata": {},
     "output_type": "execute_result"
    }
   ],
   "source": [
    "chemo_oligo.groupby('CYCLE_NUMBER')['PSEUDO_PATIENTID'].nunique()"
   ]
  },
  {
   "cell_type": "code",
   "execution_count": 27,
   "id": "500948e8",
   "metadata": {},
   "outputs": [
    {
     "ename": "NameError",
     "evalue": "name 'ac_cycles' is not defined",
     "output_type": "error",
     "traceback": [
      "\u001b[0;31m---------------------------------------------------------------------------\u001b[0m",
      "\u001b[0;31mNameError\u001b[0m                                 Traceback (most recent call last)",
      "\u001b[0;32m/tmp/ipykernel_2235660/4075943566.py\u001b[0m in \u001b[0;36m<cell line: 1>\u001b[0;34m()\u001b[0m\n\u001b[0;32m----> 1\u001b[0;31m \u001b[0mac_cycles\u001b[0m\u001b[0;34m.\u001b[0m\u001b[0mplot\u001b[0m\u001b[0;34m(\u001b[0m\u001b[0;34m)\u001b[0m\u001b[0;34m\u001b[0m\u001b[0;34m\u001b[0m\u001b[0m\n\u001b[0m",
      "\u001b[0;31mNameError\u001b[0m: name 'ac_cycles' is not defined"
     ]
    }
   ],
   "source": [
    "ac_cycles.plot()"
   ]
  },
  {
   "cell_type": "code",
   "execution_count": null,
   "id": "ecfcac4b",
   "metadata": {},
   "outputs": [],
   "source": [
    "bin = [0, 30, 60, 90, 180, 365, 1095, 1825, 10000]\n",
    "chemo_oligo_temporary = pd.read_sql(\"SELECT * FROM SACT WHERE INTERVAL_DIAG_FINAL_TREATMENT != '' AND PSEUDO_PATIENTID IN (SELECT PSEUDO_PATIENTID FROM TUM_PAT WHERE MORPH_ICD10_O2 IN (9450, 9451) AND (INTERVAL_DIAG_TO_VS != '') AND (VITALSTATUS IN ('A', 'D')) AND (ETHNICITY IN ('A','B', 'C', 'D', 'F', 'G', 'H', 'J', 'L', 'M', 'N', 'P', 'R', 'S', 'X', 'Z')) AND (DIAGNOSISYEAR IN (2013,2014,2015,2016,2017,2018)) AND (SEX IN (1,2)) AND (BASISOFDIAGNOSIS IN (1,2,7,9)) AND (BIGTUMOURCOUNT IN (1,2,3,4)));\",conn)\n",
    "chemo_oligo_temporary.drop_duplicates(subset=['INTERVAL_DIAG_FINAL_TREATMENT'], inplace=True)\n",
    "To_Final = pd.cut(chemo_oligo_temporary['INTERVAL_DIAG_FINAL_TREATMENT'].astype(int), bins = bin)\n",
    "print(len(To_Final))\n",
    "To_Final.value_counts(sort=False).to_frame()\n"
   ]
  },
  {
   "cell_type": "code",
   "execution_count": null,
   "id": "965bf6aa",
   "metadata": {},
   "outputs": [],
   "source": [
    "chemo_oligo.groupby('INTENT_OF_TREATMENT')['PSEUDO_PATIENTID'].nunique()"
   ]
  },
  {
   "cell_type": "code",
   "execution_count": null,
   "id": "fe2d8a8f",
   "metadata": {},
   "outputs": [],
   "source": [
    "chemo_oligo.groupby('PERF_STAT_START_OF_REG_CLEAN')['PSEUDO_PATIENTID'].nunique()"
   ]
  },
  {
   "cell_type": "code",
   "execution_count": 86,
   "id": "3c17750d",
   "metadata": {},
   "outputs": [
    {
     "data": {
      "text/plain": [
       "COMORBIDITY_ADJUSTMENT\n",
       "     213\n",
       "N    508\n",
       "Y     63\n",
       "Name: PSEUDO_PATIENTID, dtype: int64"
      ]
     },
     "execution_count": 86,
     "metadata": {},
     "output_type": "execute_result"
    }
   ],
   "source": [
    "chemo_oligo.groupby('COMORBIDITY_ADJUSTMENT')['PSEUDO_PATIENTID'].nunique()"
   ]
  },
  {
   "cell_type": "code",
   "execution_count": 87,
   "id": "8ecb13b3",
   "metadata": {},
   "outputs": [
    {
     "data": {
      "text/plain": [
       "ADMINISTRATION_ROUTE\n",
       "0      3\n",
       "1     98\n",
       "2    646\n",
       "5      1\n",
       "      36\n",
       "Name: PSEUDO_PATIENTID, dtype: int64"
      ]
     },
     "execution_count": 87,
     "metadata": {},
     "output_type": "execute_result"
    }
   ],
   "source": [
    "chemo_oligo.groupby('ADMINISTRATION_ROUTE')['PSEUDO_PATIENTID'].nunique()"
   ]
  },
  {
   "cell_type": "code",
   "execution_count": 88,
   "id": "05a21eab",
   "metadata": {},
   "outputs": [
    {
     "data": {
      "text/plain": [
       "REGIMEN_MOD_STOPPED_EARLY\n",
       "     166\n",
       "N    579\n",
       "Y     39\n",
       "Name: PSEUDO_PATIENTID, dtype: int64"
      ]
     },
     "execution_count": 88,
     "metadata": {},
     "output_type": "execute_result"
    }
   ],
   "source": [
    "chemo_oligo.groupby('REGIMEN_MOD_STOPPED_EARLY')['PSEUDO_PATIENTID'].nunique()"
   ]
  },
  {
   "cell_type": "code",
   "execution_count": 89,
   "id": "df7c9ea6",
   "metadata": {},
   "outputs": [
    {
     "data": {
      "text/plain": [
       "REGIMEN_MOD_DOSE_REDUCTION\n",
       "     157\n",
       "N    495\n",
       "Y    132\n",
       "Name: PSEUDO_PATIENTID, dtype: int64"
      ]
     },
     "execution_count": 89,
     "metadata": {},
     "output_type": "execute_result"
    }
   ],
   "source": [
    "chemo_oligo.groupby('REGIMEN_MOD_DOSE_REDUCTION')['PSEUDO_PATIENTID'].nunique()"
   ]
  },
  {
   "cell_type": "code",
   "execution_count": 90,
   "id": "4858cb4c",
   "metadata": {},
   "outputs": [
    {
     "data": {
      "text/plain": [
       "REGIMEN_MOD_TIME_DELAY\n",
       "     339\n",
       "N    314\n",
       "Y    131\n",
       "Name: PSEUDO_PATIENTID, dtype: int64"
      ]
     },
     "execution_count": 90,
     "metadata": {},
     "output_type": "execute_result"
    }
   ],
   "source": [
    "chemo_oligo.groupby('REGIMEN_MOD_TIME_DELAY')['PSEUDO_PATIENTID'].nunique()"
   ]
  },
  {
   "cell_type": "code",
   "execution_count": 29,
   "id": "ef86c87d",
   "metadata": {},
   "outputs": [
    {
     "ename": "NameError",
     "evalue": "name 'df' is not defined",
     "output_type": "error",
     "traceback": [
      "\u001b[0;31m---------------------------------------------------------------------------\u001b[0m",
      "\u001b[0;31mNameError\u001b[0m                                 Traceback (most recent call last)",
      "\u001b[0;32m/tmp/ipykernel_2235660/1063847261.py\u001b[0m in \u001b[0;36m<cell line: 2>\u001b[0;34m()\u001b[0m\n\u001b[1;32m      1\u001b[0m \u001b[0;31m######################################### sequence part starts here ##################################################\u001b[0m\u001b[0;34m\u001b[0m\u001b[0;34m\u001b[0m\u001b[0m\n\u001b[0;32m----> 2\u001b[0;31m \u001b[0msur\u001b[0m \u001b[0;34m=\u001b[0m \u001b[0mpd\u001b[0m\u001b[0;34m.\u001b[0m\u001b[0mmerge\u001b[0m\u001b[0;34m(\u001b[0m\u001b[0msurgdf\u001b[0m\u001b[0;34m,\u001b[0m \u001b[0mdf\u001b[0m\u001b[0;34m,\u001b[0m \u001b[0mon\u001b[0m\u001b[0;34m=\u001b[0m\u001b[0;34m[\u001b[0m\u001b[0;34m'PSEUDO_PATIENTID'\u001b[0m\u001b[0;34m]\u001b[0m\u001b[0;34m,\u001b[0m \u001b[0mhow\u001b[0m\u001b[0;34m=\u001b[0m\u001b[0;34m'left'\u001b[0m\u001b[0;34m)\u001b[0m\u001b[0;34m\u001b[0m\u001b[0;34m\u001b[0m\u001b[0m\n\u001b[0m\u001b[1;32m      3\u001b[0m \u001b[0mradio_chemo\u001b[0m\u001b[0;34m=\u001b[0m\u001b[0mpd\u001b[0m\u001b[0;34m.\u001b[0m\u001b[0mmerge\u001b[0m\u001b[0;34m(\u001b[0m\u001b[0;34m(\u001b[0m\u001b[0mpd\u001b[0m\u001b[0;34m.\u001b[0m\u001b[0mmerge\u001b[0m\u001b[0;34m(\u001b[0m\u001b[0mchemo\u001b[0m\u001b[0;34m,\u001b[0m \u001b[0mradio\u001b[0m\u001b[0;34m,\u001b[0m \u001b[0mon\u001b[0m \u001b[0;34m=\u001b[0m\u001b[0;34m'PSEUDO_PATIENTID'\u001b[0m\u001b[0;34m)\u001b[0m\u001b[0;34m)\u001b[0m\u001b[0;34m,\u001b[0m \u001b[0mdf\u001b[0m\u001b[0;34m,\u001b[0m \u001b[0mon\u001b[0m\u001b[0;34m=\u001b[0m\u001b[0;34m'PSEUDO_PATIENTID'\u001b[0m\u001b[0;34m)\u001b[0m\u001b[0;34m\u001b[0m\u001b[0;34m\u001b[0m\u001b[0m\n\u001b[1;32m      4\u001b[0m \u001b[0mALL\u001b[0m \u001b[0;34m=\u001b[0m \u001b[0mpd\u001b[0m\u001b[0;34m.\u001b[0m\u001b[0mmerge\u001b[0m\u001b[0;34m(\u001b[0m\u001b[0msur\u001b[0m\u001b[0;34m,\u001b[0m \u001b[0mradio_chemo\u001b[0m\u001b[0;34m)\u001b[0m\u001b[0;34m\u001b[0m\u001b[0;34m\u001b[0m\u001b[0m\n\u001b[1;32m      5\u001b[0m \u001b[0mALL\u001b[0m\u001b[0;34m.\u001b[0m\u001b[0mdrop_duplicates\u001b[0m\u001b[0;34m(\u001b[0m\u001b[0msubset\u001b[0m\u001b[0;34m=\u001b[0m\u001b[0;34m'PSEUDO_PATIENTID'\u001b[0m\u001b[0;34m)\u001b[0m\u001b[0;34m\u001b[0m\u001b[0;34m\u001b[0m\u001b[0m\n",
      "\u001b[0;31mNameError\u001b[0m: name 'df' is not defined"
     ]
    }
   ],
   "source": [
    "######################################### sequence part starts here ##################################################\n",
    "sur = pd.merge(surgdf, df, on=['PSEUDO_PATIENTID'], how='left')\n",
    "radio_chemo=pd.merge((pd.merge(chemo, radio, on ='PSEUDO_PATIENTID')), df, on='PSEUDO_PATIENTID')\n",
    "ALL = pd.merge(sur, radio_chemo)\n",
    "ALL.drop_duplicates(subset='PSEUDO_PATIENTID')\n",
    "\n",
    "\n",
    "\n"
   ]
  },
  {
   "cell_type": "code",
   "execution_count": null,
   "id": "183e6e56",
   "metadata": {},
   "outputs": [],
   "source": []
  }
 ],
 "metadata": {
  "kernelspec": {
   "display_name": "Python 3 (ipykernel)",
   "language": "python",
   "name": "python3"
  },
  "language_info": {
   "codemirror_mode": {
    "name": "ipython",
    "version": 3
   },
   "file_extension": ".py",
   "mimetype": "text/x-python",
   "name": "python",
   "nbconvert_exporter": "python",
   "pygments_lexer": "ipython3",
   "version": "3.10.9"
  }
 },
 "nbformat": 4,
 "nbformat_minor": 5
}
